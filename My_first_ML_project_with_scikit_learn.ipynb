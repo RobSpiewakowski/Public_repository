{
  "nbformat": 4,
  "nbformat_minor": 0,
  "metadata": {
    "colab": {
      "name": "My first ML project - with scikit-learn",
      "provenance": [],
      "authorship_tag": "ABX9TyN0ro2QIkA5ZVt2oGasT1KN",
      "include_colab_link": true
    },
    "kernelspec": {
      "name": "python3",
      "display_name": "Python 3"
    },
    "language_info": {
      "name": "python"
    }
  },
  "cells": [
    {
      "cell_type": "markdown",
      "metadata": {
        "id": "view-in-github",
        "colab_type": "text"
      },
      "source": [
        "<a href=\"https://colab.research.google.com/github/RobSpiewakowski/Public_repository/blob/main/My_first_ML_project_with_scikit_learn.ipynb\" target=\"_parent\"><img src=\"https://colab.research.google.com/assets/colab-badge.svg\" alt=\"Open In Colab\"/></a>"
      ]
    },
    {
      "cell_type": "markdown",
      "metadata": {
        "id": "HnuwnvoeW2i7"
      },
      "source": [
        "# Projekt końcowy:\n",
        "\n",
        "W ramach projektu ML chcemy przewidzieć ceny ofert wycieczek zamieszczonych na portalu wakacje.pl na podstawie zadanych kryteriów:\n",
        "\n",
        "* Kraj - Turcja\n",
        "* Sposób dotarcia na miejsce - samolotem\n",
        "* Czas trwania - 7 dni\n",
        "* Rodzaj wyżywienia - All-inclusive\n",
        "\n",
        "Średni błąd predykcji nie powinien przekraczać 500 zł / os."
      ]
    },
    {
      "cell_type": "markdown",
      "metadata": {
        "id": "XO0xesxwXd9M"
      },
      "source": [
        "Jak będziemy mierzyć spełnienie celu - metryki sukcesu:\n",
        "\n",
        "MSE - błąd średniokwadratowy:\n",
        "MSE = 1/N * SUMA(yi - średnia yi)^2\n",
        "\n",
        "pierwiastek błędu średnniokwadratowego\n",
        "Miara pozwala określić, w jakim stopniu model myli się w przewidywaniach."
      ]
    },
    {
      "cell_type": "code",
      "metadata": {
        "id": "1K4BFH5eWtg3"
      },
      "source": [
        "# Import bibliotek:\n",
        "import requests\n",
        "import time\n",
        "import pandas as pd\n",
        "import numpy as np\n",
        "from bs4 import BeautifulSoup\n",
        "import seaborn as sns\n",
        "import matplotlib.pyplot as plt\n",
        "import datetime as dt\n",
        "import plotly.express as px\n",
        "import matplotlib.pyplot as plt\n",
        "from sklearn import model_selection\n",
        "from sklearn.preprocessing import StandardScaler\n",
        "from sklearn import linear_model\n",
        "from sklearn import metrics\n",
        "from sklearn.externals import joblib\n",
        "from sklearn.tree import DecisionTreeRegressor\n",
        "from sklearn import pipeline\n",
        "from sklearn.ensemble import RandomForestRegressor\n",
        "from pprint import pprint\n",
        "from urllib.parse import urljoin\n",
        "from sklearn.model_selection import train_test_split"
      ],
      "execution_count": 52,
      "outputs": []
    },
    {
      "cell_type": "markdown",
      "metadata": {
        "id": "T5o8Xtr9ZPmc"
      },
      "source": [
        "Jakie informacje są dostępne w wyszukiwarce:\n",
        "\n",
        "* Region i miejscowość,\n",
        "* Liczba gwiazdek,\n",
        "* Termin wyjazdu i powrotu,\n",
        "* Miejsce wylotu,\n",
        "* Rodzaj wyżywienia,\n",
        "* Nazwa biura podróży,\n",
        "* Ocena,\n",
        "* Link do oferty."
      ]
    },
    {
      "cell_type": "markdown",
      "metadata": {
        "id": "dRTZVScYdCY8"
      },
      "source": [
        "# 1. Pobieranie danych ze źródła - scraping:"
      ]
    },
    {
      "cell_type": "markdown",
      "metadata": {
        "id": "1h3uTYzEdej9"
      },
      "source": [
        "Wakacje.pl ogranicza wyniki wyszukiwania do 100 stron, więc jest to maksymalna liczba stron do zwscrapowania."
      ]
    },
    {
      "cell_type": "code",
      "metadata": {
        "colab": {
          "base_uri": "https://localhost:8080/"
        },
        "id": "GEZpl3BZdeNl",
        "outputId": "a0a802fe-7c1b-4002-e0ea-29537aeeea64"
      },
      "source": [
        "# Utworzenie żądania get():\n",
        "\n",
        "# Prefiks linku, numer strony będzie zmieniał się w peli:\n",
        "URL0 = 'https://www.wakacje.pl/wczasy/turcja/?str-'\n",
        "\n",
        "oferty0 = []\n",
        "\n",
        "#for i in range(1, 3):   # Do testów\n",
        "for i in range(1, 101):\n",
        "  time.sleep(1)\n",
        "\n",
        "  URL = URL0 + str(i) + ',7-dni,samolotem,all-inclusive'                # Utworzenie linku\n",
        "  zwrotna_odpowiedź = requests.get(URL)                   # Request\n",
        "  print('Strona ', i, '| Status: ', zwrotna_odpowiedź)    # Wtświetl status odpowiedzi\n",
        "  html = zwrotna_odpowiedź.content                        # Zawartość strony\n",
        "  zupa = BeautifulSoup(html, 'lxml')                      # Gotowanie zupy (parsowanie)\n",
        "\n",
        "  # Oferty ze sescrapowanej strony:\n",
        "  x0 = str(zupa.find_all('script')[4]).split('{\"data\":')[1].split(',\"searchObj\"')[0].split('},{')\n",
        "  oferty0.append(x0)\n",
        "  \n",
        "  # Pętla, która wyciągnie wszystkie elementy z podlist listy oferty_surowe i umieści je w nowej liście:\n",
        "oferty = []\n",
        "for i in range(len(oferty0)):\n",
        "  lista_pomocnicza = oferty0[i]\n",
        "  for j in range(len(lista_pomocnicza)):\n",
        "    a = lista_pomocnicza[j].split('\"offerHash\"')[0]\n",
        "    oferty.append(a)\n",
        "\n",
        "print(len(oferty))"
      ],
      "execution_count": 84,
      "outputs": [
        {
          "output_type": "stream",
          "text": [
            "Strona  1 | Status:  <Response [200]>\n",
            "Strona  2 | Status:  <Response [200]>\n",
            "Strona  3 | Status:  <Response [200]>\n",
            "Strona  4 | Status:  <Response [200]>\n",
            "Strona  5 | Status:  <Response [200]>\n",
            "Strona  6 | Status:  <Response [200]>\n",
            "Strona  7 | Status:  <Response [200]>\n",
            "Strona  8 | Status:  <Response [200]>\n",
            "Strona  9 | Status:  <Response [200]>\n",
            "Strona  10 | Status:  <Response [200]>\n",
            "Strona  11 | Status:  <Response [200]>\n",
            "Strona  12 | Status:  <Response [200]>\n",
            "Strona  13 | Status:  <Response [200]>\n",
            "Strona  14 | Status:  <Response [200]>\n",
            "Strona  15 | Status:  <Response [200]>\n",
            "Strona  16 | Status:  <Response [200]>\n",
            "Strona  17 | Status:  <Response [200]>\n",
            "Strona  18 | Status:  <Response [200]>\n",
            "Strona  19 | Status:  <Response [200]>\n",
            "Strona  20 | Status:  <Response [200]>\n",
            "Strona  21 | Status:  <Response [200]>\n",
            "Strona  22 | Status:  <Response [200]>\n",
            "Strona  23 | Status:  <Response [200]>\n",
            "Strona  24 | Status:  <Response [200]>\n",
            "Strona  25 | Status:  <Response [200]>\n",
            "Strona  26 | Status:  <Response [200]>\n",
            "Strona  27 | Status:  <Response [200]>\n",
            "Strona  28 | Status:  <Response [200]>\n",
            "Strona  29 | Status:  <Response [200]>\n",
            "Strona  30 | Status:  <Response [200]>\n",
            "Strona  31 | Status:  <Response [200]>\n",
            "Strona  32 | Status:  <Response [200]>\n",
            "Strona  33 | Status:  <Response [200]>\n",
            "Strona  34 | Status:  <Response [200]>\n",
            "Strona  35 | Status:  <Response [200]>\n",
            "Strona  36 | Status:  <Response [200]>\n",
            "Strona  37 | Status:  <Response [200]>\n",
            "Strona  38 | Status:  <Response [200]>\n",
            "Strona  39 | Status:  <Response [200]>\n",
            "Strona  40 | Status:  <Response [200]>\n",
            "Strona  41 | Status:  <Response [200]>\n",
            "Strona  42 | Status:  <Response [200]>\n",
            "Strona  43 | Status:  <Response [200]>\n",
            "Strona  44 | Status:  <Response [200]>\n",
            "Strona  45 | Status:  <Response [200]>\n",
            "Strona  46 | Status:  <Response [200]>\n",
            "Strona  47 | Status:  <Response [200]>\n",
            "Strona  48 | Status:  <Response [200]>\n",
            "Strona  49 | Status:  <Response [200]>\n",
            "Strona  50 | Status:  <Response [200]>\n",
            "Strona  51 | Status:  <Response [200]>\n",
            "Strona  52 | Status:  <Response [200]>\n",
            "Strona  53 | Status:  <Response [200]>\n",
            "Strona  54 | Status:  <Response [200]>\n",
            "Strona  55 | Status:  <Response [200]>\n",
            "Strona  56 | Status:  <Response [200]>\n",
            "Strona  57 | Status:  <Response [200]>\n",
            "Strona  58 | Status:  <Response [200]>\n",
            "Strona  59 | Status:  <Response [200]>\n",
            "Strona  60 | Status:  <Response [200]>\n",
            "Strona  61 | Status:  <Response [200]>\n",
            "Strona  62 | Status:  <Response [200]>\n",
            "Strona  63 | Status:  <Response [200]>\n",
            "Strona  64 | Status:  <Response [200]>\n",
            "Strona  65 | Status:  <Response [200]>\n",
            "Strona  66 | Status:  <Response [200]>\n",
            "Strona  67 | Status:  <Response [200]>\n",
            "Strona  68 | Status:  <Response [200]>\n",
            "Strona  69 | Status:  <Response [200]>\n",
            "Strona  70 | Status:  <Response [200]>\n",
            "Strona  71 | Status:  <Response [200]>\n",
            "Strona  72 | Status:  <Response [200]>\n",
            "Strona  73 | Status:  <Response [200]>\n",
            "Strona  74 | Status:  <Response [200]>\n",
            "Strona  75 | Status:  <Response [200]>\n",
            "Strona  76 | Status:  <Response [200]>\n",
            "Strona  77 | Status:  <Response [200]>\n",
            "Strona  78 | Status:  <Response [200]>\n",
            "Strona  79 | Status:  <Response [200]>\n",
            "Strona  80 | Status:  <Response [200]>\n",
            "Strona  81 | Status:  <Response [200]>\n",
            "Strona  82 | Status:  <Response [200]>\n",
            "Strona  83 | Status:  <Response [200]>\n",
            "Strona  84 | Status:  <Response [200]>\n",
            "Strona  85 | Status:  <Response [200]>\n",
            "Strona  86 | Status:  <Response [200]>\n",
            "Strona  87 | Status:  <Response [200]>\n",
            "Strona  88 | Status:  <Response [200]>\n",
            "Strona  89 | Status:  <Response [200]>\n",
            "Strona  90 | Status:  <Response [200]>\n",
            "Strona  91 | Status:  <Response [200]>\n",
            "Strona  92 | Status:  <Response [200]>\n",
            "Strona  93 | Status:  <Response [200]>\n",
            "Strona  94 | Status:  <Response [200]>\n",
            "Strona  95 | Status:  <Response [200]>\n",
            "Strona  96 | Status:  <Response [200]>\n",
            "Strona  97 | Status:  <Response [200]>\n",
            "Strona  98 | Status:  <Response [200]>\n",
            "Strona  99 | Status:  <Response [200]>\n",
            "Strona  100 | Status:  <Response [200]>\n",
            "1000\n"
          ],
          "name": "stdout"
        }
      ]
    },
    {
      "cell_type": "markdown",
      "metadata": {
        "id": "WMIfNZ0xuysX"
      },
      "source": [
        "1. Pobieranie danych z ofert:"
      ]
    },
    {
      "cell_type": "code",
      "metadata": {
        "id": "R2PrWSaPvSLp",
        "colab": {
          "base_uri": "https://localhost:8080/",
          "height": 632
        },
        "outputId": "44eeceb3-f54e-4325-8c68-7d81c92201cd"
      },
      "source": [
        "# Nazwa oferty:\n",
        "nazwa_oferty = [oferty[i].split('\"name\":')[1].split('\"placeName\"')[0].lstrip('\"').rstrip('\",') for i in range(len(oferty))]\n",
        "\n",
        "# Miejsce oferty:\n",
        "miejsce_oferty = [oferty[i].split('\"placeName\":')[1].split('\"link\":')[0].lstrip('\"').rstrip('\",') for i in range(len(oferty))]\n",
        "\n",
        "# Z miejsca wydłubiemy kraj i region:\n",
        "kraj_oferty = [miejsce_oferty[j].split(' /')[0] for j in range(len(miejsce_oferty))]\n",
        "region_oferty = []\n",
        "for j in range(len(miejsce_oferty)):\n",
        "  if '/' in miejsce_oferty[j]:\n",
        "    a = miejsce_oferty[j].split(' /')[1]\n",
        "  else:\n",
        "    a = 'BRAK'\n",
        "  region_oferty.append(a)\n",
        "\n",
        "# Link do oferty:\n",
        "# Prefiks linku do strony z oertami wczasów:\n",
        "URL1 = 'https://www.wakacje.pl/oferty'\n",
        "\n",
        "k = [oferty[i].split('\"link\":')[1].split(',\"photo\"')[0].strip('\"') for i in range(len(oferty))]\n",
        "link_oferty = [urljoin(URL1, k) for k in k]\n",
        "\n",
        "# Kategoria hotelu:\n",
        "kategoria_hotelu = [float(oferty[i].split('\"category\":')[1].split(',\"maxCategory\"')[0]) for i in range(len(oferty))]\n",
        "\n",
        "# Czas trwania wczasów:\n",
        "czas_trwania  =[oferty[i].split('\"duration\":')[1].split(',\"durationNights\"')[0] + ' dni' for i in range(len(oferty))]\n",
        "\n",
        "# Termin wyjazdu:\n",
        "termin_wyjazdu = [dt.datetime.strptime(oferty[i].split('\"departureDate\":')[1].split('\"returnDate')[0].lstrip('\"').rstrip('\",'), \"%Y-%m-%d\").strftime(\"%d.%m.%Y\") for i in range(len(oferty))]\n",
        "\n",
        "# Rodzaj dojazdu:\n",
        "dojazd_oferta = [oferty[i].split('\"departureTypeName\":')[1].split('\"departurePlaces\"')[0].lstrip('\"').rstrip('\",') for i in range(len(oferty))]\n",
        "\n",
        "# Miejsce zbiórki:\n",
        "zbiórka_oferta = [oferty[i].split('\"departurePlace\":')[1].split(',\"returnDestinationPlace\"')[0].lstrip('\"').rstrip('\"') for i in range(len(oferty))]\n",
        "\n",
        "# Cena oferty:\n",
        "cena_oferta = [float(oferty[i].split('\"price\":')[1].split(',\"priceDiscount\"')[0]) for i in range(len(oferty))]\n",
        "\n",
        "# Nazwa biura podróży:\n",
        "biuro_podróży = [oferty[i].split('\"tourOperatorName\":\"')[1].split(',\"ratingString')[0].rstrip('\"') for i in range(len(oferty))]\n",
        "\n",
        "# Ocena:\n",
        "ocena_oferta = [float(oferty[i].split('\"ratingValue\":')[1].split(',\"ratingLabel')[0]) for i in range(len(oferty))]\n",
        "\n",
        "# Ocena opisowa:\n",
        "ocena_oferta_opis = [oferty[i].split('\"ratingLabel\":\"')[1].split('\",\"ratingMax')[0] for i in range(len(oferty))]\n",
        "\n",
        "# Typ pokoju:\n",
        "pokój_oferta = [oferty[i].split('\"roomType\":\"')[1].split('\",\"offerType')[0] for i in range(len(oferty))]\n",
        "\n",
        "\n",
        "# Ustawienie parametrów wyświetlania:\n",
        "pd.set_option('display.width', 150)\n",
        "\n",
        "# Tworzenie obiektu DataFrame:\n",
        "df = pd.DataFrame({'Nazwa oferty' : nazwa_oferty,\n",
        "                   'Kraj' : kraj_oferty,\n",
        "                   'Region' : region_oferty,\n",
        "                   'Kategoria hotelu' : kategoria_hotelu,\n",
        "                   'Termin wyjazdu' : termin_wyjazdu,\n",
        "                   'Czas trwania wczasów' : czas_trwania,\n",
        "                   'Sposób dojazdu' : dojazd_oferta,\n",
        "                   'Miejsce zbiórki' : zbiórka_oferta,\n",
        "                   'Cena oferty' : cena_oferta,\n",
        "                   'Nazwa biura podróży' : biuro_podróży,\n",
        "                   'Ocena oferty ogólna' : ocena_oferta,\n",
        "                   'Ocena oferty opis' : ocena_oferta_opis,\n",
        "                   'Link do oferty' : link_oferty})\n",
        "\n",
        "# Zamiana wartości brakujących:\n",
        "df['Miejsce zbiórki'] = df['Miejsce zbiórki'].replace('null', 'Dojazd własny')\n",
        "\n",
        "# Dodajmy jeszcze licznik dni do wyjazdu:\n",
        "dziś = dt.datetime.today()\n",
        "dziś_rok = dziś.year\n",
        "dziś_miesiąc = dziś.month\n",
        "dziś_dzień = dziś.day\n",
        "\n",
        "dni_do_wyjazdu = []\n",
        "\n",
        "for i in range(len(df['Termin wyjazdu'])):\n",
        "  dzień = int(df['Termin wyjazdu'][i].split('.')[0])\n",
        "  miesiąc = int(df['Termin wyjazdu'][i].split('.')[1])\n",
        "  rok = int(df['Termin wyjazdu'][i].split('.')[2])\n",
        "  \n",
        "  dni = dt.date(rok, miesiąc, dzień) - dt.date(dziś_rok, dziś_miesiąc, dziś_dzień)\n",
        "  dni_do_wyjazdu.append(dni.days)\n",
        "\n",
        "df['Liczba dni do wyjazdu'] = dni_do_wyjazdu\n",
        "df.head(10)"
      ],
      "execution_count": 91,
      "outputs": [
        {
          "output_type": "execute_result",
          "data": {
            "text/html": [
              "<div>\n",
              "<style scoped>\n",
              "    .dataframe tbody tr th:only-of-type {\n",
              "        vertical-align: middle;\n",
              "    }\n",
              "\n",
              "    .dataframe tbody tr th {\n",
              "        vertical-align: top;\n",
              "    }\n",
              "\n",
              "    .dataframe thead th {\n",
              "        text-align: right;\n",
              "    }\n",
              "</style>\n",
              "<table border=\"1\" class=\"dataframe\">\n",
              "  <thead>\n",
              "    <tr style=\"text-align: right;\">\n",
              "      <th></th>\n",
              "      <th>Nazwa oferty</th>\n",
              "      <th>Kraj</th>\n",
              "      <th>Region</th>\n",
              "      <th>Kategoria hotelu</th>\n",
              "      <th>Termin wyjazdu</th>\n",
              "      <th>Czas trwania wczasów</th>\n",
              "      <th>Sposób dojazdu</th>\n",
              "      <th>Miejsce zbiórki</th>\n",
              "      <th>Cena oferty</th>\n",
              "      <th>Nazwa biura podróży</th>\n",
              "      <th>Ocena oferty ogólna</th>\n",
              "      <th>Ocena oferty opis</th>\n",
              "      <th>Link do oferty</th>\n",
              "      <th>Liczba dni do wyjazdu</th>\n",
              "    </tr>\n",
              "  </thead>\n",
              "  <tbody>\n",
              "    <tr>\n",
              "      <th>0</th>\n",
              "      <td>Ozkaymak Select</td>\n",
              "      <td>Turcja</td>\n",
              "      <td>Alanya</td>\n",
              "      <td>5.0</td>\n",
              "      <td>03.11.2021</td>\n",
              "      <td>7 dni</td>\n",
              "      <td>samolot</td>\n",
              "      <td>Katowice</td>\n",
              "      <td>1719.0</td>\n",
              "      <td>Coral Travel</td>\n",
              "      <td>8.4</td>\n",
              "      <td>Bardzo dobry</td>\n",
              "      <td>https://www.wakacje.pl/oferty/turcja/riwiera-t...</td>\n",
              "      <td>70</td>\n",
              "    </tr>\n",
              "    <tr>\n",
              "      <th>1</th>\n",
              "      <td>Alexia Resort \\u0026 Spa</td>\n",
              "      <td>Turcja</td>\n",
              "      <td>Side</td>\n",
              "      <td>5.0</td>\n",
              "      <td>24.10.2021</td>\n",
              "      <td>7 dni</td>\n",
              "      <td>samolot</td>\n",
              "      <td>Wrocław</td>\n",
              "      <td>2110.0</td>\n",
              "      <td>Coral Travel</td>\n",
              "      <td>8.8</td>\n",
              "      <td>Wspaniały</td>\n",
              "      <td>https://www.wakacje.pl/oferty/turcja/riwiera-t...</td>\n",
              "      <td>60</td>\n",
              "    </tr>\n",
              "    <tr>\n",
              "      <th>2</th>\n",
              "      <td>Club Blue Dreams</td>\n",
              "      <td>Turcja</td>\n",
              "      <td>Bodrum</td>\n",
              "      <td>5.0</td>\n",
              "      <td>10.10.2021</td>\n",
              "      <td>7 dni</td>\n",
              "      <td>samolot</td>\n",
              "      <td>Wrocław</td>\n",
              "      <td>2183.0</td>\n",
              "      <td>Coral Travel</td>\n",
              "      <td>9.0</td>\n",
              "      <td>Wspaniały</td>\n",
              "      <td>https://www.wakacje.pl/oferty/turcja/wybrzeze-...</td>\n",
              "      <td>46</td>\n",
              "    </tr>\n",
              "    <tr>\n",
              "      <th>3</th>\n",
              "      <td>Galeri Resort</td>\n",
              "      <td>Turcja</td>\n",
              "      <td>Alanya</td>\n",
              "      <td>5.0</td>\n",
              "      <td>06.11.2021</td>\n",
              "      <td>7 dni</td>\n",
              "      <td>samolot</td>\n",
              "      <td>Katowice</td>\n",
              "      <td>1832.0</td>\n",
              "      <td>Coral Travel</td>\n",
              "      <td>8.9</td>\n",
              "      <td>Wspaniały</td>\n",
              "      <td>https://www.wakacje.pl/oferty/turcja/riwiera-t...</td>\n",
              "      <td>73</td>\n",
              "    </tr>\n",
              "    <tr>\n",
              "      <th>4</th>\n",
              "      <td>The Marilis Hill Resort and Spa</td>\n",
              "      <td>Turcja</td>\n",
              "      <td>Alanya</td>\n",
              "      <td>5.0</td>\n",
              "      <td>06.10.2021</td>\n",
              "      <td>7 dni</td>\n",
              "      <td>samolot</td>\n",
              "      <td>Katowice</td>\n",
              "      <td>1782.0</td>\n",
              "      <td>Best Reisen</td>\n",
              "      <td>8.4</td>\n",
              "      <td>Bardzo dobry</td>\n",
              "      <td>https://www.wakacje.pl/oferty/turcja/riwiera-t...</td>\n",
              "      <td>42</td>\n",
              "    </tr>\n",
              "    <tr>\n",
              "      <th>5</th>\n",
              "      <td>Blue Wave</td>\n",
              "      <td>Turcja</td>\n",
              "      <td>Alanya</td>\n",
              "      <td>4.0</td>\n",
              "      <td>20.10.2021</td>\n",
              "      <td>7 dni</td>\n",
              "      <td>samolot</td>\n",
              "      <td>Katowice</td>\n",
              "      <td>1678.0</td>\n",
              "      <td>Coral Travel</td>\n",
              "      <td>8.0</td>\n",
              "      <td>Bardzo dobry</td>\n",
              "      <td>https://www.wakacje.pl/oferty/turcja/riwiera-t...</td>\n",
              "      <td>56</td>\n",
              "    </tr>\n",
              "    <tr>\n",
              "      <th>6</th>\n",
              "      <td>Kentia</td>\n",
              "      <td>Turcja</td>\n",
              "      <td>Side</td>\n",
              "      <td>4.0</td>\n",
              "      <td>23.10.2021</td>\n",
              "      <td>7 dni</td>\n",
              "      <td>samolot</td>\n",
              "      <td>Katowice</td>\n",
              "      <td>1678.0</td>\n",
              "      <td>Coral Travel</td>\n",
              "      <td>7.8</td>\n",
              "      <td>Dobry</td>\n",
              "      <td>https://www.wakacje.pl/oferty/turcja/riwiera-t...</td>\n",
              "      <td>59</td>\n",
              "    </tr>\n",
              "    <tr>\n",
              "      <th>7</th>\n",
              "      <td>Raga</td>\n",
              "      <td>Turcja</td>\n",
              "      <td>Side</td>\n",
              "      <td>5.0</td>\n",
              "      <td>09.10.2021</td>\n",
              "      <td>7 dni</td>\n",
              "      <td>samolot</td>\n",
              "      <td>Rzeszów</td>\n",
              "      <td>2618.0</td>\n",
              "      <td>Coral Travel</td>\n",
              "      <td>9.8</td>\n",
              "      <td>Fantastyczny</td>\n",
              "      <td>https://www.wakacje.pl/oferty/turcja/riwiera-t...</td>\n",
              "      <td>45</td>\n",
              "    </tr>\n",
              "    <tr>\n",
              "      <th>8</th>\n",
              "      <td>Club Side Coast</td>\n",
              "      <td>Turcja</td>\n",
              "      <td>Side</td>\n",
              "      <td>5.0</td>\n",
              "      <td>03.11.2021</td>\n",
              "      <td>7 dni</td>\n",
              "      <td>samolot</td>\n",
              "      <td>Katowice</td>\n",
              "      <td>1605.0</td>\n",
              "      <td>Coral Travel</td>\n",
              "      <td>8.1</td>\n",
              "      <td>Bardzo dobry</td>\n",
              "      <td>https://www.wakacje.pl/oferty/turcja/riwiera-t...</td>\n",
              "      <td>70</td>\n",
              "    </tr>\n",
              "    <tr>\n",
              "      <th>9</th>\n",
              "      <td>Oz Side Premium</td>\n",
              "      <td>Turcja</td>\n",
              "      <td>Side</td>\n",
              "      <td>5.0</td>\n",
              "      <td>06.11.2021</td>\n",
              "      <td>7 dni</td>\n",
              "      <td>samolot</td>\n",
              "      <td>Katowice</td>\n",
              "      <td>1946.0</td>\n",
              "      <td>Coral Travel</td>\n",
              "      <td>8.8</td>\n",
              "      <td>Wspaniały</td>\n",
              "      <td>https://www.wakacje.pl/oferty/turcja/riwiera-t...</td>\n",
              "      <td>73</td>\n",
              "    </tr>\n",
              "  </tbody>\n",
              "</table>\n",
              "</div>"
            ],
            "text/plain": [
              "                      Nazwa oferty  ... Liczba dni do wyjazdu\n",
              "0                  Ozkaymak Select  ...                    70\n",
              "1         Alexia Resort \\u0026 Spa  ...                    60\n",
              "2                 Club Blue Dreams  ...                    46\n",
              "3                    Galeri Resort  ...                    73\n",
              "4  The Marilis Hill Resort and Spa  ...                    42\n",
              "5                        Blue Wave  ...                    56\n",
              "6                           Kentia  ...                    59\n",
              "7                             Raga  ...                    45\n",
              "8                  Club Side Coast  ...                    70\n",
              "9                  Oz Side Premium  ...                    73\n",
              "\n",
              "[10 rows x 14 columns]"
            ]
          },
          "metadata": {},
          "execution_count": 91
        }
      ]
    },
    {
      "cell_type": "code",
      "metadata": {
        "id": "A-7lXXLGZevn"
      },
      "source": [
        "# Zapisanie pliku z danymi:\n",
        "df.to_csv('dane_wakacjepl.csv', index = False)"
      ],
      "execution_count": 92,
      "outputs": []
    },
    {
      "cell_type": "markdown",
      "metadata": {
        "id": "DTaDGMXuZW9f"
      },
      "source": [
        "# 2. Wstępna analiza i przygotowanie danych:"
      ]
    },
    {
      "cell_type": "code",
      "metadata": {
        "colab": {
          "base_uri": "https://localhost:8080/",
          "height": 632
        },
        "id": "ftc_mNqNZZh1",
        "outputId": "0a9932f1-9081-49e7-b1e6-577911db9857"
      },
      "source": [
        "dane = pd.read_csv('/content/dane_wakacjepl.csv')\n",
        "dane.head(10)"
      ],
      "execution_count": 93,
      "outputs": [
        {
          "output_type": "execute_result",
          "data": {
            "text/html": [
              "<div>\n",
              "<style scoped>\n",
              "    .dataframe tbody tr th:only-of-type {\n",
              "        vertical-align: middle;\n",
              "    }\n",
              "\n",
              "    .dataframe tbody tr th {\n",
              "        vertical-align: top;\n",
              "    }\n",
              "\n",
              "    .dataframe thead th {\n",
              "        text-align: right;\n",
              "    }\n",
              "</style>\n",
              "<table border=\"1\" class=\"dataframe\">\n",
              "  <thead>\n",
              "    <tr style=\"text-align: right;\">\n",
              "      <th></th>\n",
              "      <th>Nazwa oferty</th>\n",
              "      <th>Kraj</th>\n",
              "      <th>Region</th>\n",
              "      <th>Kategoria hotelu</th>\n",
              "      <th>Termin wyjazdu</th>\n",
              "      <th>Czas trwania wczasów</th>\n",
              "      <th>Sposób dojazdu</th>\n",
              "      <th>Miejsce zbiórki</th>\n",
              "      <th>Cena oferty</th>\n",
              "      <th>Nazwa biura podróży</th>\n",
              "      <th>Ocena oferty ogólna</th>\n",
              "      <th>Ocena oferty opis</th>\n",
              "      <th>Link do oferty</th>\n",
              "      <th>Liczba dni do wyjazdu</th>\n",
              "    </tr>\n",
              "  </thead>\n",
              "  <tbody>\n",
              "    <tr>\n",
              "      <th>0</th>\n",
              "      <td>Ozkaymak Select</td>\n",
              "      <td>Turcja</td>\n",
              "      <td>Alanya</td>\n",
              "      <td>5.0</td>\n",
              "      <td>03.11.2021</td>\n",
              "      <td>7 dni</td>\n",
              "      <td>samolot</td>\n",
              "      <td>Katowice</td>\n",
              "      <td>1719.0</td>\n",
              "      <td>Coral Travel</td>\n",
              "      <td>8.4</td>\n",
              "      <td>Bardzo dobry</td>\n",
              "      <td>https://www.wakacje.pl/oferty/turcja/riwiera-t...</td>\n",
              "      <td>70</td>\n",
              "    </tr>\n",
              "    <tr>\n",
              "      <th>1</th>\n",
              "      <td>Alexia Resort \\u0026 Spa</td>\n",
              "      <td>Turcja</td>\n",
              "      <td>Side</td>\n",
              "      <td>5.0</td>\n",
              "      <td>24.10.2021</td>\n",
              "      <td>7 dni</td>\n",
              "      <td>samolot</td>\n",
              "      <td>Wrocław</td>\n",
              "      <td>2110.0</td>\n",
              "      <td>Coral Travel</td>\n",
              "      <td>8.8</td>\n",
              "      <td>Wspaniały</td>\n",
              "      <td>https://www.wakacje.pl/oferty/turcja/riwiera-t...</td>\n",
              "      <td>60</td>\n",
              "    </tr>\n",
              "    <tr>\n",
              "      <th>2</th>\n",
              "      <td>Club Blue Dreams</td>\n",
              "      <td>Turcja</td>\n",
              "      <td>Bodrum</td>\n",
              "      <td>5.0</td>\n",
              "      <td>10.10.2021</td>\n",
              "      <td>7 dni</td>\n",
              "      <td>samolot</td>\n",
              "      <td>Wrocław</td>\n",
              "      <td>2183.0</td>\n",
              "      <td>Coral Travel</td>\n",
              "      <td>9.0</td>\n",
              "      <td>Wspaniały</td>\n",
              "      <td>https://www.wakacje.pl/oferty/turcja/wybrzeze-...</td>\n",
              "      <td>46</td>\n",
              "    </tr>\n",
              "    <tr>\n",
              "      <th>3</th>\n",
              "      <td>Galeri Resort</td>\n",
              "      <td>Turcja</td>\n",
              "      <td>Alanya</td>\n",
              "      <td>5.0</td>\n",
              "      <td>06.11.2021</td>\n",
              "      <td>7 dni</td>\n",
              "      <td>samolot</td>\n",
              "      <td>Katowice</td>\n",
              "      <td>1832.0</td>\n",
              "      <td>Coral Travel</td>\n",
              "      <td>8.9</td>\n",
              "      <td>Wspaniały</td>\n",
              "      <td>https://www.wakacje.pl/oferty/turcja/riwiera-t...</td>\n",
              "      <td>73</td>\n",
              "    </tr>\n",
              "    <tr>\n",
              "      <th>4</th>\n",
              "      <td>The Marilis Hill Resort and Spa</td>\n",
              "      <td>Turcja</td>\n",
              "      <td>Alanya</td>\n",
              "      <td>5.0</td>\n",
              "      <td>06.10.2021</td>\n",
              "      <td>7 dni</td>\n",
              "      <td>samolot</td>\n",
              "      <td>Katowice</td>\n",
              "      <td>1782.0</td>\n",
              "      <td>Best Reisen</td>\n",
              "      <td>8.4</td>\n",
              "      <td>Bardzo dobry</td>\n",
              "      <td>https://www.wakacje.pl/oferty/turcja/riwiera-t...</td>\n",
              "      <td>42</td>\n",
              "    </tr>\n",
              "    <tr>\n",
              "      <th>5</th>\n",
              "      <td>Blue Wave</td>\n",
              "      <td>Turcja</td>\n",
              "      <td>Alanya</td>\n",
              "      <td>4.0</td>\n",
              "      <td>20.10.2021</td>\n",
              "      <td>7 dni</td>\n",
              "      <td>samolot</td>\n",
              "      <td>Katowice</td>\n",
              "      <td>1678.0</td>\n",
              "      <td>Coral Travel</td>\n",
              "      <td>8.0</td>\n",
              "      <td>Bardzo dobry</td>\n",
              "      <td>https://www.wakacje.pl/oferty/turcja/riwiera-t...</td>\n",
              "      <td>56</td>\n",
              "    </tr>\n",
              "    <tr>\n",
              "      <th>6</th>\n",
              "      <td>Kentia</td>\n",
              "      <td>Turcja</td>\n",
              "      <td>Side</td>\n",
              "      <td>4.0</td>\n",
              "      <td>23.10.2021</td>\n",
              "      <td>7 dni</td>\n",
              "      <td>samolot</td>\n",
              "      <td>Katowice</td>\n",
              "      <td>1678.0</td>\n",
              "      <td>Coral Travel</td>\n",
              "      <td>7.8</td>\n",
              "      <td>Dobry</td>\n",
              "      <td>https://www.wakacje.pl/oferty/turcja/riwiera-t...</td>\n",
              "      <td>59</td>\n",
              "    </tr>\n",
              "    <tr>\n",
              "      <th>7</th>\n",
              "      <td>Raga</td>\n",
              "      <td>Turcja</td>\n",
              "      <td>Side</td>\n",
              "      <td>5.0</td>\n",
              "      <td>09.10.2021</td>\n",
              "      <td>7 dni</td>\n",
              "      <td>samolot</td>\n",
              "      <td>Rzeszów</td>\n",
              "      <td>2618.0</td>\n",
              "      <td>Coral Travel</td>\n",
              "      <td>9.8</td>\n",
              "      <td>Fantastyczny</td>\n",
              "      <td>https://www.wakacje.pl/oferty/turcja/riwiera-t...</td>\n",
              "      <td>45</td>\n",
              "    </tr>\n",
              "    <tr>\n",
              "      <th>8</th>\n",
              "      <td>Club Side Coast</td>\n",
              "      <td>Turcja</td>\n",
              "      <td>Side</td>\n",
              "      <td>5.0</td>\n",
              "      <td>03.11.2021</td>\n",
              "      <td>7 dni</td>\n",
              "      <td>samolot</td>\n",
              "      <td>Katowice</td>\n",
              "      <td>1605.0</td>\n",
              "      <td>Coral Travel</td>\n",
              "      <td>8.1</td>\n",
              "      <td>Bardzo dobry</td>\n",
              "      <td>https://www.wakacje.pl/oferty/turcja/riwiera-t...</td>\n",
              "      <td>70</td>\n",
              "    </tr>\n",
              "    <tr>\n",
              "      <th>9</th>\n",
              "      <td>Oz Side Premium</td>\n",
              "      <td>Turcja</td>\n",
              "      <td>Side</td>\n",
              "      <td>5.0</td>\n",
              "      <td>06.11.2021</td>\n",
              "      <td>7 dni</td>\n",
              "      <td>samolot</td>\n",
              "      <td>Katowice</td>\n",
              "      <td>1946.0</td>\n",
              "      <td>Coral Travel</td>\n",
              "      <td>8.8</td>\n",
              "      <td>Wspaniały</td>\n",
              "      <td>https://www.wakacje.pl/oferty/turcja/riwiera-t...</td>\n",
              "      <td>73</td>\n",
              "    </tr>\n",
              "  </tbody>\n",
              "</table>\n",
              "</div>"
            ],
            "text/plain": [
              "                      Nazwa oferty  ... Liczba dni do wyjazdu\n",
              "0                  Ozkaymak Select  ...                    70\n",
              "1         Alexia Resort \\u0026 Spa  ...                    60\n",
              "2                 Club Blue Dreams  ...                    46\n",
              "3                    Galeri Resort  ...                    73\n",
              "4  The Marilis Hill Resort and Spa  ...                    42\n",
              "5                        Blue Wave  ...                    56\n",
              "6                           Kentia  ...                    59\n",
              "7                             Raga  ...                    45\n",
              "8                  Club Side Coast  ...                    70\n",
              "9                  Oz Side Premium  ...                    73\n",
              "\n",
              "[10 rows x 14 columns]"
            ]
          },
          "metadata": {},
          "execution_count": 93
        }
      ]
    },
    {
      "cell_type": "markdown",
      "metadata": {
        "id": "HCw8OL9ctilL"
      },
      "source": [
        "1. Czyszczenie danych:"
      ]
    },
    {
      "cell_type": "markdown",
      "metadata": {
        "id": "9p2DymNPtmQy"
      },
      "source": [
        "Czyszczenie danych w zaleśności od regionu. Wiemy, że te miejscowości są zlokalizowane w konkretnych regionach, np. Alanya, Side, Kemer, Belek i Antalya znajdują się na riwierze Tureckiej a Kusadasi, Marmaris, Bodrum i Dalaman - na riwierze Egejskiej. Pogrupujmy je i wywalmy wycieczki objazdowe, bo nie są nam do niczego potrzebne:"
      ]
    },
    {
      "cell_type": "code",
      "metadata": {
        "colab": {
          "base_uri": "https://localhost:8080/"
        },
        "id": "nsgZXC-3tHMS",
        "outputId": "c51f5139-5c29-4718-dfc4-f2a763ab9338"
      },
      "source": [
        "# Liczba ofert w zaleśności od regionu:\n",
        "dane['Region'].value_counts(dropna = False)"
      ],
      "execution_count": 94,
      "outputs": [
        {
          "output_type": "execute_result",
          "data": {
            "text/plain": [
              " Alanya               328\n",
              " Side                 233\n",
              " Bodrum               138\n",
              " Kemer                 95\n",
              " Belek                 68\n",
              " Kusadasi              41\n",
              " Antalya               40\n",
              " Marmaris              37\n",
              " Dalaman - Fethiye     19\n",
              " Cesme                  1\n",
              "Name: Region, dtype: int64"
            ]
          },
          "metadata": {},
          "execution_count": 94
        }
      ]
    },
    {
      "cell_type": "code",
      "metadata": {
        "colab": {
          "base_uri": "https://localhost:8080/"
        },
        "id": "4rfLJii_thJL",
        "outputId": "cd5a6acd-b8c0-4da8-c393-bda40f85ad91"
      },
      "source": [
        "dane['Region'] = dane['Region'].replace(' Alanya', 'Riwiera Turecka')\n",
        "dane['Region'] = dane['Region'].replace(' Side', 'Riwiera Turecka')\n",
        "dane['Region'] = dane['Region'].replace(' Kemer', 'Riwiera Turecka')\n",
        "dane['Region'] = dane['Region'].replace(' Belek', 'Riwiera Turecka')\n",
        "dane['Region'] = dane['Region'].replace(' Antalya', 'Riwiera Turecka')\n",
        "dane['Region'] = dane['Region'].replace(' Bodrum', 'Riwiera Egejska')\n",
        "dane['Region'] = dane['Region'].replace(' Kusadasi', 'Riwiera Egejska')\n",
        "dane['Region'] = dane['Region'].replace(' Marmaris', 'Riwiera Egejska')\n",
        "dane['Region'] = dane['Region'].replace(' Dalaman - Fethiye', 'Riwiera Egejska')\n",
        "dane['Region'] = dane['Region'].replace(' Cesme', 'Riwiera Egejska')\n",
        "dane['Region'] = dane['Region'].replace(' Turcja', 'Riwiera Turecka')\n",
        "dane = dane[dane['Region'] != ' Wyc. Objazdowe']\n",
        "dane['Region'].value_counts(dropna = False)"
      ],
      "execution_count": 96,
      "outputs": [
        {
          "output_type": "execute_result",
          "data": {
            "text/plain": [
              "Riwiera Turecka    764\n",
              "Riwiera Egejska    236\n",
              "Name: Region, dtype: int64"
            ]
          },
          "metadata": {},
          "execution_count": 96
        }
      ]
    },
    {
      "cell_type": "code",
      "metadata": {
        "colab": {
          "base_uri": "https://localhost:8080/"
        },
        "id": "_LDeGjaqmf4g",
        "outputId": "33735ce7-0f16-4e94-d6fd-89dd949c3870"
      },
      "source": [
        "# Gdzie są braki danych:\n",
        "dane.info()"
      ],
      "execution_count": 97,
      "outputs": [
        {
          "output_type": "stream",
          "text": [
            "<class 'pandas.core.frame.DataFrame'>\n",
            "Int64Index: 1000 entries, 0 to 999\n",
            "Data columns (total 14 columns):\n",
            " #   Column                 Non-Null Count  Dtype  \n",
            "---  ------                 --------------  -----  \n",
            " 0   Nazwa oferty           1000 non-null   object \n",
            " 1   Kraj                   1000 non-null   object \n",
            " 2   Region                 1000 non-null   object \n",
            " 3   Kategoria hotelu       1000 non-null   float64\n",
            " 4   Termin wyjazdu         1000 non-null   object \n",
            " 5   Czas trwania wczasów   1000 non-null   object \n",
            " 6   Sposób dojazdu         1000 non-null   object \n",
            " 7   Miejsce zbiórki        1000 non-null   object \n",
            " 8   Cena oferty            1000 non-null   float64\n",
            " 9   Nazwa biura podróży    1000 non-null   object \n",
            " 10  Ocena oferty ogólna    1000 non-null   float64\n",
            " 11  Ocena oferty opis      882 non-null    object \n",
            " 12  Link do oferty         1000 non-null   object \n",
            " 13  Liczba dni do wyjazdu  1000 non-null   int64  \n",
            "dtypes: float64(3), int64(1), object(10)\n",
            "memory usage: 117.2+ KB\n"
          ],
          "name": "stdout"
        }
      ]
    },
    {
      "cell_type": "code",
      "metadata": {
        "colab": {
          "base_uri": "https://localhost:8080/",
          "height": 632
        },
        "id": "gDxJMH1Jmnd2",
        "outputId": "e9bb6d24-a0d0-4335-f24d-645214abc12a"
      },
      "source": [
        "# Jak widzisz w opisowej ocenie oferty występują braki. Usuńmy zatem tę kolumnę:\n",
        "dane = dane.drop(columns = 'Ocena oferty opis')\n",
        "dane.head(10)"
      ],
      "execution_count": 98,
      "outputs": [
        {
          "output_type": "execute_result",
          "data": {
            "text/html": [
              "<div>\n",
              "<style scoped>\n",
              "    .dataframe tbody tr th:only-of-type {\n",
              "        vertical-align: middle;\n",
              "    }\n",
              "\n",
              "    .dataframe tbody tr th {\n",
              "        vertical-align: top;\n",
              "    }\n",
              "\n",
              "    .dataframe thead th {\n",
              "        text-align: right;\n",
              "    }\n",
              "</style>\n",
              "<table border=\"1\" class=\"dataframe\">\n",
              "  <thead>\n",
              "    <tr style=\"text-align: right;\">\n",
              "      <th></th>\n",
              "      <th>Nazwa oferty</th>\n",
              "      <th>Kraj</th>\n",
              "      <th>Region</th>\n",
              "      <th>Kategoria hotelu</th>\n",
              "      <th>Termin wyjazdu</th>\n",
              "      <th>Czas trwania wczasów</th>\n",
              "      <th>Sposób dojazdu</th>\n",
              "      <th>Miejsce zbiórki</th>\n",
              "      <th>Cena oferty</th>\n",
              "      <th>Nazwa biura podróży</th>\n",
              "      <th>Ocena oferty ogólna</th>\n",
              "      <th>Link do oferty</th>\n",
              "      <th>Liczba dni do wyjazdu</th>\n",
              "    </tr>\n",
              "  </thead>\n",
              "  <tbody>\n",
              "    <tr>\n",
              "      <th>0</th>\n",
              "      <td>Ozkaymak Select</td>\n",
              "      <td>Turcja</td>\n",
              "      <td>Riwiera Turecka</td>\n",
              "      <td>5.0</td>\n",
              "      <td>03.11.2021</td>\n",
              "      <td>7 dni</td>\n",
              "      <td>samolot</td>\n",
              "      <td>Katowice</td>\n",
              "      <td>1719.0</td>\n",
              "      <td>Coral Travel</td>\n",
              "      <td>8.4</td>\n",
              "      <td>https://www.wakacje.pl/oferty/turcja/riwiera-t...</td>\n",
              "      <td>70</td>\n",
              "    </tr>\n",
              "    <tr>\n",
              "      <th>1</th>\n",
              "      <td>Alexia Resort \\u0026 Spa</td>\n",
              "      <td>Turcja</td>\n",
              "      <td>Riwiera Turecka</td>\n",
              "      <td>5.0</td>\n",
              "      <td>24.10.2021</td>\n",
              "      <td>7 dni</td>\n",
              "      <td>samolot</td>\n",
              "      <td>Wrocław</td>\n",
              "      <td>2110.0</td>\n",
              "      <td>Coral Travel</td>\n",
              "      <td>8.8</td>\n",
              "      <td>https://www.wakacje.pl/oferty/turcja/riwiera-t...</td>\n",
              "      <td>60</td>\n",
              "    </tr>\n",
              "    <tr>\n",
              "      <th>2</th>\n",
              "      <td>Club Blue Dreams</td>\n",
              "      <td>Turcja</td>\n",
              "      <td>Riwiera Egejska</td>\n",
              "      <td>5.0</td>\n",
              "      <td>10.10.2021</td>\n",
              "      <td>7 dni</td>\n",
              "      <td>samolot</td>\n",
              "      <td>Wrocław</td>\n",
              "      <td>2183.0</td>\n",
              "      <td>Coral Travel</td>\n",
              "      <td>9.0</td>\n",
              "      <td>https://www.wakacje.pl/oferty/turcja/wybrzeze-...</td>\n",
              "      <td>46</td>\n",
              "    </tr>\n",
              "    <tr>\n",
              "      <th>3</th>\n",
              "      <td>Galeri Resort</td>\n",
              "      <td>Turcja</td>\n",
              "      <td>Riwiera Turecka</td>\n",
              "      <td>5.0</td>\n",
              "      <td>06.11.2021</td>\n",
              "      <td>7 dni</td>\n",
              "      <td>samolot</td>\n",
              "      <td>Katowice</td>\n",
              "      <td>1832.0</td>\n",
              "      <td>Coral Travel</td>\n",
              "      <td>8.9</td>\n",
              "      <td>https://www.wakacje.pl/oferty/turcja/riwiera-t...</td>\n",
              "      <td>73</td>\n",
              "    </tr>\n",
              "    <tr>\n",
              "      <th>4</th>\n",
              "      <td>The Marilis Hill Resort and Spa</td>\n",
              "      <td>Turcja</td>\n",
              "      <td>Riwiera Turecka</td>\n",
              "      <td>5.0</td>\n",
              "      <td>06.10.2021</td>\n",
              "      <td>7 dni</td>\n",
              "      <td>samolot</td>\n",
              "      <td>Katowice</td>\n",
              "      <td>1782.0</td>\n",
              "      <td>Best Reisen</td>\n",
              "      <td>8.4</td>\n",
              "      <td>https://www.wakacje.pl/oferty/turcja/riwiera-t...</td>\n",
              "      <td>42</td>\n",
              "    </tr>\n",
              "    <tr>\n",
              "      <th>5</th>\n",
              "      <td>Blue Wave</td>\n",
              "      <td>Turcja</td>\n",
              "      <td>Riwiera Turecka</td>\n",
              "      <td>4.0</td>\n",
              "      <td>20.10.2021</td>\n",
              "      <td>7 dni</td>\n",
              "      <td>samolot</td>\n",
              "      <td>Katowice</td>\n",
              "      <td>1678.0</td>\n",
              "      <td>Coral Travel</td>\n",
              "      <td>8.0</td>\n",
              "      <td>https://www.wakacje.pl/oferty/turcja/riwiera-t...</td>\n",
              "      <td>56</td>\n",
              "    </tr>\n",
              "    <tr>\n",
              "      <th>6</th>\n",
              "      <td>Kentia</td>\n",
              "      <td>Turcja</td>\n",
              "      <td>Riwiera Turecka</td>\n",
              "      <td>4.0</td>\n",
              "      <td>23.10.2021</td>\n",
              "      <td>7 dni</td>\n",
              "      <td>samolot</td>\n",
              "      <td>Katowice</td>\n",
              "      <td>1678.0</td>\n",
              "      <td>Coral Travel</td>\n",
              "      <td>7.8</td>\n",
              "      <td>https://www.wakacje.pl/oferty/turcja/riwiera-t...</td>\n",
              "      <td>59</td>\n",
              "    </tr>\n",
              "    <tr>\n",
              "      <th>7</th>\n",
              "      <td>Raga</td>\n",
              "      <td>Turcja</td>\n",
              "      <td>Riwiera Turecka</td>\n",
              "      <td>5.0</td>\n",
              "      <td>09.10.2021</td>\n",
              "      <td>7 dni</td>\n",
              "      <td>samolot</td>\n",
              "      <td>Rzeszów</td>\n",
              "      <td>2618.0</td>\n",
              "      <td>Coral Travel</td>\n",
              "      <td>9.8</td>\n",
              "      <td>https://www.wakacje.pl/oferty/turcja/riwiera-t...</td>\n",
              "      <td>45</td>\n",
              "    </tr>\n",
              "    <tr>\n",
              "      <th>8</th>\n",
              "      <td>Club Side Coast</td>\n",
              "      <td>Turcja</td>\n",
              "      <td>Riwiera Turecka</td>\n",
              "      <td>5.0</td>\n",
              "      <td>03.11.2021</td>\n",
              "      <td>7 dni</td>\n",
              "      <td>samolot</td>\n",
              "      <td>Katowice</td>\n",
              "      <td>1605.0</td>\n",
              "      <td>Coral Travel</td>\n",
              "      <td>8.1</td>\n",
              "      <td>https://www.wakacje.pl/oferty/turcja/riwiera-t...</td>\n",
              "      <td>70</td>\n",
              "    </tr>\n",
              "    <tr>\n",
              "      <th>9</th>\n",
              "      <td>Oz Side Premium</td>\n",
              "      <td>Turcja</td>\n",
              "      <td>Riwiera Turecka</td>\n",
              "      <td>5.0</td>\n",
              "      <td>06.11.2021</td>\n",
              "      <td>7 dni</td>\n",
              "      <td>samolot</td>\n",
              "      <td>Katowice</td>\n",
              "      <td>1946.0</td>\n",
              "      <td>Coral Travel</td>\n",
              "      <td>8.8</td>\n",
              "      <td>https://www.wakacje.pl/oferty/turcja/riwiera-t...</td>\n",
              "      <td>73</td>\n",
              "    </tr>\n",
              "  </tbody>\n",
              "</table>\n",
              "</div>"
            ],
            "text/plain": [
              "                      Nazwa oferty  ... Liczba dni do wyjazdu\n",
              "0                  Ozkaymak Select  ...                    70\n",
              "1         Alexia Resort \\u0026 Spa  ...                    60\n",
              "2                 Club Blue Dreams  ...                    46\n",
              "3                    Galeri Resort  ...                    73\n",
              "4  The Marilis Hill Resort and Spa  ...                    42\n",
              "5                        Blue Wave  ...                    56\n",
              "6                           Kentia  ...                    59\n",
              "7                             Raga  ...                    45\n",
              "8                  Club Side Coast  ...                    70\n",
              "9                  Oz Side Premium  ...                    73\n",
              "\n",
              "[10 rows x 13 columns]"
            ]
          },
          "metadata": {},
          "execution_count": 98
        }
      ]
    },
    {
      "cell_type": "markdown",
      "metadata": {
        "id": "BdOTn0T-zPb_"
      },
      "source": [
        "Czyszczenie danych ze względu na kategorię hotelu (czyli gwiazdki). Mamy tu aż 4 oferty z zerem gwiazdek. Może to błąd a może tak żałosne oferty, że nie zasługują na pozostanie wśród danych. Wylatują:"
      ]
    },
    {
      "cell_type": "code",
      "metadata": {
        "colab": {
          "base_uri": "https://localhost:8080/"
        },
        "id": "k-DpGD7Aa0DM",
        "outputId": "48b92e47-6516-42f2-bfbc-9885403eebfb"
      },
      "source": [
        "# Liczba ofert wegług kategorii hotelu:\n",
        "dane[\"Kategoria hotelu\"].value_counts(dropna = False)"
      ],
      "execution_count": 99,
      "outputs": [
        {
          "output_type": "execute_result",
          "data": {
            "text/plain": [
              "5.0    640\n",
              "4.0    274\n",
              "3.0     64\n",
              "4.5     12\n",
              "3.5      9\n",
              "0.0      1\n",
              "Name: Kategoria hotelu, dtype: int64"
            ]
          },
          "metadata": {},
          "execution_count": 99
        }
      ]
    },
    {
      "cell_type": "code",
      "metadata": {
        "colab": {
          "base_uri": "https://localhost:8080/",
          "height": 649
        },
        "id": "708Q-1S3niiW",
        "outputId": "9c24d13a-a71d-46ac-91bb-c1bbae702f27"
      },
      "source": [
        "# Co to za hotele z zeroma gwiazdkami? Usuwamy je:\n",
        "dane = dane[dane['Kategoria hotelu'] != 0]\n",
        "print(dane.shape)\n",
        "dane.head(10)"
      ],
      "execution_count": 100,
      "outputs": [
        {
          "output_type": "stream",
          "text": [
            "(999, 13)\n"
          ],
          "name": "stdout"
        },
        {
          "output_type": "execute_result",
          "data": {
            "text/html": [
              "<div>\n",
              "<style scoped>\n",
              "    .dataframe tbody tr th:only-of-type {\n",
              "        vertical-align: middle;\n",
              "    }\n",
              "\n",
              "    .dataframe tbody tr th {\n",
              "        vertical-align: top;\n",
              "    }\n",
              "\n",
              "    .dataframe thead th {\n",
              "        text-align: right;\n",
              "    }\n",
              "</style>\n",
              "<table border=\"1\" class=\"dataframe\">\n",
              "  <thead>\n",
              "    <tr style=\"text-align: right;\">\n",
              "      <th></th>\n",
              "      <th>Nazwa oferty</th>\n",
              "      <th>Kraj</th>\n",
              "      <th>Region</th>\n",
              "      <th>Kategoria hotelu</th>\n",
              "      <th>Termin wyjazdu</th>\n",
              "      <th>Czas trwania wczasów</th>\n",
              "      <th>Sposób dojazdu</th>\n",
              "      <th>Miejsce zbiórki</th>\n",
              "      <th>Cena oferty</th>\n",
              "      <th>Nazwa biura podróży</th>\n",
              "      <th>Ocena oferty ogólna</th>\n",
              "      <th>Link do oferty</th>\n",
              "      <th>Liczba dni do wyjazdu</th>\n",
              "    </tr>\n",
              "  </thead>\n",
              "  <tbody>\n",
              "    <tr>\n",
              "      <th>0</th>\n",
              "      <td>Ozkaymak Select</td>\n",
              "      <td>Turcja</td>\n",
              "      <td>Riwiera Turecka</td>\n",
              "      <td>5.0</td>\n",
              "      <td>03.11.2021</td>\n",
              "      <td>7 dni</td>\n",
              "      <td>samolot</td>\n",
              "      <td>Katowice</td>\n",
              "      <td>1719.0</td>\n",
              "      <td>Coral Travel</td>\n",
              "      <td>8.4</td>\n",
              "      <td>https://www.wakacje.pl/oferty/turcja/riwiera-t...</td>\n",
              "      <td>70</td>\n",
              "    </tr>\n",
              "    <tr>\n",
              "      <th>1</th>\n",
              "      <td>Alexia Resort \\u0026 Spa</td>\n",
              "      <td>Turcja</td>\n",
              "      <td>Riwiera Turecka</td>\n",
              "      <td>5.0</td>\n",
              "      <td>24.10.2021</td>\n",
              "      <td>7 dni</td>\n",
              "      <td>samolot</td>\n",
              "      <td>Wrocław</td>\n",
              "      <td>2110.0</td>\n",
              "      <td>Coral Travel</td>\n",
              "      <td>8.8</td>\n",
              "      <td>https://www.wakacje.pl/oferty/turcja/riwiera-t...</td>\n",
              "      <td>60</td>\n",
              "    </tr>\n",
              "    <tr>\n",
              "      <th>2</th>\n",
              "      <td>Club Blue Dreams</td>\n",
              "      <td>Turcja</td>\n",
              "      <td>Riwiera Egejska</td>\n",
              "      <td>5.0</td>\n",
              "      <td>10.10.2021</td>\n",
              "      <td>7 dni</td>\n",
              "      <td>samolot</td>\n",
              "      <td>Wrocław</td>\n",
              "      <td>2183.0</td>\n",
              "      <td>Coral Travel</td>\n",
              "      <td>9.0</td>\n",
              "      <td>https://www.wakacje.pl/oferty/turcja/wybrzeze-...</td>\n",
              "      <td>46</td>\n",
              "    </tr>\n",
              "    <tr>\n",
              "      <th>3</th>\n",
              "      <td>Galeri Resort</td>\n",
              "      <td>Turcja</td>\n",
              "      <td>Riwiera Turecka</td>\n",
              "      <td>5.0</td>\n",
              "      <td>06.11.2021</td>\n",
              "      <td>7 dni</td>\n",
              "      <td>samolot</td>\n",
              "      <td>Katowice</td>\n",
              "      <td>1832.0</td>\n",
              "      <td>Coral Travel</td>\n",
              "      <td>8.9</td>\n",
              "      <td>https://www.wakacje.pl/oferty/turcja/riwiera-t...</td>\n",
              "      <td>73</td>\n",
              "    </tr>\n",
              "    <tr>\n",
              "      <th>4</th>\n",
              "      <td>The Marilis Hill Resort and Spa</td>\n",
              "      <td>Turcja</td>\n",
              "      <td>Riwiera Turecka</td>\n",
              "      <td>5.0</td>\n",
              "      <td>06.10.2021</td>\n",
              "      <td>7 dni</td>\n",
              "      <td>samolot</td>\n",
              "      <td>Katowice</td>\n",
              "      <td>1782.0</td>\n",
              "      <td>Best Reisen</td>\n",
              "      <td>8.4</td>\n",
              "      <td>https://www.wakacje.pl/oferty/turcja/riwiera-t...</td>\n",
              "      <td>42</td>\n",
              "    </tr>\n",
              "    <tr>\n",
              "      <th>5</th>\n",
              "      <td>Blue Wave</td>\n",
              "      <td>Turcja</td>\n",
              "      <td>Riwiera Turecka</td>\n",
              "      <td>4.0</td>\n",
              "      <td>20.10.2021</td>\n",
              "      <td>7 dni</td>\n",
              "      <td>samolot</td>\n",
              "      <td>Katowice</td>\n",
              "      <td>1678.0</td>\n",
              "      <td>Coral Travel</td>\n",
              "      <td>8.0</td>\n",
              "      <td>https://www.wakacje.pl/oferty/turcja/riwiera-t...</td>\n",
              "      <td>56</td>\n",
              "    </tr>\n",
              "    <tr>\n",
              "      <th>6</th>\n",
              "      <td>Kentia</td>\n",
              "      <td>Turcja</td>\n",
              "      <td>Riwiera Turecka</td>\n",
              "      <td>4.0</td>\n",
              "      <td>23.10.2021</td>\n",
              "      <td>7 dni</td>\n",
              "      <td>samolot</td>\n",
              "      <td>Katowice</td>\n",
              "      <td>1678.0</td>\n",
              "      <td>Coral Travel</td>\n",
              "      <td>7.8</td>\n",
              "      <td>https://www.wakacje.pl/oferty/turcja/riwiera-t...</td>\n",
              "      <td>59</td>\n",
              "    </tr>\n",
              "    <tr>\n",
              "      <th>7</th>\n",
              "      <td>Raga</td>\n",
              "      <td>Turcja</td>\n",
              "      <td>Riwiera Turecka</td>\n",
              "      <td>5.0</td>\n",
              "      <td>09.10.2021</td>\n",
              "      <td>7 dni</td>\n",
              "      <td>samolot</td>\n",
              "      <td>Rzeszów</td>\n",
              "      <td>2618.0</td>\n",
              "      <td>Coral Travel</td>\n",
              "      <td>9.8</td>\n",
              "      <td>https://www.wakacje.pl/oferty/turcja/riwiera-t...</td>\n",
              "      <td>45</td>\n",
              "    </tr>\n",
              "    <tr>\n",
              "      <th>8</th>\n",
              "      <td>Club Side Coast</td>\n",
              "      <td>Turcja</td>\n",
              "      <td>Riwiera Turecka</td>\n",
              "      <td>5.0</td>\n",
              "      <td>03.11.2021</td>\n",
              "      <td>7 dni</td>\n",
              "      <td>samolot</td>\n",
              "      <td>Katowice</td>\n",
              "      <td>1605.0</td>\n",
              "      <td>Coral Travel</td>\n",
              "      <td>8.1</td>\n",
              "      <td>https://www.wakacje.pl/oferty/turcja/riwiera-t...</td>\n",
              "      <td>70</td>\n",
              "    </tr>\n",
              "    <tr>\n",
              "      <th>9</th>\n",
              "      <td>Oz Side Premium</td>\n",
              "      <td>Turcja</td>\n",
              "      <td>Riwiera Turecka</td>\n",
              "      <td>5.0</td>\n",
              "      <td>06.11.2021</td>\n",
              "      <td>7 dni</td>\n",
              "      <td>samolot</td>\n",
              "      <td>Katowice</td>\n",
              "      <td>1946.0</td>\n",
              "      <td>Coral Travel</td>\n",
              "      <td>8.8</td>\n",
              "      <td>https://www.wakacje.pl/oferty/turcja/riwiera-t...</td>\n",
              "      <td>73</td>\n",
              "    </tr>\n",
              "  </tbody>\n",
              "</table>\n",
              "</div>"
            ],
            "text/plain": [
              "                      Nazwa oferty  ... Liczba dni do wyjazdu\n",
              "0                  Ozkaymak Select  ...                    70\n",
              "1         Alexia Resort \\u0026 Spa  ...                    60\n",
              "2                 Club Blue Dreams  ...                    46\n",
              "3                    Galeri Resort  ...                    73\n",
              "4  The Marilis Hill Resort and Spa  ...                    42\n",
              "5                        Blue Wave  ...                    56\n",
              "6                           Kentia  ...                    59\n",
              "7                             Raga  ...                    45\n",
              "8                  Club Side Coast  ...                    70\n",
              "9                  Oz Side Premium  ...                    73\n",
              "\n",
              "[10 rows x 13 columns]"
            ]
          },
          "metadata": {},
          "execution_count": 100
        }
      ]
    },
    {
      "cell_type": "code",
      "metadata": {
        "colab": {
          "base_uri": "https://localhost:8080/",
          "height": 791
        },
        "id": "8SuXky0T9pNR",
        "outputId": "08fd9b00-eaa2-4223-f0c1-e643097ee1dc"
      },
      "source": [
        "# Ocena ogólna:\n",
        "dane['Ocena oferty ogólna'].value_counts()\n",
        "\n",
        "# Ze względu na duży udział ofert z oceną '0', ten parametr musi zostać usunięty.\n",
        "dane = dane.drop(columns = [\"Ocena oferty ogólna\"])\n",
        "dane"
      ],
      "execution_count": 101,
      "outputs": [
        {
          "output_type": "execute_result",
          "data": {
            "text/html": [
              "<div>\n",
              "<style scoped>\n",
              "    .dataframe tbody tr th:only-of-type {\n",
              "        vertical-align: middle;\n",
              "    }\n",
              "\n",
              "    .dataframe tbody tr th {\n",
              "        vertical-align: top;\n",
              "    }\n",
              "\n",
              "    .dataframe thead th {\n",
              "        text-align: right;\n",
              "    }\n",
              "</style>\n",
              "<table border=\"1\" class=\"dataframe\">\n",
              "  <thead>\n",
              "    <tr style=\"text-align: right;\">\n",
              "      <th></th>\n",
              "      <th>Nazwa oferty</th>\n",
              "      <th>Kraj</th>\n",
              "      <th>Region</th>\n",
              "      <th>Kategoria hotelu</th>\n",
              "      <th>Termin wyjazdu</th>\n",
              "      <th>Czas trwania wczasów</th>\n",
              "      <th>Sposób dojazdu</th>\n",
              "      <th>Miejsce zbiórki</th>\n",
              "      <th>Cena oferty</th>\n",
              "      <th>Nazwa biura podróży</th>\n",
              "      <th>Link do oferty</th>\n",
              "      <th>Liczba dni do wyjazdu</th>\n",
              "    </tr>\n",
              "  </thead>\n",
              "  <tbody>\n",
              "    <tr>\n",
              "      <th>0</th>\n",
              "      <td>Ozkaymak Select</td>\n",
              "      <td>Turcja</td>\n",
              "      <td>Riwiera Turecka</td>\n",
              "      <td>5.0</td>\n",
              "      <td>03.11.2021</td>\n",
              "      <td>7 dni</td>\n",
              "      <td>samolot</td>\n",
              "      <td>Katowice</td>\n",
              "      <td>1719.0</td>\n",
              "      <td>Coral Travel</td>\n",
              "      <td>https://www.wakacje.pl/oferty/turcja/riwiera-t...</td>\n",
              "      <td>70</td>\n",
              "    </tr>\n",
              "    <tr>\n",
              "      <th>1</th>\n",
              "      <td>Alexia Resort \\u0026 Spa</td>\n",
              "      <td>Turcja</td>\n",
              "      <td>Riwiera Turecka</td>\n",
              "      <td>5.0</td>\n",
              "      <td>24.10.2021</td>\n",
              "      <td>7 dni</td>\n",
              "      <td>samolot</td>\n",
              "      <td>Wrocław</td>\n",
              "      <td>2110.0</td>\n",
              "      <td>Coral Travel</td>\n",
              "      <td>https://www.wakacje.pl/oferty/turcja/riwiera-t...</td>\n",
              "      <td>60</td>\n",
              "    </tr>\n",
              "    <tr>\n",
              "      <th>2</th>\n",
              "      <td>Club Blue Dreams</td>\n",
              "      <td>Turcja</td>\n",
              "      <td>Riwiera Egejska</td>\n",
              "      <td>5.0</td>\n",
              "      <td>10.10.2021</td>\n",
              "      <td>7 dni</td>\n",
              "      <td>samolot</td>\n",
              "      <td>Wrocław</td>\n",
              "      <td>2183.0</td>\n",
              "      <td>Coral Travel</td>\n",
              "      <td>https://www.wakacje.pl/oferty/turcja/wybrzeze-...</td>\n",
              "      <td>46</td>\n",
              "    </tr>\n",
              "    <tr>\n",
              "      <th>3</th>\n",
              "      <td>Galeri Resort</td>\n",
              "      <td>Turcja</td>\n",
              "      <td>Riwiera Turecka</td>\n",
              "      <td>5.0</td>\n",
              "      <td>06.11.2021</td>\n",
              "      <td>7 dni</td>\n",
              "      <td>samolot</td>\n",
              "      <td>Katowice</td>\n",
              "      <td>1832.0</td>\n",
              "      <td>Coral Travel</td>\n",
              "      <td>https://www.wakacje.pl/oferty/turcja/riwiera-t...</td>\n",
              "      <td>73</td>\n",
              "    </tr>\n",
              "    <tr>\n",
              "      <th>4</th>\n",
              "      <td>The Marilis Hill Resort and Spa</td>\n",
              "      <td>Turcja</td>\n",
              "      <td>Riwiera Turecka</td>\n",
              "      <td>5.0</td>\n",
              "      <td>06.10.2021</td>\n",
              "      <td>7 dni</td>\n",
              "      <td>samolot</td>\n",
              "      <td>Katowice</td>\n",
              "      <td>1782.0</td>\n",
              "      <td>Best Reisen</td>\n",
              "      <td>https://www.wakacje.pl/oferty/turcja/riwiera-t...</td>\n",
              "      <td>42</td>\n",
              "    </tr>\n",
              "    <tr>\n",
              "      <th>...</th>\n",
              "      <td>...</td>\n",
              "      <td>...</td>\n",
              "      <td>...</td>\n",
              "      <td>...</td>\n",
              "      <td>...</td>\n",
              "      <td>...</td>\n",
              "      <td>...</td>\n",
              "      <td>...</td>\n",
              "      <td>...</td>\n",
              "      <td>...</td>\n",
              "      <td>...</td>\n",
              "      <td>...</td>\n",
              "    </tr>\n",
              "    <tr>\n",
              "      <th>995</th>\n",
              "      <td>Susesi Luxury Resort</td>\n",
              "      <td>Turcja</td>\n",
              "      <td>Riwiera Turecka</td>\n",
              "      <td>5.0</td>\n",
              "      <td>13.10.2021</td>\n",
              "      <td>7 dni</td>\n",
              "      <td>samolot</td>\n",
              "      <td>Warszawa - Chopin</td>\n",
              "      <td>4421.0</td>\n",
              "      <td>Orex Travel</td>\n",
              "      <td>https://www.wakacje.pl/oferty/turcja/riwiera-t...</td>\n",
              "      <td>49</td>\n",
              "    </tr>\n",
              "    <tr>\n",
              "      <th>996</th>\n",
              "      <td>Yalihan Aspendos</td>\n",
              "      <td>Turcja</td>\n",
              "      <td>Riwiera Turecka</td>\n",
              "      <td>3.0</td>\n",
              "      <td>20.10.2021</td>\n",
              "      <td>7 dni</td>\n",
              "      <td>samolot</td>\n",
              "      <td>Warszawa - Chopin</td>\n",
              "      <td>2071.0</td>\n",
              "      <td>Orex Travel</td>\n",
              "      <td>https://www.wakacje.pl/oferty/turcja/riwiera-t...</td>\n",
              "      <td>56</td>\n",
              "    </tr>\n",
              "    <tr>\n",
              "      <th>997</th>\n",
              "      <td>Sami Beach Hotel</td>\n",
              "      <td>Turcja</td>\n",
              "      <td>Riwiera Egejska</td>\n",
              "      <td>3.0</td>\n",
              "      <td>10.10.2021</td>\n",
              "      <td>7 dni</td>\n",
              "      <td>samolot</td>\n",
              "      <td>Katowice</td>\n",
              "      <td>1949.0</td>\n",
              "      <td>Rego-Bis</td>\n",
              "      <td>https://www.wakacje.pl/oferty/turcja/wybrzeze-...</td>\n",
              "      <td>46</td>\n",
              "    </tr>\n",
              "    <tr>\n",
              "      <th>998</th>\n",
              "      <td>Charm Beach Hotel</td>\n",
              "      <td>Turcja</td>\n",
              "      <td>Riwiera Egejska</td>\n",
              "      <td>4.0</td>\n",
              "      <td>19.09.2021</td>\n",
              "      <td>7 dni</td>\n",
              "      <td>samolot</td>\n",
              "      <td>Katowice</td>\n",
              "      <td>2459.0</td>\n",
              "      <td>Rego-Bis</td>\n",
              "      <td>https://www.wakacje.pl/oferty/turcja/wybrzeze-...</td>\n",
              "      <td>25</td>\n",
              "    </tr>\n",
              "    <tr>\n",
              "      <th>999</th>\n",
              "      <td>Hotel Middle Town Bodrum Beach</td>\n",
              "      <td>Turcja</td>\n",
              "      <td>Riwiera Egejska</td>\n",
              "      <td>4.0</td>\n",
              "      <td>29.08.2021</td>\n",
              "      <td>7 dni</td>\n",
              "      <td>samolot</td>\n",
              "      <td>Katowice</td>\n",
              "      <td>2079.0</td>\n",
              "      <td>Rego-Bis</td>\n",
              "      <td>https://www.wakacje.pl/oferty/hotel-middle-tow...</td>\n",
              "      <td>4</td>\n",
              "    </tr>\n",
              "  </tbody>\n",
              "</table>\n",
              "<p>999 rows × 12 columns</p>\n",
              "</div>"
            ],
            "text/plain": [
              "                        Nazwa oferty  ... Liczba dni do wyjazdu\n",
              "0                    Ozkaymak Select  ...                    70\n",
              "1           Alexia Resort \\u0026 Spa  ...                    60\n",
              "2                   Club Blue Dreams  ...                    46\n",
              "3                      Galeri Resort  ...                    73\n",
              "4    The Marilis Hill Resort and Spa  ...                    42\n",
              "..                               ...  ...                   ...\n",
              "995             Susesi Luxury Resort  ...                    49\n",
              "996                 Yalihan Aspendos  ...                    56\n",
              "997                 Sami Beach Hotel  ...                    46\n",
              "998                Charm Beach Hotel  ...                    25\n",
              "999   Hotel Middle Town Bodrum Beach  ...                     4\n",
              "\n",
              "[999 rows x 12 columns]"
            ]
          },
          "metadata": {},
          "execution_count": 101
        }
      ]
    },
    {
      "cell_type": "markdown",
      "metadata": {
        "id": "QuGvSmkzsfxC"
      },
      "source": [
        "2. Wybór zmiennych do modelowania"
      ]
    },
    {
      "cell_type": "code",
      "metadata": {
        "colab": {
          "base_uri": "https://localhost:8080/"
        },
        "id": "zPyTwLwdsW1R",
        "outputId": "6c2939ce-8b1a-4ea4-da82-b5c70e37145a"
      },
      "source": [
        "print(dane.info())"
      ],
      "execution_count": 102,
      "outputs": [
        {
          "output_type": "stream",
          "text": [
            "<class 'pandas.core.frame.DataFrame'>\n",
            "Int64Index: 999 entries, 0 to 999\n",
            "Data columns (total 12 columns):\n",
            " #   Column                 Non-Null Count  Dtype  \n",
            "---  ------                 --------------  -----  \n",
            " 0   Nazwa oferty           999 non-null    object \n",
            " 1   Kraj                   999 non-null    object \n",
            " 2   Region                 999 non-null    object \n",
            " 3   Kategoria hotelu       999 non-null    float64\n",
            " 4   Termin wyjazdu         999 non-null    object \n",
            " 5   Czas trwania wczasów   999 non-null    object \n",
            " 6   Sposób dojazdu         999 non-null    object \n",
            " 7   Miejsce zbiórki        999 non-null    object \n",
            " 8   Cena oferty            999 non-null    float64\n",
            " 9   Nazwa biura podróży    999 non-null    object \n",
            " 10  Link do oferty         999 non-null    object \n",
            " 11  Liczba dni do wyjazdu  999 non-null    int64  \n",
            "dtypes: float64(2), int64(1), object(9)\n",
            "memory usage: 101.5+ KB\n",
            "None\n"
          ],
          "name": "stdout"
        }
      ]
    },
    {
      "cell_type": "markdown",
      "metadata": {
        "id": "VTxftjrbzvJN"
      },
      "source": [
        "* Nazwa oferty niewiele wniesie do analizy -> wypad!\n",
        "* Kraj we wszystkich ofertach jest ten sam (Turcja) -> Wypad!\n",
        "* Region podzieliliśmy na dwie kategorie -> niech zostanie :-)\n",
        "* Kategoria hotelu - myślę, że to będzie w dużym stopniu wpływało na wynik analizy -> zostaje :-)\n",
        "* Termin wyjazdu -> Skoro mamy liczbę dni do wyjazdu, to termin nie jest nam potrzebny -> wylatuje!\n",
        "* Czas trwania jest wszędzie taki sam -> wylatuje!\n",
        "* Sposób dojazdu w wyniku czyszczenia pozostał ten sam -> wylatuje!\n",
        "* Miejsce zbiórki - Wydaje mi się, że niewiele to wnosi do analizy -> wylatuje!\n",
        "* Cena oferty - jest naszą zmienną objaśnianą, więc zostaje :-)\n",
        "* Nazwa biura podróży - można sobie odpuścić - wylatuje!\n",
        "* Link do oferty - nic nie wnosi do analizy - wylatuje!\n",
        "* Liczba dni do wyjazdu - myślę, że ma kluczowe znaczenie, gdyż z okazji 'Last minute' ceny się obniża - zostaje :-)"
      ]
    },
    {
      "cell_type": "code",
      "metadata": {
        "colab": {
          "base_uri": "https://localhost:8080/",
          "height": 402
        },
        "id": "X0nkhZ7kslsq",
        "outputId": "76fd1f59-6a0d-4d7c-bfd5-1812e037ec12"
      },
      "source": [
        "# Lista cech, które pozostają do analizy:\n",
        "cechy_model = ['Region', 'Kategoria hotelu', 'Liczba dni do wyjazdu', 'Cena oferty']\n",
        "\n",
        "# Tak będzie wyglądał nasz model po wytypowaniu cech znaczących:\n",
        "dane_ML = dane[cechy_model]\n",
        "dane_ML"
      ],
      "execution_count": 103,
      "outputs": [
        {
          "output_type": "execute_result",
          "data": {
            "text/html": [
              "<div>\n",
              "<style scoped>\n",
              "    .dataframe tbody tr th:only-of-type {\n",
              "        vertical-align: middle;\n",
              "    }\n",
              "\n",
              "    .dataframe tbody tr th {\n",
              "        vertical-align: top;\n",
              "    }\n",
              "\n",
              "    .dataframe thead th {\n",
              "        text-align: right;\n",
              "    }\n",
              "</style>\n",
              "<table border=\"1\" class=\"dataframe\">\n",
              "  <thead>\n",
              "    <tr style=\"text-align: right;\">\n",
              "      <th></th>\n",
              "      <th>Region</th>\n",
              "      <th>Kategoria hotelu</th>\n",
              "      <th>Liczba dni do wyjazdu</th>\n",
              "      <th>Cena oferty</th>\n",
              "    </tr>\n",
              "  </thead>\n",
              "  <tbody>\n",
              "    <tr>\n",
              "      <th>0</th>\n",
              "      <td>Riwiera Turecka</td>\n",
              "      <td>5.0</td>\n",
              "      <td>70</td>\n",
              "      <td>1719.0</td>\n",
              "    </tr>\n",
              "    <tr>\n",
              "      <th>1</th>\n",
              "      <td>Riwiera Turecka</td>\n",
              "      <td>5.0</td>\n",
              "      <td>60</td>\n",
              "      <td>2110.0</td>\n",
              "    </tr>\n",
              "    <tr>\n",
              "      <th>2</th>\n",
              "      <td>Riwiera Egejska</td>\n",
              "      <td>5.0</td>\n",
              "      <td>46</td>\n",
              "      <td>2183.0</td>\n",
              "    </tr>\n",
              "    <tr>\n",
              "      <th>3</th>\n",
              "      <td>Riwiera Turecka</td>\n",
              "      <td>5.0</td>\n",
              "      <td>73</td>\n",
              "      <td>1832.0</td>\n",
              "    </tr>\n",
              "    <tr>\n",
              "      <th>4</th>\n",
              "      <td>Riwiera Turecka</td>\n",
              "      <td>5.0</td>\n",
              "      <td>42</td>\n",
              "      <td>1782.0</td>\n",
              "    </tr>\n",
              "    <tr>\n",
              "      <th>...</th>\n",
              "      <td>...</td>\n",
              "      <td>...</td>\n",
              "      <td>...</td>\n",
              "      <td>...</td>\n",
              "    </tr>\n",
              "    <tr>\n",
              "      <th>995</th>\n",
              "      <td>Riwiera Turecka</td>\n",
              "      <td>5.0</td>\n",
              "      <td>49</td>\n",
              "      <td>4421.0</td>\n",
              "    </tr>\n",
              "    <tr>\n",
              "      <th>996</th>\n",
              "      <td>Riwiera Turecka</td>\n",
              "      <td>3.0</td>\n",
              "      <td>56</td>\n",
              "      <td>2071.0</td>\n",
              "    </tr>\n",
              "    <tr>\n",
              "      <th>997</th>\n",
              "      <td>Riwiera Egejska</td>\n",
              "      <td>3.0</td>\n",
              "      <td>46</td>\n",
              "      <td>1949.0</td>\n",
              "    </tr>\n",
              "    <tr>\n",
              "      <th>998</th>\n",
              "      <td>Riwiera Egejska</td>\n",
              "      <td>4.0</td>\n",
              "      <td>25</td>\n",
              "      <td>2459.0</td>\n",
              "    </tr>\n",
              "    <tr>\n",
              "      <th>999</th>\n",
              "      <td>Riwiera Egejska</td>\n",
              "      <td>4.0</td>\n",
              "      <td>4</td>\n",
              "      <td>2079.0</td>\n",
              "    </tr>\n",
              "  </tbody>\n",
              "</table>\n",
              "<p>999 rows × 4 columns</p>\n",
              "</div>"
            ],
            "text/plain": [
              "              Region  Kategoria hotelu  Liczba dni do wyjazdu  Cena oferty\n",
              "0    Riwiera Turecka               5.0                     70       1719.0\n",
              "1    Riwiera Turecka               5.0                     60       2110.0\n",
              "2    Riwiera Egejska               5.0                     46       2183.0\n",
              "3    Riwiera Turecka               5.0                     73       1832.0\n",
              "4    Riwiera Turecka               5.0                     42       1782.0\n",
              "..               ...               ...                    ...          ...\n",
              "995  Riwiera Turecka               5.0                     49       4421.0\n",
              "996  Riwiera Turecka               3.0                     56       2071.0\n",
              "997  Riwiera Egejska               3.0                     46       1949.0\n",
              "998  Riwiera Egejska               4.0                     25       2459.0\n",
              "999  Riwiera Egejska               4.0                      4       2079.0\n",
              "\n",
              "[999 rows x 4 columns]"
            ]
          },
          "metadata": {},
          "execution_count": 103
        }
      ]
    },
    {
      "cell_type": "markdown",
      "metadata": {
        "id": "TJfvuQmX8K_I"
      },
      "source": [
        " 3. Identyfikacja i usuwanie wartości odstających:"
      ]
    },
    {
      "cell_type": "code",
      "metadata": {
        "colab": {
          "base_uri": "https://localhost:8080/",
          "height": 1000
        },
        "id": "m3tv9q7K71Wn",
        "outputId": "0c0a2fa1-a829-4b78-94ed-06d569bc5e63"
      },
      "source": [
        "# Sprawdźmy, czy w naszym zestawie danych występują wartości odstające:\n",
        "\n",
        "# Kategoria hotelu:\n",
        "plot1 = px.box(dane_ML, x = 'Kategoria hotelu', title = 'Rozrzut cechy - kategoria hotelu', orientation = 'h')\n",
        "\n",
        "# Liczba dni do wyjazdu:\n",
        "plot2 = px.box(dane_ML, x = 'Liczba dni do wyjazdu', title = 'Rozrzut cechy - liczba dni do wyjazdu', orientation = 'h')\n",
        "\n",
        "# Cena oferty:\n",
        "plot3 = px.box(dane_ML, x = 'Cena oferty', title = 'Rozrzut cechy - cena oferty', orientation = 'h')\n",
        "\n",
        "plot1.show()\n",
        "plot2.show()\n",
        "plot3.show()"
      ],
      "execution_count": 104,
      "outputs": [
        {
          "output_type": "display_data",
          "data": {
            "text/html": [
              "<html>\n",
              "<head><meta charset=\"utf-8\" /></head>\n",
              "<body>\n",
              "    <div>\n",
              "            <script src=\"https://cdnjs.cloudflare.com/ajax/libs/mathjax/2.7.5/MathJax.js?config=TeX-AMS-MML_SVG\"></script><script type=\"text/javascript\">if (window.MathJax) {MathJax.Hub.Config({SVG: {font: \"STIX-Web\"}});}</script>\n",
              "                <script type=\"text/javascript\">window.PlotlyConfig = {MathJaxConfig: 'local'};</script>\n",
              "        <script src=\"https://cdn.plot.ly/plotly-latest.min.js\"></script>    \n",
              "            <div id=\"4dff2fd5-1368-4e52-8bdd-3d7e4c55f9d8\" class=\"plotly-graph-div\" style=\"height:525px; width:100%;\"></div>\n",
              "            <script type=\"text/javascript\">\n",
              "                \n",
              "                    window.PLOTLYENV=window.PLOTLYENV || {};\n",
              "                    \n",
              "                if (document.getElementById(\"4dff2fd5-1368-4e52-8bdd-3d7e4c55f9d8\")) {\n",
              "                    Plotly.newPlot(\n",
              "                        '4dff2fd5-1368-4e52-8bdd-3d7e4c55f9d8',\n",
              "                        [{\"alignmentgroup\": \"True\", \"hoverlabel\": {\"namelength\": 0}, \"hovertemplate\": \"Kategoria hotelu=%{x}\", \"legendgroup\": \"\", \"marker\": {\"color\": \"#636efa\"}, \"name\": \"\", \"notched\": false, \"offsetgroup\": \"\", \"orientation\": \"h\", \"showlegend\": false, \"type\": \"box\", \"x\": [5.0, 5.0, 5.0, 5.0, 5.0, 4.0, 4.0, 5.0, 5.0, 5.0, 5.0, 4.0, 4.0, 4.0, 5.0, 5.0, 5.0, 5.0, 5.0, 4.0, 5.0, 5.0, 5.0, 5.0, 4.0, 5.0, 4.0, 4.0, 4.0, 5.0, 5.0, 5.0, 4.0, 4.0, 3.0, 5.0, 5.0, 5.0, 4.0, 5.0, 5.0, 4.0, 5.0, 4.0, 4.0, 5.0, 5.0, 4.0, 5.0, 4.0, 5.0, 5.0, 5.0, 3.0, 5.0, 5.0, 5.0, 4.0, 5.0, 3.5, 4.0, 5.0, 4.0, 5.0, 5.0, 5.0, 5.0, 5.0, 4.0, 5.0, 5.0, 5.0, 5.0, 5.0, 5.0, 4.0, 3.0, 5.0, 4.0, 4.0, 4.0, 5.0, 5.0, 3.0, 4.0, 5.0, 4.0, 5.0, 5.0, 3.0, 4.0, 5.0, 4.0, 5.0, 5.0, 5.0, 4.5, 5.0, 5.0, 5.0, 5.0, 5.0, 5.0, 5.0, 5.0, 5.0, 4.0, 5.0, 4.0, 5.0, 5.0, 4.0, 5.0, 5.0, 5.0, 4.0, 5.0, 4.0, 4.0, 5.0, 5.0, 5.0, 5.0, 5.0, 5.0, 5.0, 5.0, 5.0, 5.0, 4.0, 5.0, 4.0, 5.0, 4.0, 5.0, 4.0, 5.0, 5.0, 4.0, 4.0, 5.0, 4.0, 4.0, 5.0, 5.0, 4.0, 4.0, 3.0, 5.0, 5.0, 5.0, 4.0, 4.0, 5.0, 3.0, 5.0, 4.0, 4.0, 5.0, 4.0, 4.0, 5.0, 5.0, 5.0, 5.0, 5.0, 4.0, 5.0, 5.0, 4.0, 5.0, 5.0, 5.0, 5.0, 4.0, 5.0, 4.0, 5.0, 5.0, 5.0, 5.0, 4.0, 4.0, 4.0, 5.0, 5.0, 5.0, 5.0, 5.0, 3.0, 4.0, 5.0, 5.0, 5.0, 5.0, 5.0, 5.0, 4.0, 4.0, 4.0, 5.0, 5.0, 5.0, 5.0, 5.0, 5.0, 5.0, 5.0, 5.0, 5.0, 5.0, 5.0, 5.0, 5.0, 5.0, 3.5, 5.0, 4.5, 5.0, 5.0, 5.0, 5.0, 5.0, 4.0, 5.0, 5.0, 5.0, 5.0, 5.0, 5.0, 5.0, 5.0, 3.5, 5.0, 4.0, 4.0, 5.0, 5.0, 5.0, 5.0, 5.0, 5.0, 3.0, 5.0, 5.0, 5.0, 5.0, 3.0, 5.0, 4.0, 3.0, 3.0, 5.0, 5.0, 5.0, 5.0, 5.0, 4.5, 4.0, 5.0, 5.0, 5.0, 4.0, 5.0, 4.0, 5.0, 5.0, 5.0, 4.5, 3.0, 5.0, 5.0, 5.0, 4.0, 5.0, 5.0, 5.0, 4.0, 5.0, 4.0, 5.0, 4.5, 4.0, 5.0, 4.0, 4.0, 5.0, 5.0, 5.0, 5.0, 5.0, 5.0, 5.0, 5.0, 5.0, 4.0, 5.0, 5.0, 5.0, 5.0, 3.0, 3.0, 5.0, 5.0, 4.0, 5.0, 5.0, 5.0, 5.0, 5.0, 5.0, 5.0, 5.0, 5.0, 5.0, 5.0, 4.0, 5.0, 5.0, 4.0, 5.0, 5.0, 5.0, 5.0, 5.0, 4.0, 5.0, 4.5, 4.0, 5.0, 3.0, 5.0, 5.0, 5.0, 5.0, 5.0, 5.0, 5.0, 5.0, 5.0, 5.0, 3.0, 5.0, 5.0, 5.0, 5.0, 5.0, 5.0, 3.0, 3.0, 5.0, 4.0, 5.0, 5.0, 4.0, 5.0, 4.5, 5.0, 4.0, 5.0, 4.0, 4.0, 4.0, 5.0, 5.0, 4.0, 5.0, 5.0, 5.0, 3.0, 5.0, 5.0, 4.0, 4.0, 4.0, 5.0, 5.0, 5.0, 3.0, 3.0, 5.0, 5.0, 4.0, 5.0, 5.0, 3.0, 4.0, 4.0, 3.0, 4.0, 5.0, 3.0, 5.0, 4.0, 5.0, 4.0, 4.0, 5.0, 5.0, 5.0, 4.0, 4.0, 5.0, 5.0, 4.0, 5.0, 5.0, 4.0, 5.0, 5.0, 5.0, 5.0, 5.0, 5.0, 5.0, 4.0, 5.0, 5.0, 4.0, 5.0, 5.0, 5.0, 4.0, 4.0, 4.0, 5.0, 4.5, 4.0, 4.0, 4.0, 5.0, 5.0, 4.0, 4.0, 5.0, 3.0, 5.0, 4.0, 4.0, 5.0, 5.0, 5.0, 3.0, 5.0, 5.0, 5.0, 5.0, 5.0, 3.5, 5.0, 5.0, 5.0, 5.0, 5.0, 5.0, 5.0, 4.0, 5.0, 4.0, 5.0, 4.0, 3.0, 5.0, 5.0, 4.0, 5.0, 5.0, 5.0, 5.0, 5.0, 3.0, 5.0, 4.0, 5.0, 4.0, 3.0, 4.0, 4.0, 4.0, 5.0, 5.0, 5.0, 5.0, 4.0, 5.0, 5.0, 5.0, 5.0, 5.0, 4.0, 5.0, 5.0, 5.0, 5.0, 5.0, 4.0, 5.0, 5.0, 4.0, 5.0, 5.0, 4.0, 5.0, 5.0, 5.0, 5.0, 4.0, 5.0, 3.0, 5.0, 3.0, 5.0, 5.0, 5.0, 5.0, 5.0, 3.0, 5.0, 5.0, 5.0, 5.0, 5.0, 5.0, 5.0, 5.0, 5.0, 4.5, 5.0, 3.0, 4.0, 5.0, 5.0, 5.0, 5.0, 5.0, 4.0, 5.0, 4.0, 4.0, 4.0, 5.0, 5.0, 5.0, 5.0, 4.0, 4.0, 5.0, 5.0, 5.0, 4.0, 5.0, 5.0, 4.0, 5.0, 5.0, 4.0, 5.0, 5.0, 4.0, 4.0, 4.0, 5.0, 5.0, 5.0, 4.0, 5.0, 5.0, 5.0, 5.0, 3.5, 3.0, 5.0, 4.0, 5.0, 5.0, 5.0, 5.0, 4.0, 5.0, 5.0, 5.0, 5.0, 5.0, 5.0, 5.0, 5.0, 4.0, 5.0, 5.0, 5.0, 4.0, 4.0, 5.0, 4.5, 5.0, 3.0, 4.0, 5.0, 5.0, 5.0, 5.0, 5.0, 5.0, 4.5, 5.0, 4.0, 5.0, 5.0, 5.0, 5.0, 5.0, 5.0, 5.0, 5.0, 5.0, 5.0, 5.0, 5.0, 4.0, 4.0, 4.0, 5.0, 5.0, 5.0, 5.0, 5.0, 5.0, 5.0, 5.0, 4.0, 5.0, 5.0, 4.0, 3.5, 4.0, 5.0, 4.0, 5.0, 5.0, 4.0, 5.0, 5.0, 4.0, 4.0, 4.0, 4.0, 5.0, 5.0, 5.0, 5.0, 5.0, 4.0, 5.0, 3.0, 3.0, 4.0, 3.0, 5.0, 5.0, 5.0, 5.0, 5.0, 5.0, 4.0, 5.0, 5.0, 4.0, 4.0, 5.0, 5.0, 5.0, 5.0, 5.0, 5.0, 4.0, 5.0, 4.0, 5.0, 5.0, 5.0, 5.0, 3.0, 4.0, 4.0, 3.0, 5.0, 5.0, 5.0, 5.0, 5.0, 3.0, 5.0, 5.0, 3.0, 5.0, 4.0, 5.0, 5.0, 5.0, 5.0, 5.0, 5.0, 5.0, 4.0, 4.0, 5.0, 5.0, 5.0, 3.0, 5.0, 4.0, 3.5, 4.0, 5.0, 4.0, 4.0, 5.0, 5.0, 5.0, 4.0, 5.0, 5.0, 5.0, 5.0, 5.0, 4.0, 4.0, 4.0, 4.0, 5.0, 4.0, 4.0, 5.0, 3.0, 4.0, 5.0, 4.0, 5.0, 5.0, 5.0, 5.0, 4.0, 3.0, 4.0, 3.0, 4.0, 5.0, 4.0, 5.0, 5.0, 5.0, 3.0, 4.0, 5.0, 5.0, 5.0, 5.0, 5.0, 5.0, 4.0, 5.0, 5.0, 5.0, 5.0, 4.0, 4.0, 4.0, 5.0, 3.0, 4.0, 4.0, 5.0, 4.0, 5.0, 5.0, 5.0, 5.0, 5.0, 5.0, 3.0, 5.0, 4.0, 5.0, 4.0, 5.0, 4.0, 5.0, 5.0, 5.0, 5.0, 5.0, 5.0, 4.0, 4.0, 4.0, 5.0, 5.0, 4.0, 4.0, 3.0, 5.0, 5.0, 5.0, 5.0, 5.0, 5.0, 5.0, 5.0, 5.0, 5.0, 4.0, 5.0, 4.0, 5.0, 5.0, 4.0, 4.0, 5.0, 5.0, 4.0, 4.0, 4.0, 3.0, 5.0, 5.0, 5.0, 5.0, 5.0, 5.0, 5.0, 5.0, 4.0, 4.0, 5.0, 5.0, 4.0, 3.5, 5.0, 5.0, 4.0, 5.0, 3.0, 4.0, 5.0, 5.0, 5.0, 5.0, 5.0, 4.0, 5.0, 4.0, 4.0, 5.0, 4.0, 5.0, 5.0, 5.0, 4.0, 5.0, 5.0, 5.0, 5.0, 5.0, 3.0, 4.0, 5.0, 5.0, 5.0, 3.0, 5.0, 5.0, 5.0, 3.0, 5.0, 5.0, 5.0, 5.0, 4.0, 5.0, 5.0, 4.0, 5.0, 5.0, 5.0, 4.0, 5.0, 5.0, 5.0, 5.0, 5.0, 4.0, 5.0, 5.0, 5.0, 5.0, 3.0, 4.0, 4.0, 5.0, 3.0, 4.0, 4.0, 5.0, 4.0, 3.0, 4.0, 4.0, 5.0, 4.0, 5.0, 4.0, 5.0, 5.0, 5.0, 4.0, 5.0, 4.0, 5.0, 4.0, 5.0, 5.0, 4.0, 5.0, 5.0, 4.0, 4.0, 4.0, 5.0, 5.0, 5.0, 4.0, 5.0, 4.0, 5.0, 5.0, 4.0, 5.0, 4.0, 5.0, 5.0, 5.0, 4.0, 3.0, 4.0, 5.0, 4.0, 5.0, 5.0, 4.0, 3.5, 4.0, 5.0, 4.0, 3.0, 4.0, 5.0, 4.0, 4.0, 5.0, 5.0, 4.0, 5.0, 5.0, 4.0, 4.0, 3.0, 4.0, 5.0, 5.0, 5.0, 4.0, 5.0, 5.0, 4.5, 5.0, 4.0, 4.0, 5.0, 4.0, 5.0, 4.0, 4.0, 5.0, 4.0, 5.0, 5.0, 4.0, 5.0, 5.0, 4.0, 5.0, 5.0, 5.0, 5.0, 5.0, 3.0, 3.0, 4.0, 4.0], \"x0\": \" \", \"xaxis\": \"x\", \"y0\": \" \", \"yaxis\": \"y\"}],\n",
              "                        {\"boxmode\": \"group\", \"legend\": {\"tracegroupgap\": 0}, \"template\": {\"data\": {\"bar\": [{\"error_x\": {\"color\": \"#2a3f5f\"}, \"error_y\": {\"color\": \"#2a3f5f\"}, \"marker\": {\"line\": {\"color\": \"#E5ECF6\", \"width\": 0.5}}, \"type\": \"bar\"}], \"barpolar\": [{\"marker\": {\"line\": {\"color\": \"#E5ECF6\", \"width\": 0.5}}, \"type\": \"barpolar\"}], \"carpet\": [{\"aaxis\": {\"endlinecolor\": \"#2a3f5f\", \"gridcolor\": \"white\", \"linecolor\": \"white\", \"minorgridcolor\": \"white\", \"startlinecolor\": \"#2a3f5f\"}, \"baxis\": {\"endlinecolor\": \"#2a3f5f\", \"gridcolor\": \"white\", \"linecolor\": \"white\", \"minorgridcolor\": \"white\", \"startlinecolor\": \"#2a3f5f\"}, \"type\": \"carpet\"}], \"choropleth\": [{\"colorbar\": {\"outlinewidth\": 0, \"ticks\": \"\"}, \"type\": \"choropleth\"}], \"contour\": [{\"colorbar\": {\"outlinewidth\": 0, \"ticks\": \"\"}, \"colorscale\": [[0.0, \"#0d0887\"], [0.1111111111111111, \"#46039f\"], [0.2222222222222222, \"#7201a8\"], [0.3333333333333333, \"#9c179e\"], [0.4444444444444444, \"#bd3786\"], [0.5555555555555556, \"#d8576b\"], [0.6666666666666666, \"#ed7953\"], [0.7777777777777778, \"#fb9f3a\"], [0.8888888888888888, \"#fdca26\"], [1.0, \"#f0f921\"]], \"type\": \"contour\"}], \"contourcarpet\": [{\"colorbar\": {\"outlinewidth\": 0, \"ticks\": \"\"}, \"type\": \"contourcarpet\"}], \"heatmap\": [{\"colorbar\": {\"outlinewidth\": 0, \"ticks\": \"\"}, \"colorscale\": [[0.0, \"#0d0887\"], [0.1111111111111111, \"#46039f\"], [0.2222222222222222, \"#7201a8\"], [0.3333333333333333, \"#9c179e\"], [0.4444444444444444, \"#bd3786\"], [0.5555555555555556, \"#d8576b\"], [0.6666666666666666, \"#ed7953\"], [0.7777777777777778, \"#fb9f3a\"], [0.8888888888888888, \"#fdca26\"], [1.0, \"#f0f921\"]], \"type\": \"heatmap\"}], \"heatmapgl\": [{\"colorbar\": {\"outlinewidth\": 0, \"ticks\": \"\"}, \"colorscale\": [[0.0, \"#0d0887\"], [0.1111111111111111, \"#46039f\"], [0.2222222222222222, \"#7201a8\"], [0.3333333333333333, \"#9c179e\"], [0.4444444444444444, \"#bd3786\"], [0.5555555555555556, \"#d8576b\"], [0.6666666666666666, \"#ed7953\"], [0.7777777777777778, \"#fb9f3a\"], [0.8888888888888888, \"#fdca26\"], [1.0, \"#f0f921\"]], \"type\": \"heatmapgl\"}], \"histogram\": [{\"marker\": {\"colorbar\": {\"outlinewidth\": 0, \"ticks\": \"\"}}, \"type\": \"histogram\"}], \"histogram2d\": [{\"colorbar\": {\"outlinewidth\": 0, \"ticks\": \"\"}, \"colorscale\": [[0.0, \"#0d0887\"], [0.1111111111111111, \"#46039f\"], [0.2222222222222222, \"#7201a8\"], [0.3333333333333333, \"#9c179e\"], [0.4444444444444444, \"#bd3786\"], [0.5555555555555556, \"#d8576b\"], [0.6666666666666666, \"#ed7953\"], [0.7777777777777778, \"#fb9f3a\"], [0.8888888888888888, \"#fdca26\"], [1.0, \"#f0f921\"]], \"type\": \"histogram2d\"}], \"histogram2dcontour\": [{\"colorbar\": {\"outlinewidth\": 0, \"ticks\": \"\"}, \"colorscale\": [[0.0, \"#0d0887\"], [0.1111111111111111, \"#46039f\"], [0.2222222222222222, \"#7201a8\"], [0.3333333333333333, \"#9c179e\"], [0.4444444444444444, \"#bd3786\"], [0.5555555555555556, \"#d8576b\"], [0.6666666666666666, \"#ed7953\"], [0.7777777777777778, \"#fb9f3a\"], [0.8888888888888888, \"#fdca26\"], [1.0, \"#f0f921\"]], \"type\": \"histogram2dcontour\"}], \"mesh3d\": [{\"colorbar\": {\"outlinewidth\": 0, \"ticks\": \"\"}, \"type\": \"mesh3d\"}], \"parcoords\": [{\"line\": {\"colorbar\": {\"outlinewidth\": 0, \"ticks\": \"\"}}, \"type\": \"parcoords\"}], \"pie\": [{\"automargin\": true, \"type\": \"pie\"}], \"scatter\": [{\"marker\": {\"colorbar\": {\"outlinewidth\": 0, \"ticks\": \"\"}}, \"type\": \"scatter\"}], \"scatter3d\": [{\"line\": {\"colorbar\": {\"outlinewidth\": 0, \"ticks\": \"\"}}, \"marker\": {\"colorbar\": {\"outlinewidth\": 0, \"ticks\": \"\"}}, \"type\": \"scatter3d\"}], \"scattercarpet\": [{\"marker\": {\"colorbar\": {\"outlinewidth\": 0, \"ticks\": \"\"}}, \"type\": \"scattercarpet\"}], \"scattergeo\": [{\"marker\": {\"colorbar\": {\"outlinewidth\": 0, \"ticks\": \"\"}}, \"type\": \"scattergeo\"}], \"scattergl\": [{\"marker\": {\"colorbar\": {\"outlinewidth\": 0, \"ticks\": \"\"}}, \"type\": \"scattergl\"}], \"scattermapbox\": [{\"marker\": {\"colorbar\": {\"outlinewidth\": 0, \"ticks\": \"\"}}, \"type\": \"scattermapbox\"}], \"scatterpolar\": [{\"marker\": {\"colorbar\": {\"outlinewidth\": 0, \"ticks\": \"\"}}, \"type\": \"scatterpolar\"}], \"scatterpolargl\": [{\"marker\": {\"colorbar\": {\"outlinewidth\": 0, \"ticks\": \"\"}}, \"type\": \"scatterpolargl\"}], \"scatterternary\": [{\"marker\": {\"colorbar\": {\"outlinewidth\": 0, \"ticks\": \"\"}}, \"type\": \"scatterternary\"}], \"surface\": [{\"colorbar\": {\"outlinewidth\": 0, \"ticks\": \"\"}, \"colorscale\": [[0.0, \"#0d0887\"], [0.1111111111111111, \"#46039f\"], [0.2222222222222222, \"#7201a8\"], [0.3333333333333333, \"#9c179e\"], [0.4444444444444444, \"#bd3786\"], [0.5555555555555556, \"#d8576b\"], [0.6666666666666666, \"#ed7953\"], [0.7777777777777778, \"#fb9f3a\"], [0.8888888888888888, \"#fdca26\"], [1.0, \"#f0f921\"]], \"type\": \"surface\"}], \"table\": [{\"cells\": {\"fill\": {\"color\": \"#EBF0F8\"}, \"line\": {\"color\": \"white\"}}, \"header\": {\"fill\": {\"color\": \"#C8D4E3\"}, \"line\": {\"color\": \"white\"}}, \"type\": \"table\"}]}, \"layout\": {\"annotationdefaults\": {\"arrowcolor\": \"#2a3f5f\", \"arrowhead\": 0, \"arrowwidth\": 1}, \"coloraxis\": {\"colorbar\": {\"outlinewidth\": 0, \"ticks\": \"\"}}, \"colorscale\": {\"diverging\": [[0, \"#8e0152\"], [0.1, \"#c51b7d\"], [0.2, \"#de77ae\"], [0.3, \"#f1b6da\"], [0.4, \"#fde0ef\"], [0.5, \"#f7f7f7\"], [0.6, \"#e6f5d0\"], [0.7, \"#b8e186\"], [0.8, \"#7fbc41\"], [0.9, \"#4d9221\"], [1, \"#276419\"]], \"sequential\": [[0.0, \"#0d0887\"], [0.1111111111111111, \"#46039f\"], [0.2222222222222222, \"#7201a8\"], [0.3333333333333333, \"#9c179e\"], [0.4444444444444444, \"#bd3786\"], [0.5555555555555556, \"#d8576b\"], [0.6666666666666666, \"#ed7953\"], [0.7777777777777778, \"#fb9f3a\"], [0.8888888888888888, \"#fdca26\"], [1.0, \"#f0f921\"]], \"sequentialminus\": [[0.0, \"#0d0887\"], [0.1111111111111111, \"#46039f\"], [0.2222222222222222, \"#7201a8\"], [0.3333333333333333, \"#9c179e\"], [0.4444444444444444, \"#bd3786\"], [0.5555555555555556, \"#d8576b\"], [0.6666666666666666, \"#ed7953\"], [0.7777777777777778, \"#fb9f3a\"], [0.8888888888888888, \"#fdca26\"], [1.0, \"#f0f921\"]]}, \"colorway\": [\"#636efa\", \"#EF553B\", \"#00cc96\", \"#ab63fa\", \"#FFA15A\", \"#19d3f3\", \"#FF6692\", \"#B6E880\", \"#FF97FF\", \"#FECB52\"], \"font\": {\"color\": \"#2a3f5f\"}, \"geo\": {\"bgcolor\": \"white\", \"lakecolor\": \"white\", \"landcolor\": \"#E5ECF6\", \"showlakes\": true, \"showland\": true, \"subunitcolor\": \"white\"}, \"hoverlabel\": {\"align\": \"left\"}, \"hovermode\": \"closest\", \"mapbox\": {\"style\": \"light\"}, \"paper_bgcolor\": \"white\", \"plot_bgcolor\": \"#E5ECF6\", \"polar\": {\"angularaxis\": {\"gridcolor\": \"white\", \"linecolor\": \"white\", \"ticks\": \"\"}, \"bgcolor\": \"#E5ECF6\", \"radialaxis\": {\"gridcolor\": \"white\", \"linecolor\": \"white\", \"ticks\": \"\"}}, \"scene\": {\"xaxis\": {\"backgroundcolor\": \"#E5ECF6\", \"gridcolor\": \"white\", \"gridwidth\": 2, \"linecolor\": \"white\", \"showbackground\": true, \"ticks\": \"\", \"zerolinecolor\": \"white\"}, \"yaxis\": {\"backgroundcolor\": \"#E5ECF6\", \"gridcolor\": \"white\", \"gridwidth\": 2, \"linecolor\": \"white\", \"showbackground\": true, \"ticks\": \"\", \"zerolinecolor\": \"white\"}, \"zaxis\": {\"backgroundcolor\": \"#E5ECF6\", \"gridcolor\": \"white\", \"gridwidth\": 2, \"linecolor\": \"white\", \"showbackground\": true, \"ticks\": \"\", \"zerolinecolor\": \"white\"}}, \"shapedefaults\": {\"line\": {\"color\": \"#2a3f5f\"}}, \"ternary\": {\"aaxis\": {\"gridcolor\": \"white\", \"linecolor\": \"white\", \"ticks\": \"\"}, \"baxis\": {\"gridcolor\": \"white\", \"linecolor\": \"white\", \"ticks\": \"\"}, \"bgcolor\": \"#E5ECF6\", \"caxis\": {\"gridcolor\": \"white\", \"linecolor\": \"white\", \"ticks\": \"\"}}, \"title\": {\"x\": 0.05}, \"xaxis\": {\"automargin\": true, \"gridcolor\": \"white\", \"linecolor\": \"white\", \"ticks\": \"\", \"title\": {\"standoff\": 15}, \"zerolinecolor\": \"white\", \"zerolinewidth\": 2}, \"yaxis\": {\"automargin\": true, \"gridcolor\": \"white\", \"linecolor\": \"white\", \"ticks\": \"\", \"title\": {\"standoff\": 15}, \"zerolinecolor\": \"white\", \"zerolinewidth\": 2}}}, \"title\": {\"text\": \"Rozrzut cechy - kategoria hotelu\"}, \"xaxis\": {\"anchor\": \"y\", \"domain\": [0.0, 1.0], \"title\": {\"text\": \"Kategoria hotelu\"}}, \"yaxis\": {\"anchor\": \"x\", \"domain\": [0.0, 1.0]}},\n",
              "                        {\"responsive\": true}\n",
              "                    ).then(function(){\n",
              "                            \n",
              "var gd = document.getElementById('4dff2fd5-1368-4e52-8bdd-3d7e4c55f9d8');\n",
              "var x = new MutationObserver(function (mutations, observer) {{\n",
              "        var display = window.getComputedStyle(gd).display;\n",
              "        if (!display || display === 'none') {{\n",
              "            console.log([gd, 'removed!']);\n",
              "            Plotly.purge(gd);\n",
              "            observer.disconnect();\n",
              "        }}\n",
              "}});\n",
              "\n",
              "// Listen for the removal of the full notebook cells\n",
              "var notebookContainer = gd.closest('#notebook-container');\n",
              "if (notebookContainer) {{\n",
              "    x.observe(notebookContainer, {childList: true});\n",
              "}}\n",
              "\n",
              "// Listen for the clearing of the current output cell\n",
              "var outputEl = gd.closest('.output');\n",
              "if (outputEl) {{\n",
              "    x.observe(outputEl, {childList: true});\n",
              "}}\n",
              "\n",
              "                        })\n",
              "                };\n",
              "                \n",
              "            </script>\n",
              "        </div>\n",
              "</body>\n",
              "</html>"
            ]
          },
          "metadata": {}
        },
        {
          "output_type": "display_data",
          "data": {
            "text/html": [
              "<html>\n",
              "<head><meta charset=\"utf-8\" /></head>\n",
              "<body>\n",
              "    <div>\n",
              "            <script src=\"https://cdnjs.cloudflare.com/ajax/libs/mathjax/2.7.5/MathJax.js?config=TeX-AMS-MML_SVG\"></script><script type=\"text/javascript\">if (window.MathJax) {MathJax.Hub.Config({SVG: {font: \"STIX-Web\"}});}</script>\n",
              "                <script type=\"text/javascript\">window.PlotlyConfig = {MathJaxConfig: 'local'};</script>\n",
              "        <script src=\"https://cdn.plot.ly/plotly-latest.min.js\"></script>    \n",
              "            <div id=\"8fd3a0c7-e721-4dfa-a008-85d45f790370\" class=\"plotly-graph-div\" style=\"height:525px; width:100%;\"></div>\n",
              "            <script type=\"text/javascript\">\n",
              "                \n",
              "                    window.PLOTLYENV=window.PLOTLYENV || {};\n",
              "                    \n",
              "                if (document.getElementById(\"8fd3a0c7-e721-4dfa-a008-85d45f790370\")) {\n",
              "                    Plotly.newPlot(\n",
              "                        '8fd3a0c7-e721-4dfa-a008-85d45f790370',\n",
              "                        [{\"alignmentgroup\": \"True\", \"hoverlabel\": {\"namelength\": 0}, \"hovertemplate\": \"Liczba dni do wyjazdu=%{x}\", \"legendgroup\": \"\", \"marker\": {\"color\": \"#636efa\"}, \"name\": \"\", \"notched\": false, \"offsetgroup\": \"\", \"orientation\": \"h\", \"showlegend\": false, \"type\": \"box\", \"x\": [70, 60, 46, 73, 42, 56, 59, 45, 70, 73, 59, 27, 27, 52, 60, 3, 27, 73, 52, 49, 57, 58, 45, 54, 58, 59, 39, 46, 59, 143, 73, 52, 45, 1, 70, 80, 60, 47, 1, 66, 73, 56, 70, 59, 20, 59, 60, 6, 60, 58, 416, 51, 58, 77, 70, 58, 77, 70, 59, 54, 59, 143, 49, 60, 49, 70, 39, 70, 70, 39, 46, 84, 70, 54, 70, 60, 14, 60, 51, 52, 52, 34, 59, 1, 35, 27, 6, 60, 255, 42, 70, 58, 50, 53, 56, 56, 59, 51, 80, 59, 59, 59, 56, 60, 87, 52, 73, 60, 54, 56, 60, 39, 49, 63, 4, 2, 42, 42, 1, 54, 58, 1, 52, 58, 4, 70, 29, 46, 51, 58, 60, 59, 53, 52, 87, 57, 7, 51, 3, 60, 60, 4, 20, 133, 58, 70, 70, 56, 257, 7, 58, 4, 70, 7, 20, 66, 59, 35, 42, 73, 52, 52, 77, 1, 59, 56, 59, 59, 60, 4, 70, 58, 54, 32, 35, 257, 4, 49, 58, 54, 52, 20, 14, 52, 150, 59, 59, 60, 87, 51, 14, 60, 58, 53, 178, 257, 59, 58, 59, 58, 70, 59, 70, 73, 58, 58, 14, 52, 59, 256, 416, 73, 252, 57, 59, 49, 59, 58, 58, 14, 1, 80, 58, 58, 256, 58, 416, 7, 73, 58, 46, 59, 25, 59, 73, 45, 52, 59, 252, 227, 7, 73, 25, 185, 55, 60, 58, 1, 154, 42, 28, 1, 108, 59, 256, 77, 58, 60, 58, 27, 59, 59, 73, 7, 58, 58, 58, 105, 108, 31, 31, 59, 80, 140, 56, 7, 56, 51, 80, 56, 49, 58, 241, 59, 58, 7, 87, 73, 50, 112, 256, 73, 58, 59, 60, 52, 54, 57, 59, 52, 42, 28, 108, 58, 40, 66, 47, 7, 3, 60, 59, 51, 58, 46, 53, 47, 52, 58, 4, 59, 58, 220, 129, 4, 59, 52, 58, 49, 4, 58, 7, 70, 43, 58, 252, 58, 53, 56, 31, 31, 52, 43, 58, 53, 73, 45, 59, 51, 7, 35, 256, 46, 63, 105, 29, 51, 7, 60, 58, 70, 49, 39, 70, 150, 108, 7, 220, 129, 7, 1, 59, 101, 58, 42, 46, 58, 54, 58, 7, 1, 59, 101, 58, 58, 56, 43, 38, 129, 7, 51, 51, 18, 24, 8, 42, 29, 50, 58, 105, 42, 22, 39, 58, 59, 42, 252, 59, 8, 60, 20, 58, 51, 46, 59, 80, 46, 157, 70, 56, 80, 58, 58, 58, 56, 38, 46, 4, 105, 46, 60, 58, 56, 35, 45, 59, 5, 50, 59, 112, 73, 31, 52, 43, 6, 7, 7, 39, 77, 60, 112, 59, 59, 60, 56, 56, 46, 46, 58, 58, 59, 56, 15, 58, 42, 56, 24, 6, 49, 7, 56, 42, 35, 35, 58, 56, 43, 38, 129, 21, 73, 63, 87, 73, 59, 108, 51, 59, 56, 56, 56, 47, 58, 58, 45, 58, 31, 56, 56, 4, 87, 52, 59, 101, 51, 51, 35, 58, 58, 35, 220, 42, 46, 241, 108, 255, 43, 10, 9, 56, 73, 70, 60, 59, 73, 60, 52, 80, 56, 42, 58, 58, 58, 58, 220, 410, 9, 30, 11, 42, 51, 40, 59, 101, 56, 56, 42, 45, 58, 227, 58, 46, 39, 54, 45, 58, 58, 51, 58, 38, 38, 4, 40, 60, 59, 57, 60, 60, 44, 59, 25, 4, 404, 53, 38, 410, 3, 6, 4, 40, 56, 59, 35, 58, 54, 58, 31, 51, 58, 58, 58, 42, 58, 58, 31, 252, 38, 43, 6, 7, 7, 14, 10, 7, 1, 178, 73, 101, 101, 40, 45, 52, 59, 59, 56, 59, 42, 56, 46, 46, 59, 56, 58, 47, 58, 45, 58, 42, 14, 31, 52, 45, 52, 52, 25, 108, 10, 5, 185, 53, 40, 38, 410, 21, 5, 43, 20, 53, 43, 59, 35, 59, 56, 56, 56, 42, 42, 56, 54, 58, 58, 58, 45, 58, 58, 58, 56, 42, 14, 56, 7, 7, 46, 52, 58, 43, 59, 20, 87, 59, 55, 70, 40, 58, 56, 14, 45, 58, 45, 7, 70, 40, 48, 70, 40, 42, 60, 56, 59, 56, 7, 17, 40, 55, 58, 50, 40, 59, 70, 40, 35, 35, 56, 42, 56, 56, 1, 416, 252, 410, 9, 2, 49, 46, 60, 55, 58, 60, 58, 50, 58, 58, 14, 42, 35, 43, 60, 38, 3, 56, 56, 56, 42, 56, 56, 56, 58, 58, 58, 59, 39, 58, 34, 70, 53, 43, 60, 101, 210, 73, 52, 59, 56, 56, 59, 56, 56, 56, 56, 49, 21, 14, 42, 45, 10, 49, 25, 59, 133, 57, 40, 51, 37, 51, 40, 77, 51, 60, 59, 43, 60, 58, 150, 40, 70, 40, 59, 73, 56, 42, 21, 42, 47, 46, 46, 46, 58, 58, 45, 58, 59, 59, 59, 59, 49, 59, 59, 35, 56, 49, 56, 56, 42, 56, 59, 58, 58, 45, 58, 45, 56, 56, 4, 4, 4, 53, 38, 1, 241, 220, 21, 52, 56, 9, 27, 49, 7, 7, 49, 5, 43, 40, 6, 40, 58, 40, 58, 31, 56, 58, 58, 58, 58, 58, 35, 35, 42, 56, 42, 35, 42, 56, 4, 4, 4, 39, 108, 14, 66, 56, 59, 73, 59, 56, 56, 3, 3, 40, 59, 108, 47, 59, 59, 50, 59, 59, 40, 40, 40, 40, 43, 1, 40, 250, 256, 43, 59, 59, 3, 3, 24, 14, 24, 14, 49, 49, 49, 5, 112, 59, 39, 59, 6, 59, 40, 40, 58, 40, 58, 147, 56, 54, 40, 40, 58, 37, 40, 40, 58, 40, 53, 59, 136, 40, 42, 73, 14, 56, 35, 35, 56, 42, 56, 56, 46, 25, 4, 4, 53, 108, 255, 38, 43, 24, 21, 14, 40, 40, 58, 40, 40, 58, 40, 40, 40, 18, 40, 40, 58, 40, 56, 56, 56, 56, 35, 49, 59, 35, 59, 59, 56, 56, 56, 56, 59, 49, 56, 46, 25, 4], \"x0\": \" \", \"xaxis\": \"x\", \"y0\": \" \", \"yaxis\": \"y\"}],\n",
              "                        {\"boxmode\": \"group\", \"legend\": {\"tracegroupgap\": 0}, \"template\": {\"data\": {\"bar\": [{\"error_x\": {\"color\": \"#2a3f5f\"}, \"error_y\": {\"color\": \"#2a3f5f\"}, \"marker\": {\"line\": {\"color\": \"#E5ECF6\", \"width\": 0.5}}, \"type\": \"bar\"}], \"barpolar\": [{\"marker\": {\"line\": {\"color\": \"#E5ECF6\", \"width\": 0.5}}, \"type\": \"barpolar\"}], \"carpet\": [{\"aaxis\": {\"endlinecolor\": \"#2a3f5f\", \"gridcolor\": \"white\", \"linecolor\": \"white\", \"minorgridcolor\": \"white\", \"startlinecolor\": \"#2a3f5f\"}, \"baxis\": {\"endlinecolor\": \"#2a3f5f\", \"gridcolor\": \"white\", \"linecolor\": \"white\", \"minorgridcolor\": \"white\", \"startlinecolor\": \"#2a3f5f\"}, \"type\": \"carpet\"}], \"choropleth\": [{\"colorbar\": {\"outlinewidth\": 0, \"ticks\": \"\"}, \"type\": \"choropleth\"}], \"contour\": [{\"colorbar\": {\"outlinewidth\": 0, \"ticks\": \"\"}, \"colorscale\": [[0.0, \"#0d0887\"], [0.1111111111111111, \"#46039f\"], [0.2222222222222222, \"#7201a8\"], [0.3333333333333333, \"#9c179e\"], [0.4444444444444444, \"#bd3786\"], [0.5555555555555556, \"#d8576b\"], [0.6666666666666666, \"#ed7953\"], [0.7777777777777778, \"#fb9f3a\"], [0.8888888888888888, \"#fdca26\"], [1.0, \"#f0f921\"]], \"type\": \"contour\"}], \"contourcarpet\": [{\"colorbar\": {\"outlinewidth\": 0, \"ticks\": \"\"}, \"type\": \"contourcarpet\"}], \"heatmap\": [{\"colorbar\": {\"outlinewidth\": 0, \"ticks\": \"\"}, \"colorscale\": [[0.0, \"#0d0887\"], [0.1111111111111111, \"#46039f\"], [0.2222222222222222, \"#7201a8\"], [0.3333333333333333, \"#9c179e\"], [0.4444444444444444, \"#bd3786\"], [0.5555555555555556, \"#d8576b\"], [0.6666666666666666, \"#ed7953\"], [0.7777777777777778, \"#fb9f3a\"], [0.8888888888888888, \"#fdca26\"], [1.0, \"#f0f921\"]], \"type\": \"heatmap\"}], \"heatmapgl\": [{\"colorbar\": {\"outlinewidth\": 0, \"ticks\": \"\"}, \"colorscale\": [[0.0, \"#0d0887\"], [0.1111111111111111, \"#46039f\"], [0.2222222222222222, \"#7201a8\"], [0.3333333333333333, \"#9c179e\"], [0.4444444444444444, \"#bd3786\"], [0.5555555555555556, \"#d8576b\"], [0.6666666666666666, \"#ed7953\"], [0.7777777777777778, \"#fb9f3a\"], [0.8888888888888888, \"#fdca26\"], [1.0, \"#f0f921\"]], \"type\": \"heatmapgl\"}], \"histogram\": [{\"marker\": {\"colorbar\": {\"outlinewidth\": 0, \"ticks\": \"\"}}, \"type\": \"histogram\"}], \"histogram2d\": [{\"colorbar\": {\"outlinewidth\": 0, \"ticks\": \"\"}, \"colorscale\": [[0.0, \"#0d0887\"], [0.1111111111111111, \"#46039f\"], [0.2222222222222222, \"#7201a8\"], [0.3333333333333333, \"#9c179e\"], [0.4444444444444444, \"#bd3786\"], [0.5555555555555556, \"#d8576b\"], [0.6666666666666666, \"#ed7953\"], [0.7777777777777778, \"#fb9f3a\"], [0.8888888888888888, \"#fdca26\"], [1.0, \"#f0f921\"]], \"type\": \"histogram2d\"}], \"histogram2dcontour\": [{\"colorbar\": {\"outlinewidth\": 0, \"ticks\": \"\"}, \"colorscale\": [[0.0, \"#0d0887\"], [0.1111111111111111, \"#46039f\"], [0.2222222222222222, \"#7201a8\"], [0.3333333333333333, \"#9c179e\"], [0.4444444444444444, \"#bd3786\"], [0.5555555555555556, \"#d8576b\"], [0.6666666666666666, \"#ed7953\"], [0.7777777777777778, \"#fb9f3a\"], [0.8888888888888888, \"#fdca26\"], [1.0, \"#f0f921\"]], \"type\": \"histogram2dcontour\"}], \"mesh3d\": [{\"colorbar\": {\"outlinewidth\": 0, \"ticks\": \"\"}, \"type\": \"mesh3d\"}], \"parcoords\": [{\"line\": {\"colorbar\": {\"outlinewidth\": 0, \"ticks\": \"\"}}, \"type\": \"parcoords\"}], \"pie\": [{\"automargin\": true, \"type\": \"pie\"}], \"scatter\": [{\"marker\": {\"colorbar\": {\"outlinewidth\": 0, \"ticks\": \"\"}}, \"type\": \"scatter\"}], \"scatter3d\": [{\"line\": {\"colorbar\": {\"outlinewidth\": 0, \"ticks\": \"\"}}, \"marker\": {\"colorbar\": {\"outlinewidth\": 0, \"ticks\": \"\"}}, \"type\": \"scatter3d\"}], \"scattercarpet\": [{\"marker\": {\"colorbar\": {\"outlinewidth\": 0, \"ticks\": \"\"}}, \"type\": \"scattercarpet\"}], \"scattergeo\": [{\"marker\": {\"colorbar\": {\"outlinewidth\": 0, \"ticks\": \"\"}}, \"type\": \"scattergeo\"}], \"scattergl\": [{\"marker\": {\"colorbar\": {\"outlinewidth\": 0, \"ticks\": \"\"}}, \"type\": \"scattergl\"}], \"scattermapbox\": [{\"marker\": {\"colorbar\": {\"outlinewidth\": 0, \"ticks\": \"\"}}, \"type\": \"scattermapbox\"}], \"scatterpolar\": [{\"marker\": {\"colorbar\": {\"outlinewidth\": 0, \"ticks\": \"\"}}, \"type\": \"scatterpolar\"}], \"scatterpolargl\": [{\"marker\": {\"colorbar\": {\"outlinewidth\": 0, \"ticks\": \"\"}}, \"type\": \"scatterpolargl\"}], \"scatterternary\": [{\"marker\": {\"colorbar\": {\"outlinewidth\": 0, \"ticks\": \"\"}}, \"type\": \"scatterternary\"}], \"surface\": [{\"colorbar\": {\"outlinewidth\": 0, \"ticks\": \"\"}, \"colorscale\": [[0.0, \"#0d0887\"], [0.1111111111111111, \"#46039f\"], [0.2222222222222222, \"#7201a8\"], [0.3333333333333333, \"#9c179e\"], [0.4444444444444444, \"#bd3786\"], [0.5555555555555556, \"#d8576b\"], [0.6666666666666666, \"#ed7953\"], [0.7777777777777778, \"#fb9f3a\"], [0.8888888888888888, \"#fdca26\"], [1.0, \"#f0f921\"]], \"type\": \"surface\"}], \"table\": [{\"cells\": {\"fill\": {\"color\": \"#EBF0F8\"}, \"line\": {\"color\": \"white\"}}, \"header\": {\"fill\": {\"color\": \"#C8D4E3\"}, \"line\": {\"color\": \"white\"}}, \"type\": \"table\"}]}, \"layout\": {\"annotationdefaults\": {\"arrowcolor\": \"#2a3f5f\", \"arrowhead\": 0, \"arrowwidth\": 1}, \"coloraxis\": {\"colorbar\": {\"outlinewidth\": 0, \"ticks\": \"\"}}, \"colorscale\": {\"diverging\": [[0, \"#8e0152\"], [0.1, \"#c51b7d\"], [0.2, \"#de77ae\"], [0.3, \"#f1b6da\"], [0.4, \"#fde0ef\"], [0.5, \"#f7f7f7\"], [0.6, \"#e6f5d0\"], [0.7, \"#b8e186\"], [0.8, \"#7fbc41\"], [0.9, \"#4d9221\"], [1, \"#276419\"]], \"sequential\": [[0.0, \"#0d0887\"], [0.1111111111111111, \"#46039f\"], [0.2222222222222222, \"#7201a8\"], [0.3333333333333333, \"#9c179e\"], [0.4444444444444444, \"#bd3786\"], [0.5555555555555556, \"#d8576b\"], [0.6666666666666666, \"#ed7953\"], [0.7777777777777778, \"#fb9f3a\"], [0.8888888888888888, \"#fdca26\"], [1.0, \"#f0f921\"]], \"sequentialminus\": [[0.0, \"#0d0887\"], [0.1111111111111111, \"#46039f\"], [0.2222222222222222, \"#7201a8\"], [0.3333333333333333, \"#9c179e\"], [0.4444444444444444, \"#bd3786\"], [0.5555555555555556, \"#d8576b\"], [0.6666666666666666, \"#ed7953\"], [0.7777777777777778, \"#fb9f3a\"], [0.8888888888888888, \"#fdca26\"], [1.0, \"#f0f921\"]]}, \"colorway\": [\"#636efa\", \"#EF553B\", \"#00cc96\", \"#ab63fa\", \"#FFA15A\", \"#19d3f3\", \"#FF6692\", \"#B6E880\", \"#FF97FF\", \"#FECB52\"], \"font\": {\"color\": \"#2a3f5f\"}, \"geo\": {\"bgcolor\": \"white\", \"lakecolor\": \"white\", \"landcolor\": \"#E5ECF6\", \"showlakes\": true, \"showland\": true, \"subunitcolor\": \"white\"}, \"hoverlabel\": {\"align\": \"left\"}, \"hovermode\": \"closest\", \"mapbox\": {\"style\": \"light\"}, \"paper_bgcolor\": \"white\", \"plot_bgcolor\": \"#E5ECF6\", \"polar\": {\"angularaxis\": {\"gridcolor\": \"white\", \"linecolor\": \"white\", \"ticks\": \"\"}, \"bgcolor\": \"#E5ECF6\", \"radialaxis\": {\"gridcolor\": \"white\", \"linecolor\": \"white\", \"ticks\": \"\"}}, \"scene\": {\"xaxis\": {\"backgroundcolor\": \"#E5ECF6\", \"gridcolor\": \"white\", \"gridwidth\": 2, \"linecolor\": \"white\", \"showbackground\": true, \"ticks\": \"\", \"zerolinecolor\": \"white\"}, \"yaxis\": {\"backgroundcolor\": \"#E5ECF6\", \"gridcolor\": \"white\", \"gridwidth\": 2, \"linecolor\": \"white\", \"showbackground\": true, \"ticks\": \"\", \"zerolinecolor\": \"white\"}, \"zaxis\": {\"backgroundcolor\": \"#E5ECF6\", \"gridcolor\": \"white\", \"gridwidth\": 2, \"linecolor\": \"white\", \"showbackground\": true, \"ticks\": \"\", \"zerolinecolor\": \"white\"}}, \"shapedefaults\": {\"line\": {\"color\": \"#2a3f5f\"}}, \"ternary\": {\"aaxis\": {\"gridcolor\": \"white\", \"linecolor\": \"white\", \"ticks\": \"\"}, \"baxis\": {\"gridcolor\": \"white\", \"linecolor\": \"white\", \"ticks\": \"\"}, \"bgcolor\": \"#E5ECF6\", \"caxis\": {\"gridcolor\": \"white\", \"linecolor\": \"white\", \"ticks\": \"\"}}, \"title\": {\"x\": 0.05}, \"xaxis\": {\"automargin\": true, \"gridcolor\": \"white\", \"linecolor\": \"white\", \"ticks\": \"\", \"title\": {\"standoff\": 15}, \"zerolinecolor\": \"white\", \"zerolinewidth\": 2}, \"yaxis\": {\"automargin\": true, \"gridcolor\": \"white\", \"linecolor\": \"white\", \"ticks\": \"\", \"title\": {\"standoff\": 15}, \"zerolinecolor\": \"white\", \"zerolinewidth\": 2}}}, \"title\": {\"text\": \"Rozrzut cechy - liczba dni do wyjazdu\"}, \"xaxis\": {\"anchor\": \"y\", \"domain\": [0.0, 1.0], \"title\": {\"text\": \"Liczba dni do wyjazdu\"}}, \"yaxis\": {\"anchor\": \"x\", \"domain\": [0.0, 1.0]}},\n",
              "                        {\"responsive\": true}\n",
              "                    ).then(function(){\n",
              "                            \n",
              "var gd = document.getElementById('8fd3a0c7-e721-4dfa-a008-85d45f790370');\n",
              "var x = new MutationObserver(function (mutations, observer) {{\n",
              "        var display = window.getComputedStyle(gd).display;\n",
              "        if (!display || display === 'none') {{\n",
              "            console.log([gd, 'removed!']);\n",
              "            Plotly.purge(gd);\n",
              "            observer.disconnect();\n",
              "        }}\n",
              "}});\n",
              "\n",
              "// Listen for the removal of the full notebook cells\n",
              "var notebookContainer = gd.closest('#notebook-container');\n",
              "if (notebookContainer) {{\n",
              "    x.observe(notebookContainer, {childList: true});\n",
              "}}\n",
              "\n",
              "// Listen for the clearing of the current output cell\n",
              "var outputEl = gd.closest('.output');\n",
              "if (outputEl) {{\n",
              "    x.observe(outputEl, {childList: true});\n",
              "}}\n",
              "\n",
              "                        })\n",
              "                };\n",
              "                \n",
              "            </script>\n",
              "        </div>\n",
              "</body>\n",
              "</html>"
            ]
          },
          "metadata": {}
        },
        {
          "output_type": "display_data",
          "data": {
            "text/html": [
              "<html>\n",
              "<head><meta charset=\"utf-8\" /></head>\n",
              "<body>\n",
              "    <div>\n",
              "            <script src=\"https://cdnjs.cloudflare.com/ajax/libs/mathjax/2.7.5/MathJax.js?config=TeX-AMS-MML_SVG\"></script><script type=\"text/javascript\">if (window.MathJax) {MathJax.Hub.Config({SVG: {font: \"STIX-Web\"}});}</script>\n",
              "                <script type=\"text/javascript\">window.PlotlyConfig = {MathJaxConfig: 'local'};</script>\n",
              "        <script src=\"https://cdn.plot.ly/plotly-latest.min.js\"></script>    \n",
              "            <div id=\"cc339d2c-8971-4720-91e4-73ddd5bc1d21\" class=\"plotly-graph-div\" style=\"height:525px; width:100%;\"></div>\n",
              "            <script type=\"text/javascript\">\n",
              "                \n",
              "                    window.PLOTLYENV=window.PLOTLYENV || {};\n",
              "                    \n",
              "                if (document.getElementById(\"cc339d2c-8971-4720-91e4-73ddd5bc1d21\")) {\n",
              "                    Plotly.newPlot(\n",
              "                        'cc339d2c-8971-4720-91e4-73ddd5bc1d21',\n",
              "                        [{\"alignmentgroup\": \"True\", \"hoverlabel\": {\"namelength\": 0}, \"hovertemplate\": \"Cena oferty=%{x}\", \"legendgroup\": \"\", \"marker\": {\"color\": \"#636efa\"}, \"name\": \"\", \"notched\": false, \"offsetgroup\": \"\", \"orientation\": \"h\", \"showlegend\": false, \"type\": \"box\", \"x\": [1719.0, 2110.0, 2183.0, 1832.0, 1782.0, 1678.0, 1678.0, 2618.0, 1605.0, 1946.0, 1967.0, 1652.0, 1690.0, 1626.0, 2061.0, 2399.0, 2015.0, 2387.0, 1830.0, 1742.0, 1922.0, 1502.0, 2459.0, 1848.0, 1616.0, 2100.0, 2012.0, 1513.0, 1603.0, 1934.0, 1908.0, 1710.0, 1799.0, 1818.0, 1431.0, 2182.0, 2648.0, 1993.0, 1743.0, 1713.0, 2295.0, 1702.0, 1682.0, 1710.0, 1576.0, 1816.0, 1993.0, 2044.0, 1816.0, 1437.0, 1386.0, 1788.0, 2421.0, 1424.0, 1794.0, 1916.0, 2341.0, 1537.0, 1966.0, 1560.0, 1664.0, 2047.0, 1695.0, 2232.0, 1830.0, 2163.0, 1959.0, 1789.0, 1541.0, 1950.0, 2043.0, 2370.0, 1643.0, 2160.0, 2028.0, 1929.0, 1999.0, 1921.0, 1291.0, 1589.0, 1589.0, 1941.0, 1891.0, 1743.0, 1808.0, 1917.0, 1817.0, 2080.0, 1298.0, 1511.0, 1759.0, 2217.0, 1778.0, 2187.0, 2324.0, 2528.0, 1863.0, 1718.0, 2220.0, 2860.0, 1884.0, 3284.0, 1898.0, 1781.0, 2294.0, 1986.0, 1424.0, 2226.0, 1710.0, 1747.0, 1747.0, 1816.0, 5258.0, 2383.0, 2299.0, 1999.0, 2064.0, 1601.0, 1820.0, 2044.0, 1970.0, 2688.0, 2345.0, 2047.0, 2299.0, 2029.0, 2222.0, 2319.0, 1869.0, 1589.0, 3178.0, 1823.0, 1959.0, 1740.0, 1764.0, 1913.0, 2339.0, 1488.0, 2299.0, 1664.0, 2421.0, 2299.0, 1652.0, 1544.0, 2794.0, 1462.0, 2245.0, 1641.0, 1414.0, 2759.0, 2794.0, 1749.0, 2245.0, 2759.0, 2161.0, 2180.0, 1634.0, 1601.0, 1740.0, 1724.0, 1626.0, 2241.0, 2105.0, 2399.0, 2383.0, 2319.0, 1816.0, 1967.0, 1986.0, 1887.0, 3089.0, 1850.0, 3368.0, 2350.0, 2042.0, 1684.0, 2199.0, 2649.0, 1841.0, 2676.0, 2043.0, 1727.0, 2197.0, 1589.0, 2206.0, 2243.0, 2346.0, 3026.0, 2616.0, 1882.0, 2197.0, 1770.0, 3440.0, 1958.0, 2679.0, 1684.0, 1952.0, 2651.0, 2151.0, 2151.0, 1779.0, 3495.0, 1537.0, 2023.0, 1743.0, 3440.0, 3126.0, 2270.0, 1935.0, 1504.0, 1436.0, 1867.0, 1973.0, 2178.0, 2587.0, 1976.0, 2296.0, 1912.0, 1780.0, 3126.0, 2153.0, 2338.0, 2240.0, 2134.0, 1504.0, 1853.0, 1436.0, 2159.0, 3357.0, 2255.0, 2366.0, 2752.0, 2049.0, 3399.0, 1764.0, 2029.0, 2270.0, 2562.0, 1944.0, 1977.0, 2359.0, 2256.0, 2139.0, 1864.0, 2743.0, 3944.0, 2443.0, 1629.0, 2168.0, 2135.0, 2000.0, 1659.0, 2168.0, 3958.0, 1606.0, 2216.0, 2443.0, 1842.0, 1626.0, 2257.0, 2773.0, 2080.0, 2154.0, 2659.0, 1589.0, 1780.0, 1696.0, 2581.0, 1361.0, 1599.0, 3549.0, 2860.0, 2428.0, 1632.0, 2232.0, 2659.0, 2497.0, 1401.0, 1953.0, 1658.0, 2451.0, 2453.0, 2197.0, 2270.0, 1740.0, 2259.0, 2043.0, 1840.0, 2886.0, 4870.0, 1576.0, 2256.0, 2213.0, 2159.0, 1962.0, 1676.0, 1995.0, 2626.0, 2459.0, 4206.0, 1314.0, 1980.0, 1544.0, 3065.0, 1766.0, 2029.0, 1861.0, 2659.0, 2999.0, 2123.0, 1814.0, 3440.0, 2351.0, 3981.0, 2138.0, 3673.0, 1924.0, 2269.0, 2299.0, 2043.0, 2351.0, 1563.0, 1577.0, 2299.0, 4055.0, 1924.0, 2269.0, 2719.0, 1999.0, 2193.0, 1869.0, 1984.0, 2156.0, 2127.0, 1313.0, 1937.0, 1853.0, 1831.0, 2720.0, 2720.0, 5107.0, 1550.0, 1937.0, 1853.0, 1916.0, 2292.0, 1925.0, 3440.0, 1869.0, 1491.0, 1467.0, 2569.0, 2296.0, 5437.0, 2489.0, 2155.0, 2359.0, 2469.0, 2055.0, 2659.0, 1891.0, 1987.0, 1552.0, 2288.0, 2100.0, 1999.0, 1563.0, 1577.0, 3459.0, 1761.0, 1914.0, 1932.0, 1921.0, 1662.0, 2499.0, 2229.0, 3308.0, 2640.0, 2159.0, 1761.0, 1914.0, 1932.0, 1921.0, 2671.0, 1971.0, 1670.0, 1912.0, 1389.0, 2159.0, 1950.0, 2385.0, 1859.0, 3461.0, 2499.0, 2758.0, 2283.0, 2005.0, 2138.0, 3356.0, 2758.0, 2283.0, 2005.0, 2405.0, 2138.0, 1662.0, 1175.0, 2229.0, 2499.0, 2020.0, 2869.0, 2858.0, 2220.0, 3509.0, 2345.0, 1802.0, 1746.0, 1956.0, 2000.0, 2268.0, 1802.0, 2049.0, 2000.0, 2235.0, 1711.0, 2728.0, 3509.0, 2099.0, 1502.0, 1746.0, 1880.0, 2267.0, 1971.0, 1641.0, 2079.0, 2807.0, 1603.0, 1876.0, 2156.0, 1578.0, 2985.0, 2319.0, 2001.0, 1550.0, 2799.0, 2459.0, 2359.0, 3229.0, 1840.0, 1702.0, 3054.0, 2618.0, 2262.0, 2617.0, 2169.0, 2890.0, 3169.0, 2529.0, 2324.0, 2278.0, 2262.0, 2268.0, 2399.0, 2508.0, 2893.0, 2001.0, 2491.0, 2799.0, 3499.0, 2359.0, 2378.0, 1507.0, 2245.0, 2201.0, 2457.0, 1711.0, 1670.0, 1981.0, 1389.0, 2131.0, 1940.0, 1906.0, 2329.0, 2548.0, 1823.0, 1949.0, 2143.0, 2302.0, 1950.0, 3658.0, 1637.0, 3492.0, 2801.0, 2303.0, 2119.0, 2961.0, 2119.0, 2181.0, 1941.0, 1859.0, 2329.0, 3717.0, 1823.0, 1949.0, 2143.0, 2220.0, 4028.0, 2278.0, 2457.0, 1644.0, 3315.0, 2101.0, 2999.0, 1538.0, 2304.0, 1677.0, 2000.0, 2159.0, 2999.0, 3212.0, 2319.0, 2672.0, 2884.0, 3569.0, 1912.0, 2269.0, 3965.0, 1821.0, 2378.0, 1507.0, 2259.0, 2858.0, 2303.0, 6510.0, 2610.0, 1651.0, 2199.0, 2599.0, 2199.0, 1832.0, 1771.0, 2054.0, 2398.0, 1779.0, 3658.0, 1637.0, 2284.0, 2119.0, 2961.0, 2048.0, 2713.0, 3139.0, 3369.0, 2085.0, 3899.0, 2380.0, 2079.0, 1978.0, 3146.0, 2728.0, 1912.0, 2599.0, 2179.0, 3804.0, 2432.0, 1892.0, 2043.0, 3751.0, 4070.0, 3972.0, 1869.0, 1859.0, 1833.0, 1964.0, 2361.0, 2077.0, 2531.0, 2999.0, 2599.0, 2179.0, 3977.0, 3227.0, 2758.0, 2502.0, 2411.0, 2664.0, 2499.0, 2431.0, 2664.0, 2409.0, 2439.0, 1966.0, 2175.0, 2568.0, 3939.0, 1973.0, 1931.0, 1650.0, 2999.0, 4259.0, 4259.0, 2499.0, 3059.0, 2659.0, 1999.0, 2063.0, 1655.0, 2288.0, 2168.0, 3021.0, 3132.0, 3064.0, 2630.0, 2515.0, 1753.0, 3982.0, 1761.0, 2031.0, 3169.0, 2529.0, 2969.0, 3106.0, 2724.0, 2996.0, 2029.0, 2389.0, 2691.0, 2893.0, 3573.0, 3239.0, 2499.0, 3199.0, 3449.0, 2499.0, 1869.0, 1656.0, 3059.0, 2264.0, 2063.0, 2497.0, 2284.0, 1961.0, 4743.0, 2201.0, 2264.0, 1665.0, 1780.0, 2497.0, 5354.0, 1915.0, 3932.0, 10782.0, 1983.0, 2321.0, 1914.0, 1657.0, 1918.0, 1829.0, 2411.0, 2664.0, 2664.0, 2409.0, 2389.0, 2691.0, 2175.0, 2568.0, 2868.0, 1791.0, 2538.0, 2221.0, 2559.0, 2559.0, 2709.0, 3556.0, 3074.0, 1665.0, 2262.0, 1780.0, 3592.0, 1915.0, 2258.0, 2983.0, 1765.0, 1746.0, 2213.0, 1879.0, 2310.0, 2405.0, 4199.0, 3599.0, 2256.0, 1719.0, 2258.0, 2983.0, 1794.0, 4123.0, 1746.0, 2259.0, 3251.0, 2347.0, 2659.0, 3859.0, 4224.0, 2075.0, 1761.0, 1924.0, 3478.0, 2202.0, 2256.0, 1689.0, 2151.0, 2141.0, 1621.0, 1641.0, 2061.0, 1781.0, 2171.0, 1920.0, 2096.0, 1446.0, 2599.0, 2599.0, 3179.0, 2709.0, 3178.0, 2075.0, 1761.0, 1710.0, 1872.0, 1924.0, 3488.0, 2637.0, 2181.0, 2011.0, 1641.0, 2021.0, 2258.0, 1961.0, 2531.0, 2636.0, 4170.0, 4088.0, 1949.0, 1595.0, 1818.0, 1903.0, 2335.0, 2801.0, 2358.0, 2894.0, 2332.0, 1706.0, 1897.0, 1988.0, 4161.0, 3519.0, 2861.0, 2155.0, 2548.0, 3834.0, 2118.0, 2561.0, 2780.0, 4791.0, 3073.0, 2159.0, 1765.0, 2185.0, 2159.0, 1829.0, 2151.0, 2121.0, 2669.0, 2259.0, 3759.0, 2869.0, 4748.0, 3026.0, 1817.0, 5144.0, 1794.0, 1892.0, 2039.0, 35186.0, 1870.0, 2014.0, 1659.0, 4123.0, 2633.0, 2332.0, 3078.0, 1686.0, 1694.0, 2285.0, 1988.0, 2515.0, 3908.0, 3834.0, 2213.0, 1991.0, 1931.0, 2795.0, 3462.0, 4379.0, 3589.0, 4519.0, 2547.0, 2529.0, 2308.0, 2525.0, 3908.0, 3178.0, 3277.0, 2849.0, 3512.0, 2619.0, 2397.0, 2159.0, 3292.0, 2780.0, 2232.0, 3548.0, 1991.0, 1939.0, 3214.0, 7251.0, 3079.0, 2469.0, 3460.0, 3949.0, 3321.0, 2001.0, 1959.0, 1789.0, 2219.0, 2510.0, 2205.0, 2476.0, 2541.0, 1439.0, 2201.0, 2479.0, 2031.0, 2599.0, 2799.0, 3709.0, 2459.0, 3559.0, 3249.0, 1929.0, 5683.0, 1774.0, 2738.0, 2233.0, 1816.0, 2291.0, 3915.0, 3470.0, 2393.0, 2772.0, 2213.0, 2311.0, 3402.0, 3151.0, 2001.0, 1731.0, 2301.0, 3881.0, 1981.0, 1831.0, 1961.0, 3691.0, 2779.0, 1689.0, 2219.0, 3699.0, 1829.0, 6401.0, 2275.0, 2565.0, 2777.0, 3242.0, 3688.0, 2769.0, 2746.0, 2399.0, 2799.0, 2820.0, 2572.0, 2127.0, 2514.0, 2033.0, 2667.0, 2232.0, 2247.0, 3348.0, 1916.0, 2249.0, 2249.0, 7129.0, 1803.0, 2900.0, 2442.0, 1507.0, 1879.0, 1671.0, 2195.0, 2129.0, 3490.0, 2571.0, 4071.0, 2161.0, 2751.0, 6081.0, 3709.0, 2379.0, 3249.0, 1929.0, 2127.0, 2033.0, 5683.0, 2667.0, 2738.0, 3348.0, 2203.0, 2219.0, 1816.0, 2219.0, 3915.0, 2982.0, 4464.0, 1995.0, 2562.0, 2165.0, 2580.0, 17649.0, 2400.0, 2530.0, 1779.0, 2536.0, 3178.0, 2484.0, 1796.0, 1902.0, 2284.0, 2023.0, 2802.0, 2511.0, 2151.0, 2141.0, 1621.0, 1641.0, 2061.0, 1781.0, 1949.0, 2459.0, 3469.0, 2079.0, 1964.0, 2274.0, 1677.0, 1962.0, 2000.0, 2531.0, 2151.0, 2121.0, 1998.0, 2236.0, 1847.0, 42883.0, 3063.0, 2030.0, 2563.0, 2818.0, 2327.0, 4202.0, 2546.0, 2589.0, 2811.0, 2332.0, 3021.0, 2041.0, 2161.0, 2151.0, 2581.0, 3271.0, 2861.0, 2251.0, 2671.0, 2551.0, 1841.0, 2641.0, 2141.0, 2541.0, 2411.0, 4421.0, 2071.0, 1949.0, 2459.0, 2079.0], \"x0\": \" \", \"xaxis\": \"x\", \"y0\": \" \", \"yaxis\": \"y\"}],\n",
              "                        {\"boxmode\": \"group\", \"legend\": {\"tracegroupgap\": 0}, \"template\": {\"data\": {\"bar\": [{\"error_x\": {\"color\": \"#2a3f5f\"}, \"error_y\": {\"color\": \"#2a3f5f\"}, \"marker\": {\"line\": {\"color\": \"#E5ECF6\", \"width\": 0.5}}, \"type\": \"bar\"}], \"barpolar\": [{\"marker\": {\"line\": {\"color\": \"#E5ECF6\", \"width\": 0.5}}, \"type\": \"barpolar\"}], \"carpet\": [{\"aaxis\": {\"endlinecolor\": \"#2a3f5f\", \"gridcolor\": \"white\", \"linecolor\": \"white\", \"minorgridcolor\": \"white\", \"startlinecolor\": \"#2a3f5f\"}, \"baxis\": {\"endlinecolor\": \"#2a3f5f\", \"gridcolor\": \"white\", \"linecolor\": \"white\", \"minorgridcolor\": \"white\", \"startlinecolor\": \"#2a3f5f\"}, \"type\": \"carpet\"}], \"choropleth\": [{\"colorbar\": {\"outlinewidth\": 0, \"ticks\": \"\"}, \"type\": \"choropleth\"}], \"contour\": [{\"colorbar\": {\"outlinewidth\": 0, \"ticks\": \"\"}, \"colorscale\": [[0.0, \"#0d0887\"], [0.1111111111111111, \"#46039f\"], [0.2222222222222222, \"#7201a8\"], [0.3333333333333333, \"#9c179e\"], [0.4444444444444444, \"#bd3786\"], [0.5555555555555556, \"#d8576b\"], [0.6666666666666666, \"#ed7953\"], [0.7777777777777778, \"#fb9f3a\"], [0.8888888888888888, \"#fdca26\"], [1.0, \"#f0f921\"]], \"type\": \"contour\"}], \"contourcarpet\": [{\"colorbar\": {\"outlinewidth\": 0, \"ticks\": \"\"}, \"type\": \"contourcarpet\"}], \"heatmap\": [{\"colorbar\": {\"outlinewidth\": 0, \"ticks\": \"\"}, \"colorscale\": [[0.0, \"#0d0887\"], [0.1111111111111111, \"#46039f\"], [0.2222222222222222, \"#7201a8\"], [0.3333333333333333, \"#9c179e\"], [0.4444444444444444, \"#bd3786\"], [0.5555555555555556, \"#d8576b\"], [0.6666666666666666, \"#ed7953\"], [0.7777777777777778, \"#fb9f3a\"], [0.8888888888888888, \"#fdca26\"], [1.0, \"#f0f921\"]], \"type\": \"heatmap\"}], \"heatmapgl\": [{\"colorbar\": {\"outlinewidth\": 0, \"ticks\": \"\"}, \"colorscale\": [[0.0, \"#0d0887\"], [0.1111111111111111, \"#46039f\"], [0.2222222222222222, \"#7201a8\"], [0.3333333333333333, \"#9c179e\"], [0.4444444444444444, \"#bd3786\"], [0.5555555555555556, \"#d8576b\"], [0.6666666666666666, \"#ed7953\"], [0.7777777777777778, \"#fb9f3a\"], [0.8888888888888888, \"#fdca26\"], [1.0, \"#f0f921\"]], \"type\": \"heatmapgl\"}], \"histogram\": [{\"marker\": {\"colorbar\": {\"outlinewidth\": 0, \"ticks\": \"\"}}, \"type\": \"histogram\"}], \"histogram2d\": [{\"colorbar\": {\"outlinewidth\": 0, \"ticks\": \"\"}, \"colorscale\": [[0.0, \"#0d0887\"], [0.1111111111111111, \"#46039f\"], [0.2222222222222222, \"#7201a8\"], [0.3333333333333333, \"#9c179e\"], [0.4444444444444444, \"#bd3786\"], [0.5555555555555556, \"#d8576b\"], [0.6666666666666666, \"#ed7953\"], [0.7777777777777778, \"#fb9f3a\"], [0.8888888888888888, \"#fdca26\"], [1.0, \"#f0f921\"]], \"type\": \"histogram2d\"}], \"histogram2dcontour\": [{\"colorbar\": {\"outlinewidth\": 0, \"ticks\": \"\"}, \"colorscale\": [[0.0, \"#0d0887\"], [0.1111111111111111, \"#46039f\"], [0.2222222222222222, \"#7201a8\"], [0.3333333333333333, \"#9c179e\"], [0.4444444444444444, \"#bd3786\"], [0.5555555555555556, \"#d8576b\"], [0.6666666666666666, \"#ed7953\"], [0.7777777777777778, \"#fb9f3a\"], [0.8888888888888888, \"#fdca26\"], [1.0, \"#f0f921\"]], \"type\": \"histogram2dcontour\"}], \"mesh3d\": [{\"colorbar\": {\"outlinewidth\": 0, \"ticks\": \"\"}, \"type\": \"mesh3d\"}], \"parcoords\": [{\"line\": {\"colorbar\": {\"outlinewidth\": 0, \"ticks\": \"\"}}, \"type\": \"parcoords\"}], \"pie\": [{\"automargin\": true, \"type\": \"pie\"}], \"scatter\": [{\"marker\": {\"colorbar\": {\"outlinewidth\": 0, \"ticks\": \"\"}}, \"type\": \"scatter\"}], \"scatter3d\": [{\"line\": {\"colorbar\": {\"outlinewidth\": 0, \"ticks\": \"\"}}, \"marker\": {\"colorbar\": {\"outlinewidth\": 0, \"ticks\": \"\"}}, \"type\": \"scatter3d\"}], \"scattercarpet\": [{\"marker\": {\"colorbar\": {\"outlinewidth\": 0, \"ticks\": \"\"}}, \"type\": \"scattercarpet\"}], \"scattergeo\": [{\"marker\": {\"colorbar\": {\"outlinewidth\": 0, \"ticks\": \"\"}}, \"type\": \"scattergeo\"}], \"scattergl\": [{\"marker\": {\"colorbar\": {\"outlinewidth\": 0, \"ticks\": \"\"}}, \"type\": \"scattergl\"}], \"scattermapbox\": [{\"marker\": {\"colorbar\": {\"outlinewidth\": 0, \"ticks\": \"\"}}, \"type\": \"scattermapbox\"}], \"scatterpolar\": [{\"marker\": {\"colorbar\": {\"outlinewidth\": 0, \"ticks\": \"\"}}, \"type\": \"scatterpolar\"}], \"scatterpolargl\": [{\"marker\": {\"colorbar\": {\"outlinewidth\": 0, \"ticks\": \"\"}}, \"type\": \"scatterpolargl\"}], \"scatterternary\": [{\"marker\": {\"colorbar\": {\"outlinewidth\": 0, \"ticks\": \"\"}}, \"type\": \"scatterternary\"}], \"surface\": [{\"colorbar\": {\"outlinewidth\": 0, \"ticks\": \"\"}, \"colorscale\": [[0.0, \"#0d0887\"], [0.1111111111111111, \"#46039f\"], [0.2222222222222222, \"#7201a8\"], [0.3333333333333333, \"#9c179e\"], [0.4444444444444444, \"#bd3786\"], [0.5555555555555556, \"#d8576b\"], [0.6666666666666666, \"#ed7953\"], [0.7777777777777778, \"#fb9f3a\"], [0.8888888888888888, \"#fdca26\"], [1.0, \"#f0f921\"]], \"type\": \"surface\"}], \"table\": [{\"cells\": {\"fill\": {\"color\": \"#EBF0F8\"}, \"line\": {\"color\": \"white\"}}, \"header\": {\"fill\": {\"color\": \"#C8D4E3\"}, \"line\": {\"color\": \"white\"}}, \"type\": \"table\"}]}, \"layout\": {\"annotationdefaults\": {\"arrowcolor\": \"#2a3f5f\", \"arrowhead\": 0, \"arrowwidth\": 1}, \"coloraxis\": {\"colorbar\": {\"outlinewidth\": 0, \"ticks\": \"\"}}, \"colorscale\": {\"diverging\": [[0, \"#8e0152\"], [0.1, \"#c51b7d\"], [0.2, \"#de77ae\"], [0.3, \"#f1b6da\"], [0.4, \"#fde0ef\"], [0.5, \"#f7f7f7\"], [0.6, \"#e6f5d0\"], [0.7, \"#b8e186\"], [0.8, \"#7fbc41\"], [0.9, \"#4d9221\"], [1, \"#276419\"]], \"sequential\": [[0.0, \"#0d0887\"], [0.1111111111111111, \"#46039f\"], [0.2222222222222222, \"#7201a8\"], [0.3333333333333333, \"#9c179e\"], [0.4444444444444444, \"#bd3786\"], [0.5555555555555556, \"#d8576b\"], [0.6666666666666666, \"#ed7953\"], [0.7777777777777778, \"#fb9f3a\"], [0.8888888888888888, \"#fdca26\"], [1.0, \"#f0f921\"]], \"sequentialminus\": [[0.0, \"#0d0887\"], [0.1111111111111111, \"#46039f\"], [0.2222222222222222, \"#7201a8\"], [0.3333333333333333, \"#9c179e\"], [0.4444444444444444, \"#bd3786\"], [0.5555555555555556, \"#d8576b\"], [0.6666666666666666, \"#ed7953\"], [0.7777777777777778, \"#fb9f3a\"], [0.8888888888888888, \"#fdca26\"], [1.0, \"#f0f921\"]]}, \"colorway\": [\"#636efa\", \"#EF553B\", \"#00cc96\", \"#ab63fa\", \"#FFA15A\", \"#19d3f3\", \"#FF6692\", \"#B6E880\", \"#FF97FF\", \"#FECB52\"], \"font\": {\"color\": \"#2a3f5f\"}, \"geo\": {\"bgcolor\": \"white\", \"lakecolor\": \"white\", \"landcolor\": \"#E5ECF6\", \"showlakes\": true, \"showland\": true, \"subunitcolor\": \"white\"}, \"hoverlabel\": {\"align\": \"left\"}, \"hovermode\": \"closest\", \"mapbox\": {\"style\": \"light\"}, \"paper_bgcolor\": \"white\", \"plot_bgcolor\": \"#E5ECF6\", \"polar\": {\"angularaxis\": {\"gridcolor\": \"white\", \"linecolor\": \"white\", \"ticks\": \"\"}, \"bgcolor\": \"#E5ECF6\", \"radialaxis\": {\"gridcolor\": \"white\", \"linecolor\": \"white\", \"ticks\": \"\"}}, \"scene\": {\"xaxis\": {\"backgroundcolor\": \"#E5ECF6\", \"gridcolor\": \"white\", \"gridwidth\": 2, \"linecolor\": \"white\", \"showbackground\": true, \"ticks\": \"\", \"zerolinecolor\": \"white\"}, \"yaxis\": {\"backgroundcolor\": \"#E5ECF6\", \"gridcolor\": \"white\", \"gridwidth\": 2, \"linecolor\": \"white\", \"showbackground\": true, \"ticks\": \"\", \"zerolinecolor\": \"white\"}, \"zaxis\": {\"backgroundcolor\": \"#E5ECF6\", \"gridcolor\": \"white\", \"gridwidth\": 2, \"linecolor\": \"white\", \"showbackground\": true, \"ticks\": \"\", \"zerolinecolor\": \"white\"}}, \"shapedefaults\": {\"line\": {\"color\": \"#2a3f5f\"}}, \"ternary\": {\"aaxis\": {\"gridcolor\": \"white\", \"linecolor\": \"white\", \"ticks\": \"\"}, \"baxis\": {\"gridcolor\": \"white\", \"linecolor\": \"white\", \"ticks\": \"\"}, \"bgcolor\": \"#E5ECF6\", \"caxis\": {\"gridcolor\": \"white\", \"linecolor\": \"white\", \"ticks\": \"\"}}, \"title\": {\"x\": 0.05}, \"xaxis\": {\"automargin\": true, \"gridcolor\": \"white\", \"linecolor\": \"white\", \"ticks\": \"\", \"title\": {\"standoff\": 15}, \"zerolinecolor\": \"white\", \"zerolinewidth\": 2}, \"yaxis\": {\"automargin\": true, \"gridcolor\": \"white\", \"linecolor\": \"white\", \"ticks\": \"\", \"title\": {\"standoff\": 15}, \"zerolinecolor\": \"white\", \"zerolinewidth\": 2}}}, \"title\": {\"text\": \"Rozrzut cechy - cena oferty\"}, \"xaxis\": {\"anchor\": \"y\", \"domain\": [0.0, 1.0], \"title\": {\"text\": \"Cena oferty\"}}, \"yaxis\": {\"anchor\": \"x\", \"domain\": [0.0, 1.0]}},\n",
              "                        {\"responsive\": true}\n",
              "                    ).then(function(){\n",
              "                            \n",
              "var gd = document.getElementById('cc339d2c-8971-4720-91e4-73ddd5bc1d21');\n",
              "var x = new MutationObserver(function (mutations, observer) {{\n",
              "        var display = window.getComputedStyle(gd).display;\n",
              "        if (!display || display === 'none') {{\n",
              "            console.log([gd, 'removed!']);\n",
              "            Plotly.purge(gd);\n",
              "            observer.disconnect();\n",
              "        }}\n",
              "}});\n",
              "\n",
              "// Listen for the removal of the full notebook cells\n",
              "var notebookContainer = gd.closest('#notebook-container');\n",
              "if (notebookContainer) {{\n",
              "    x.observe(notebookContainer, {childList: true});\n",
              "}}\n",
              "\n",
              "// Listen for the clearing of the current output cell\n",
              "var outputEl = gd.closest('.output');\n",
              "if (outputEl) {{\n",
              "    x.observe(outputEl, {childList: true});\n",
              "}}\n",
              "\n",
              "                        })\n",
              "                };\n",
              "                \n",
              "            </script>\n",
              "        </div>\n",
              "</body>\n",
              "</html>"
            ]
          },
          "metadata": {}
        }
      ]
    },
    {
      "cell_type": "markdown",
      "metadata": {
        "id": "PTtm0g2p-W1Q"
      },
      "source": [
        "Jak widzisz, w niektórych zbiorach są wartości odstające. Do identyfikacji anomalii użyjemy funkcji IQR z nieco zmodyfikowanymi parametrami kwartyli:\n",
        "\n"
      ]
    },
    {
      "cell_type": "code",
      "metadata": {
        "id": "9g-DcWx69FK9"
      },
      "source": [
        "# Zdefiniowanie funkcji IQR_outliers, która oznaczy wartości odstające\n",
        "def IQR_outliers(a, b, c):\n",
        "  Q1, Q3 = np.percentile(a, [b, c])       # Modyfikacja wartości kwartyli\n",
        "  IQR = Q3 - Q1\n",
        "\n",
        "  upper_limit = Q3 + (1.5 * IQR)\n",
        "  lower_limit = Q1 - (1.5 * IQR)\n",
        "  print('Górne ograniczenie: ', upper_limit, '\\n', 'Dolne ograniczenie: ', lower_limit)\n",
        "\n",
        "  indexes = np.where((a > upper_limit) | (a < lower_limit))\n",
        "  b = np.full(shape = a.shape[0], fill_value = 1)\n",
        "  b[indexes] = -1\n",
        "\n",
        "  return b"
      ],
      "execution_count": 105,
      "outputs": []
    },
    {
      "cell_type": "code",
      "metadata": {
        "colab": {
          "base_uri": "https://localhost:8080/",
          "height": 710
        },
        "id": "bCOW0ivE-rWz",
        "outputId": "9729f917-92c0-441c-fbd5-79a3c4598d11"
      },
      "source": [
        "# Użycie funkcji na zbiorze danych - cena. Zmodyfikujemy nieco wartośćkwartyli, tak aby być bardziej tolerancyjnym na wyższe ceny:\n",
        "dane_ML['Flaga IQR'] = IQR_outliers(dane_ML['Cena oferty'], 25, 75)\n",
        "\n",
        "# Na wykresie będzie to wyglądało tak:\n",
        "plot4 = px.scatter(dane_ML,\n",
        "                   x = 'Liczba dni do wyjazdu',\n",
        "                   y = 'Cena oferty',\n",
        "                   color = 'Flaga IQR',\n",
        "                   title = 'Zależność ceny wycieczki od liczby dni pozostałych do wyjazdu ze wskazaniem biura podróży')\n",
        "\n",
        "plot4.show()"
      ],
      "execution_count": 106,
      "outputs": [
        {
          "output_type": "stream",
          "text": [
            "Górne ograniczenie:  3744.5 \n",
            " Dolne ograniczenie:  800.5\n"
          ],
          "name": "stdout"
        },
        {
          "output_type": "stream",
          "text": [
            "/usr/local/lib/python3.7/dist-packages/ipykernel_launcher.py:2: SettingWithCopyWarning:\n",
            "\n",
            "\n",
            "A value is trying to be set on a copy of a slice from a DataFrame.\n",
            "Try using .loc[row_indexer,col_indexer] = value instead\n",
            "\n",
            "See the caveats in the documentation: https://pandas.pydata.org/pandas-docs/stable/user_guide/indexing.html#returning-a-view-versus-a-copy\n",
            "\n"
          ],
          "name": "stderr"
        },
        {
          "output_type": "display_data",
          "data": {
            "text/html": [
              "<html>\n",
              "<head><meta charset=\"utf-8\" /></head>\n",
              "<body>\n",
              "    <div>\n",
              "            <script src=\"https://cdnjs.cloudflare.com/ajax/libs/mathjax/2.7.5/MathJax.js?config=TeX-AMS-MML_SVG\"></script><script type=\"text/javascript\">if (window.MathJax) {MathJax.Hub.Config({SVG: {font: \"STIX-Web\"}});}</script>\n",
              "                <script type=\"text/javascript\">window.PlotlyConfig = {MathJaxConfig: 'local'};</script>\n",
              "        <script src=\"https://cdn.plot.ly/plotly-latest.min.js\"></script>    \n",
              "            <div id=\"00afbe3c-6969-456d-bdb3-9d78b6e4fde9\" class=\"plotly-graph-div\" style=\"height:525px; width:100%;\"></div>\n",
              "            <script type=\"text/javascript\">\n",
              "                \n",
              "                    window.PLOTLYENV=window.PLOTLYENV || {};\n",
              "                    \n",
              "                if (document.getElementById(\"00afbe3c-6969-456d-bdb3-9d78b6e4fde9\")) {\n",
              "                    Plotly.newPlot(\n",
              "                        '00afbe3c-6969-456d-bdb3-9d78b6e4fde9',\n",
              "                        [{\"hoverlabel\": {\"namelength\": 0}, \"hovertemplate\": \"Liczba dni do wyjazdu=%{x}<br>Cena oferty=%{y}<br>Flaga IQR=%{marker.color}\", \"legendgroup\": \"\", \"marker\": {\"color\": [1, 1, 1, 1, 1, 1, 1, 1, 1, 1, 1, 1, 1, 1, 1, 1, 1, 1, 1, 1, 1, 1, 1, 1, 1, 1, 1, 1, 1, 1, 1, 1, 1, 1, 1, 1, 1, 1, 1, 1, 1, 1, 1, 1, 1, 1, 1, 1, 1, 1, 1, 1, 1, 1, 1, 1, 1, 1, 1, 1, 1, 1, 1, 1, 1, 1, 1, 1, 1, 1, 1, 1, 1, 1, 1, 1, 1, 1, 1, 1, 1, 1, 1, 1, 1, 1, 1, 1, 1, 1, 1, 1, 1, 1, 1, 1, 1, 1, 1, 1, 1, 1, 1, 1, 1, 1, 1, 1, 1, 1, 1, 1, -1, 1, 1, 1, 1, 1, 1, 1, 1, 1, 1, 1, 1, 1, 1, 1, 1, 1, 1, 1, 1, 1, 1, 1, 1, 1, 1, 1, 1, 1, 1, 1, 1, 1, 1, 1, 1, 1, 1, 1, 1, 1, 1, 1, 1, 1, 1, 1, 1, 1, 1, 1, 1, 1, 1, 1, 1, 1, 1, 1, 1, 1, 1, 1, 1, 1, 1, 1, 1, 1, 1, 1, 1, 1, 1, 1, 1, 1, 1, 1, 1, 1, 1, 1, 1, 1, 1, 1, 1, 1, 1, 1, 1, 1, 1, 1, 1, 1, 1, 1, 1, 1, 1, 1, 1, 1, 1, 1, 1, 1, 1, 1, 1, 1, 1, 1, 1, 1, 1, 1, 1, 1, 1, 1, 1, 1, 1, 1, 1, 1, 1, 1, 1, -1, 1, 1, 1, 1, 1, 1, 1, -1, 1, 1, 1, 1, 1, 1, 1, 1, 1, 1, 1, 1, 1, 1, 1, 1, 1, 1, 1, 1, 1, 1, 1, 1, 1, 1, 1, 1, 1, 1, 1, 1, 1, 1, 1, -1, 1, 1, 1, 1, 1, 1, 1, 1, 1, -1, 1, 1, 1, 1, 1, 1, 1, 1, 1, 1, 1, 1, 1, -1, 1, 1, 1, 1, 1, 1, 1, 1, 1, 1, -1, 1, 1, 1, 1, 1, 1, 1, 1, 1, 1, 1, 1, 1, 1, 1, -1, 1, 1, 1, 1, 1, 1, 1, 1, 1, 1, 1, 1, -1, 1, 1, 1, 1, 1, 1, 1, 1, 1, 1, 1, 1, 1, 1, 1, 1, 1, 1, 1, 1, 1, 1, 1, 1, 1, 1, 1, 1, 1, 1, 1, 1, 1, 1, 1, 1, 1, 1, 1, 1, 1, 1, 1, 1, 1, 1, 1, 1, 1, 1, 1, 1, 1, 1, 1, 1, 1, 1, 1, 1, 1, 1, 1, 1, 1, 1, 1, 1, 1, 1, 1, 1, 1, 1, 1, 1, 1, 1, 1, 1, 1, 1, 1, 1, 1, 1, 1, 1, 1, 1, 1, 1, 1, 1, 1, 1, 1, 1, 1, 1, 1, 1, 1, 1, 1, 1, 1, 1, 1, 1, 1, 1, 1, 1, 1, 1, 1, 1, 1, 1, 1, 1, 1, 1, 1, 1, 1, 1, 1, 1, 1, 1, 1, 1, 1, 1, 1, 1, 1, 1, 1, 1, 1, 1, 1, 1, 1, 1, 1, 1, 1, -1, 1, 1, 1, 1, 1, 1, 1, 1, 1, 1, 1, 1, 1, 1, 1, 1, 1, 1, 1, -1, 1, 1, 1, 1, 1, 1, -1, 1, 1, 1, 1, 1, 1, 1, 1, 1, 1, 1, 1, 1, 1, 1, 1, 1, 1, 1, 1, -1, 1, 1, 1, 1, 1, 1, 1, 1, -1, 1, 1, 1, -1, -1, -1, 1, 1, 1, 1, 1, 1, 1, 1, 1, 1, -1, 1, 1, 1, 1, 1, 1, 1, 1, 1, 1, 1, 1, 1, -1, 1, 1, 1, 1, -1, -1, 1, 1, 1, 1, 1, 1, 1, 1, 1, 1, 1, 1, 1, 1, -1, 1, 1, 1, 1, 1, 1, 1, 1, 1, 1, 1, 1, 1, 1, 1, 1, 1, 1, 1, 1, 1, 1, 1, 1, 1, 1, -1, 1, 1, 1, 1, 1, -1, 1, -1, -1, 1, 1, 1, 1, 1, 1, 1, 1, 1, 1, 1, 1, 1, 1, 1, 1, 1, 1, 1, 1, 1, 1, 1, 1, 1, 1, 1, 1, 1, 1, 1, 1, 1, 1, 1, 1, -1, 1, 1, 1, 1, 1, 1, -1, 1, 1, 1, 1, 1, -1, -1, 1, 1, 1, 1, 1, 1, 1, 1, 1, 1, 1, 1, 1, 1, 1, 1, 1, 1, 1, 1, 1, 1, 1, 1, 1, 1, 1, 1, 1, 1, 1, 1, 1, 1, 1, 1, 1, -1, -1, 1, 1, 1, 1, 1, 1, 1, 1, 1, 1, 1, 1, -1, 1, 1, 1, 1, -1, 1, 1, 1, -1, 1, 1, 1, 1, 1, 1, 1, 1, 1, 1, -1, 1, -1, 1, 1, -1, 1, 1, 1, -1, 1, 1, 1, -1, 1, 1, 1, 1, 1, 1, 1, 1, -1, -1, 1, 1, 1, 1, 1, -1, 1, -1, 1, 1, 1, 1, -1, 1, 1, 1, 1, 1, 1, 1, 1, 1, 1, 1, 1, 1, 1, -1, 1, 1, 1, -1, 1, 1, 1, 1, 1, 1, 1, 1, 1, 1, 1, 1, 1, 1, 1, 1, 1, 1, 1, 1, -1, 1, 1, 1, 1, 1, -1, 1, 1, 1, 1, 1, 1, 1, 1, 1, 1, -1, 1, 1, 1, 1, 1, 1, 1, 1, 1, -1, 1, 1, 1, 1, 1, 1, 1, 1, 1, 1, 1, 1, 1, 1, 1, 1, 1, 1, 1, 1, 1, -1, 1, 1, 1, 1, 1, 1, 1, 1, 1, 1, -1, 1, 1, -1, 1, 1, 1, 1, 1, 1, -1, 1, 1, 1, 1, 1, 1, 1, -1, 1, -1, 1, 1, 1, 1, -1, 1, 1, 1, 1, 1, 1, 1, 1, 1, 1, 1, 1, 1, 1, 1, 1, 1, 1, 1, 1, 1, 1, 1, 1, 1, 1, 1, 1, 1, 1, 1, 1, 1, -1, 1, 1, 1, 1, 1, -1, 1, 1, 1, 1, 1, 1, 1, 1, 1, 1, 1, 1, 1, 1, 1, 1, 1, 1, 1, -1, 1, 1, 1, 1], \"coloraxis\": \"coloraxis\", \"symbol\": \"circle\"}, \"mode\": \"markers\", \"name\": \"\", \"showlegend\": false, \"type\": \"scatter\", \"x\": [70, 60, 46, 73, 42, 56, 59, 45, 70, 73, 59, 27, 27, 52, 60, 3, 27, 73, 52, 49, 57, 58, 45, 54, 58, 59, 39, 46, 59, 143, 73, 52, 45, 1, 70, 80, 60, 47, 1, 66, 73, 56, 70, 59, 20, 59, 60, 6, 60, 58, 416, 51, 58, 77, 70, 58, 77, 70, 59, 54, 59, 143, 49, 60, 49, 70, 39, 70, 70, 39, 46, 84, 70, 54, 70, 60, 14, 60, 51, 52, 52, 34, 59, 1, 35, 27, 6, 60, 255, 42, 70, 58, 50, 53, 56, 56, 59, 51, 80, 59, 59, 59, 56, 60, 87, 52, 73, 60, 54, 56, 60, 39, 49, 63, 4, 2, 42, 42, 1, 54, 58, 1, 52, 58, 4, 70, 29, 46, 51, 58, 60, 59, 53, 52, 87, 57, 7, 51, 3, 60, 60, 4, 20, 133, 58, 70, 70, 56, 257, 7, 58, 4, 70, 7, 20, 66, 59, 35, 42, 73, 52, 52, 77, 1, 59, 56, 59, 59, 60, 4, 70, 58, 54, 32, 35, 257, 4, 49, 58, 54, 52, 20, 14, 52, 150, 59, 59, 60, 87, 51, 14, 60, 58, 53, 178, 257, 59, 58, 59, 58, 70, 59, 70, 73, 58, 58, 14, 52, 59, 256, 416, 73, 252, 57, 59, 49, 59, 58, 58, 14, 1, 80, 58, 58, 256, 58, 416, 7, 73, 58, 46, 59, 25, 59, 73, 45, 52, 59, 252, 227, 7, 73, 25, 185, 55, 60, 58, 1, 154, 42, 28, 1, 108, 59, 256, 77, 58, 60, 58, 27, 59, 59, 73, 7, 58, 58, 58, 105, 108, 31, 31, 59, 80, 140, 56, 7, 56, 51, 80, 56, 49, 58, 241, 59, 58, 7, 87, 73, 50, 112, 256, 73, 58, 59, 60, 52, 54, 57, 59, 52, 42, 28, 108, 58, 40, 66, 47, 7, 3, 60, 59, 51, 58, 46, 53, 47, 52, 58, 4, 59, 58, 220, 129, 4, 59, 52, 58, 49, 4, 58, 7, 70, 43, 58, 252, 58, 53, 56, 31, 31, 52, 43, 58, 53, 73, 45, 59, 51, 7, 35, 256, 46, 63, 105, 29, 51, 7, 60, 58, 70, 49, 39, 70, 150, 108, 7, 220, 129, 7, 1, 59, 101, 58, 42, 46, 58, 54, 58, 7, 1, 59, 101, 58, 58, 56, 43, 38, 129, 7, 51, 51, 18, 24, 8, 42, 29, 50, 58, 105, 42, 22, 39, 58, 59, 42, 252, 59, 8, 60, 20, 58, 51, 46, 59, 80, 46, 157, 70, 56, 80, 58, 58, 58, 56, 38, 46, 4, 105, 46, 60, 58, 56, 35, 45, 59, 5, 50, 59, 112, 73, 31, 52, 43, 6, 7, 7, 39, 77, 60, 112, 59, 59, 60, 56, 56, 46, 46, 58, 58, 59, 56, 15, 58, 42, 56, 24, 6, 49, 7, 56, 42, 35, 35, 58, 56, 43, 38, 129, 21, 73, 63, 87, 73, 59, 108, 51, 59, 56, 56, 56, 47, 58, 58, 45, 58, 31, 56, 56, 4, 87, 52, 59, 101, 51, 51, 35, 58, 58, 35, 220, 42, 46, 241, 108, 255, 43, 10, 9, 56, 73, 70, 60, 59, 73, 60, 52, 80, 56, 42, 58, 58, 58, 58, 220, 410, 9, 30, 11, 42, 51, 40, 59, 101, 56, 56, 42, 45, 58, 227, 58, 46, 39, 54, 45, 58, 58, 51, 58, 38, 38, 4, 40, 60, 59, 57, 60, 60, 44, 59, 25, 4, 404, 53, 38, 410, 3, 6, 4, 40, 56, 59, 35, 58, 54, 58, 31, 51, 58, 58, 58, 42, 58, 58, 31, 252, 38, 43, 6, 7, 7, 14, 10, 7, 1, 178, 73, 101, 101, 40, 45, 52, 59, 59, 56, 59, 42, 56, 46, 46, 59, 56, 58, 47, 58, 45, 58, 42, 14, 31, 52, 45, 52, 52, 25, 108, 10, 5, 185, 53, 40, 38, 410, 21, 5, 43, 20, 53, 43, 59, 35, 59, 56, 56, 56, 42, 42, 56, 54, 58, 58, 58, 45, 58, 58, 58, 56, 42, 14, 56, 7, 7, 46, 52, 58, 43, 59, 20, 87, 59, 55, 70, 40, 58, 56, 14, 45, 58, 45, 7, 70, 40, 48, 70, 40, 42, 60, 56, 59, 56, 7, 17, 40, 55, 58, 50, 40, 59, 70, 40, 35, 35, 56, 42, 56, 56, 1, 416, 252, 410, 9, 2, 49, 46, 60, 55, 58, 60, 58, 50, 58, 58, 14, 42, 35, 43, 60, 38, 3, 56, 56, 56, 42, 56, 56, 56, 58, 58, 58, 59, 39, 58, 34, 70, 53, 43, 60, 101, 210, 73, 52, 59, 56, 56, 59, 56, 56, 56, 56, 49, 21, 14, 42, 45, 10, 49, 25, 59, 133, 57, 40, 51, 37, 51, 40, 77, 51, 60, 59, 43, 60, 58, 150, 40, 70, 40, 59, 73, 56, 42, 21, 42, 47, 46, 46, 46, 58, 58, 45, 58, 59, 59, 59, 59, 49, 59, 59, 35, 56, 49, 56, 56, 42, 56, 59, 58, 58, 45, 58, 45, 56, 56, 4, 4, 4, 53, 38, 1, 241, 220, 21, 52, 56, 9, 27, 49, 7, 7, 49, 5, 43, 40, 6, 40, 58, 40, 58, 31, 56, 58, 58, 58, 58, 58, 35, 35, 42, 56, 42, 35, 42, 56, 4, 4, 4, 39, 108, 14, 66, 56, 59, 73, 59, 56, 56, 3, 3, 40, 59, 108, 47, 59, 59, 50, 59, 59, 40, 40, 40, 40, 43, 1, 40, 250, 256, 43, 59, 59, 3, 3, 24, 14, 24, 14, 49, 49, 49, 5, 112, 59, 39, 59, 6, 59, 40, 40, 58, 40, 58, 147, 56, 54, 40, 40, 58, 37, 40, 40, 58, 40, 53, 59, 136, 40, 42, 73, 14, 56, 35, 35, 56, 42, 56, 56, 46, 25, 4, 4, 53, 108, 255, 38, 43, 24, 21, 14, 40, 40, 58, 40, 40, 58, 40, 40, 40, 18, 40, 40, 58, 40, 56, 56, 56, 56, 35, 49, 59, 35, 59, 59, 56, 56, 56, 56, 59, 49, 56, 46, 25, 4], \"xaxis\": \"x\", \"y\": [1719.0, 2110.0, 2183.0, 1832.0, 1782.0, 1678.0, 1678.0, 2618.0, 1605.0, 1946.0, 1967.0, 1652.0, 1690.0, 1626.0, 2061.0, 2399.0, 2015.0, 2387.0, 1830.0, 1742.0, 1922.0, 1502.0, 2459.0, 1848.0, 1616.0, 2100.0, 2012.0, 1513.0, 1603.0, 1934.0, 1908.0, 1710.0, 1799.0, 1818.0, 1431.0, 2182.0, 2648.0, 1993.0, 1743.0, 1713.0, 2295.0, 1702.0, 1682.0, 1710.0, 1576.0, 1816.0, 1993.0, 2044.0, 1816.0, 1437.0, 1386.0, 1788.0, 2421.0, 1424.0, 1794.0, 1916.0, 2341.0, 1537.0, 1966.0, 1560.0, 1664.0, 2047.0, 1695.0, 2232.0, 1830.0, 2163.0, 1959.0, 1789.0, 1541.0, 1950.0, 2043.0, 2370.0, 1643.0, 2160.0, 2028.0, 1929.0, 1999.0, 1921.0, 1291.0, 1589.0, 1589.0, 1941.0, 1891.0, 1743.0, 1808.0, 1917.0, 1817.0, 2080.0, 1298.0, 1511.0, 1759.0, 2217.0, 1778.0, 2187.0, 2324.0, 2528.0, 1863.0, 1718.0, 2220.0, 2860.0, 1884.0, 3284.0, 1898.0, 1781.0, 2294.0, 1986.0, 1424.0, 2226.0, 1710.0, 1747.0, 1747.0, 1816.0, 5258.0, 2383.0, 2299.0, 1999.0, 2064.0, 1601.0, 1820.0, 2044.0, 1970.0, 2688.0, 2345.0, 2047.0, 2299.0, 2029.0, 2222.0, 2319.0, 1869.0, 1589.0, 3178.0, 1823.0, 1959.0, 1740.0, 1764.0, 1913.0, 2339.0, 1488.0, 2299.0, 1664.0, 2421.0, 2299.0, 1652.0, 1544.0, 2794.0, 1462.0, 2245.0, 1641.0, 1414.0, 2759.0, 2794.0, 1749.0, 2245.0, 2759.0, 2161.0, 2180.0, 1634.0, 1601.0, 1740.0, 1724.0, 1626.0, 2241.0, 2105.0, 2399.0, 2383.0, 2319.0, 1816.0, 1967.0, 1986.0, 1887.0, 3089.0, 1850.0, 3368.0, 2350.0, 2042.0, 1684.0, 2199.0, 2649.0, 1841.0, 2676.0, 2043.0, 1727.0, 2197.0, 1589.0, 2206.0, 2243.0, 2346.0, 3026.0, 2616.0, 1882.0, 2197.0, 1770.0, 3440.0, 1958.0, 2679.0, 1684.0, 1952.0, 2651.0, 2151.0, 2151.0, 1779.0, 3495.0, 1537.0, 2023.0, 1743.0, 3440.0, 3126.0, 2270.0, 1935.0, 1504.0, 1436.0, 1867.0, 1973.0, 2178.0, 2587.0, 1976.0, 2296.0, 1912.0, 1780.0, 3126.0, 2153.0, 2338.0, 2240.0, 2134.0, 1504.0, 1853.0, 1436.0, 2159.0, 3357.0, 2255.0, 2366.0, 2752.0, 2049.0, 3399.0, 1764.0, 2029.0, 2270.0, 2562.0, 1944.0, 1977.0, 2359.0, 2256.0, 2139.0, 1864.0, 2743.0, 3944.0, 2443.0, 1629.0, 2168.0, 2135.0, 2000.0, 1659.0, 2168.0, 3958.0, 1606.0, 2216.0, 2443.0, 1842.0, 1626.0, 2257.0, 2773.0, 2080.0, 2154.0, 2659.0, 1589.0, 1780.0, 1696.0, 2581.0, 1361.0, 1599.0, 3549.0, 2860.0, 2428.0, 1632.0, 2232.0, 2659.0, 2497.0, 1401.0, 1953.0, 1658.0, 2451.0, 2453.0, 2197.0, 2270.0, 1740.0, 2259.0, 2043.0, 1840.0, 2886.0, 4870.0, 1576.0, 2256.0, 2213.0, 2159.0, 1962.0, 1676.0, 1995.0, 2626.0, 2459.0, 4206.0, 1314.0, 1980.0, 1544.0, 3065.0, 1766.0, 2029.0, 1861.0, 2659.0, 2999.0, 2123.0, 1814.0, 3440.0, 2351.0, 3981.0, 2138.0, 3673.0, 1924.0, 2269.0, 2299.0, 2043.0, 2351.0, 1563.0, 1577.0, 2299.0, 4055.0, 1924.0, 2269.0, 2719.0, 1999.0, 2193.0, 1869.0, 1984.0, 2156.0, 2127.0, 1313.0, 1937.0, 1853.0, 1831.0, 2720.0, 2720.0, 5107.0, 1550.0, 1937.0, 1853.0, 1916.0, 2292.0, 1925.0, 3440.0, 1869.0, 1491.0, 1467.0, 2569.0, 2296.0, 5437.0, 2489.0, 2155.0, 2359.0, 2469.0, 2055.0, 2659.0, 1891.0, 1987.0, 1552.0, 2288.0, 2100.0, 1999.0, 1563.0, 1577.0, 3459.0, 1761.0, 1914.0, 1932.0, 1921.0, 1662.0, 2499.0, 2229.0, 3308.0, 2640.0, 2159.0, 1761.0, 1914.0, 1932.0, 1921.0, 2671.0, 1971.0, 1670.0, 1912.0, 1389.0, 2159.0, 1950.0, 2385.0, 1859.0, 3461.0, 2499.0, 2758.0, 2283.0, 2005.0, 2138.0, 3356.0, 2758.0, 2283.0, 2005.0, 2405.0, 2138.0, 1662.0, 1175.0, 2229.0, 2499.0, 2020.0, 2869.0, 2858.0, 2220.0, 3509.0, 2345.0, 1802.0, 1746.0, 1956.0, 2000.0, 2268.0, 1802.0, 2049.0, 2000.0, 2235.0, 1711.0, 2728.0, 3509.0, 2099.0, 1502.0, 1746.0, 1880.0, 2267.0, 1971.0, 1641.0, 2079.0, 2807.0, 1603.0, 1876.0, 2156.0, 1578.0, 2985.0, 2319.0, 2001.0, 1550.0, 2799.0, 2459.0, 2359.0, 3229.0, 1840.0, 1702.0, 3054.0, 2618.0, 2262.0, 2617.0, 2169.0, 2890.0, 3169.0, 2529.0, 2324.0, 2278.0, 2262.0, 2268.0, 2399.0, 2508.0, 2893.0, 2001.0, 2491.0, 2799.0, 3499.0, 2359.0, 2378.0, 1507.0, 2245.0, 2201.0, 2457.0, 1711.0, 1670.0, 1981.0, 1389.0, 2131.0, 1940.0, 1906.0, 2329.0, 2548.0, 1823.0, 1949.0, 2143.0, 2302.0, 1950.0, 3658.0, 1637.0, 3492.0, 2801.0, 2303.0, 2119.0, 2961.0, 2119.0, 2181.0, 1941.0, 1859.0, 2329.0, 3717.0, 1823.0, 1949.0, 2143.0, 2220.0, 4028.0, 2278.0, 2457.0, 1644.0, 3315.0, 2101.0, 2999.0, 1538.0, 2304.0, 1677.0, 2000.0, 2159.0, 2999.0, 3212.0, 2319.0, 2672.0, 2884.0, 3569.0, 1912.0, 2269.0, 3965.0, 1821.0, 2378.0, 1507.0, 2259.0, 2858.0, 2303.0, 6510.0, 2610.0, 1651.0, 2199.0, 2599.0, 2199.0, 1832.0, 1771.0, 2054.0, 2398.0, 1779.0, 3658.0, 1637.0, 2284.0, 2119.0, 2961.0, 2048.0, 2713.0, 3139.0, 3369.0, 2085.0, 3899.0, 2380.0, 2079.0, 1978.0, 3146.0, 2728.0, 1912.0, 2599.0, 2179.0, 3804.0, 2432.0, 1892.0, 2043.0, 3751.0, 4070.0, 3972.0, 1869.0, 1859.0, 1833.0, 1964.0, 2361.0, 2077.0, 2531.0, 2999.0, 2599.0, 2179.0, 3977.0, 3227.0, 2758.0, 2502.0, 2411.0, 2664.0, 2499.0, 2431.0, 2664.0, 2409.0, 2439.0, 1966.0, 2175.0, 2568.0, 3939.0, 1973.0, 1931.0, 1650.0, 2999.0, 4259.0, 4259.0, 2499.0, 3059.0, 2659.0, 1999.0, 2063.0, 1655.0, 2288.0, 2168.0, 3021.0, 3132.0, 3064.0, 2630.0, 2515.0, 1753.0, 3982.0, 1761.0, 2031.0, 3169.0, 2529.0, 2969.0, 3106.0, 2724.0, 2996.0, 2029.0, 2389.0, 2691.0, 2893.0, 3573.0, 3239.0, 2499.0, 3199.0, 3449.0, 2499.0, 1869.0, 1656.0, 3059.0, 2264.0, 2063.0, 2497.0, 2284.0, 1961.0, 4743.0, 2201.0, 2264.0, 1665.0, 1780.0, 2497.0, 5354.0, 1915.0, 3932.0, 10782.0, 1983.0, 2321.0, 1914.0, 1657.0, 1918.0, 1829.0, 2411.0, 2664.0, 2664.0, 2409.0, 2389.0, 2691.0, 2175.0, 2568.0, 2868.0, 1791.0, 2538.0, 2221.0, 2559.0, 2559.0, 2709.0, 3556.0, 3074.0, 1665.0, 2262.0, 1780.0, 3592.0, 1915.0, 2258.0, 2983.0, 1765.0, 1746.0, 2213.0, 1879.0, 2310.0, 2405.0, 4199.0, 3599.0, 2256.0, 1719.0, 2258.0, 2983.0, 1794.0, 4123.0, 1746.0, 2259.0, 3251.0, 2347.0, 2659.0, 3859.0, 4224.0, 2075.0, 1761.0, 1924.0, 3478.0, 2202.0, 2256.0, 1689.0, 2151.0, 2141.0, 1621.0, 1641.0, 2061.0, 1781.0, 2171.0, 1920.0, 2096.0, 1446.0, 2599.0, 2599.0, 3179.0, 2709.0, 3178.0, 2075.0, 1761.0, 1710.0, 1872.0, 1924.0, 3488.0, 2637.0, 2181.0, 2011.0, 1641.0, 2021.0, 2258.0, 1961.0, 2531.0, 2636.0, 4170.0, 4088.0, 1949.0, 1595.0, 1818.0, 1903.0, 2335.0, 2801.0, 2358.0, 2894.0, 2332.0, 1706.0, 1897.0, 1988.0, 4161.0, 3519.0, 2861.0, 2155.0, 2548.0, 3834.0, 2118.0, 2561.0, 2780.0, 4791.0, 3073.0, 2159.0, 1765.0, 2185.0, 2159.0, 1829.0, 2151.0, 2121.0, 2669.0, 2259.0, 3759.0, 2869.0, 4748.0, 3026.0, 1817.0, 5144.0, 1794.0, 1892.0, 2039.0, 35186.0, 1870.0, 2014.0, 1659.0, 4123.0, 2633.0, 2332.0, 3078.0, 1686.0, 1694.0, 2285.0, 1988.0, 2515.0, 3908.0, 3834.0, 2213.0, 1991.0, 1931.0, 2795.0, 3462.0, 4379.0, 3589.0, 4519.0, 2547.0, 2529.0, 2308.0, 2525.0, 3908.0, 3178.0, 3277.0, 2849.0, 3512.0, 2619.0, 2397.0, 2159.0, 3292.0, 2780.0, 2232.0, 3548.0, 1991.0, 1939.0, 3214.0, 7251.0, 3079.0, 2469.0, 3460.0, 3949.0, 3321.0, 2001.0, 1959.0, 1789.0, 2219.0, 2510.0, 2205.0, 2476.0, 2541.0, 1439.0, 2201.0, 2479.0, 2031.0, 2599.0, 2799.0, 3709.0, 2459.0, 3559.0, 3249.0, 1929.0, 5683.0, 1774.0, 2738.0, 2233.0, 1816.0, 2291.0, 3915.0, 3470.0, 2393.0, 2772.0, 2213.0, 2311.0, 3402.0, 3151.0, 2001.0, 1731.0, 2301.0, 3881.0, 1981.0, 1831.0, 1961.0, 3691.0, 2779.0, 1689.0, 2219.0, 3699.0, 1829.0, 6401.0, 2275.0, 2565.0, 2777.0, 3242.0, 3688.0, 2769.0, 2746.0, 2399.0, 2799.0, 2820.0, 2572.0, 2127.0, 2514.0, 2033.0, 2667.0, 2232.0, 2247.0, 3348.0, 1916.0, 2249.0, 2249.0, 7129.0, 1803.0, 2900.0, 2442.0, 1507.0, 1879.0, 1671.0, 2195.0, 2129.0, 3490.0, 2571.0, 4071.0, 2161.0, 2751.0, 6081.0, 3709.0, 2379.0, 3249.0, 1929.0, 2127.0, 2033.0, 5683.0, 2667.0, 2738.0, 3348.0, 2203.0, 2219.0, 1816.0, 2219.0, 3915.0, 2982.0, 4464.0, 1995.0, 2562.0, 2165.0, 2580.0, 17649.0, 2400.0, 2530.0, 1779.0, 2536.0, 3178.0, 2484.0, 1796.0, 1902.0, 2284.0, 2023.0, 2802.0, 2511.0, 2151.0, 2141.0, 1621.0, 1641.0, 2061.0, 1781.0, 1949.0, 2459.0, 3469.0, 2079.0, 1964.0, 2274.0, 1677.0, 1962.0, 2000.0, 2531.0, 2151.0, 2121.0, 1998.0, 2236.0, 1847.0, 42883.0, 3063.0, 2030.0, 2563.0, 2818.0, 2327.0, 4202.0, 2546.0, 2589.0, 2811.0, 2332.0, 3021.0, 2041.0, 2161.0, 2151.0, 2581.0, 3271.0, 2861.0, 2251.0, 2671.0, 2551.0, 1841.0, 2641.0, 2141.0, 2541.0, 2411.0, 4421.0, 2071.0, 1949.0, 2459.0, 2079.0], \"yaxis\": \"y\"}],\n",
              "                        {\"coloraxis\": {\"colorbar\": {\"title\": {\"text\": \"Flaga IQR\"}}, \"colorscale\": [[0.0, \"#0d0887\"], [0.1111111111111111, \"#46039f\"], [0.2222222222222222, \"#7201a8\"], [0.3333333333333333, \"#9c179e\"], [0.4444444444444444, \"#bd3786\"], [0.5555555555555556, \"#d8576b\"], [0.6666666666666666, \"#ed7953\"], [0.7777777777777778, \"#fb9f3a\"], [0.8888888888888888, \"#fdca26\"], [1.0, \"#f0f921\"]]}, \"legend\": {\"tracegroupgap\": 0}, \"template\": {\"data\": {\"bar\": [{\"error_x\": {\"color\": \"#2a3f5f\"}, \"error_y\": {\"color\": \"#2a3f5f\"}, \"marker\": {\"line\": {\"color\": \"#E5ECF6\", \"width\": 0.5}}, \"type\": \"bar\"}], \"barpolar\": [{\"marker\": {\"line\": {\"color\": \"#E5ECF6\", \"width\": 0.5}}, \"type\": \"barpolar\"}], \"carpet\": [{\"aaxis\": {\"endlinecolor\": \"#2a3f5f\", \"gridcolor\": \"white\", \"linecolor\": \"white\", \"minorgridcolor\": \"white\", \"startlinecolor\": \"#2a3f5f\"}, \"baxis\": {\"endlinecolor\": \"#2a3f5f\", \"gridcolor\": \"white\", \"linecolor\": \"white\", \"minorgridcolor\": \"white\", \"startlinecolor\": \"#2a3f5f\"}, \"type\": \"carpet\"}], \"choropleth\": [{\"colorbar\": {\"outlinewidth\": 0, \"ticks\": \"\"}, \"type\": \"choropleth\"}], \"contour\": [{\"colorbar\": {\"outlinewidth\": 0, \"ticks\": \"\"}, \"colorscale\": [[0.0, \"#0d0887\"], [0.1111111111111111, \"#46039f\"], [0.2222222222222222, \"#7201a8\"], [0.3333333333333333, \"#9c179e\"], [0.4444444444444444, \"#bd3786\"], [0.5555555555555556, \"#d8576b\"], [0.6666666666666666, \"#ed7953\"], [0.7777777777777778, \"#fb9f3a\"], [0.8888888888888888, \"#fdca26\"], [1.0, \"#f0f921\"]], \"type\": \"contour\"}], \"contourcarpet\": [{\"colorbar\": {\"outlinewidth\": 0, \"ticks\": \"\"}, \"type\": \"contourcarpet\"}], \"heatmap\": [{\"colorbar\": {\"outlinewidth\": 0, \"ticks\": \"\"}, \"colorscale\": [[0.0, \"#0d0887\"], [0.1111111111111111, \"#46039f\"], [0.2222222222222222, \"#7201a8\"], [0.3333333333333333, \"#9c179e\"], [0.4444444444444444, \"#bd3786\"], [0.5555555555555556, \"#d8576b\"], [0.6666666666666666, \"#ed7953\"], [0.7777777777777778, \"#fb9f3a\"], [0.8888888888888888, \"#fdca26\"], [1.0, \"#f0f921\"]], \"type\": \"heatmap\"}], \"heatmapgl\": [{\"colorbar\": {\"outlinewidth\": 0, \"ticks\": \"\"}, \"colorscale\": [[0.0, \"#0d0887\"], [0.1111111111111111, \"#46039f\"], [0.2222222222222222, \"#7201a8\"], [0.3333333333333333, \"#9c179e\"], [0.4444444444444444, \"#bd3786\"], [0.5555555555555556, \"#d8576b\"], [0.6666666666666666, \"#ed7953\"], [0.7777777777777778, \"#fb9f3a\"], [0.8888888888888888, \"#fdca26\"], [1.0, \"#f0f921\"]], \"type\": \"heatmapgl\"}], \"histogram\": [{\"marker\": {\"colorbar\": {\"outlinewidth\": 0, \"ticks\": \"\"}}, \"type\": \"histogram\"}], \"histogram2d\": [{\"colorbar\": {\"outlinewidth\": 0, \"ticks\": \"\"}, \"colorscale\": [[0.0, \"#0d0887\"], [0.1111111111111111, \"#46039f\"], [0.2222222222222222, \"#7201a8\"], [0.3333333333333333, \"#9c179e\"], [0.4444444444444444, \"#bd3786\"], [0.5555555555555556, \"#d8576b\"], [0.6666666666666666, \"#ed7953\"], [0.7777777777777778, \"#fb9f3a\"], [0.8888888888888888, \"#fdca26\"], [1.0, \"#f0f921\"]], \"type\": \"histogram2d\"}], \"histogram2dcontour\": [{\"colorbar\": {\"outlinewidth\": 0, \"ticks\": \"\"}, \"colorscale\": [[0.0, \"#0d0887\"], [0.1111111111111111, \"#46039f\"], [0.2222222222222222, \"#7201a8\"], [0.3333333333333333, \"#9c179e\"], [0.4444444444444444, \"#bd3786\"], [0.5555555555555556, \"#d8576b\"], [0.6666666666666666, \"#ed7953\"], [0.7777777777777778, \"#fb9f3a\"], [0.8888888888888888, \"#fdca26\"], [1.0, \"#f0f921\"]], \"type\": \"histogram2dcontour\"}], \"mesh3d\": [{\"colorbar\": {\"outlinewidth\": 0, \"ticks\": \"\"}, \"type\": \"mesh3d\"}], \"parcoords\": [{\"line\": {\"colorbar\": {\"outlinewidth\": 0, \"ticks\": \"\"}}, \"type\": \"parcoords\"}], \"pie\": [{\"automargin\": true, \"type\": \"pie\"}], \"scatter\": [{\"marker\": {\"colorbar\": {\"outlinewidth\": 0, \"ticks\": \"\"}}, \"type\": \"scatter\"}], \"scatter3d\": [{\"line\": {\"colorbar\": {\"outlinewidth\": 0, \"ticks\": \"\"}}, \"marker\": {\"colorbar\": {\"outlinewidth\": 0, \"ticks\": \"\"}}, \"type\": \"scatter3d\"}], \"scattercarpet\": [{\"marker\": {\"colorbar\": {\"outlinewidth\": 0, \"ticks\": \"\"}}, \"type\": \"scattercarpet\"}], \"scattergeo\": [{\"marker\": {\"colorbar\": {\"outlinewidth\": 0, \"ticks\": \"\"}}, \"type\": \"scattergeo\"}], \"scattergl\": [{\"marker\": {\"colorbar\": {\"outlinewidth\": 0, \"ticks\": \"\"}}, \"type\": \"scattergl\"}], \"scattermapbox\": [{\"marker\": {\"colorbar\": {\"outlinewidth\": 0, \"ticks\": \"\"}}, \"type\": \"scattermapbox\"}], \"scatterpolar\": [{\"marker\": {\"colorbar\": {\"outlinewidth\": 0, \"ticks\": \"\"}}, \"type\": \"scatterpolar\"}], \"scatterpolargl\": [{\"marker\": {\"colorbar\": {\"outlinewidth\": 0, \"ticks\": \"\"}}, \"type\": \"scatterpolargl\"}], \"scatterternary\": [{\"marker\": {\"colorbar\": {\"outlinewidth\": 0, \"ticks\": \"\"}}, \"type\": \"scatterternary\"}], \"surface\": [{\"colorbar\": {\"outlinewidth\": 0, \"ticks\": \"\"}, \"colorscale\": [[0.0, \"#0d0887\"], [0.1111111111111111, \"#46039f\"], [0.2222222222222222, \"#7201a8\"], [0.3333333333333333, \"#9c179e\"], [0.4444444444444444, \"#bd3786\"], [0.5555555555555556, \"#d8576b\"], [0.6666666666666666, \"#ed7953\"], [0.7777777777777778, \"#fb9f3a\"], [0.8888888888888888, \"#fdca26\"], [1.0, \"#f0f921\"]], \"type\": \"surface\"}], \"table\": [{\"cells\": {\"fill\": {\"color\": \"#EBF0F8\"}, \"line\": {\"color\": \"white\"}}, \"header\": {\"fill\": {\"color\": \"#C8D4E3\"}, \"line\": {\"color\": \"white\"}}, \"type\": \"table\"}]}, \"layout\": {\"annotationdefaults\": {\"arrowcolor\": \"#2a3f5f\", \"arrowhead\": 0, \"arrowwidth\": 1}, \"coloraxis\": {\"colorbar\": {\"outlinewidth\": 0, \"ticks\": \"\"}}, \"colorscale\": {\"diverging\": [[0, \"#8e0152\"], [0.1, \"#c51b7d\"], [0.2, \"#de77ae\"], [0.3, \"#f1b6da\"], [0.4, \"#fde0ef\"], [0.5, \"#f7f7f7\"], [0.6, \"#e6f5d0\"], [0.7, \"#b8e186\"], [0.8, \"#7fbc41\"], [0.9, \"#4d9221\"], [1, \"#276419\"]], \"sequential\": [[0.0, \"#0d0887\"], [0.1111111111111111, \"#46039f\"], [0.2222222222222222, \"#7201a8\"], [0.3333333333333333, \"#9c179e\"], [0.4444444444444444, \"#bd3786\"], [0.5555555555555556, \"#d8576b\"], [0.6666666666666666, \"#ed7953\"], [0.7777777777777778, \"#fb9f3a\"], [0.8888888888888888, \"#fdca26\"], [1.0, \"#f0f921\"]], \"sequentialminus\": [[0.0, \"#0d0887\"], [0.1111111111111111, \"#46039f\"], [0.2222222222222222, \"#7201a8\"], [0.3333333333333333, \"#9c179e\"], [0.4444444444444444, \"#bd3786\"], [0.5555555555555556, \"#d8576b\"], [0.6666666666666666, \"#ed7953\"], [0.7777777777777778, \"#fb9f3a\"], [0.8888888888888888, \"#fdca26\"], [1.0, \"#f0f921\"]]}, \"colorway\": [\"#636efa\", \"#EF553B\", \"#00cc96\", \"#ab63fa\", \"#FFA15A\", \"#19d3f3\", \"#FF6692\", \"#B6E880\", \"#FF97FF\", \"#FECB52\"], \"font\": {\"color\": \"#2a3f5f\"}, \"geo\": {\"bgcolor\": \"white\", \"lakecolor\": \"white\", \"landcolor\": \"#E5ECF6\", \"showlakes\": true, \"showland\": true, \"subunitcolor\": \"white\"}, \"hoverlabel\": {\"align\": \"left\"}, \"hovermode\": \"closest\", \"mapbox\": {\"style\": \"light\"}, \"paper_bgcolor\": \"white\", \"plot_bgcolor\": \"#E5ECF6\", \"polar\": {\"angularaxis\": {\"gridcolor\": \"white\", \"linecolor\": \"white\", \"ticks\": \"\"}, \"bgcolor\": \"#E5ECF6\", \"radialaxis\": {\"gridcolor\": \"white\", \"linecolor\": \"white\", \"ticks\": \"\"}}, \"scene\": {\"xaxis\": {\"backgroundcolor\": \"#E5ECF6\", \"gridcolor\": \"white\", \"gridwidth\": 2, \"linecolor\": \"white\", \"showbackground\": true, \"ticks\": \"\", \"zerolinecolor\": \"white\"}, \"yaxis\": {\"backgroundcolor\": \"#E5ECF6\", \"gridcolor\": \"white\", \"gridwidth\": 2, \"linecolor\": \"white\", \"showbackground\": true, \"ticks\": \"\", \"zerolinecolor\": \"white\"}, \"zaxis\": {\"backgroundcolor\": \"#E5ECF6\", \"gridcolor\": \"white\", \"gridwidth\": 2, \"linecolor\": \"white\", \"showbackground\": true, \"ticks\": \"\", \"zerolinecolor\": \"white\"}}, \"shapedefaults\": {\"line\": {\"color\": \"#2a3f5f\"}}, \"ternary\": {\"aaxis\": {\"gridcolor\": \"white\", \"linecolor\": \"white\", \"ticks\": \"\"}, \"baxis\": {\"gridcolor\": \"white\", \"linecolor\": \"white\", \"ticks\": \"\"}, \"bgcolor\": \"#E5ECF6\", \"caxis\": {\"gridcolor\": \"white\", \"linecolor\": \"white\", \"ticks\": \"\"}}, \"title\": {\"x\": 0.05}, \"xaxis\": {\"automargin\": true, \"gridcolor\": \"white\", \"linecolor\": \"white\", \"ticks\": \"\", \"title\": {\"standoff\": 15}, \"zerolinecolor\": \"white\", \"zerolinewidth\": 2}, \"yaxis\": {\"automargin\": true, \"gridcolor\": \"white\", \"linecolor\": \"white\", \"ticks\": \"\", \"title\": {\"standoff\": 15}, \"zerolinecolor\": \"white\", \"zerolinewidth\": 2}}}, \"title\": {\"text\": \"Zale\\u017cno\\u015b\\u0107 ceny wycieczki od liczby dni pozosta\\u0142ych do wyjazdu ze wskazaniem biura podr\\u00f3\\u017cy\"}, \"xaxis\": {\"anchor\": \"y\", \"domain\": [0.0, 1.0], \"title\": {\"text\": \"Liczba dni do wyjazdu\"}}, \"yaxis\": {\"anchor\": \"x\", \"domain\": [0.0, 1.0], \"title\": {\"text\": \"Cena oferty\"}}},\n",
              "                        {\"responsive\": true}\n",
              "                    ).then(function(){\n",
              "                            \n",
              "var gd = document.getElementById('00afbe3c-6969-456d-bdb3-9d78b6e4fde9');\n",
              "var x = new MutationObserver(function (mutations, observer) {{\n",
              "        var display = window.getComputedStyle(gd).display;\n",
              "        if (!display || display === 'none') {{\n",
              "            console.log([gd, 'removed!']);\n",
              "            Plotly.purge(gd);\n",
              "            observer.disconnect();\n",
              "        }}\n",
              "}});\n",
              "\n",
              "// Listen for the removal of the full notebook cells\n",
              "var notebookContainer = gd.closest('#notebook-container');\n",
              "if (notebookContainer) {{\n",
              "    x.observe(notebookContainer, {childList: true});\n",
              "}}\n",
              "\n",
              "// Listen for the clearing of the current output cell\n",
              "var outputEl = gd.closest('.output');\n",
              "if (outputEl) {{\n",
              "    x.observe(outputEl, {childList: true});\n",
              "}}\n",
              "\n",
              "                        })\n",
              "                };\n",
              "                \n",
              "            </script>\n",
              "        </div>\n",
              "</body>\n",
              "</html>"
            ]
          },
          "metadata": {}
        }
      ]
    },
    {
      "cell_type": "code",
      "metadata": {
        "colab": {
          "base_uri": "https://localhost:8080/"
        },
        "id": "3sMes5w9_d88",
        "outputId": "fc3bb107-c792-463f-e792-b09fa72fadc1"
      },
      "source": [
        "# IQR wytypowało obserwacje do usunięcia. Usuwamy:\n",
        "dane_ML = dane_ML[dane_ML['Flaga IQR'] != -1]\n",
        "print(dane_ML.shape)"
      ],
      "execution_count": 108,
      "outputs": [
        {
          "output_type": "stream",
          "text": [
            "(938, 5)\n"
          ],
          "name": "stdout"
        }
      ]
    },
    {
      "cell_type": "code",
      "metadata": {
        "colab": {
          "base_uri": "https://localhost:8080/",
          "height": 576
        },
        "id": "tNBd8id3wdrW",
        "outputId": "1af9554b-7db8-4a7f-a75d-7cc2d23317f1"
      },
      "source": [
        "# Użycie funkcji na zbiorze danych - Liczba dni do wyjazdu. Zmodyfikujemy nieco wartośćkwartyli, tak aby być bardziej tolerancyjnym na wyższe ceny:\n",
        "dane_ML['Flaga IQR'] = IQR_outliers(dane_ML['Liczba dni do wyjazdu'], 25, 75)\n",
        "\n",
        "# Na wykresie będzie to wyglądało tak:\n",
        "plot5 = px.scatter(dane_ML,\n",
        "                   x = 'Liczba dni do wyjazdu',\n",
        "                   y = 'Cena oferty',\n",
        "                   color = 'Flaga IQR',\n",
        "                   title = 'Zależność ceny wycieczki od liczby dni pozostałych do wyjazdu ze wskazaniem biura podróży')\n",
        "\n",
        "plot5.show()"
      ],
      "execution_count": 109,
      "outputs": [
        {
          "output_type": "stream",
          "text": [
            "Górne ograniczenie:  87.5 \n",
            " Dolne ograniczenie:  11.5\n"
          ],
          "name": "stdout"
        },
        {
          "output_type": "display_data",
          "data": {
            "text/html": [
              "<html>\n",
              "<head><meta charset=\"utf-8\" /></head>\n",
              "<body>\n",
              "    <div>\n",
              "            <script src=\"https://cdnjs.cloudflare.com/ajax/libs/mathjax/2.7.5/MathJax.js?config=TeX-AMS-MML_SVG\"></script><script type=\"text/javascript\">if (window.MathJax) {MathJax.Hub.Config({SVG: {font: \"STIX-Web\"}});}</script>\n",
              "                <script type=\"text/javascript\">window.PlotlyConfig = {MathJaxConfig: 'local'};</script>\n",
              "        <script src=\"https://cdn.plot.ly/plotly-latest.min.js\"></script>    \n",
              "            <div id=\"c3ade029-957c-47c9-beb3-011e47a2556f\" class=\"plotly-graph-div\" style=\"height:525px; width:100%;\"></div>\n",
              "            <script type=\"text/javascript\">\n",
              "                \n",
              "                    window.PLOTLYENV=window.PLOTLYENV || {};\n",
              "                    \n",
              "                if (document.getElementById(\"c3ade029-957c-47c9-beb3-011e47a2556f\")) {\n",
              "                    Plotly.newPlot(\n",
              "                        'c3ade029-957c-47c9-beb3-011e47a2556f',\n",
              "                        [{\"hoverlabel\": {\"namelength\": 0}, \"hovertemplate\": \"Liczba dni do wyjazdu=%{x}<br>Cena oferty=%{y}<br>Flaga IQR=%{marker.color}\", \"legendgroup\": \"\", \"marker\": {\"color\": [1, 1, 1, 1, 1, 1, 1, 1, 1, 1, 1, 1, 1, 1, 1, -1, 1, 1, 1, 1, 1, 1, 1, 1, 1, 1, 1, 1, 1, -1, 1, 1, 1, -1, 1, 1, 1, 1, -1, 1, 1, 1, 1, 1, 1, 1, 1, -1, 1, 1, -1, 1, 1, 1, 1, 1, 1, 1, 1, 1, 1, -1, 1, 1, 1, 1, 1, 1, 1, 1, 1, 1, 1, 1, 1, 1, 1, 1, 1, 1, 1, 1, 1, -1, 1, 1, -1, 1, -1, 1, 1, 1, 1, 1, 1, 1, 1, 1, 1, 1, 1, 1, 1, 1, 1, 1, 1, 1, 1, 1, 1, 1, 1, -1, -1, 1, 1, -1, 1, 1, -1, 1, 1, -1, 1, 1, 1, 1, 1, 1, 1, 1, 1, 1, 1, -1, 1, -1, 1, 1, -1, 1, -1, 1, 1, 1, 1, -1, -1, 1, -1, 1, -1, 1, 1, 1, 1, 1, 1, 1, 1, 1, -1, 1, 1, 1, 1, 1, -1, 1, 1, 1, 1, 1, -1, -1, 1, 1, 1, 1, 1, 1, 1, -1, 1, 1, 1, 1, 1, 1, 1, 1, 1, -1, -1, 1, 1, 1, 1, 1, 1, 1, 1, 1, 1, 1, 1, 1, -1, -1, 1, -1, 1, 1, 1, 1, 1, 1, 1, -1, 1, 1, 1, -1, 1, -1, -1, 1, 1, 1, 1, 1, 1, 1, 1, 1, 1, -1, -1, -1, 1, 1, -1, 1, 1, -1, -1, 1, 1, -1, -1, -1, 1, 1, 1, 1, 1, 1, 1, 1, -1, 1, 1, 1, -1, -1, 1, 1, 1, 1, -1, 1, -1, 1, 1, 1, 1, 1, 1, -1, 1, 1, -1, 1, 1, 1, -1, 1, 1, 1, 1, 1, 1, 1, 1, 1, 1, -1, 1, 1, 1, 1, -1, -1, 1, 1, 1, 1, 1, 1, 1, 1, -1, 1, 1, -1, -1, -1, 1, 1, 1, -1, 1, -1, 1, 1, 1, -1, 1, 1, 1, 1, 1, 1, 1, 1, 1, 1, 1, 1, -1, 1, -1, 1, 1, 1, 1, -1, 1, 1, 1, 1, 1, 1, -1, -1, -1, -1, -1, -1, -1, 1, -1, 1, 1, 1, 1, 1, 1, -1, -1, 1, -1, 1, 1, 1, 1, 1, -1, -1, 1, 1, 1, 1, -1, 1, 1, 1, 1, -1, 1, 1, 1, 1, 1, 1, -1, 1, -1, 1, 1, 1, 1, 1, 1, 1, 1, -1, 1, 1, 1, 1, 1, 1, 1, 1, 1, -1, -1, 1, 1, 1, 1, 1, 1, 1, -1, 1, 1, -1, 1, 1, 1, 1, -1, -1, -1, 1, 1, 1, -1, 1, 1, 1, 1, 1, 1, 1, 1, 1, 1, 1, 1, 1, 1, 1, 1, -1, 1, -1, 1, 1, 1, 1, 1, 1, 1, 1, -1, 1, 1, 1, 1, 1, 1, -1, 1, 1, 1, 1, 1, 1, 1, 1, 1, 1, 1, 1, 1, -1, 1, 1, 1, -1, 1, 1, 1, 1, 1, -1, 1, 1, -1, -1, -1, 1, -1, -1, 1, 1, 1, 1, 1, 1, 1, 1, 1, 1, 1, 1, 1, -1, -1, -1, 1, -1, 1, 1, 1, 1, -1, 1, 1, 1, 1, 1, -1, 1, 1, 1, 1, 1, 1, 1, 1, 1, 1, -1, 1, 1, 1, 1, 1, -1, -1, 1, 1, -1, -1, -1, -1, 1, 1, 1, 1, 1, 1, 1, 1, 1, 1, 1, 1, 1, 1, -1, 1, 1, -1, 1, -1, -1, -1, -1, 1, -1, -1, 1, 1, 1, 1, 1, 1, 1, 1, 1, 1, 1, 1, 1, 1, 1, 1, 1, 1, 1, 1, 1, 1, 1, 1, 1, -1, -1, -1, -1, 1, 1, 1, 1, -1, 1, 1, 1, 1, 1, 1, 1, 1, 1, 1, 1, 1, 1, 1, 1, 1, 1, 1, 1, 1, 1, 1, -1, -1, 1, 1, 1, 1, 1, 1, 1, 1, 1, 1, 1, 1, 1, 1, 1, 1, -1, 1, 1, 1, 1, 1, 1, 1, 1, 1, -1, 1, 1, 1, 1, 1, 1, 1, 1, 1, 1, 1, 1, 1, -1, -1, -1, -1, -1, -1, 1, 1, 1, 1, 1, 1, 1, 1, 1, 1, 1, 1, 1, 1, 1, 1, -1, 1, 1, 1, 1, 1, 1, 1, 1, 1, 1, 1, 1, 1, 1, 1, -1, -1, 1, 1, 1, 1, 1, 1, 1, 1, 1, 1, 1, 1, 1, 1, 1, -1, 1, 1, 1, 1, 1, 1, 1, 1, 1, 1, -1, 1, 1, 1, 1, 1, 1, 1, 1, 1, 1, 1, 1, 1, 1, 1, 1, 1, 1, 1, 1, 1, 1, 1, 1, 1, 1, 1, 1, 1, 1, 1, 1, -1, -1, -1, 1, 1, -1, -1, -1, 1, 1, 1, -1, 1, 1, -1, -1, 1, -1, 1, -1, 1, 1, 1, 1, 1, 1, 1, 1, 1, 1, 1, 1, 1, 1, 1, 1, 1, -1, -1, -1, 1, -1, 1, 1, 1, 1, 1, 1, 1, -1, -1, 1, 1, -1, 1, 1, 1, 1, 1, 1, 1, 1, 1, 1, -1, 1, -1, -1, 1, 1, 1, -1, -1, 1, 1, 1, 1, 1, -1, -1, 1, 1, -1, 1, 1, 1, 1, 1, -1, 1, 1, 1, 1, 1, 1, 1, 1, 1, 1, -1, 1, 1, 1, 1, 1, 1, 1, 1, 1, 1, 1, 1, 1, -1, -1, 1, -1, -1, 1, 1, 1, 1, 1, 1, 1, 1, 1, 1, 1, 1, 1, 1, 1, 1, 1, 1, 1, 1, 1, 1, 1, 1, 1, 1, 1, 1, 1, 1, 1, 1, 1, 1, 1, -1], \"coloraxis\": \"coloraxis\", \"symbol\": \"circle\"}, \"mode\": \"markers\", \"name\": \"\", \"showlegend\": false, \"type\": \"scatter\", \"x\": [70, 60, 46, 73, 42, 56, 59, 45, 70, 73, 59, 27, 27, 52, 60, 3, 27, 73, 52, 49, 57, 58, 45, 54, 58, 59, 39, 46, 59, 143, 73, 52, 45, 1, 70, 80, 60, 47, 1, 66, 73, 56, 70, 59, 20, 59, 60, 6, 60, 58, 416, 51, 58, 77, 70, 58, 77, 70, 59, 54, 59, 143, 49, 60, 49, 70, 39, 70, 70, 39, 46, 84, 70, 54, 70, 60, 14, 60, 51, 52, 52, 34, 59, 1, 35, 27, 6, 60, 255, 42, 70, 58, 50, 53, 56, 56, 59, 51, 80, 59, 59, 59, 56, 60, 87, 52, 73, 60, 54, 56, 60, 39, 63, 4, 2, 42, 42, 1, 54, 58, 1, 52, 58, 4, 70, 29, 46, 51, 58, 60, 59, 53, 52, 87, 57, 7, 51, 3, 60, 60, 4, 20, 133, 58, 70, 70, 56, 257, 7, 58, 4, 70, 7, 20, 66, 59, 35, 42, 73, 52, 52, 77, 1, 59, 56, 59, 59, 60, 4, 70, 58, 54, 32, 35, 257, 4, 49, 58, 54, 52, 20, 14, 52, 150, 59, 59, 60, 87, 51, 14, 60, 58, 53, 178, 257, 59, 58, 59, 58, 70, 59, 70, 73, 58, 58, 14, 52, 59, 256, 416, 73, 252, 57, 59, 49, 59, 58, 58, 14, 1, 80, 58, 58, 256, 58, 416, 7, 73, 58, 46, 59, 25, 59, 73, 45, 52, 59, 252, 227, 7, 73, 25, 185, 55, 58, 1, 154, 42, 28, 1, 108, 256, 77, 58, 60, 58, 27, 59, 59, 73, 7, 58, 58, 58, 105, 108, 31, 31, 59, 80, 140, 56, 7, 56, 51, 80, 56, 49, 58, 241, 59, 58, 7, 87, 73, 50, 256, 73, 58, 59, 60, 52, 54, 57, 59, 42, 28, 108, 58, 40, 66, 47, 7, 3, 60, 59, 51, 58, 53, 47, 52, 58, 4, 59, 58, 220, 129, 4, 52, 58, 49, 4, 58, 7, 70, 43, 58, 252, 58, 53, 56, 31, 31, 43, 58, 53, 73, 45, 59, 51, 7, 35, 256, 46, 63, 29, 51, 7, 60, 58, 70, 49, 39, 70, 150, 108, 7, 220, 129, 7, 1, 59, 101, 58, 42, 46, 58, 54, 58, 7, 1, 59, 101, 58, 58, 56, 43, 38, 129, 7, 51, 51, 18, 24, 8, 42, 29, 50, 58, 105, 42, 22, 39, 58, 59, 42, 252, 59, 8, 60, 20, 58, 51, 46, 59, 80, 46, 157, 70, 56, 80, 58, 58, 58, 56, 38, 46, 4, 105, 46, 60, 58, 56, 35, 45, 59, 5, 50, 59, 112, 73, 31, 52, 43, 6, 7, 7, 39, 77, 60, 112, 59, 59, 60, 56, 56, 46, 46, 58, 58, 59, 56, 15, 58, 42, 56, 24, 6, 49, 7, 56, 42, 35, 35, 58, 56, 43, 38, 129, 21, 73, 63, 87, 73, 59, 108, 51, 59, 56, 56, 56, 47, 58, 58, 45, 58, 31, 56, 56, 4, 87, 52, 59, 101, 51, 51, 58, 58, 35, 220, 42, 46, 241, 108, 255, 43, 10, 9, 56, 73, 70, 60, 59, 73, 60, 80, 56, 42, 58, 58, 58, 220, 410, 9, 30, 11, 42, 51, 40, 59, 101, 56, 56, 42, 45, 58, 227, 58, 46, 39, 54, 58, 58, 51, 58, 38, 38, 4, 40, 59, 57, 60, 25, 4, 404, 53, 38, 410, 3, 6, 4, 40, 59, 35, 58, 54, 58, 31, 51, 58, 58, 58, 42, 58, 58, 252, 38, 43, 6, 14, 10, 7, 1, 178, 73, 101, 101, 40, 45, 52, 59, 59, 56, 42, 56, 46, 46, 59, 56, 58, 47, 58, 45, 58, 42, 14, 31, 52, 45, 52, 52, 25, 108, 10, 5, 185, 53, 40, 38, 21, 5, 43, 20, 53, 59, 56, 56, 56, 42, 42, 56, 54, 58, 58, 58, 45, 58, 58, 58, 56, 42, 14, 56, 7, 7, 46, 52, 58, 43, 59, 20, 87, 59, 55, 70, 40, 58, 56, 14, 45, 58, 7, 70, 40, 48, 70, 40, 60, 56, 59, 56, 7, 55, 58, 50, 40, 59, 70, 40, 35, 35, 56, 42, 56, 56, 1, 416, 252, 410, 9, 2, 49, 46, 60, 55, 58, 60, 58, 50, 58, 58, 14, 42, 35, 43, 60, 38, 3, 56, 42, 56, 56, 56, 58, 58, 58, 59, 39, 58, 34, 70, 43, 60, 101, 210, 52, 59, 56, 59, 56, 56, 56, 56, 49, 21, 14, 42, 45, 49, 59, 133, 40, 51, 37, 40, 77, 51, 59, 43, 60, 58, 150, 40, 70, 40, 56, 42, 21, 42, 47, 46, 58, 58, 45, 58, 59, 59, 59, 49, 59, 59, 35, 56, 49, 56, 56, 42, 56, 59, 58, 45, 58, 56, 56, 4, 4, 4, 53, 38, 1, 241, 220, 21, 52, 56, 9, 27, 49, 7, 7, 49, 5, 40, 6, 40, 58, 40, 31, 56, 58, 58, 58, 58, 58, 35, 35, 42, 42, 35, 42, 56, 4, 4, 4, 39, 108, 66, 56, 59, 73, 59, 56, 56, 3, 3, 40, 59, 108, 47, 59, 59, 50, 59, 59, 40, 40, 40, 43, 1, 40, 250, 256, 43, 59, 59, 3, 3, 14, 24, 49, 49, 49, 5, 112, 59, 59, 6, 59, 40, 40, 58, 40, 147, 54, 40, 40, 58, 40, 40, 58, 40, 53, 59, 136, 40, 42, 73, 14, 56, 35, 35, 56, 42, 56, 56, 46, 25, 4, 4, 53, 108, 255, 38, 43, 24, 21, 14, 40, 40, 58, 40, 58, 40, 40, 40, 40, 40, 58, 40, 56, 56, 56, 56, 35, 49, 59, 35, 59, 59, 56, 56, 56, 56, 59, 56, 46, 25, 4], \"xaxis\": \"x\", \"y\": [1719.0, 2110.0, 2183.0, 1832.0, 1782.0, 1678.0, 1678.0, 2618.0, 1605.0, 1946.0, 1967.0, 1652.0, 1690.0, 1626.0, 2061.0, 2399.0, 2015.0, 2387.0, 1830.0, 1742.0, 1922.0, 1502.0, 2459.0, 1848.0, 1616.0, 2100.0, 2012.0, 1513.0, 1603.0, 1934.0, 1908.0, 1710.0, 1799.0, 1818.0, 1431.0, 2182.0, 2648.0, 1993.0, 1743.0, 1713.0, 2295.0, 1702.0, 1682.0, 1710.0, 1576.0, 1816.0, 1993.0, 2044.0, 1816.0, 1437.0, 1386.0, 1788.0, 2421.0, 1424.0, 1794.0, 1916.0, 2341.0, 1537.0, 1966.0, 1560.0, 1664.0, 2047.0, 1695.0, 2232.0, 1830.0, 2163.0, 1959.0, 1789.0, 1541.0, 1950.0, 2043.0, 2370.0, 1643.0, 2160.0, 2028.0, 1929.0, 1999.0, 1921.0, 1291.0, 1589.0, 1589.0, 1941.0, 1891.0, 1743.0, 1808.0, 1917.0, 1817.0, 2080.0, 1298.0, 1511.0, 1759.0, 2217.0, 1778.0, 2187.0, 2324.0, 2528.0, 1863.0, 1718.0, 2220.0, 2860.0, 1884.0, 3284.0, 1898.0, 1781.0, 2294.0, 1986.0, 1424.0, 2226.0, 1710.0, 1747.0, 1747.0, 1816.0, 2383.0, 2299.0, 1999.0, 2064.0, 1601.0, 1820.0, 2044.0, 1970.0, 2688.0, 2345.0, 2047.0, 2299.0, 2029.0, 2222.0, 2319.0, 1869.0, 1589.0, 3178.0, 1823.0, 1959.0, 1740.0, 1764.0, 1913.0, 2339.0, 1488.0, 2299.0, 1664.0, 2421.0, 2299.0, 1652.0, 1544.0, 2794.0, 1462.0, 2245.0, 1641.0, 1414.0, 2759.0, 2794.0, 1749.0, 2245.0, 2759.0, 2161.0, 2180.0, 1634.0, 1601.0, 1740.0, 1724.0, 1626.0, 2241.0, 2105.0, 2399.0, 2383.0, 2319.0, 1816.0, 1967.0, 1986.0, 1887.0, 3089.0, 1850.0, 3368.0, 2350.0, 2042.0, 1684.0, 2199.0, 2649.0, 1841.0, 2676.0, 2043.0, 1727.0, 2197.0, 1589.0, 2206.0, 2243.0, 2346.0, 3026.0, 2616.0, 1882.0, 2197.0, 1770.0, 3440.0, 1958.0, 2679.0, 1684.0, 1952.0, 2651.0, 2151.0, 2151.0, 1779.0, 3495.0, 1537.0, 2023.0, 1743.0, 3440.0, 3126.0, 2270.0, 1935.0, 1504.0, 1436.0, 1867.0, 1973.0, 2178.0, 2587.0, 1976.0, 2296.0, 1912.0, 1780.0, 3126.0, 2153.0, 2338.0, 2240.0, 2134.0, 1504.0, 1853.0, 1436.0, 2159.0, 3357.0, 2255.0, 2366.0, 2752.0, 2049.0, 3399.0, 1764.0, 2029.0, 2270.0, 2562.0, 1944.0, 1977.0, 2359.0, 2256.0, 2139.0, 1864.0, 2743.0, 2443.0, 1629.0, 2168.0, 2135.0, 2000.0, 1659.0, 2168.0, 1606.0, 2216.0, 2443.0, 1842.0, 1626.0, 2257.0, 2773.0, 2080.0, 2154.0, 2659.0, 1589.0, 1780.0, 1696.0, 2581.0, 1361.0, 1599.0, 3549.0, 2860.0, 2428.0, 1632.0, 2232.0, 2659.0, 2497.0, 1401.0, 1953.0, 1658.0, 2451.0, 2453.0, 2197.0, 2270.0, 1740.0, 2259.0, 2043.0, 1840.0, 2886.0, 1576.0, 2256.0, 2213.0, 2159.0, 1962.0, 1676.0, 1995.0, 2626.0, 2459.0, 1314.0, 1980.0, 1544.0, 3065.0, 1766.0, 2029.0, 1861.0, 2659.0, 2999.0, 2123.0, 1814.0, 3440.0, 2351.0, 2138.0, 3673.0, 1924.0, 2269.0, 2299.0, 2043.0, 2351.0, 1563.0, 1577.0, 2299.0, 1924.0, 2269.0, 2719.0, 1999.0, 2193.0, 1869.0, 1984.0, 2156.0, 2127.0, 1313.0, 1937.0, 1853.0, 1831.0, 2720.0, 2720.0, 1550.0, 1937.0, 1853.0, 1916.0, 2292.0, 1925.0, 3440.0, 1869.0, 1491.0, 1467.0, 2569.0, 2296.0, 2489.0, 2155.0, 2359.0, 2469.0, 2055.0, 2659.0, 1891.0, 1987.0, 1552.0, 2288.0, 2100.0, 1999.0, 1563.0, 1577.0, 3459.0, 1761.0, 1914.0, 1932.0, 1921.0, 1662.0, 2499.0, 2229.0, 3308.0, 2640.0, 2159.0, 1761.0, 1914.0, 1932.0, 1921.0, 2671.0, 1971.0, 1670.0, 1912.0, 1389.0, 2159.0, 1950.0, 2385.0, 1859.0, 3461.0, 2499.0, 2758.0, 2283.0, 2005.0, 2138.0, 3356.0, 2758.0, 2283.0, 2005.0, 2405.0, 2138.0, 1662.0, 1175.0, 2229.0, 2499.0, 2020.0, 2869.0, 2858.0, 2220.0, 3509.0, 2345.0, 1802.0, 1746.0, 1956.0, 2000.0, 2268.0, 1802.0, 2049.0, 2000.0, 2235.0, 1711.0, 2728.0, 3509.0, 2099.0, 1502.0, 1746.0, 1880.0, 2267.0, 1971.0, 1641.0, 2079.0, 2807.0, 1603.0, 1876.0, 2156.0, 1578.0, 2985.0, 2319.0, 2001.0, 1550.0, 2799.0, 2459.0, 2359.0, 3229.0, 1840.0, 1702.0, 3054.0, 2618.0, 2262.0, 2617.0, 2169.0, 2890.0, 3169.0, 2529.0, 2324.0, 2278.0, 2262.0, 2268.0, 2399.0, 2508.0, 2893.0, 2001.0, 2491.0, 2799.0, 3499.0, 2359.0, 2378.0, 1507.0, 2245.0, 2201.0, 2457.0, 1711.0, 1670.0, 1981.0, 1389.0, 2131.0, 1940.0, 1906.0, 2329.0, 2548.0, 1823.0, 1949.0, 2143.0, 2302.0, 1950.0, 3658.0, 1637.0, 3492.0, 2801.0, 2303.0, 2119.0, 2961.0, 2119.0, 2181.0, 1941.0, 1859.0, 2329.0, 3717.0, 1823.0, 1949.0, 2143.0, 2220.0, 2278.0, 2457.0, 1644.0, 3315.0, 2101.0, 2999.0, 1538.0, 2304.0, 1677.0, 2000.0, 2159.0, 2999.0, 3212.0, 2319.0, 2672.0, 2884.0, 3569.0, 1912.0, 2269.0, 1821.0, 2378.0, 1507.0, 2259.0, 2858.0, 2303.0, 2610.0, 1651.0, 2199.0, 2599.0, 2199.0, 1832.0, 1771.0, 2054.0, 2398.0, 1779.0, 3658.0, 1637.0, 2284.0, 2119.0, 2961.0, 2048.0, 2713.0, 3139.0, 3369.0, 2085.0, 2380.0, 2079.0, 1978.0, 3146.0, 2728.0, 1912.0, 2599.0, 2179.0, 2432.0, 1892.0, 2043.0, 1869.0, 1859.0, 1833.0, 1964.0, 2361.0, 2077.0, 2531.0, 2999.0, 2599.0, 2179.0, 3227.0, 2758.0, 2502.0, 2411.0, 2664.0, 2499.0, 2431.0, 2664.0, 2409.0, 2439.0, 1966.0, 2175.0, 2568.0, 1973.0, 1931.0, 1650.0, 2999.0, 2499.0, 3059.0, 2659.0, 1999.0, 2063.0, 1655.0, 2288.0, 2168.0, 3021.0, 3132.0, 3064.0, 2630.0, 2515.0, 1753.0, 1761.0, 2031.0, 3169.0, 2529.0, 2969.0, 3106.0, 2724.0, 2996.0, 2029.0, 2389.0, 2691.0, 2893.0, 3573.0, 3239.0, 2499.0, 3199.0, 3449.0, 2499.0, 1869.0, 1656.0, 3059.0, 2264.0, 2063.0, 2497.0, 2284.0, 1961.0, 2201.0, 2264.0, 1665.0, 1780.0, 2497.0, 1915.0, 1983.0, 2321.0, 1914.0, 1657.0, 1918.0, 1829.0, 2411.0, 2664.0, 2664.0, 2409.0, 2389.0, 2691.0, 2175.0, 2568.0, 2868.0, 1791.0, 2538.0, 2221.0, 2559.0, 2559.0, 2709.0, 3556.0, 3074.0, 1665.0, 2262.0, 1780.0, 3592.0, 1915.0, 2258.0, 2983.0, 1765.0, 1746.0, 2213.0, 1879.0, 2310.0, 2405.0, 3599.0, 2256.0, 1719.0, 2258.0, 2983.0, 1794.0, 1746.0, 2259.0, 3251.0, 2347.0, 2659.0, 2075.0, 1761.0, 1924.0, 3478.0, 2202.0, 2256.0, 1689.0, 2151.0, 2141.0, 1621.0, 1641.0, 2061.0, 1781.0, 2171.0, 1920.0, 2096.0, 1446.0, 2599.0, 2599.0, 3179.0, 2709.0, 3178.0, 2075.0, 1761.0, 1710.0, 1872.0, 1924.0, 3488.0, 2637.0, 2181.0, 2011.0, 1641.0, 2021.0, 2258.0, 1961.0, 2531.0, 2636.0, 1949.0, 1595.0, 1818.0, 1903.0, 2335.0, 2801.0, 2358.0, 2894.0, 2332.0, 1706.0, 1897.0, 1988.0, 3519.0, 2861.0, 2155.0, 2548.0, 2118.0, 2561.0, 2780.0, 3073.0, 2159.0, 1765.0, 2185.0, 2159.0, 1829.0, 2151.0, 2121.0, 2669.0, 2259.0, 2869.0, 3026.0, 1817.0, 1794.0, 1892.0, 2039.0, 1870.0, 2014.0, 1659.0, 2633.0, 2332.0, 3078.0, 1686.0, 1694.0, 2285.0, 1988.0, 2515.0, 2213.0, 1991.0, 1931.0, 2795.0, 3462.0, 3589.0, 2547.0, 2529.0, 2308.0, 2525.0, 3178.0, 3277.0, 2849.0, 3512.0, 2619.0, 2397.0, 2159.0, 3292.0, 2780.0, 2232.0, 3548.0, 1991.0, 1939.0, 3214.0, 3079.0, 2469.0, 3460.0, 3321.0, 2001.0, 1959.0, 1789.0, 2219.0, 2510.0, 2205.0, 2476.0, 2541.0, 1439.0, 2201.0, 2479.0, 2031.0, 2599.0, 2799.0, 3709.0, 2459.0, 3559.0, 3249.0, 1929.0, 1774.0, 2738.0, 2233.0, 1816.0, 2291.0, 3470.0, 2393.0, 2772.0, 2213.0, 2311.0, 3402.0, 3151.0, 2001.0, 1731.0, 2301.0, 1981.0, 1831.0, 1961.0, 3691.0, 2779.0, 1689.0, 2219.0, 3699.0, 1829.0, 2275.0, 2565.0, 2777.0, 3242.0, 3688.0, 2769.0, 2746.0, 2399.0, 2799.0, 2820.0, 2572.0, 2127.0, 2514.0, 2033.0, 2667.0, 2232.0, 2247.0, 3348.0, 1916.0, 2249.0, 2249.0, 1803.0, 2900.0, 2442.0, 1507.0, 1879.0, 1671.0, 2195.0, 2129.0, 3490.0, 2571.0, 2161.0, 2751.0, 3709.0, 2379.0, 3249.0, 1929.0, 2127.0, 2033.0, 2667.0, 2738.0, 3348.0, 2203.0, 2219.0, 1816.0, 2219.0, 2982.0, 1995.0, 2562.0, 2165.0, 2580.0, 2400.0, 2530.0, 1779.0, 2536.0, 3178.0, 2484.0, 1796.0, 1902.0, 2284.0, 2023.0, 2802.0, 2511.0, 2151.0, 2141.0, 1621.0, 1641.0, 2061.0, 1781.0, 1949.0, 2459.0, 3469.0, 2079.0, 1964.0, 2274.0, 1677.0, 1962.0, 2000.0, 2531.0, 2151.0, 2121.0, 1998.0, 2236.0, 1847.0, 3063.0, 2030.0, 2563.0, 2818.0, 2327.0, 2546.0, 2589.0, 2811.0, 2332.0, 3021.0, 2041.0, 2161.0, 2151.0, 2581.0, 3271.0, 2861.0, 2251.0, 2671.0, 2551.0, 1841.0, 2641.0, 2141.0, 2541.0, 2411.0, 2071.0, 1949.0, 2459.0, 2079.0], \"yaxis\": \"y\"}],\n",
              "                        {\"coloraxis\": {\"colorbar\": {\"title\": {\"text\": \"Flaga IQR\"}}, \"colorscale\": [[0.0, \"#0d0887\"], [0.1111111111111111, \"#46039f\"], [0.2222222222222222, \"#7201a8\"], [0.3333333333333333, \"#9c179e\"], [0.4444444444444444, \"#bd3786\"], [0.5555555555555556, \"#d8576b\"], [0.6666666666666666, \"#ed7953\"], [0.7777777777777778, \"#fb9f3a\"], [0.8888888888888888, \"#fdca26\"], [1.0, \"#f0f921\"]]}, \"legend\": {\"tracegroupgap\": 0}, \"template\": {\"data\": {\"bar\": [{\"error_x\": {\"color\": \"#2a3f5f\"}, \"error_y\": {\"color\": \"#2a3f5f\"}, \"marker\": {\"line\": {\"color\": \"#E5ECF6\", \"width\": 0.5}}, \"type\": \"bar\"}], \"barpolar\": [{\"marker\": {\"line\": {\"color\": \"#E5ECF6\", \"width\": 0.5}}, \"type\": \"barpolar\"}], \"carpet\": [{\"aaxis\": {\"endlinecolor\": \"#2a3f5f\", \"gridcolor\": \"white\", \"linecolor\": \"white\", \"minorgridcolor\": \"white\", \"startlinecolor\": \"#2a3f5f\"}, \"baxis\": {\"endlinecolor\": \"#2a3f5f\", \"gridcolor\": \"white\", \"linecolor\": \"white\", \"minorgridcolor\": \"white\", \"startlinecolor\": \"#2a3f5f\"}, \"type\": \"carpet\"}], \"choropleth\": [{\"colorbar\": {\"outlinewidth\": 0, \"ticks\": \"\"}, \"type\": \"choropleth\"}], \"contour\": [{\"colorbar\": {\"outlinewidth\": 0, \"ticks\": \"\"}, \"colorscale\": [[0.0, \"#0d0887\"], [0.1111111111111111, \"#46039f\"], [0.2222222222222222, \"#7201a8\"], [0.3333333333333333, \"#9c179e\"], [0.4444444444444444, \"#bd3786\"], [0.5555555555555556, \"#d8576b\"], [0.6666666666666666, \"#ed7953\"], [0.7777777777777778, \"#fb9f3a\"], [0.8888888888888888, \"#fdca26\"], [1.0, \"#f0f921\"]], \"type\": \"contour\"}], \"contourcarpet\": [{\"colorbar\": {\"outlinewidth\": 0, \"ticks\": \"\"}, \"type\": \"contourcarpet\"}], \"heatmap\": [{\"colorbar\": {\"outlinewidth\": 0, \"ticks\": \"\"}, \"colorscale\": [[0.0, \"#0d0887\"], [0.1111111111111111, \"#46039f\"], [0.2222222222222222, \"#7201a8\"], [0.3333333333333333, \"#9c179e\"], [0.4444444444444444, \"#bd3786\"], [0.5555555555555556, \"#d8576b\"], [0.6666666666666666, \"#ed7953\"], [0.7777777777777778, \"#fb9f3a\"], [0.8888888888888888, \"#fdca26\"], [1.0, \"#f0f921\"]], \"type\": \"heatmap\"}], \"heatmapgl\": [{\"colorbar\": {\"outlinewidth\": 0, \"ticks\": \"\"}, \"colorscale\": [[0.0, \"#0d0887\"], [0.1111111111111111, \"#46039f\"], [0.2222222222222222, \"#7201a8\"], [0.3333333333333333, \"#9c179e\"], [0.4444444444444444, \"#bd3786\"], [0.5555555555555556, \"#d8576b\"], [0.6666666666666666, \"#ed7953\"], [0.7777777777777778, \"#fb9f3a\"], [0.8888888888888888, \"#fdca26\"], [1.0, \"#f0f921\"]], \"type\": \"heatmapgl\"}], \"histogram\": [{\"marker\": {\"colorbar\": {\"outlinewidth\": 0, \"ticks\": \"\"}}, \"type\": \"histogram\"}], \"histogram2d\": [{\"colorbar\": {\"outlinewidth\": 0, \"ticks\": \"\"}, \"colorscale\": [[0.0, \"#0d0887\"], [0.1111111111111111, \"#46039f\"], [0.2222222222222222, \"#7201a8\"], [0.3333333333333333, \"#9c179e\"], [0.4444444444444444, \"#bd3786\"], [0.5555555555555556, \"#d8576b\"], [0.6666666666666666, \"#ed7953\"], [0.7777777777777778, \"#fb9f3a\"], [0.8888888888888888, \"#fdca26\"], [1.0, \"#f0f921\"]], \"type\": \"histogram2d\"}], \"histogram2dcontour\": [{\"colorbar\": {\"outlinewidth\": 0, \"ticks\": \"\"}, \"colorscale\": [[0.0, \"#0d0887\"], [0.1111111111111111, \"#46039f\"], [0.2222222222222222, \"#7201a8\"], [0.3333333333333333, \"#9c179e\"], [0.4444444444444444, \"#bd3786\"], [0.5555555555555556, \"#d8576b\"], [0.6666666666666666, \"#ed7953\"], [0.7777777777777778, \"#fb9f3a\"], [0.8888888888888888, \"#fdca26\"], [1.0, \"#f0f921\"]], \"type\": \"histogram2dcontour\"}], \"mesh3d\": [{\"colorbar\": {\"outlinewidth\": 0, \"ticks\": \"\"}, \"type\": \"mesh3d\"}], \"parcoords\": [{\"line\": {\"colorbar\": {\"outlinewidth\": 0, \"ticks\": \"\"}}, \"type\": \"parcoords\"}], \"pie\": [{\"automargin\": true, \"type\": \"pie\"}], \"scatter\": [{\"marker\": {\"colorbar\": {\"outlinewidth\": 0, \"ticks\": \"\"}}, \"type\": \"scatter\"}], \"scatter3d\": [{\"line\": {\"colorbar\": {\"outlinewidth\": 0, \"ticks\": \"\"}}, \"marker\": {\"colorbar\": {\"outlinewidth\": 0, \"ticks\": \"\"}}, \"type\": \"scatter3d\"}], \"scattercarpet\": [{\"marker\": {\"colorbar\": {\"outlinewidth\": 0, \"ticks\": \"\"}}, \"type\": \"scattercarpet\"}], \"scattergeo\": [{\"marker\": {\"colorbar\": {\"outlinewidth\": 0, \"ticks\": \"\"}}, \"type\": \"scattergeo\"}], \"scattergl\": [{\"marker\": {\"colorbar\": {\"outlinewidth\": 0, \"ticks\": \"\"}}, \"type\": \"scattergl\"}], \"scattermapbox\": [{\"marker\": {\"colorbar\": {\"outlinewidth\": 0, \"ticks\": \"\"}}, \"type\": \"scattermapbox\"}], \"scatterpolar\": [{\"marker\": {\"colorbar\": {\"outlinewidth\": 0, \"ticks\": \"\"}}, \"type\": \"scatterpolar\"}], \"scatterpolargl\": [{\"marker\": {\"colorbar\": {\"outlinewidth\": 0, \"ticks\": \"\"}}, \"type\": \"scatterpolargl\"}], \"scatterternary\": [{\"marker\": {\"colorbar\": {\"outlinewidth\": 0, \"ticks\": \"\"}}, \"type\": \"scatterternary\"}], \"surface\": [{\"colorbar\": {\"outlinewidth\": 0, \"ticks\": \"\"}, \"colorscale\": [[0.0, \"#0d0887\"], [0.1111111111111111, \"#46039f\"], [0.2222222222222222, \"#7201a8\"], [0.3333333333333333, \"#9c179e\"], [0.4444444444444444, \"#bd3786\"], [0.5555555555555556, \"#d8576b\"], [0.6666666666666666, \"#ed7953\"], [0.7777777777777778, \"#fb9f3a\"], [0.8888888888888888, \"#fdca26\"], [1.0, \"#f0f921\"]], \"type\": \"surface\"}], \"table\": [{\"cells\": {\"fill\": {\"color\": \"#EBF0F8\"}, \"line\": {\"color\": \"white\"}}, \"header\": {\"fill\": {\"color\": \"#C8D4E3\"}, \"line\": {\"color\": \"white\"}}, \"type\": \"table\"}]}, \"layout\": {\"annotationdefaults\": {\"arrowcolor\": \"#2a3f5f\", \"arrowhead\": 0, \"arrowwidth\": 1}, \"coloraxis\": {\"colorbar\": {\"outlinewidth\": 0, \"ticks\": \"\"}}, \"colorscale\": {\"diverging\": [[0, \"#8e0152\"], [0.1, \"#c51b7d\"], [0.2, \"#de77ae\"], [0.3, \"#f1b6da\"], [0.4, \"#fde0ef\"], [0.5, \"#f7f7f7\"], [0.6, \"#e6f5d0\"], [0.7, \"#b8e186\"], [0.8, \"#7fbc41\"], [0.9, \"#4d9221\"], [1, \"#276419\"]], \"sequential\": [[0.0, \"#0d0887\"], [0.1111111111111111, \"#46039f\"], [0.2222222222222222, \"#7201a8\"], [0.3333333333333333, \"#9c179e\"], [0.4444444444444444, \"#bd3786\"], [0.5555555555555556, \"#d8576b\"], [0.6666666666666666, \"#ed7953\"], [0.7777777777777778, \"#fb9f3a\"], [0.8888888888888888, \"#fdca26\"], [1.0, \"#f0f921\"]], \"sequentialminus\": [[0.0, \"#0d0887\"], [0.1111111111111111, \"#46039f\"], [0.2222222222222222, \"#7201a8\"], [0.3333333333333333, \"#9c179e\"], [0.4444444444444444, \"#bd3786\"], [0.5555555555555556, \"#d8576b\"], [0.6666666666666666, \"#ed7953\"], [0.7777777777777778, \"#fb9f3a\"], [0.8888888888888888, \"#fdca26\"], [1.0, \"#f0f921\"]]}, \"colorway\": [\"#636efa\", \"#EF553B\", \"#00cc96\", \"#ab63fa\", \"#FFA15A\", \"#19d3f3\", \"#FF6692\", \"#B6E880\", \"#FF97FF\", \"#FECB52\"], \"font\": {\"color\": \"#2a3f5f\"}, \"geo\": {\"bgcolor\": \"white\", \"lakecolor\": \"white\", \"landcolor\": \"#E5ECF6\", \"showlakes\": true, \"showland\": true, \"subunitcolor\": \"white\"}, \"hoverlabel\": {\"align\": \"left\"}, \"hovermode\": \"closest\", \"mapbox\": {\"style\": \"light\"}, \"paper_bgcolor\": \"white\", \"plot_bgcolor\": \"#E5ECF6\", \"polar\": {\"angularaxis\": {\"gridcolor\": \"white\", \"linecolor\": \"white\", \"ticks\": \"\"}, \"bgcolor\": \"#E5ECF6\", \"radialaxis\": {\"gridcolor\": \"white\", \"linecolor\": \"white\", \"ticks\": \"\"}}, \"scene\": {\"xaxis\": {\"backgroundcolor\": \"#E5ECF6\", \"gridcolor\": \"white\", \"gridwidth\": 2, \"linecolor\": \"white\", \"showbackground\": true, \"ticks\": \"\", \"zerolinecolor\": \"white\"}, \"yaxis\": {\"backgroundcolor\": \"#E5ECF6\", \"gridcolor\": \"white\", \"gridwidth\": 2, \"linecolor\": \"white\", \"showbackground\": true, \"ticks\": \"\", \"zerolinecolor\": \"white\"}, \"zaxis\": {\"backgroundcolor\": \"#E5ECF6\", \"gridcolor\": \"white\", \"gridwidth\": 2, \"linecolor\": \"white\", \"showbackground\": true, \"ticks\": \"\", \"zerolinecolor\": \"white\"}}, \"shapedefaults\": {\"line\": {\"color\": \"#2a3f5f\"}}, \"ternary\": {\"aaxis\": {\"gridcolor\": \"white\", \"linecolor\": \"white\", \"ticks\": \"\"}, \"baxis\": {\"gridcolor\": \"white\", \"linecolor\": \"white\", \"ticks\": \"\"}, \"bgcolor\": \"#E5ECF6\", \"caxis\": {\"gridcolor\": \"white\", \"linecolor\": \"white\", \"ticks\": \"\"}}, \"title\": {\"x\": 0.05}, \"xaxis\": {\"automargin\": true, \"gridcolor\": \"white\", \"linecolor\": \"white\", \"ticks\": \"\", \"title\": {\"standoff\": 15}, \"zerolinecolor\": \"white\", \"zerolinewidth\": 2}, \"yaxis\": {\"automargin\": true, \"gridcolor\": \"white\", \"linecolor\": \"white\", \"ticks\": \"\", \"title\": {\"standoff\": 15}, \"zerolinecolor\": \"white\", \"zerolinewidth\": 2}}}, \"title\": {\"text\": \"Zale\\u017cno\\u015b\\u0107 ceny wycieczki od liczby dni pozosta\\u0142ych do wyjazdu ze wskazaniem biura podr\\u00f3\\u017cy\"}, \"xaxis\": {\"anchor\": \"y\", \"domain\": [0.0, 1.0], \"title\": {\"text\": \"Liczba dni do wyjazdu\"}}, \"yaxis\": {\"anchor\": \"x\", \"domain\": [0.0, 1.0], \"title\": {\"text\": \"Cena oferty\"}}},\n",
              "                        {\"responsive\": true}\n",
              "                    ).then(function(){\n",
              "                            \n",
              "var gd = document.getElementById('c3ade029-957c-47c9-beb3-011e47a2556f');\n",
              "var x = new MutationObserver(function (mutations, observer) {{\n",
              "        var display = window.getComputedStyle(gd).display;\n",
              "        if (!display || display === 'none') {{\n",
              "            console.log([gd, 'removed!']);\n",
              "            Plotly.purge(gd);\n",
              "            observer.disconnect();\n",
              "        }}\n",
              "}});\n",
              "\n",
              "// Listen for the removal of the full notebook cells\n",
              "var notebookContainer = gd.closest('#notebook-container');\n",
              "if (notebookContainer) {{\n",
              "    x.observe(notebookContainer, {childList: true});\n",
              "}}\n",
              "\n",
              "// Listen for the clearing of the current output cell\n",
              "var outputEl = gd.closest('.output');\n",
              "if (outputEl) {{\n",
              "    x.observe(outputEl, {childList: true});\n",
              "}}\n",
              "\n",
              "                        })\n",
              "                };\n",
              "                \n",
              "            </script>\n",
              "        </div>\n",
              "</body>\n",
              "</html>"
            ]
          },
          "metadata": {}
        }
      ]
    },
    {
      "cell_type": "code",
      "metadata": {
        "colab": {
          "base_uri": "https://localhost:8080/"
        },
        "id": "EJClCF9HwdiK",
        "outputId": "6e5a4723-751c-4fa7-a1c6-210376bd74ba"
      },
      "source": [
        "# IQR wytypowało obserwacje do usunięcia. Usuwamy:\n",
        "dane_ML = dane_ML[dane_ML['Flaga IQR'] != -1]\n",
        "print(dane_ML.shape)"
      ],
      "execution_count": 110,
      "outputs": [
        {
          "output_type": "stream",
          "text": [
            "(759, 5)\n"
          ],
          "name": "stdout"
        }
      ]
    },
    {
      "cell_type": "code",
      "metadata": {
        "id": "71DR7G_tAFN7"
      },
      "source": [
        "# Usuwamy kolumnę 'Flaga IQR', ponieważ iż że dlategoż, bo nie jest już potrzebna:\n",
        "dane_ML = dane_ML.drop(columns = ['Flaga IQR'])"
      ],
      "execution_count": 111,
      "outputs": []
    },
    {
      "cell_type": "code",
      "metadata": {
        "colab": {
          "base_uri": "https://localhost:8080/",
          "height": 365
        },
        "id": "2ZEDULZsAPUi",
        "outputId": "23f6d72a-00cd-4db3-d53c-a1a96183ed69"
      },
      "source": [
        "# Rozkład cech:\n",
        "dane_ML.hist(bins = 10)"
      ],
      "execution_count": 112,
      "outputs": [
        {
          "output_type": "execute_result",
          "data": {
            "text/plain": [
              "array([[<matplotlib.axes._subplots.AxesSubplot object at 0x7fd8cc22b690>,\n",
              "        <matplotlib.axes._subplots.AxesSubplot object at 0x7fd8cc224b90>],\n",
              "       [<matplotlib.axes._subplots.AxesSubplot object at 0x7fd8bd2a1250>,\n",
              "        <matplotlib.axes._subplots.AxesSubplot object at 0x7fd8ce6308d0>]],\n",
              "      dtype=object)"
            ]
          },
          "metadata": {},
          "execution_count": 112
        },
        {
          "output_type": "display_data",
          "data": {
            "image/png": "[encoded data removed]",
            "text/plain": [
              "<Figure size 432x288 with 4 Axes>"
            ]
          },
          "metadata": {
            "needs_background": "light"
          }
        }
      ]
    },
    {
      "cell_type": "code",
      "metadata": {
        "colab": {
          "base_uri": "https://localhost:8080/",
          "height": 596
        },
        "id": "0TnxN-shAaFJ",
        "outputId": "ac811f53-a373-4a3f-b6f9-70d9cc3fd350"
      },
      "source": [
        "# Sprawdzenie korelacji między zmiennymi:\n",
        "korelacja = dane_ML.corr()\n",
        "f, ax = plt.subplots(figsize = (10, 10))\n",
        "sns.heatmap(korelacja, square = True, annot = True)"
      ],
      "execution_count": 113,
      "outputs": [
        {
          "output_type": "execute_result",
          "data": {
            "text/plain": [
              "<matplotlib.axes._subplots.AxesSubplot at 0x7fd8bc81b5d0>"
            ]
          },
          "metadata": {},
          "execution_count": 113
        },
        {
          "output_type": "display_data",
          "data": {
            "image/png": "[encoded data removed]",
            "text/plain": [
              "<Figure size 720x720 with 2 Axes>"
            ]
          },
          "metadata": {
            "needs_background": "light"
          }
        }
      ]
    },
    {
      "cell_type": "markdown",
      "metadata": {
        "id": "EhIGjqiSBBNG"
      },
      "source": [
        "Jak widać, między zmiennymi nie ma dużej korelacji. Trudno więc o usuwanie jakiejkolwiek ze względu na to kryterium."
      ]
    },
    {
      "cell_type": "markdown",
      "metadata": {
        "id": "jtC9p0Z7FXXj"
      },
      "source": [
        "4. Kodowanie zmiennych kategorycznych"
      ]
    },
    {
      "cell_type": "markdown",
      "metadata": {
        "id": "z7jjVB__GLhw"
      },
      "source": [
        "Do zakodowania mamy dwie zmienne: 'Region' i 'Rodzaj wyżywienia'. Zakodujemy je za pomocą funkcji get_dummies():"
      ]
    },
    {
      "cell_type": "code",
      "metadata": {
        "colab": {
          "base_uri": "https://localhost:8080/",
          "height": 343
        },
        "id": "G574dMOvA3cB",
        "outputId": "4b3905f7-3bd1-4b45-d418-37e2b27702a4"
      },
      "source": [
        "dane_ML = pd.get_dummies(dane_ML, columns = ['Region'], prefix_sep = ': ')\n",
        "dane_ML.head(10)"
      ],
      "execution_count": 115,
      "outputs": [
        {
          "output_type": "execute_result",
          "data": {
            "text/html": [
              "<div>\n",
              "<style scoped>\n",
              "    .dataframe tbody tr th:only-of-type {\n",
              "        vertical-align: middle;\n",
              "    }\n",
              "\n",
              "    .dataframe tbody tr th {\n",
              "        vertical-align: top;\n",
              "    }\n",
              "\n",
              "    .dataframe thead th {\n",
              "        text-align: right;\n",
              "    }\n",
              "</style>\n",
              "<table border=\"1\" class=\"dataframe\">\n",
              "  <thead>\n",
              "    <tr style=\"text-align: right;\">\n",
              "      <th></th>\n",
              "      <th>Kategoria hotelu</th>\n",
              "      <th>Liczba dni do wyjazdu</th>\n",
              "      <th>Cena oferty</th>\n",
              "      <th>Region: Riwiera Egejska</th>\n",
              "      <th>Region: Riwiera Turecka</th>\n",
              "    </tr>\n",
              "  </thead>\n",
              "  <tbody>\n",
              "    <tr>\n",
              "      <th>0</th>\n",
              "      <td>5.0</td>\n",
              "      <td>70</td>\n",
              "      <td>1719.0</td>\n",
              "      <td>0</td>\n",
              "      <td>1</td>\n",
              "    </tr>\n",
              "    <tr>\n",
              "      <th>1</th>\n",
              "      <td>5.0</td>\n",
              "      <td>60</td>\n",
              "      <td>2110.0</td>\n",
              "      <td>0</td>\n",
              "      <td>1</td>\n",
              "    </tr>\n",
              "    <tr>\n",
              "      <th>2</th>\n",
              "      <td>5.0</td>\n",
              "      <td>46</td>\n",
              "      <td>2183.0</td>\n",
              "      <td>1</td>\n",
              "      <td>0</td>\n",
              "    </tr>\n",
              "    <tr>\n",
              "      <th>3</th>\n",
              "      <td>5.0</td>\n",
              "      <td>73</td>\n",
              "      <td>1832.0</td>\n",
              "      <td>0</td>\n",
              "      <td>1</td>\n",
              "    </tr>\n",
              "    <tr>\n",
              "      <th>4</th>\n",
              "      <td>5.0</td>\n",
              "      <td>42</td>\n",
              "      <td>1782.0</td>\n",
              "      <td>0</td>\n",
              "      <td>1</td>\n",
              "    </tr>\n",
              "    <tr>\n",
              "      <th>5</th>\n",
              "      <td>4.0</td>\n",
              "      <td>56</td>\n",
              "      <td>1678.0</td>\n",
              "      <td>0</td>\n",
              "      <td>1</td>\n",
              "    </tr>\n",
              "    <tr>\n",
              "      <th>6</th>\n",
              "      <td>4.0</td>\n",
              "      <td>59</td>\n",
              "      <td>1678.0</td>\n",
              "      <td>0</td>\n",
              "      <td>1</td>\n",
              "    </tr>\n",
              "    <tr>\n",
              "      <th>7</th>\n",
              "      <td>5.0</td>\n",
              "      <td>45</td>\n",
              "      <td>2618.0</td>\n",
              "      <td>0</td>\n",
              "      <td>1</td>\n",
              "    </tr>\n",
              "    <tr>\n",
              "      <th>8</th>\n",
              "      <td>5.0</td>\n",
              "      <td>70</td>\n",
              "      <td>1605.0</td>\n",
              "      <td>0</td>\n",
              "      <td>1</td>\n",
              "    </tr>\n",
              "    <tr>\n",
              "      <th>9</th>\n",
              "      <td>5.0</td>\n",
              "      <td>73</td>\n",
              "      <td>1946.0</td>\n",
              "      <td>0</td>\n",
              "      <td>1</td>\n",
              "    </tr>\n",
              "  </tbody>\n",
              "</table>\n",
              "</div>"
            ],
            "text/plain": [
              "   Kategoria hotelu  ...  Region: Riwiera Turecka\n",
              "0               5.0  ...                        1\n",
              "1               5.0  ...                        1\n",
              "2               5.0  ...                        0\n",
              "3               5.0  ...                        1\n",
              "4               5.0  ...                        1\n",
              "5               4.0  ...                        1\n",
              "6               4.0  ...                        1\n",
              "7               5.0  ...                        1\n",
              "8               5.0  ...                        1\n",
              "9               5.0  ...                        1\n",
              "\n",
              "[10 rows x 5 columns]"
            ]
          },
          "metadata": {},
          "execution_count": 115
        }
      ]
    },
    {
      "cell_type": "markdown",
      "metadata": {
        "id": "s4eNd3mjHNUn"
      },
      "source": [
        "# 3. Tworzenie i zastosowanie modelu uczenia maszynowego"
      ]
    },
    {
      "cell_type": "markdown",
      "metadata": {
        "id": "s88XyRcrHTFF"
      },
      "source": [
        "1. Podział danych na zbiory uczący i testowy:"
      ]
    },
    {
      "cell_type": "code",
      "metadata": {
        "colab": {
          "base_uri": "https://localhost:8080/"
        },
        "id": "UTkQBAqxHK8S",
        "outputId": "f482a88e-8431-4c96-b54d-0f028ef09464"
      },
      "source": [
        "# Tworzenie zbiorów: zmienne objaśniające i zmienna objaśniana:\n",
        "X = dane_ML.drop(columns = 'Cena oferty')\n",
        "y = dane_ML['Cena oferty']\n",
        "\n",
        "# Podział danych na zbiory:\n",
        "X_train, X_test, y_train, y_test = train_test_split(X, y.values, test_size = 0.2, random_state = 2000)\n",
        "\n",
        "# Rozmiary utworzonych zbiorów:\n",
        "print('X_uczący: ', X_train.shape, ', X_testowy: ', X_test.shape, '\\n', 'y_uczący: ', y_train.shape, ', y_testowy', y_test.shape)"
      ],
      "execution_count": 116,
      "outputs": [
        {
          "output_type": "stream",
          "text": [
            "X_uczący:  (607, 4) , X_testowy:  (152, 4) \n",
            " y_uczący:  (607,) , y_testowy (152,)\n"
          ],
          "name": "stdout"
        }
      ]
    },
    {
      "cell_type": "markdown",
      "metadata": {
        "id": "i-04Fe7LzO9O"
      },
      "source": [
        "2. Standaryzacja zmiennych objaśniających:"
      ]
    },
    {
      "cell_type": "code",
      "metadata": {
        "id": "cpbAzckaILN4",
        "colab": {
          "base_uri": "https://localhost:8080/"
        },
        "outputId": "4852a66e-dd86-4b7a-e931-9178f8da7979"
      },
      "source": [
        "# Standaryzujemy zmienne objaśniające zbiorów testowego i uczącego:\n",
        "scaler = StandardScaler()\n",
        "\n",
        "X_train_std = scaler.fit_transform(X_train)\n",
        "X_test_std = scaler.fit_transform(X_test)\n",
        "\n",
        "print(X_train_std.shape)\n",
        "X_train_std"
      ],
      "execution_count": 117,
      "outputs": [
        {
          "output_type": "stream",
          "text": [
            "(607, 4)\n"
          ],
          "name": "stdout"
        },
        {
          "output_type": "execute_result",
          "data": {
            "text/plain": [
              "array([[-2.50788851, -0.76841547, -0.5041153 ,  0.5041153 ],\n",
              "       [-0.88584448, -0.92106748,  1.9836732 , -1.9836732 ],\n",
              "       [-0.88584448,  0.45280054,  1.9836732 , -1.9836732 ],\n",
              "       ...,\n",
              "       [ 0.73619956,  0.45280054, -0.5041153 ,  0.5041153 ],\n",
              "       [ 0.73619956,  0.30014854, -0.5041153 ,  0.5041153 ],\n",
              "       [ 0.73619956,  1.90299457, -0.5041153 ,  0.5041153 ]])"
            ]
          },
          "metadata": {},
          "execution_count": 117
        }
      ]
    },
    {
      "cell_type": "markdown",
      "metadata": {
        "id": "PcRe1jpkzybo"
      },
      "source": [
        "3. Stworzenie i uczenie modelu:\n",
        "\n",
        "Wykorzystamy i sprawdzimy pięć modeli regresji (albowiem, temat predykcji ceny na podstawie parametrów wybitnie wymaga zastosowania modeli regresji):\n",
        "\n",
        "* Standardowy model regresji liniowej - LinearRegression(),\n",
        "* Model Ridge(),\n",
        "* Model Lasso(),\n",
        "* Model ElasticNet(),\n",
        "* Model RandomForestClassifier().\n",
        "\n",
        "Zastosujemy każdy z modeli (na początku, wszystkie, na domyślnych parametrach), dokonamy predykcji i obliczymy wartości MSE i RMSE."
      ]
    },
    {
      "cell_type": "code",
      "metadata": {
        "colab": {
          "base_uri": "https://localhost:8080/"
        },
        "id": "k6DMaNutzoEg",
        "outputId": "2e021a6b-0c42-4ea5-cced-3d51facfae01"
      },
      "source": [
        "# Tworzenie modeli:\n",
        "models = {'Standard Linear': linear_model.LinearRegression(),\n",
        "          'Ridge': linear_model.Ridge(),\n",
        "          'Lasso': linear_model.Lasso(),\n",
        "          'Elastic Net': linear_model.ElasticNet(),\n",
        "          'Losowy las': RandomForestRegressor()}\n",
        "\n",
        "# Zastosowanie modeli do predykcji i obliczenia błędu średniokwadratowego:\n",
        "for key in models:\n",
        "  reg = models[key]                                       # Wybranie modelu do predykcji\n",
        "  reg.fit(X_train_std, y_train)                           # Uczenie wybranego modelu\n",
        "\n",
        "  y_pred = reg.predict(X_test_std)                        # Predykcja na podstawie modelu\n",
        "\n",
        "  print('Used model: ', models[key])\n",
        "  MSE = metrics.mean_squared_error(y_test, y_pred)        # Obliczenie błędu średniokwadratowego\n",
        "  RMSE = np.sqrt(MSE)                                     # Obliczenie pierwiastka błędu średniokwadratowego\n",
        "  print('MSE = ', round(MSE, 4))\n",
        "  print('RMSE = ', round(RMSE, 4))\n",
        "  print('----------------------------------------------------------------------')\n"
      ],
      "execution_count": 118,
      "outputs": [
        {
          "output_type": "stream",
          "text": [
            "Used model:  LinearRegression(copy_X=True, fit_intercept=True, n_jobs=None, normalize=False)\n",
            "MSE =  205525.8001\n",
            "RMSE =  453.3495\n",
            "----------------------------------------------------------------------\n",
            "Used model:  Ridge(alpha=1.0, copy_X=True, fit_intercept=True, max_iter=None,\n",
            "      normalize=False, random_state=None, solver='auto', tol=0.001)\n",
            "MSE =  204874.212\n",
            "RMSE =  452.6303\n",
            "----------------------------------------------------------------------\n",
            "Used model:  Lasso(alpha=1.0, copy_X=True, fit_intercept=True, max_iter=1000,\n",
            "      normalize=False, positive=False, precompute=False, random_state=None,\n",
            "      selection='cyclic', tol=0.0001, warm_start=False)\n",
            "MSE =  204903.5742\n",
            "RMSE =  452.6628\n",
            "----------------------------------------------------------------------\n",
            "Used model:  ElasticNet(alpha=1.0, copy_X=True, fit_intercept=True, l1_ratio=0.5,\n",
            "           max_iter=1000, normalize=False, positive=False, precompute=False,\n",
            "           random_state=None, selection='cyclic', tol=0.0001, warm_start=False)\n",
            "MSE =  218191.9692\n",
            "RMSE =  467.1102\n",
            "----------------------------------------------------------------------\n",
            "Used model:  RandomForestRegressor(bootstrap=True, ccp_alpha=0.0, criterion='mse',\n",
            "                      max_depth=None, max_features='auto', max_leaf_nodes=None,\n",
            "                      max_samples=None, min_impurity_decrease=0.0,\n",
            "                      min_impurity_split=None, min_samples_leaf=1,\n",
            "                      min_samples_split=2, min_weight_fraction_leaf=0.0,\n",
            "                      n_estimators=100, n_jobs=None, oob_score=False,\n",
            "                      random_state=None, verbose=0, warm_start=False)\n",
            "MSE =  208845.4216\n",
            "RMSE =  456.9961\n",
            "----------------------------------------------------------------------\n"
          ],
          "name": "stdout"
        }
      ]
    },
    {
      "cell_type": "markdown",
      "metadata": {
        "id": "PXpG_9FF9a6H"
      },
      "source": [
        "Jak widzimy, najmniej pomylił się model Lasso. Na drugim miejscu jest Ridge. Model ElasticNet również jest ok. ale za to model standardowej regresji liniowej po prostu ssie. Teraz dokonamy walidacji modeli:"
      ]
    },
    {
      "cell_type": "markdown",
      "metadata": {
        "id": "7PMdFzX59zUQ"
      },
      "source": [
        "4. Wstępna walidacja modeli:"
      ]
    },
    {
      "cell_type": "code",
      "metadata": {
        "colab": {
          "base_uri": "https://localhost:8080/"
        },
        "id": "SpFKBMol7_KO",
        "outputId": "adfc796e-c58e-4cb2-9e98-25d0314eaa75"
      },
      "source": [
        "# Znów wykorzystamy te same modele:\n",
        "models = {'Standard Linear': linear_model.LinearRegression(),\n",
        "          'Ridge': linear_model.Ridge(),\n",
        "          'Lasso': linear_model.Lasso(),\n",
        "          'Elastic Net': linear_model.ElasticNet(),\n",
        "          'Losowy las': RandomForestRegressor()}\n",
        "\n",
        "# Tworzenie procesu standaryzacji i doboru modelu przy każdym podziale walidacji krzyżowej, dla każdego z modeli:\n",
        "for key in models:\n",
        "\n",
        "  stand = StandardScaler()                                            # Metoda standaryzacji danych\n",
        "  model = models[key]                                                 # Wybór metody modelowania\n",
        "  proces = pipeline.make_pipeline(stand, model)                       # Tworzenie procesu standaryzacji i wykorzystania modelu regresji\n",
        "  walidacja = model_selection.KFold(n_splits = 10,                    # Zdefiniowanie metody walidacji modelu\n",
        "                                    shuffle = True,\n",
        "                                    random_state = 2000)\n",
        "  \n",
        "  walidacja_neg_MSE = model_selection.cross_val_score(proces,         # Krzyżowa walidacja modelu ze sprawdzeniem negatywnego MSE\n",
        "                                                      X_train,\n",
        "                                                      y_train,\n",
        "                                                      cv = walidacja,\n",
        "                                                      scoring = 'neg_mean_squared_error',\n",
        "                                                      n_jobs = -1)\n",
        "  \n",
        "  walidacja_RMSE = np.sqrt(- walidacja_neg_MSE)                       # Obliczenie pierwiastka błędu średniokwadratowego\n",
        "\n",
        "  # Prezentacja wyników:\n",
        "  print('model: ', model)\n",
        "  print(f'Średnia wartość RMSE dla tego modelu = {walidacja_RMSE.mean()}')\n",
        "  print(f'Mediana RMSE dla tego modelu = {np.median(walidacja_RMSE)}')\n",
        "  print(f'Odchylenie standardowe RMSE dla tego modelu = {walidacja_RMSE.std()}')\n",
        "  print('-------------------------------------------------------------------------------------------')"
      ],
      "execution_count": 119,
      "outputs": [
        {
          "output_type": "stream",
          "text": [
            "model:  LinearRegression(copy_X=True, fit_intercept=True, n_jobs=None, normalize=False)\n",
            "Średnia wartość RMSE dla tego modelu = 443.41114856292205\n",
            "Mediana RMSE dla tego modelu = 450.93578763725054\n",
            "Odchylenie standardowe RMSE dla tego modelu = 31.798635084318583\n",
            "-------------------------------------------------------------------------------------------\n",
            "model:  Ridge(alpha=1.0, copy_X=True, fit_intercept=True, max_iter=None,\n",
            "      normalize=False, random_state=None, solver='auto', tol=0.001)\n",
            "Średnia wartość RMSE dla tego modelu = 443.4853639438408\n",
            "Mediana RMSE dla tego modelu = 450.9316411699501\n",
            "Odchylenie standardowe RMSE dla tego modelu = 31.876590441988373\n",
            "-------------------------------------------------------------------------------------------\n",
            "model:  Lasso(alpha=1.0, copy_X=True, fit_intercept=True, max_iter=1000,\n",
            "      normalize=False, positive=False, precompute=False, random_state=None,\n",
            "      selection='cyclic', tol=0.0001, warm_start=False)\n",
            "Średnia wartość RMSE dla tego modelu = 443.47447796828345\n",
            "Mediana RMSE dla tego modelu = 451.0030956536391\n",
            "Odchylenie standardowe RMSE dla tego modelu = 32.0420138979998\n",
            "-------------------------------------------------------------------------------------------\n",
            "model:  ElasticNet(alpha=1.0, copy_X=True, fit_intercept=True, l1_ratio=0.5,\n",
            "           max_iter=1000, normalize=False, positive=False, precompute=False,\n",
            "           random_state=None, selection='cyclic', tol=0.0001, warm_start=False)\n",
            "Średnia wartość RMSE dla tego modelu = 452.93677634043814\n",
            "Mediana RMSE dla tego modelu = 455.98306847710364\n",
            "Odchylenie standardowe RMSE dla tego modelu = 36.63189862721981\n",
            "-------------------------------------------------------------------------------------------\n",
            "model:  RandomForestRegressor(bootstrap=True, ccp_alpha=0.0, criterion='mse',\n",
            "                      max_depth=None, max_features='auto', max_leaf_nodes=None,\n",
            "                      max_samples=None, min_impurity_decrease=0.0,\n",
            "                      min_impurity_split=None, min_samples_leaf=1,\n",
            "                      min_samples_split=2, min_weight_fraction_leaf=0.0,\n",
            "                      n_estimators=100, n_jobs=None, oob_score=False,\n",
            "                      random_state=None, verbose=0, warm_start=False)\n",
            "Średnia wartość RMSE dla tego modelu = 430.00284827444136\n",
            "Mediana RMSE dla tego modelu = 433.4780954152102\n",
            "Odchylenie standardowe RMSE dla tego modelu = 35.12162017905109\n",
            "-------------------------------------------------------------------------------------------\n"
          ],
          "name": "stdout"
        }
      ]
    },
    {
      "cell_type": "markdown",
      "metadata": {
        "id": "z9lvmv86AKqk"
      },
      "source": [
        "Po dogłębnej analizie okazało się, że zwyciężył model RandomForestRegressor(), który uzyskał najmniejszą średnią wartość RMSE (595,03 zł/osoba). Ale wciąż ta wartość pomyłek nie mieści się w zakładanym zakresie tolerancji (zakładaliśmy 500 zł/os.) W następnym kroku spróbujemy zoptymalizować parametry tego modelu tak, aby był on jeszcze mniej omylny."
      ]
    },
    {
      "cell_type": "markdown",
      "metadata": {
        "id": "oa-xVACnA3cF"
      },
      "source": [
        "5. Optymalizacja wybranego modelu regresji:"
      ]
    },
    {
      "cell_type": "markdown",
      "metadata": {
        "id": "6M3ACHTHFMpr"
      },
      "source": [
        "W celu dobrania optymalnych wartości parametrów wykorzystamy funkcję GridSearchCV():"
      ]
    },
    {
      "cell_type": "code",
      "metadata": {
        "colab": {
          "base_uri": "https://localhost:8080/"
        },
        "id": "5I0fvQIAE7uR",
        "outputId": "3c63bef8-de17-4cf1-e386-aff1addb549e"
      },
      "source": [
        "# Zdefiniowanie siatki parametrów do ustawiania:\n",
        "siatka_parametrów = [{'n_estimators': [20, 50, 100],                # Liczba drzew\n",
        "                      'min_samples_split': [2, 5, 20, 50],          # Minimalna liczba próbek wymagana do podzielenia węzła\n",
        "                      'max_depth': [3, 10, None]},                  # Maksymalna głębokośc drzewa\n",
        "                     {'bootstrap': [False, True],                   # Metoda doboru próbek do uczenia każdego drzewa (False -> używamy całego zestawu danych)\n",
        "                      'n_estimators': [10, 100, 300, 500, 1000],    # Liczba drzew\n",
        "                      'min_samples_leaf': [1, 3, 5],                # Minimalna liczba próbek wymagana w każdym liściu drzewa\n",
        "                      'max_features': ['auto', 'sqrt']}]            # Liczba cech/funkcji, które należy wziąć pod uwagę, szukając najlepszego podziału (auto -> n_features, sqrt -> sqrt(n_features))\n",
        "\n",
        "# Zdefiniowanie metody walidacji modelu:\n",
        "walidacja = model_selection.KFold(n_splits = 10, shuffle = True, random_state = 2000)\n",
        "\n",
        "# Konfiguracja procesu testowania siatki parametrów\n",
        "# Funkcja dobierze optymalne wartości parametrów z siatki tak aby zminimalizować wartość MSE:\n",
        "konfiguracja = pipeline.make_pipeline(StandardScaler(),\n",
        "                                      model_selection.GridSearchCV(model,\n",
        "                                                                   siatka_parametrów,\n",
        "                                                                   cv = walidacja,\n",
        "                                                                   verbose = 5,\n",
        "                                                                   scoring = 'neg_mean_squared_error',\n",
        "                                                                   n_jobs = -1))\n",
        "\n",
        "# Uczenie modelu ze skonfugurowanymi w wyniku użycia GridSearchCV() parametrami:\n",
        "konfiguracja.fit(X_train, y_train)\n",
        "\n",
        "konfig_siatka = konfiguracja.named_steps['gridsearchcv']\n",
        "\n",
        "# Wyświetl najlepsze parametry modelu:\n",
        "print('Parametry optymalne dla modelu:')\n",
        "konfig_siatka.best_params_"
      ],
      "execution_count": 120,
      "outputs": [
        {
          "output_type": "stream",
          "text": [
            "Fitting 10 folds for each of 96 candidates, totalling 960 fits\n"
          ],
          "name": "stdout"
        },
        {
          "output_type": "stream",
          "text": [
            "[Parallel(n_jobs=-1)]: Using backend LokyBackend with 2 concurrent workers.\n",
            "[Parallel(n_jobs=-1)]: Done  36 tasks      | elapsed:    2.3s\n",
            "[Parallel(n_jobs=-1)]: Done 252 tasks      | elapsed:   17.0s\n",
            "[Parallel(n_jobs=-1)]: Done 456 tasks      | elapsed:   59.3s\n",
            "[Parallel(n_jobs=-1)]: Done 582 tasks      | elapsed:  1.7min\n",
            "[Parallel(n_jobs=-1)]: Done 744 tasks      | elapsed:  2.8min\n",
            "[Parallel(n_jobs=-1)]: Done 942 tasks      | elapsed:  4.3min\n"
          ],
          "name": "stderr"
        },
        {
          "output_type": "stream",
          "text": [
            "Parametry optymalne dla modelu:\n"
          ],
          "name": "stdout"
        },
        {
          "output_type": "stream",
          "text": [
            "[Parallel(n_jobs=-1)]: Done 960 out of 960 | elapsed:  4.6min finished\n"
          ],
          "name": "stderr"
        },
        {
          "output_type": "execute_result",
          "data": {
            "text/plain": [
              "{'bootstrap': True,\n",
              " 'max_features': 'sqrt',\n",
              " 'min_samples_leaf': 5,\n",
              " 'n_estimators': 100}"
            ]
          },
          "metadata": {},
          "execution_count": 120
        }
      ]
    },
    {
      "cell_type": "markdown",
      "metadata": {
        "id": "59eDLHyrJas1"
      },
      "source": [
        "Jeśli już wybraliśmy optymalne parametry, to spróbujmy coś przewidzieć na podstawie tego modelu..."
      ]
    },
    {
      "cell_type": "code",
      "metadata": {
        "colab": {
          "base_uri": "https://localhost:8080/"
        },
        "id": "c0YXz_evJHcN",
        "outputId": "95ff5c04-7bf7-4be2-b364-dbee668d7087"
      },
      "source": [
        "# Model doskonały :-)\n",
        "best_model = konfig_siatka.best_estimator_\n",
        "\n",
        "# Predykcja na tym modelu:\n",
        "y_pred = best_model.predict(X_test_std)\n",
        "\n",
        "# Wyliczenie metryk:\n",
        "MSE = metrics.mean_squared_error(y_test, y_pred)\n",
        "RMSE = np.sqrt(MSE)\n",
        "\n",
        "print(f'Wartość MSE dla modelu idealnego = {MSE: 4}')\n",
        "print(f'Wartość RMSE dla modelu idealnego = {RMSE: 4}')"
      ],
      "execution_count": 121,
      "outputs": [
        {
          "output_type": "stream",
          "text": [
            "Wartość MSE dla modelu idealnego =  207029.89912035747\n",
            "Wartość RMSE dla modelu idealnego =  455.0053836168947\n"
          ],
          "name": "stdout"
        }
      ]
    },
    {
      "cell_type": "code",
      "metadata": {
        "id": "QyNzJTPrVkBh"
      },
      "source": [
        "# Predykcja na całym zbiorze:\n",
        "\n",
        "predykcja_cały_zbiór = best_model.predict(stand.fit_transform(X))\n",
        "\n",
        "dane_ML['Cena przewidziana'] = predykcja_cały_zbiór\n",
        "\n",
        "# Błąd względny predykcji:\n",
        "dane_ML['Błąd bezwzględny predykcji'] = abs(dane_ML['Cena przewidziana'] - dane_ML['Cena oferty'])\n",
        "dane_ML['Błąd predykcji'] = abs(dane_ML['Cena przewidziana'] - dane_ML['Cena oferty']) / dane_ML['Cena oferty']"
      ],
      "execution_count": 122,
      "outputs": []
    },
    {
      "cell_type": "code",
      "metadata": {
        "colab": {
          "base_uri": "https://localhost:8080/",
          "height": 542
        },
        "id": "ljrRk_qmV8ip",
        "outputId": "968e7962-2cea-488a-e089-7ecd08280052"
      },
      "source": [
        "# Wykres cen przewidzianych przez model:\n",
        "px.scatter(dane_ML,\n",
        "           x = 'Liczba dni do wyjazdu',\n",
        "           y = 'Cena przewidziana',\n",
        "           color = 'Błąd predykcji',\n",
        "           title = 'Zależność ceny wyznaczonej przez model od liczby dni pozostałych do wyjazdu ze wskazaniem błędu predykcji')"
      ],
      "execution_count": 123,
      "outputs": [
        {
          "output_type": "display_data",
          "data": {
            "text/html": [
              "<html>\n",
              "<head><meta charset=\"utf-8\" /></head>\n",
              "<body>\n",
              "    <div>\n",
              "            <script src=\"https://cdnjs.cloudflare.com/ajax/libs/mathjax/2.7.5/MathJax.js?config=TeX-AMS-MML_SVG\"></script><script type=\"text/javascript\">if (window.MathJax) {MathJax.Hub.Config({SVG: {font: \"STIX-Web\"}});}</script>\n",
              "                <script type=\"text/javascript\">window.PlotlyConfig = {MathJaxConfig: 'local'};</script>\n",
              "        <script src=\"https://cdn.plot.ly/plotly-latest.min.js\"></script>    \n",
              "            <div id=\"ab9b52b5-4e93-4cda-bcf8-45523936bfce\" class=\"plotly-graph-div\" style=\"height:525px; width:100%;\"></div>\n",
              "            <script type=\"text/javascript\">\n",
              "                \n",
              "                    window.PLOTLYENV=window.PLOTLYENV || {};\n",
              "                    \n",
              "                if (document.getElementById(\"ab9b52b5-4e93-4cda-bcf8-45523936bfce\")) {\n",
              "                    Plotly.newPlot(\n",
              "                        'ab9b52b5-4e93-4cda-bcf8-45523936bfce',\n",
              "                        [{\"hoverlabel\": {\"namelength\": 0}, \"hovertemplate\": \"Liczba dni do wyjazdu=%{x}<br>Cena przewidziana=%{y}<br>B\\u0142\\u0105d predykcji=%{marker.color}\", \"legendgroup\": \"\", \"marker\": {\"color\": [0.25362614568113107, 0.07126446991420117, 0.29802195643798624, 0.16621329923804784, 0.27619424068268766, 0.22342911993723105, 0.22136460887425544, 0.05377897346894549, 0.34266875042109923, 0.09789453453448285, 0.2872348760244994, 0.2125959801567412, 0.18533050841357185, 0.20487943722662083, 0.09673363974719286, 0.3546063398299632, 0.10494228562877937, 0.2704113665660604, 0.17282078370956083, 0.1980264652080515, 0.5228632866669498, 0.007404085993615584, 0.2969965380339179, 0.26481805314253715, 0.20571000054294775, 0.08901989226620358, 0.31001668037294794, 0.27850892931441085, 0.1197603585975386, 0.3595630414128015, 0.10605812045421997, 0.2529329756293628, 0.005478543463822329, 0.14638669504570828, 0.38332025867600744, 0.2596661426284469, 0.06906197638165419, 0.20617747547278126, 0.2812029396110965, 0.19850866297719333, 0.26893490004718573, 0.3942681724340255, 0.13415355319566707, 0.2446960525985487, 0.42237019754929717, 0.14392248464038285, 0.042687019177601065, 0.2797114614322985, 0.2012170258784082, 0.3175079715182527, 0.07828642082450937, 0.21308009748495724, 0.28788962418117514, 0.14831324769014412, 0.2316405130354571, 0.20534147800711208, 0.012709691540754691, 0.7113484387598682, 0.0037062670245657475, 0.3374821922081067, 0.20457425624698955, 0.20993128477247194, 0.34365518694137487, 0.25526995012849957, 0.07924363627718185, 0.3116149387862838, 0.10965259365124085, 0.06261506135397647, 0.007644721848926008, 0.016857006373008344, 0.17666217153511946, 0.40244228144398025, 0.23293515728790778, 0.23293515728790778, 0.3452207933526581, 0.3389693290006294, 0.1247530924855877, 0.42385590754166713, 0.08671539976873292, 0.14164611286653805, 0.059979596267412894, 0.13863115626024908, 0.04014388732147764, 0.023921141094593867, 0.07362064130332135, 0.013016467409446664, 0.11689397662343683, 0.19053166620314582, 0.022501883710837983, 0.1146884611397936, 0.3439442681211201, 0.22899177797192743, 0.314591343724404, 0.2691566712627538, 0.048739066249747595, 0.17062074562733662, 0.3457389367825026, 0.015439367259193383, 0.1631091284751917, 0.42821658293584364, 0.2938569155804032, 0.2065572815196044, 0.08392254921163729, 0.10183049268243673, 0.17330481259486413, 0.1726270069895696, 0.16108662770241558, 0.008591556155270562, 0.23319261037077293, 0.0620913476716926, 0.1877204048547604, 0.22189820220100215, 0.16964865450005098, 0.2863096122582379, 0.2887451128008293, 0.12421821924904038, 0.17664849337652047, 0.12593906030487673, 0.23707062472963664, 0.013528680912649452, 0.37455201783400843, 0.1503926271354698, 0.06634942936019642, 0.21055774968181884, 0.0965120710705182, 0.2753106086418463, 0.16948591989559944, 0.08612468802549274, 0.0965120710705182, 0.16948591989559944, 0.097555457299861, 0.01017976957682132, 0.25425325195287674, 0.27017713380008906, 0.30699892925089045, 0.11156162759761236, 0.20487943722662083, 0.03741758180093286, 0.025050588527232097, 0.06252245117087298, 0.07593547666620044, 0.1285516595214761, 0.2872348760244994, 0.13815107327238896, 0.30236861624284095, 0.36451095861025523, 0.2883463176108432, 0.12067845895277118, 0.004136341227256327, 0.182245240819388, 0.37118157166158183, 0.10431629212007465, 0.13796025492701444, 0.15798575707838142, 0.0007079247173816481, 0.23293515728790778, 0.12884128450298274, 0.07928005163690975, 0.2530178349243343, 0.16582852369148357, 0.04905362209956752, 0.0007079247173816481, 0.27704408560393473, 0.2661786995846011, 0.14367494155969193, 0.2971265374693598, 0.2289905794498906, 0.04721068633612246, 0.04976942172090188, 0.21134533132426322, 0.2755390554677567, 0.40207114146119993, 0.056106161247703235, 0.31230100778758385, 0.2661786995846011, 0.12247480501072121, 0.02416422943431301, 0.3085224812094007, 0.14435070391221405, 0.05721160061059459, 0.021263625380676346, 0.04797967173531343, 0.10278353708196442, 0.08337509746640856, 0.41817150192638886, 0.12247480501072121, 0.07183669026435428, 0.12693985420936257, 0.04219963735785377, 0.36230182052292076, 0.36356783908129175, 0.11944358023457746, 0.19762549911416905, 0.07994513039964016, 0.03515894626706285, 0.25507766956746386, 0.08635614851376627, 0.019320572352320483, 0.02416422943431301, 0.011713114309059214, 0.05296863288825193, 0.0858449625858021, 0.15651831829821816, 0.03329728752720924, 0.1201587798761698, 0.06149724005024097, 0.02629445449015182, 0.03329728752720924, 0.0597795635546787, 0.2570393443286224, 0.2093627712704368, 0.08691272948424439, 0.2173033659327838, 0.11033786166282093, 0.2863096122582379, 0.28502284077177453, 0.34866783996094264, 0.1680277731875576, 0.2261526736768069, 0.1146884611397936, 0.10624142579821265, 0.1178738218588346, 0.0007631676456071956, 0.2923290402171153, 0.11113457151148985, 0.2381870104069202, 0.27775097630785756, 0.15555923915378184, 0.1154145379472204, 0.17468159418295406, 0.06813146452426774, 0.16114280663266503, 0.24041191134831527, 0.05296863288825193, 0.14068923336148764, 0.17276100099128777, 0.1520734105601246, 0.16893434661723478, 0.20142837207352393, 0.12315046986676503, 0.02968320501837751, 0.3128061465306994, 0.0520174141921626, 0.1763963218828802, 0.2665657256608028, 0.06348353983367645, 0.4814386219996146, 0.06470467805886221, 0.39580540305412915, 0.3645135653312223, 0.07373257057804006, 0.047387996058875954, 0.24939905375952007, 0.01826089653351637, 0.11253648013617108, 0.0031570306857565344, 0.07373257057804006, 0.01826089653351637, 0.11253648013617108, 0.2060773148774112, 0.15109223594572374, 0.08618112118239127, 0.12790944654395398, 0.18681018967041474, 0.30322419898243275, 0.24395812116816168, 0.36269490463622, 0.00970005923566629, 0.00970005923566629, 0.13067634109208925, 0.30322419898243275, 0.24395812116816168, 0.11508495000214178, 0.08080569260833365, 0.31532000059230664, 0.3645135653312223, 0.211612104823443, 0.22756455550948784, 0.049210555213994624, 0.11717960562037803, 0.014419181095403844, 0.0845005947675316, 0.0053790881370608, 0.1895512055562752, 0.08040920424222896, 0.10272170268726805, 0.20135574087266706, 0.3228793109405383, 0.06400102752646541, 0.13024127855859055, 0.20592770832487967, 0.13250124424808082, 0.2754384515457436, 0.04380860854963175, 0.3228793109405383, 0.06400102752646541, 0.05490629972707893, 0.265902775438315, 0.049430136941759475, 0.0991654606226228, 0.07151128956708794, 0.14241786057148656, 0.05034121755872365, 0.20428007771742207, 0.17542489597659558, 0.03752082277228249, 0.07761803907352258, 0.18070405679559035, 0.17542489597659558, 0.04086740489437656, 0.09282195672798085, 0.048922803919435064, 0.1842801689149627, 0.13024127855859055, 0.13593135986549587, 0.11899407500938836, 0.08072768564297372, 0.11674413106054157, 0.015282281414146268, 0.1924816383858296, 0.07974029899368457, 0.2042429623540176, 0.13653302227727704, 0.07749167221293214, 0.0948350691116959, 0.2042429623540176, 0.23198890845728265, 0.2621726367144861, 0.0854827857367606, 0.19983288325813775, 0.2296171698275459, 0.1924816383858296, 0.13653302227727704, 0.018219857209266877, 0.11351798563254176, 0.265902775438315, 0.23921608239728373, 0.042905936172610994, 0.09797256817235829, 0.16853476751000113, 0.04942030904870102, 0.28425368033363363, 0.1842967490819372, 0.1618454776691107, 0.13067634109208925, 0.1885637613701824, 0.17268015698359976, 0.05486703685414876, 0.032852940740951, 0.11935941694968624, 0.13627511214407165, 0.1503431859792157, 0.13664554657822878, 0.10584350555250112, 0.21534730846337458, 0.08620708839456634, 0.10274540216051797, 0.11935941694968624, 0.0948350691116959, 0.1685825035676664, 0.006517254158282367, 0.21390316733613915, 0.025944059597538077, 0.10557472943396316, 0.10495351731050047, 0.04924069402393559, 0.14467636134129994, 0.04235900021623257, 0.0760774233466867, 0.02740955369514537, 0.19983288325813775, 0.049430136941759475, 0.060880545537836846, 0.056741631829166805, 0.10129008464129054, 0.14533712761210302, 0.06303452897248647, 0.1614981302181697, 0.12421821924904038, 0.020099549818289913, 0.0999092098784493, 0.27953557455841993, 0.31790749852681277, 0.25407089997231136, 0.21049333461017103, 0.09876998449519023, 0.09611171230089978, 0.16904513801713106, 0.1474686682104113, 0.036311308092641284, 0.14401392498345658, 0.2854685061251514, 0.06303452897248647, 0.3745351625461688, 0.12421821924904038, 0.020099549818289913, 0.015282281414146268, 0.10274540216051797, 0.02740955369514537, 0.09885258411907147, 0.17894941621069063, 0.05515774227938514, 0.21588638337438237, 0.22319602416285217, 0.07869652255105491, 0.1934942573256496, 0.21623854663004005, 0.2905601005491201, 0.11741776370507513, 0.0038043051921707927, 0.07480142950035153, 0.04924069402393559, 0.14467636134129994, 0.0951987720768747, 0.11674413106054157, 0.09611171230089978, 0.016583351960038854, 0.025360810570075044, 0.022333701493042646, 0.2110796126183441, 0.055876147264466346, 0.31790749852681277, 0.25407089997231136, 0.1775564776863496, 0.16904513801713106, 0.1474686682104113, 0.24661040402567636, 0.09729788757434725, 0.2222832844951971, 0.046083160818907516, 0.06064927454998831, 0.01686100342552186, 0.10519379942396122, 0.19760162955213853, 0.2296171698275459, 0.0991654606226228, 0.1416051052400545, 0.04111472086356509, 0.0025794749396926006, 0.10639649119870997, 0.057763145585226446, 0.055554115109993536, 0.023059417895935037, 0.1416051052400545, 0.2153731015989494, 0.1515243091060761, 0.008930964599908943, 0.005869099010087002, 0.05242294540954498, 0.09899326175310617, 0.1874084364198834, 0.05242294540954498, 0.04788097693191041, 0.03499191202499884, 0.04452644711883139, 0.06025472465363676, 0.016999504116443857, 0.05348973060743794, 0.13026890307930608, 0.09769658244757323, 0.15790468034941613, 0.17657811177819305, 0.20906556594562556, 0.24123603106530989, 0.037265779034148176, 0.006755865264489182, 0.42332822041581225, 0.29141291135522396, 0.22850535223481971, 0.10584350555250112, 0.21534730846337458, 0.3097171392081507, 0.33904891717492797, 0.07329468670008364, 0.07978729120784954, 0.24413271238490497, 0.03692199558740089, 0.06193040749573683, 0.21390316733613915, 0.2322575540060214, 0.1520888665881407, 0.21603282715866928, 0.22563093233563591, 0.3259342415726615, 0.21603282715866928, 0.057763145585226446, 0.0768704851723654, 0.020685170088888902, 0.1762145407178467, 0.08674076212083347, 0.12008630034886189, 0.12350640588447456, 0.0768704851723654, 0.3221885123447469, 0.03525671369373358, 0.07500834570828041, 0.06879278315055717, 0.04105448191993905, 0.020614700227123316, 0.025516340596045066, 0.005869099010087002, 0.05242294540954498, 0.05242294540954498, 0.04788097693191041, 0.03692199558740089, 0.06193040749573683, 0.06025472465363676, 0.016999504116443857, 0.13002288340693208, 0.04883361527882606, 0.13497057155401398, 0.1234103423633133, 0.0459881620170262, 0.3462168726614481, 0.25590739864223855, 0.12008630034886189, 0.11935941694968624, 0.12350640588447456, 0.3924853613521495, 0.3221885123447469, 0.02465467356421061, 0.2775784966725229, 0.06007935771746787, 0.17064488767373429, 0.072338877878593, 0.04593019918060475, 0.07238383006852846, 0.049623814315580946, 0.04477688633605306, 0.0884468099891395, 0.10487220840251378, 0.2775784966725229, 0.042943180808991524, 0.09636502379921061, 0.10451278016331068, 0.2211654871915748, 0.06309943348483972, 0.20245511825971993, 0.16067346614329361, 0.038785950281919314, 0.2847735697762856, 0.14985967354232074, 0.04477688633605306, 0.10777979062837821, 0.08791071849625388, 0.050185151231227194, 0.10186571801605651, 0.14470506091674434, 0.21062317825760254, 0.15267493725697567, 0.014857614680541413, 0.0459881620170262, 0.2887451128008293, 0.20245511825971993, 0.16067346614329361, 0.11944639272129925, 0.09185148177261755, 0.038785950281919314, 0.27627715784719836, 0.22489724160851723, 0.00662296625213779, 0.13086928736775205, 0.10086145538802772, 0.07721737254782036, 0.0012589576776430593, 0.07170033692527016, 0.05345433596778496, 0.03619240381509621, 0.1174486602193314, 0.1292156563557061, 0.06341008247512686, 0.12464840519128906, 0.09876998449519023, 0.13318660989044104, 0.12508949511396328, 0.12355386558133834, 0.34076240127418445, 0.004639674019073882, 0.06212066909739473, 0.30895914556727344, 0.2097718537448032, 0.07500757085435057, 0.011327215486063923, 0.10248403942844646, 0.1760523914285095, 0.04913660803396309, 0.16312411515845535, 0.06045122963172829, 0.15567131560394573, 0.023034198434883035, 0.06551204901346093, 0.03509886345870463, 0.1479287609979208, 0.11916841137798063, 0.09158858240869949, 0.16325479142756436, 0.042943180808991524, 0.08104302459672544, 0.0747697821184903, 0.196125706693571, 0.07136618115681408, 0.09135201045459827, 0.03836270370672606, 0.042784205295353664, 0.2656374166605054, 0.3566670560935698, 0.021113754259528338, 0.06212066909739473, 0.11063416639483986, 0.072338877878593, 0.05652385486470242, 0.03072134001739707, 0.18634055924989287, 0.2036518557073129, 0.21048149041400838, 0.008894670817050579, 0.0018405403602324327, 0.07331310548453238, 0.00025929765189220696, 0.35511333741629936, 0.22734482723826968, 0.2806423960368548, 0.1082666164776313, 0.03322222178686892, 0.14499381990362928, 0.05810394107737722, 0.2420733990313126, 0.12653512335631614, 0.0802356347425297, 0.4213883699958642, 0.05652385486470242, 0.0807990649562488, 0.2121994395954604, 0.1801411908317726, 0.003323875033738648, 0.27042044120549935, 0.24869184872360167, 0.24692372333279303, 0.10784241610602519, 0.046891446389816425, 0.08674076212083347, 0.06218120176849918, 0.12243692119653689, 0.06173192096332924, 0.15563018524385042, 0.03608259682038817, 0.2608540425687586, 0.11399799566416426, 0.12552091072595817, 0.08579551476127402, 0.2085348238844345, 0.1421169815066136, 0.08934153195203023, 0.14068923336148764, 0.09231729702681617, 0.25798198899795055, 0.19887487355475336, 0.09719457856484083, 0.17478543686536255, 0.011656611518231464, 0.14799502114919202, 0.013373212292870838, 0.15970328245617002, 0.32400586009511817, 0.2916659598443685, 0.16306841810077088, 0.0272536567684527, 0.08822794341368732, 0.4089043041399495, 0.31345146389908074, 0.09891860946590147, 0.09137131449784457, 0.11788740272408554, 0.015555598312523214, 0.09664171660353334, 0.008091398765863551, 0.05062204681657657, 0.017844433759515183, 0.1268317762083624, 0.24373028639779262, 0.023465518595338835, 0.005444610263682636, 0.005444610263682636, 0.027982069499313186, 0.08404788226167988, 0.04880211172515758, 0.06630987986742569, 0.03736504758525101, 0.01593923618505901, 0.0010856601308623147, 0.15563018524385042, 0.14121319662797185, 0.03608259682038817, 0.008091398765863551, 0.05062204681657657, 0.24373028639779262, 0.12916819079349923, 0.008001384189715074, 0.12552091072595817, 0.008001384189715074, 0.0030493184498356783, 0.029056391757190173, 0.03314322010022067, 0.11343385404117881, 0.06801872020125926, 0.016775682087715897, 0.063021728906759, 0.01910192258750837, 0.2953695608641042, 0.01932004876819255, 0.016277567628112097, 0.1775564776863496, 0.056106161247703235, 0.21647227359175142, 0.006334380569924798, 0.08791071849625388, 0.050185151231227194, 0.10186571801605651, 0.14470506091674434, 0.21062317825760254, 0.15267493725697567, 0.0357136305176069, 0.10849864752450196, 0.055554115109993536, 0.07115410841511458, 0.21588638337438237, 0.08810219321216999, 0.06551204901346093, 0.03509886345870463, 0.06354351032465926, 0.0003376885138540923, 0.2384085850426414, 0.18786891142080353, 0.06841593314033287, 0.029435222661693804, 0.11726134694177474, 0.0032046430736553002, 0.12146305125020512, 0.1360544335585254, 0.1862893430900894, 0.0408425936891176, 0.1740832934826485, 0.00583736563188324, 0.05001662968316812, 0.15996948879075726, 0.21210631878576422, 0.04256568543853291, 0.11499790243264932, 0.09659991505377939, 0.052043803391916776, 0.007451587165742731, 0.11510812778635182, 0.05524635729310154, 0.16538737524003683, 0.018065969937458154, 0.05018291212782675, 0.13938647366014795, 0.0357136305176069, 0.10849864752450196], \"coloraxis\": \"coloraxis\", \"symbol\": \"circle\"}, \"mode\": \"markers\", \"name\": \"\", \"showlegend\": false, \"type\": \"scatter\", \"x\": [70, 60, 46, 73, 42, 56, 59, 45, 70, 73, 59, 27, 27, 52, 60, 27, 73, 52, 49, 57, 58, 45, 54, 58, 59, 39, 46, 59, 73, 52, 45, 70, 80, 60, 47, 66, 73, 56, 70, 59, 20, 59, 60, 60, 58, 51, 58, 77, 70, 58, 77, 70, 59, 54, 59, 49, 60, 49, 70, 39, 70, 70, 39, 46, 84, 70, 54, 70, 60, 14, 60, 51, 52, 52, 34, 59, 35, 27, 60, 42, 70, 58, 50, 53, 56, 56, 59, 51, 80, 59, 59, 59, 56, 60, 87, 52, 73, 60, 54, 56, 60, 39, 63, 42, 42, 54, 58, 52, 58, 70, 29, 46, 51, 58, 60, 59, 53, 52, 87, 57, 51, 60, 60, 20, 58, 70, 70, 56, 58, 70, 20, 66, 59, 35, 42, 73, 52, 52, 77, 59, 56, 59, 59, 60, 70, 58, 54, 32, 35, 49, 58, 54, 52, 20, 14, 52, 59, 59, 60, 87, 51, 14, 60, 58, 53, 59, 58, 59, 58, 70, 59, 70, 73, 58, 58, 14, 52, 59, 73, 57, 59, 49, 59, 58, 58, 14, 80, 58, 58, 58, 73, 58, 46, 59, 25, 59, 73, 45, 52, 59, 73, 25, 55, 58, 42, 28, 77, 58, 60, 58, 27, 59, 59, 73, 58, 58, 58, 31, 31, 59, 80, 56, 56, 51, 80, 56, 49, 58, 59, 58, 87, 73, 50, 73, 58, 59, 60, 52, 54, 57, 59, 42, 28, 58, 40, 66, 47, 60, 59, 51, 58, 53, 47, 52, 58, 59, 58, 52, 58, 49, 58, 70, 43, 58, 58, 53, 56, 31, 31, 43, 58, 53, 73, 45, 59, 51, 35, 46, 63, 29, 51, 60, 58, 70, 49, 39, 70, 59, 58, 42, 46, 58, 54, 58, 59, 58, 58, 56, 43, 38, 51, 51, 18, 24, 42, 29, 50, 58, 42, 22, 39, 58, 59, 42, 59, 60, 20, 58, 51, 46, 59, 80, 46, 70, 56, 80, 58, 58, 58, 56, 38, 46, 46, 60, 58, 56, 35, 45, 59, 50, 59, 73, 31, 52, 43, 39, 77, 60, 59, 59, 60, 56, 56, 46, 46, 58, 58, 59, 56, 15, 58, 42, 56, 24, 49, 56, 42, 35, 35, 58, 56, 43, 38, 21, 73, 63, 87, 73, 59, 51, 59, 56, 56, 56, 47, 58, 58, 45, 58, 31, 56, 56, 87, 52, 59, 51, 51, 58, 58, 35, 42, 46, 43, 56, 73, 70, 60, 59, 73, 60, 80, 56, 42, 58, 58, 58, 30, 42, 51, 40, 59, 56, 56, 42, 45, 58, 58, 46, 39, 54, 58, 58, 51, 58, 38, 38, 40, 59, 57, 60, 25, 53, 38, 40, 59, 35, 58, 54, 58, 31, 51, 58, 58, 58, 42, 58, 58, 38, 43, 14, 73, 40, 45, 52, 59, 59, 56, 42, 56, 46, 46, 59, 56, 58, 47, 58, 45, 58, 42, 14, 31, 52, 45, 52, 52, 25, 53, 40, 38, 21, 43, 20, 53, 59, 56, 56, 56, 42, 42, 56, 54, 58, 58, 58, 45, 58, 58, 58, 56, 42, 14, 56, 46, 52, 58, 43, 59, 20, 87, 59, 55, 70, 40, 58, 56, 14, 45, 58, 70, 40, 48, 70, 40, 60, 56, 59, 56, 55, 58, 50, 40, 59, 70, 40, 35, 35, 56, 42, 56, 56, 49, 46, 60, 55, 58, 60, 58, 50, 58, 58, 14, 42, 35, 43, 60, 38, 56, 42, 56, 56, 56, 58, 58, 58, 59, 39, 58, 34, 70, 43, 60, 52, 59, 56, 59, 56, 56, 56, 56, 49, 21, 14, 42, 45, 49, 59, 40, 51, 37, 40, 77, 51, 59, 43, 60, 58, 40, 70, 40, 56, 42, 21, 42, 47, 46, 58, 58, 45, 58, 59, 59, 59, 49, 59, 59, 35, 56, 49, 56, 56, 42, 56, 59, 58, 45, 58, 56, 56, 53, 38, 21, 52, 56, 27, 49, 49, 40, 40, 58, 40, 31, 56, 58, 58, 58, 58, 58, 35, 35, 42, 42, 35, 42, 56, 39, 66, 56, 59, 73, 59, 56, 56, 40, 59, 47, 59, 59, 50, 59, 59, 40, 40, 40, 43, 40, 43, 59, 59, 14, 24, 49, 49, 49, 59, 59, 59, 40, 40, 58, 40, 54, 40, 40, 58, 40, 40, 58, 40, 53, 59, 40, 42, 73, 14, 56, 35, 35, 56, 42, 56, 56, 46, 25, 53, 38, 43, 24, 21, 14, 40, 40, 58, 40, 58, 40, 40, 40, 40, 40, 58, 40, 56, 56, 56, 56, 35, 49, 59, 35, 59, 59, 56, 56, 56, 56, 59, 56, 46, 25], \"xaxis\": \"x\", \"y\": [2154.9833444258643, 2260.3680315189645, 2833.581930904124, 2136.5027642041036, 2274.1781368965494, 2052.9140632546737, 2049.4498136910006, 2477.2066474583007, 2154.9833444258643, 2136.5027642041036, 2531.9910011401903, 2003.2085592189364, 2003.2085592189364, 1959.1339649304855, 2260.3680315189645, 2729.531774757376, 2136.5027642041036, 2324.8528008158905, 2043.053805222055, 2302.606866129875, 2287.3406565737587, 2477.2066474583007, 2396.8496022866802, 2043.94597387834, 2531.9910011401903, 2191.1080232396016, 1982.0552374042702, 2049.4498136910006, 2136.5027642041036, 2324.8528008158905, 1989.7985586971417, 1792.9470881256182, 2170.0458181619397, 2260.3680315189645, 2756.957275541283, 2157.8081023225295, 2136.5027642041036, 2052.9140632546737, 2154.9833444258643, 2049.4498136910006, 1999.8414024743647, 2531.9910011401903, 2260.3680315189645, 2260.3680315189645, 2043.94597387834, 2045.3334025370045, 2524.345273428972, 1822.309121079593, 2154.9833444258643, 2524.345273428972, 2157.7314888498236, 1864.5041098343793, 2531.9910011401903, 1791.3686663966248, 2049.4498136910006, 2043.053805222055, 2260.3680315189645, 3131.767642930559, 2154.9833444258643, 2620.127614535681, 2154.9833444258643, 1864.5041098343793, 2620.127614535681, 2564.5165081125247, 2182.192582023079, 2154.9833444258643, 2396.8496022866802, 2154.9833444258643, 1914.2533315534217, 1965.3028442603563, 2260.3680315189645, 1810.5529853441785, 1959.1339649304855, 1959.1339649304855, 2611.0735598975093, 2531.9910011401903, 2033.5535912139426, 2729.531774757376, 2260.3680315189645, 1725.027276541339, 1864.5041098343793, 2524.345273428972, 1849.3758316575872, 2239.315535573877, 2495.094370388919, 2495.094370388919, 2080.773478449463, 2045.3334025370045, 2170.0458181619397, 2531.9910011401903, 2531.9910011401903, 2531.9910011401903, 2495.094370388919, 2260.3680315189645, 2182.192582023079, 2324.8528008158905, 1916.3322459782837, 2260.3680315189645, 1988.9166096925778, 2495.094370388919, 2260.3680315189645, 2191.1080232396016, 2183.0125652286683, 2274.1781368965494, 1878.4610049643775, 2396.8496022866802, 2287.3406565737587, 2324.8528008158905, 2524.345273428972, 2154.9833444258643, 2639.1147395872777, 2833.581930904124, 2186.0733352605953, 2043.94597387834, 2260.3680315189645, 2049.4498136910006, 2305.0543985246036, 1959.1339649304855, 2182.192582023079, 1887.1196334141016, 2045.3334025370045, 1914.2533315534217, 2260.3680315189645, 1999.8414024743647, 2524.345273428972, 1864.5041098343793, 1864.5041098343793, 1782.3306130498336, 2524.345273428972, 1864.5041098343793, 1950.1826567750004, 2157.8081023225295, 2049.4498136910006, 2033.5535912139426, 2274.1781368965494, 1916.3322459782837, 1959.1339649304855, 2324.8528008158905, 2157.7314888498236, 2531.9910011401903, 2495.094370388919, 2049.4498136910006, 2531.9910011401903, 2260.3680315189645, 2154.9833444258643, 2524.345273428972, 2396.8496022866802, 2633.5943785390123, 2033.5535912139426, 3131.767642930559, 2524.345273428972, 2396.8496022866802, 2324.8528008158905, 1999.8414024743647, 2195.4446893959125, 1959.1339649304855, 2531.9910011401903, 2531.9910011401903, 2260.3680315189645, 2182.192582023079, 1789.681083208614, 2195.4446893959125, 2260.3680315189645, 2524.345273428972, 2239.315535573877, 2531.9910011401903, 2043.94597387834, 2049.4498136910006, 2043.94597387834, 2154.9833444258643, 2531.9910011401903, 2154.9833444258643, 2136.5027642041036, 2287.3406565737587, 2524.345273428972, 2743.1437595364855, 2324.8528008158905, 2531.9910011401903, 2136.5027642041036, 2302.606866129875, 2531.9910011401903, 1881.1921686510207, 2531.9910011401903, 2071.413186355773, 2524.345273428972, 2743.1437595364855, 2170.0458181619397, 2524.345273428972, 2043.94597387834, 2524.345273428972, 2136.5027642041036, 2524.345273428972, 2833.581930904124, 2531.9910011401903, 1976.9593190987882, 2531.9910011401903, 1916.3322459782837, 1989.7985586971417, 2324.8528008158905, 2531.9910011401903, 2136.5027642041036, 1955.3776250289693, 2313.6702529079876, 2524.345273428972, 1878.4610049643775, 1877.005519899518, 2157.7314888498236, 2524.345273428972, 1952.1139560677182, 2043.94597387834, 2729.531774757376, 2531.9910011401903, 2531.9910011401903, 1916.3322459782837, 2043.94597387834, 2287.3406565737587, 2287.3406565737587, 1867.6764093269046, 2746.3841611210123, 2531.9910011401903, 2170.0458181619397, 2495.094370388919, 2495.094370388919, 1810.5529853441785, 2170.0458181619397, 2052.9140632546737, 3131.767642930559, 2071.413186355773, 2531.9910011401903, 2043.94597387834, 2182.192582023079, 2136.5027642041036, 2192.171223848762, 2136.5027642041036, 2524.345273428972, 2531.9910011401903, 2260.3680315189645, 1959.1339649304855, 2396.8496022866802, 2302.606866129875, 2531.9910011401903, 1725.027276541339, 1877.005519899518, 2524.345273428972, 2236.7550715169778, 2157.8081023225295, 2756.957275541283, 2260.3680315189645, 2531.9910011401903, 2186.0733352605953, 2524.345273428972, 2239.315535573877, 2756.957275541283, 1959.1339649304855, 2524.345273428972, 2049.4498136910006, 2524.345273428972, 1959.1339649304855, 2524.345273428972, 2158.675780848319, 2524.345273428972, 2154.9833444258643, 2431.7727667487648, 2524.345273428972, 2524.345273428972, 2305.0543985246036, 2495.094370388919, 2746.3841611210123, 2746.3841611210123, 1752.5483286927383, 2524.345273428972, 2305.0543985246036, 2136.5027642041036, 2477.2066474583007, 2531.9910011401903, 2186.0733352605953, 1806.5136482917535, 1984.3866568961257, 2183.0125652286683, 2197.339961610879, 2186.0733352605953, 2260.3680315189645, 2043.94597387834, 2154.9833444258643, 2043.053805222055, 2191.1080232396016, 1864.5041098343793, 2531.9910011401903, 2043.94597387834, 1878.4610049643775, 1984.3866568961257, 2524.345273428972, 2396.8496022866802, 2524.345273428972, 2531.9910011401903, 2043.94597387834, 2524.345273428972, 2495.094370388919, 1752.5483286927383, 2101.604360710455, 1810.5529853441785, 2045.3334025370045, 1952.5843234416673, 2753.9866510200022, 2274.1781368965494, 2197.339961610879, 1849.3758316575872, 2524.345273428972, 2274.1781368965494, 2189.6997146261383, 2191.1080232396016, 2287.3406565737587, 2531.9910011401903, 1878.4610049643775, 2531.9910011401903, 2260.3680315189645, 2637.3922698903084, 2524.345273428972, 2186.0733352605953, 2833.581930904124, 2531.9910011401903, 2170.0458181619397, 1984.3866568961257, 2154.9833444258643, 2052.9140632546737, 2170.0458181619397, 2524.345273428972, 2524.345273428972, 2043.94597387834, 2052.9140632546737, 2101.604360710455, 2833.581930904124, 1984.3866568961257, 1914.2533315534217, 2524.345273428972, 2495.094370388919, 2033.5535912139426, 1989.7985586971417, 2531.9910011401903, 2192.171223848762, 2049.4498136910006, 2136.5027642041036, 2746.3841611210123, 2324.8528008158905, 1752.5483286927383, 2620.127614535681, 2157.7314888498236, 1795.3836967257612, 2531.9910011401903, 2531.9910011401903, 2260.3680315189645, 2495.094370388919, 2495.094370388919, 2833.581930904124, 1984.3866568961257, 2524.345273428972, 2043.94597387834, 2531.9910011401903, 2052.9140632546737, 1994.5705739411683, 2524.345273428972, 2274.1781368965494, 2052.9140632546737, 2753.9866510200022, 3131.767642930559, 2495.094370388919, 1725.027276541339, 2340.095955485442, 2033.5535912139426, 2524.345273428972, 2052.9140632546737, 1752.5483286927383, 2101.604360710455, 2010.0835825720455, 2136.5027642041036, 2183.0125652286683, 2182.192582023079, 2136.5027642041036, 2049.4498136910006, 2186.0733352605953, 2531.9910011401903, 2495.094370388919, 2495.094370388919, 2052.9140632546737, 2756.957275541283, 2524.345273428972, 2524.345273428972, 2477.2066474583007, 2524.345273428972, 2042.0563381516931, 2495.094370388919, 2495.094370388919, 2182.192582023079, 2324.8528008158905, 2049.4498136910006, 2186.0733352605953, 2186.0733352605953, 2043.94597387834, 2524.345273428972, 1806.5136482917535, 1725.027276541339, 2833.581930904124, 2431.7727667487648, 2495.094370388919, 2136.5027642041036, 2154.9833444258643, 2260.3680315189645, 2531.9910011401903, 2136.5027642041036, 2260.3680315189645, 1957.2134031201401, 2495.094370388919, 1725.027276541339, 2043.94597387834, 2524.345273428972, 2524.345273428972, 2642.100131744141, 1878.4610049643775, 1810.5529853441785, 2487.557524318079, 2531.9910011401903, 2495.094370388919, 2052.9140632546737, 1878.4610049643775, 2477.2066474583007, 2524.345273428972, 2043.94597387834, 2833.581930904124, 2620.127614535681, 1988.9166096925778, 2524.345273428972, 2043.94597387834, 2186.0733352605953, 2524.345273428972, 2101.604360710455, 2101.604360710455, 2487.557524318079, 2531.9910011401903, 1887.1196334141016, 2260.3680315189645, 1976.9593190987882, 1854.8917179239727, 2306.5567143476974, 2487.557524318079, 2531.9910011401903, 2340.095955485442, 2524.345273428972, 2396.8496022866802, 2524.345273428972, 2746.3841611210123, 1975.4100910632635, 2524.345273428972, 2524.345273428972, 2524.345273428972, 1878.4610049643775, 2043.94597387834, 2524.345273428972, 1827.7113301970373, 1864.943690080855, 2743.1437595364855, 1916.3322459782837, 2487.557524318079, 2477.2066474583007, 2324.8528008158905, 2531.9910011401903, 2531.9910011401903, 2495.094370388919, 2274.1781368965494, 2495.094370388919, 2833.581930904124, 1984.3866568961257, 2049.4498136910006, 2052.9140632546737, 2524.345273428972, 2756.957275541283, 2524.345273428972, 2477.2066474583007, 2524.345273428972, 2274.1781368965494, 2743.1437595364855, 2746.3841611210123, 1959.1339649304855, 2477.2066474583007, 2324.8528008158905, 1959.1339649304855, 1976.9593190987882, 2305.0543985246036, 2236.7550715169778, 2306.5567143476974, 2010.0835825720455, 1864.943690080855, 1999.8414024743647, 2305.0543985246036, 2531.9910011401903, 2052.9140632546737, 2495.094370388919, 1782.3306130498336, 1725.027276541339, 1878.4610049643775, 1782.3306130498336, 2396.8496022866802, 2524.345273428972, 2524.345273428972, 2524.345273428972, 2477.2066474583007, 2524.345273428972, 2043.94597387834, 2524.345273428972, 2495.094370388919, 1878.4610049643775, 2195.4446893959125, 2495.094370388919, 2833.581930904124, 2324.8528008158905, 2287.3406565737587, 1864.943690080855, 2531.9910011401903, 1999.8414024743647, 2182.192582023079, 2531.9910011401903, 2313.6702529079876, 2154.9833444258643, 1871.0400663713308, 2043.94597387834, 2052.9140632546737, 1965.3028442603563, 2477.2066474583007, 2524.345273428972, 2154.9833444258643, 1871.0400663713308, 2494.801446572876, 2154.9833444258643, 1871.0400663713308, 1914.2533315534217, 2495.094370388919, 2531.9910011401903, 2495.094370388919, 2495.094370388919, 2043.94597387834, 1849.3758316575872, 2487.557524318079, 2531.9910011401903, 2154.9833444258643, 1871.0400663713308, 2340.095955485442, 2033.5535912139426, 1786.1243289040276, 1878.4610049643775, 2495.094370388919, 2052.9140632546737, 3131.767642930559, 2833.581930904124, 2260.3680315189645, 2495.094370388919, 2043.94597387834, 1914.2533315534217, 2043.94597387834, 1849.3758316575872, 2524.345273428972, 2043.94597387834, 2195.4446893959125, 2274.1781368965494, 1806.5136482917535, 1864.943690080855, 2260.842726436118, 2101.604360710455, 2495.094370388919, 1878.4610049643775, 1782.3306130498336, 2052.9140632546737, 1782.3306130498336, 2043.94597387834, 2524.345273428972, 2043.94597387834, 2531.9910011401903, 2620.127614535681, 2287.3406565737587, 1905.8014616141832, 1864.5041098343793, 2431.7727667487648, 2260.842726436118, 1959.1339649304855, 2531.9910011401903, 2495.094370388919, 2531.9910011401903, 2052.9140632546737, 2052.9140632546737, 2052.9140632546737, 2495.094370388919, 1871.129548937401, 2010.0835825720455, 2195.4446893959125, 2274.1781368965494, 1989.7985586971417, 3131.767642930559, 2531.9910011401903, 1871.0400663713308, 2045.3334025370045, 2191.4555857396017, 2236.7550715169778, 2157.7314888498236, 1810.5529853441785, 2531.9910011401903, 2431.7727667487648, 2260.3680315189645, 2287.3406565737587, 2236.7550715169778, 1864.5041098343793, 2236.7550715169778, 2052.9140632546737, 1878.4610049643775, 1871.6770924264063, 2274.1781368965494, 2756.957275541283, 2833.581930904124, 2524.345273428972, 2524.345273428972, 2477.2066474583007, 2524.345273428972, 2049.4498136910006, 2531.9910011401903, 2049.4498136910006, 3131.767642930559, 2531.9910011401903, 2049.4498136910006, 2033.5535912139426, 2495.094370388919, 3131.767642930559, 2052.9140632546737, 2052.9140632546737, 1878.4610049643775, 1782.3306130498336, 2531.9910011401903, 2524.345273428972, 2477.2066474583007, 2524.345273428972, 2495.094370388919, 2495.094370388919, 2239.315535573877, 2101.604360710455, 2010.0835825720455, 2324.8528008158905, 1782.3306130498336, 2626.2123532236415, 3131.767642930559, 3131.767642930559, 2236.7550715169778, 2487.557524318079, 2043.94597387834, 2487.557524318079, 2746.3841611210123, 2052.9140632546737, 2524.345273428972, 2524.345273428972, 2524.345273428972, 2524.345273428972, 2524.345273428972, 1806.5136482917535, 2033.5535912139426, 2274.1781368965494, 2274.1781368965494, 1806.5136482917535, 2274.1781368965494, 2495.094370388919, 2620.127614535681, 1904.0193488207462, 2495.094370388919, 2531.9910011401903, 1916.3322459782837, 2531.9910011401903, 2495.094370388919, 2495.094370388919, 2487.557524318079, 2531.9910011401903, 2756.957275541283, 2049.4498136910006, 2531.9910011401903, 2192.171223848762, 2531.9910011401903, 2531.9910011401903, 1871.0400663713308, 2236.7550715169778, 2236.7550715169778, 1752.5483286927383, 2236.7550715169778, 1752.5483286927383, 2049.4498136910006, 2049.4498136910006, 2195.4446893959125, 2753.9866510200022, 3131.767642930559, 2043.053805222055, 3131.767642930559, 2049.4498136910006, 2531.9910011401903, 2531.9910011401903, 2487.557524318079, 2236.7550715169778, 2043.94597387834, 2236.7550715169778, 1988.9166096925778, 2487.557524318079, 2236.7550715169778, 2287.3406565737587, 2236.7550715169778, 2487.557524318079, 1891.1156557251243, 2487.557524318079, 2239.315535573877, 2531.9910011401903, 1871.0400663713308, 1878.4610049643775, 2136.5027642041036, 2195.4446893959125, 2495.094370388919, 2340.095955485442, 2033.5535912139426, 1786.1243289040276, 1878.4610049643775, 2495.094370388919, 2052.9140632546737, 1879.3941341211842, 2192.2018257372497, 1854.8917179239727, 2101.604360710455, 2431.7727667487648, 2753.9866510200022, 2010.0835825720455, 2195.4446893959125, 1871.0400663713308, 2236.7550715169778, 2287.3406565737587, 2487.557524318079, 1891.1156557251243, 2487.557524318079, 2487.557524318079, 2334.457204432396, 2236.7550715169778, 2236.7550715169778, 2287.3406565737587, 2236.7550715169778, 2495.094370388919, 2052.9140632546737, 2052.9140632546737, 2495.094370388919, 2033.5535912139426, 3131.767642930559, 2531.9910011401903, 2033.5535912139426, 2531.9910011401903, 2531.9910011401903, 2052.9140632546737, 2495.094370388919, 2495.094370388919, 2495.094370388919, 2531.9910011401903, 1782.3306130498336, 1879.3941341211842, 2192.2018257372497], \"yaxis\": \"y\"}],\n",
              "                        {\"coloraxis\": {\"colorbar\": {\"title\": {\"text\": \"B\\u0142\\u0105d predykcji\"}}, \"colorscale\": [[0.0, \"#0d0887\"], [0.1111111111111111, \"#46039f\"], [0.2222222222222222, \"#7201a8\"], [0.3333333333333333, \"#9c179e\"], [0.4444444444444444, \"#bd3786\"], [0.5555555555555556, \"#d8576b\"], [0.6666666666666666, \"#ed7953\"], [0.7777777777777778, \"#fb9f3a\"], [0.8888888888888888, \"#fdca26\"], [1.0, \"#f0f921\"]]}, \"legend\": {\"tracegroupgap\": 0}, \"template\": {\"data\": {\"bar\": [{\"error_x\": {\"color\": \"#2a3f5f\"}, \"error_y\": {\"color\": \"#2a3f5f\"}, \"marker\": {\"line\": {\"color\": \"#E5ECF6\", \"width\": 0.5}}, \"type\": \"bar\"}], \"barpolar\": [{\"marker\": {\"line\": {\"color\": \"#E5ECF6\", \"width\": 0.5}}, \"type\": \"barpolar\"}], \"carpet\": [{\"aaxis\": {\"endlinecolor\": \"#2a3f5f\", \"gridcolor\": \"white\", \"linecolor\": \"white\", \"minorgridcolor\": \"white\", \"startlinecolor\": \"#2a3f5f\"}, \"baxis\": {\"endlinecolor\": \"#2a3f5f\", \"gridcolor\": \"white\", \"linecolor\": \"white\", \"minorgridcolor\": \"white\", \"startlinecolor\": \"#2a3f5f\"}, \"type\": \"carpet\"}], \"choropleth\": [{\"colorbar\": {\"outlinewidth\": 0, \"ticks\": \"\"}, \"type\": \"choropleth\"}], \"contour\": [{\"colorbar\": {\"outlinewidth\": 0, \"ticks\": \"\"}, \"colorscale\": [[0.0, \"#0d0887\"], [0.1111111111111111, \"#46039f\"], [0.2222222222222222, \"#7201a8\"], [0.3333333333333333, \"#9c179e\"], [0.4444444444444444, \"#bd3786\"], [0.5555555555555556, \"#d8576b\"], [0.6666666666666666, \"#ed7953\"], [0.7777777777777778, \"#fb9f3a\"], [0.8888888888888888, \"#fdca26\"], [1.0, \"#f0f921\"]], \"type\": \"contour\"}], \"contourcarpet\": [{\"colorbar\": {\"outlinewidth\": 0, \"ticks\": \"\"}, \"type\": \"contourcarpet\"}], \"heatmap\": [{\"colorbar\": {\"outlinewidth\": 0, \"ticks\": \"\"}, \"colorscale\": [[0.0, \"#0d0887\"], [0.1111111111111111, \"#46039f\"], [0.2222222222222222, \"#7201a8\"], [0.3333333333333333, \"#9c179e\"], [0.4444444444444444, \"#bd3786\"], [0.5555555555555556, \"#d8576b\"], [0.6666666666666666, \"#ed7953\"], [0.7777777777777778, \"#fb9f3a\"], [0.8888888888888888, \"#fdca26\"], [1.0, \"#f0f921\"]], \"type\": \"heatmap\"}], \"heatmapgl\": [{\"colorbar\": {\"outlinewidth\": 0, \"ticks\": \"\"}, \"colorscale\": [[0.0, \"#0d0887\"], [0.1111111111111111, \"#46039f\"], [0.2222222222222222, \"#7201a8\"], [0.3333333333333333, \"#9c179e\"], [0.4444444444444444, \"#bd3786\"], [0.5555555555555556, \"#d8576b\"], [0.6666666666666666, \"#ed7953\"], [0.7777777777777778, \"#fb9f3a\"], [0.8888888888888888, \"#fdca26\"], [1.0, \"#f0f921\"]], \"type\": \"heatmapgl\"}], \"histogram\": [{\"marker\": {\"colorbar\": {\"outlinewidth\": 0, \"ticks\": \"\"}}, \"type\": \"histogram\"}], \"histogram2d\": [{\"colorbar\": {\"outlinewidth\": 0, \"ticks\": \"\"}, \"colorscale\": [[0.0, \"#0d0887\"], [0.1111111111111111, \"#46039f\"], [0.2222222222222222, \"#7201a8\"], [0.3333333333333333, \"#9c179e\"], [0.4444444444444444, \"#bd3786\"], [0.5555555555555556, \"#d8576b\"], [0.6666666666666666, \"#ed7953\"], [0.7777777777777778, \"#fb9f3a\"], [0.8888888888888888, \"#fdca26\"], [1.0, \"#f0f921\"]], \"type\": \"histogram2d\"}], \"histogram2dcontour\": [{\"colorbar\": {\"outlinewidth\": 0, \"ticks\": \"\"}, \"colorscale\": [[0.0, \"#0d0887\"], [0.1111111111111111, \"#46039f\"], [0.2222222222222222, \"#7201a8\"], [0.3333333333333333, \"#9c179e\"], [0.4444444444444444, \"#bd3786\"], [0.5555555555555556, \"#d8576b\"], [0.6666666666666666, \"#ed7953\"], [0.7777777777777778, \"#fb9f3a\"], [0.8888888888888888, \"#fdca26\"], [1.0, \"#f0f921\"]], \"type\": \"histogram2dcontour\"}], \"mesh3d\": [{\"colorbar\": {\"outlinewidth\": 0, \"ticks\": \"\"}, \"type\": \"mesh3d\"}], \"parcoords\": [{\"line\": {\"colorbar\": {\"outlinewidth\": 0, \"ticks\": \"\"}}, \"type\": \"parcoords\"}], \"pie\": [{\"automargin\": true, \"type\": \"pie\"}], \"scatter\": [{\"marker\": {\"colorbar\": {\"outlinewidth\": 0, \"ticks\": \"\"}}, \"type\": \"scatter\"}], \"scatter3d\": [{\"line\": {\"colorbar\": {\"outlinewidth\": 0, \"ticks\": \"\"}}, \"marker\": {\"colorbar\": {\"outlinewidth\": 0, \"ticks\": \"\"}}, \"type\": \"scatter3d\"}], \"scattercarpet\": [{\"marker\": {\"colorbar\": {\"outlinewidth\": 0, \"ticks\": \"\"}}, \"type\": \"scattercarpet\"}], \"scattergeo\": [{\"marker\": {\"colorbar\": {\"outlinewidth\": 0, \"ticks\": \"\"}}, \"type\": \"scattergeo\"}], \"scattergl\": [{\"marker\": {\"colorbar\": {\"outlinewidth\": 0, \"ticks\": \"\"}}, \"type\": \"scattergl\"}], \"scattermapbox\": [{\"marker\": {\"colorbar\": {\"outlinewidth\": 0, \"ticks\": \"\"}}, \"type\": \"scattermapbox\"}], \"scatterpolar\": [{\"marker\": {\"colorbar\": {\"outlinewidth\": 0, \"ticks\": \"\"}}, \"type\": \"scatterpolar\"}], \"scatterpolargl\": [{\"marker\": {\"colorbar\": {\"outlinewidth\": 0, \"ticks\": \"\"}}, \"type\": \"scatterpolargl\"}], \"scatterternary\": [{\"marker\": {\"colorbar\": {\"outlinewidth\": 0, \"ticks\": \"\"}}, \"type\": \"scatterternary\"}], \"surface\": [{\"colorbar\": {\"outlinewidth\": 0, \"ticks\": \"\"}, \"colorscale\": [[0.0, \"#0d0887\"], [0.1111111111111111, \"#46039f\"], [0.2222222222222222, \"#7201a8\"], [0.3333333333333333, \"#9c179e\"], [0.4444444444444444, \"#bd3786\"], [0.5555555555555556, \"#d8576b\"], [0.6666666666666666, \"#ed7953\"], [0.7777777777777778, \"#fb9f3a\"], [0.8888888888888888, \"#fdca26\"], [1.0, \"#f0f921\"]], \"type\": \"surface\"}], \"table\": [{\"cells\": {\"fill\": {\"color\": \"#EBF0F8\"}, \"line\": {\"color\": \"white\"}}, \"header\": {\"fill\": {\"color\": \"#C8D4E3\"}, \"line\": {\"color\": \"white\"}}, \"type\": \"table\"}]}, \"layout\": {\"annotationdefaults\": {\"arrowcolor\": \"#2a3f5f\", \"arrowhead\": 0, \"arrowwidth\": 1}, \"coloraxis\": {\"colorbar\": {\"outlinewidth\": 0, \"ticks\": \"\"}}, \"colorscale\": {\"diverging\": [[0, \"#8e0152\"], [0.1, \"#c51b7d\"], [0.2, \"#de77ae\"], [0.3, \"#f1b6da\"], [0.4, \"#fde0ef\"], [0.5, \"#f7f7f7\"], [0.6, \"#e6f5d0\"], [0.7, \"#b8e186\"], [0.8, \"#7fbc41\"], [0.9, \"#4d9221\"], [1, \"#276419\"]], \"sequential\": [[0.0, \"#0d0887\"], [0.1111111111111111, \"#46039f\"], [0.2222222222222222, \"#7201a8\"], [0.3333333333333333, \"#9c179e\"], [0.4444444444444444, \"#bd3786\"], [0.5555555555555556, \"#d8576b\"], [0.6666666666666666, \"#ed7953\"], [0.7777777777777778, \"#fb9f3a\"], [0.8888888888888888, \"#fdca26\"], [1.0, \"#f0f921\"]], \"sequentialminus\": [[0.0, \"#0d0887\"], [0.1111111111111111, \"#46039f\"], [0.2222222222222222, \"#7201a8\"], [0.3333333333333333, \"#9c179e\"], [0.4444444444444444, \"#bd3786\"], [0.5555555555555556, \"#d8576b\"], [0.6666666666666666, \"#ed7953\"], [0.7777777777777778, \"#fb9f3a\"], [0.8888888888888888, \"#fdca26\"], [1.0, \"#f0f921\"]]}, \"colorway\": [\"#636efa\", \"#EF553B\", \"#00cc96\", \"#ab63fa\", \"#FFA15A\", \"#19d3f3\", \"#FF6692\", \"#B6E880\", \"#FF97FF\", \"#FECB52\"], \"font\": {\"color\": \"#2a3f5f\"}, \"geo\": {\"bgcolor\": \"white\", \"lakecolor\": \"white\", \"landcolor\": \"#E5ECF6\", \"showlakes\": true, \"showland\": true, \"subunitcolor\": \"white\"}, \"hoverlabel\": {\"align\": \"left\"}, \"hovermode\": \"closest\", \"mapbox\": {\"style\": \"light\"}, \"paper_bgcolor\": \"white\", \"plot_bgcolor\": \"#E5ECF6\", \"polar\": {\"angularaxis\": {\"gridcolor\": \"white\", \"linecolor\": \"white\", \"ticks\": \"\"}, \"bgcolor\": \"#E5ECF6\", \"radialaxis\": {\"gridcolor\": \"white\", \"linecolor\": \"white\", \"ticks\": \"\"}}, \"scene\": {\"xaxis\": {\"backgroundcolor\": \"#E5ECF6\", \"gridcolor\": \"white\", \"gridwidth\": 2, \"linecolor\": \"white\", \"showbackground\": true, \"ticks\": \"\", \"zerolinecolor\": \"white\"}, \"yaxis\": {\"backgroundcolor\": \"#E5ECF6\", \"gridcolor\": \"white\", \"gridwidth\": 2, \"linecolor\": \"white\", \"showbackground\": true, \"ticks\": \"\", \"zerolinecolor\": \"white\"}, \"zaxis\": {\"backgroundcolor\": \"#E5ECF6\", \"gridcolor\": \"white\", \"gridwidth\": 2, \"linecolor\": \"white\", \"showbackground\": true, \"ticks\": \"\", \"zerolinecolor\": \"white\"}}, \"shapedefaults\": {\"line\": {\"color\": \"#2a3f5f\"}}, \"ternary\": {\"aaxis\": {\"gridcolor\": \"white\", \"linecolor\": \"white\", \"ticks\": \"\"}, \"baxis\": {\"gridcolor\": \"white\", \"linecolor\": \"white\", \"ticks\": \"\"}, \"bgcolor\": \"#E5ECF6\", \"caxis\": {\"gridcolor\": \"white\", \"linecolor\": \"white\", \"ticks\": \"\"}}, \"title\": {\"x\": 0.05}, \"xaxis\": {\"automargin\": true, \"gridcolor\": \"white\", \"linecolor\": \"white\", \"ticks\": \"\", \"title\": {\"standoff\": 15}, \"zerolinecolor\": \"white\", \"zerolinewidth\": 2}, \"yaxis\": {\"automargin\": true, \"gridcolor\": \"white\", \"linecolor\": \"white\", \"ticks\": \"\", \"title\": {\"standoff\": 15}, \"zerolinecolor\": \"white\", \"zerolinewidth\": 2}}}, \"title\": {\"text\": \"Zale\\u017cno\\u015b\\u0107 ceny wyznaczonej przez model od liczby dni pozosta\\u0142ych do wyjazdu ze wskazaniem b\\u0142\\u0119du predykcji\"}, \"xaxis\": {\"anchor\": \"y\", \"domain\": [0.0, 1.0], \"title\": {\"text\": \"Liczba dni do wyjazdu\"}}, \"yaxis\": {\"anchor\": \"x\", \"domain\": [0.0, 1.0], \"title\": {\"text\": \"Cena przewidziana\"}}},\n",
              "                        {\"responsive\": true}\n",
              "                    ).then(function(){\n",
              "                            \n",
              "var gd = document.getElementById('ab9b52b5-4e93-4cda-bcf8-45523936bfce');\n",
              "var x = new MutationObserver(function (mutations, observer) {{\n",
              "        var display = window.getComputedStyle(gd).display;\n",
              "        if (!display || display === 'none') {{\n",
              "            console.log([gd, 'removed!']);\n",
              "            Plotly.purge(gd);\n",
              "            observer.disconnect();\n",
              "        }}\n",
              "}});\n",
              "\n",
              "// Listen for the removal of the full notebook cells\n",
              "var notebookContainer = gd.closest('#notebook-container');\n",
              "if (notebookContainer) {{\n",
              "    x.observe(notebookContainer, {childList: true});\n",
              "}}\n",
              "\n",
              "// Listen for the clearing of the current output cell\n",
              "var outputEl = gd.closest('.output');\n",
              "if (outputEl) {{\n",
              "    x.observe(outputEl, {childList: true});\n",
              "}}\n",
              "\n",
              "                        })\n",
              "                };\n",
              "                \n",
              "            </script>\n",
              "        </div>\n",
              "</body>\n",
              "</html>"
            ]
          },
          "metadata": {}
        }
      ]
    },
    {
      "cell_type": "code",
      "metadata": {
        "colab": {
          "base_uri": "https://localhost:8080/",
          "height": 542
        },
        "id": "ME3EQsTvXSeT",
        "outputId": "57bacdc9-b55f-4b22-c25f-99fc817eeccc"
      },
      "source": [
        "# Wykres cen rzeczywistych:\n",
        "px.scatter(dane_ML,\n",
        "           x = 'Liczba dni do wyjazdu',\n",
        "           y = 'Cena oferty',\n",
        "           color = 'Błąd predykcji',\n",
        "           title = 'Zależność ceny rzeczywistej wycieczki od liczby dni pozostałych do wyjazdu ze wskazaniem błędu predykcji')"
      ],
      "execution_count": 124,
      "outputs": [
        {
          "output_type": "display_data",
          "data": {
            "text/html": [
              "<html>\n",
              "<head><meta charset=\"utf-8\" /></head>\n",
              "<body>\n",
              "    <div>\n",
              "            <script src=\"https://cdnjs.cloudflare.com/ajax/libs/mathjax/2.7.5/MathJax.js?config=TeX-AMS-MML_SVG\"></script><script type=\"text/javascript\">if (window.MathJax) {MathJax.Hub.Config({SVG: {font: \"STIX-Web\"}});}</script>\n",
              "                <script type=\"text/javascript\">window.PlotlyConfig = {MathJaxConfig: 'local'};</script>\n",
              "        <script src=\"https://cdn.plot.ly/plotly-latest.min.js\"></script>    \n",
              "            <div id=\"dd9bf8c9-926c-4172-b1f8-6358f2dfe627\" class=\"plotly-graph-div\" style=\"height:525px; width:100%;\"></div>\n",
              "            <script type=\"text/javascript\">\n",
              "                \n",
              "                    window.PLOTLYENV=window.PLOTLYENV || {};\n",
              "                    \n",
              "                if (document.getElementById(\"dd9bf8c9-926c-4172-b1f8-6358f2dfe627\")) {\n",
              "                    Plotly.newPlot(\n",
              "                        'dd9bf8c9-926c-4172-b1f8-6358f2dfe627',\n",
              "                        [{\"hoverlabel\": {\"namelength\": 0}, \"hovertemplate\": \"Liczba dni do wyjazdu=%{x}<br>Cena oferty=%{y}<br>B\\u0142\\u0105d predykcji=%{marker.color}\", \"legendgroup\": \"\", \"marker\": {\"color\": [0.25362614568113107, 0.07126446991420117, 0.29802195643798624, 0.16621329923804784, 0.27619424068268766, 0.22342911993723105, 0.22136460887425544, 0.05377897346894549, 0.34266875042109923, 0.09789453453448285, 0.2872348760244994, 0.2125959801567412, 0.18533050841357185, 0.20487943722662083, 0.09673363974719286, 0.3546063398299632, 0.10494228562877937, 0.2704113665660604, 0.17282078370956083, 0.1980264652080515, 0.5228632866669498, 0.007404085993615584, 0.2969965380339179, 0.26481805314253715, 0.20571000054294775, 0.08901989226620358, 0.31001668037294794, 0.27850892931441085, 0.1197603585975386, 0.3595630414128015, 0.10605812045421997, 0.2529329756293628, 0.005478543463822329, 0.14638669504570828, 0.38332025867600744, 0.2596661426284469, 0.06906197638165419, 0.20617747547278126, 0.2812029396110965, 0.19850866297719333, 0.26893490004718573, 0.3942681724340255, 0.13415355319566707, 0.2446960525985487, 0.42237019754929717, 0.14392248464038285, 0.042687019177601065, 0.2797114614322985, 0.2012170258784082, 0.3175079715182527, 0.07828642082450937, 0.21308009748495724, 0.28788962418117514, 0.14831324769014412, 0.2316405130354571, 0.20534147800711208, 0.012709691540754691, 0.7113484387598682, 0.0037062670245657475, 0.3374821922081067, 0.20457425624698955, 0.20993128477247194, 0.34365518694137487, 0.25526995012849957, 0.07924363627718185, 0.3116149387862838, 0.10965259365124085, 0.06261506135397647, 0.007644721848926008, 0.016857006373008344, 0.17666217153511946, 0.40244228144398025, 0.23293515728790778, 0.23293515728790778, 0.3452207933526581, 0.3389693290006294, 0.1247530924855877, 0.42385590754166713, 0.08671539976873292, 0.14164611286653805, 0.059979596267412894, 0.13863115626024908, 0.04014388732147764, 0.023921141094593867, 0.07362064130332135, 0.013016467409446664, 0.11689397662343683, 0.19053166620314582, 0.022501883710837983, 0.1146884611397936, 0.3439442681211201, 0.22899177797192743, 0.314591343724404, 0.2691566712627538, 0.048739066249747595, 0.17062074562733662, 0.3457389367825026, 0.015439367259193383, 0.1631091284751917, 0.42821658293584364, 0.2938569155804032, 0.2065572815196044, 0.08392254921163729, 0.10183049268243673, 0.17330481259486413, 0.1726270069895696, 0.16108662770241558, 0.008591556155270562, 0.23319261037077293, 0.0620913476716926, 0.1877204048547604, 0.22189820220100215, 0.16964865450005098, 0.2863096122582379, 0.2887451128008293, 0.12421821924904038, 0.17664849337652047, 0.12593906030487673, 0.23707062472963664, 0.013528680912649452, 0.37455201783400843, 0.1503926271354698, 0.06634942936019642, 0.21055774968181884, 0.0965120710705182, 0.2753106086418463, 0.16948591989559944, 0.08612468802549274, 0.0965120710705182, 0.16948591989559944, 0.097555457299861, 0.01017976957682132, 0.25425325195287674, 0.27017713380008906, 0.30699892925089045, 0.11156162759761236, 0.20487943722662083, 0.03741758180093286, 0.025050588527232097, 0.06252245117087298, 0.07593547666620044, 0.1285516595214761, 0.2872348760244994, 0.13815107327238896, 0.30236861624284095, 0.36451095861025523, 0.2883463176108432, 0.12067845895277118, 0.004136341227256327, 0.182245240819388, 0.37118157166158183, 0.10431629212007465, 0.13796025492701444, 0.15798575707838142, 0.0007079247173816481, 0.23293515728790778, 0.12884128450298274, 0.07928005163690975, 0.2530178349243343, 0.16582852369148357, 0.04905362209956752, 0.0007079247173816481, 0.27704408560393473, 0.2661786995846011, 0.14367494155969193, 0.2971265374693598, 0.2289905794498906, 0.04721068633612246, 0.04976942172090188, 0.21134533132426322, 0.2755390554677567, 0.40207114146119993, 0.056106161247703235, 0.31230100778758385, 0.2661786995846011, 0.12247480501072121, 0.02416422943431301, 0.3085224812094007, 0.14435070391221405, 0.05721160061059459, 0.021263625380676346, 0.04797967173531343, 0.10278353708196442, 0.08337509746640856, 0.41817150192638886, 0.12247480501072121, 0.07183669026435428, 0.12693985420936257, 0.04219963735785377, 0.36230182052292076, 0.36356783908129175, 0.11944358023457746, 0.19762549911416905, 0.07994513039964016, 0.03515894626706285, 0.25507766956746386, 0.08635614851376627, 0.019320572352320483, 0.02416422943431301, 0.011713114309059214, 0.05296863288825193, 0.0858449625858021, 0.15651831829821816, 0.03329728752720924, 0.1201587798761698, 0.06149724005024097, 0.02629445449015182, 0.03329728752720924, 0.0597795635546787, 0.2570393443286224, 0.2093627712704368, 0.08691272948424439, 0.2173033659327838, 0.11033786166282093, 0.2863096122582379, 0.28502284077177453, 0.34866783996094264, 0.1680277731875576, 0.2261526736768069, 0.1146884611397936, 0.10624142579821265, 0.1178738218588346, 0.0007631676456071956, 0.2923290402171153, 0.11113457151148985, 0.2381870104069202, 0.27775097630785756, 0.15555923915378184, 0.1154145379472204, 0.17468159418295406, 0.06813146452426774, 0.16114280663266503, 0.24041191134831527, 0.05296863288825193, 0.14068923336148764, 0.17276100099128777, 0.1520734105601246, 0.16893434661723478, 0.20142837207352393, 0.12315046986676503, 0.02968320501837751, 0.3128061465306994, 0.0520174141921626, 0.1763963218828802, 0.2665657256608028, 0.06348353983367645, 0.4814386219996146, 0.06470467805886221, 0.39580540305412915, 0.3645135653312223, 0.07373257057804006, 0.047387996058875954, 0.24939905375952007, 0.01826089653351637, 0.11253648013617108, 0.0031570306857565344, 0.07373257057804006, 0.01826089653351637, 0.11253648013617108, 0.2060773148774112, 0.15109223594572374, 0.08618112118239127, 0.12790944654395398, 0.18681018967041474, 0.30322419898243275, 0.24395812116816168, 0.36269490463622, 0.00970005923566629, 0.00970005923566629, 0.13067634109208925, 0.30322419898243275, 0.24395812116816168, 0.11508495000214178, 0.08080569260833365, 0.31532000059230664, 0.3645135653312223, 0.211612104823443, 0.22756455550948784, 0.049210555213994624, 0.11717960562037803, 0.014419181095403844, 0.0845005947675316, 0.0053790881370608, 0.1895512055562752, 0.08040920424222896, 0.10272170268726805, 0.20135574087266706, 0.3228793109405383, 0.06400102752646541, 0.13024127855859055, 0.20592770832487967, 0.13250124424808082, 0.2754384515457436, 0.04380860854963175, 0.3228793109405383, 0.06400102752646541, 0.05490629972707893, 0.265902775438315, 0.049430136941759475, 0.0991654606226228, 0.07151128956708794, 0.14241786057148656, 0.05034121755872365, 0.20428007771742207, 0.17542489597659558, 0.03752082277228249, 0.07761803907352258, 0.18070405679559035, 0.17542489597659558, 0.04086740489437656, 0.09282195672798085, 0.048922803919435064, 0.1842801689149627, 0.13024127855859055, 0.13593135986549587, 0.11899407500938836, 0.08072768564297372, 0.11674413106054157, 0.015282281414146268, 0.1924816383858296, 0.07974029899368457, 0.2042429623540176, 0.13653302227727704, 0.07749167221293214, 0.0948350691116959, 0.2042429623540176, 0.23198890845728265, 0.2621726367144861, 0.0854827857367606, 0.19983288325813775, 0.2296171698275459, 0.1924816383858296, 0.13653302227727704, 0.018219857209266877, 0.11351798563254176, 0.265902775438315, 0.23921608239728373, 0.042905936172610994, 0.09797256817235829, 0.16853476751000113, 0.04942030904870102, 0.28425368033363363, 0.1842967490819372, 0.1618454776691107, 0.13067634109208925, 0.1885637613701824, 0.17268015698359976, 0.05486703685414876, 0.032852940740951, 0.11935941694968624, 0.13627511214407165, 0.1503431859792157, 0.13664554657822878, 0.10584350555250112, 0.21534730846337458, 0.08620708839456634, 0.10274540216051797, 0.11935941694968624, 0.0948350691116959, 0.1685825035676664, 0.006517254158282367, 0.21390316733613915, 0.025944059597538077, 0.10557472943396316, 0.10495351731050047, 0.04924069402393559, 0.14467636134129994, 0.04235900021623257, 0.0760774233466867, 0.02740955369514537, 0.19983288325813775, 0.049430136941759475, 0.060880545537836846, 0.056741631829166805, 0.10129008464129054, 0.14533712761210302, 0.06303452897248647, 0.1614981302181697, 0.12421821924904038, 0.020099549818289913, 0.0999092098784493, 0.27953557455841993, 0.31790749852681277, 0.25407089997231136, 0.21049333461017103, 0.09876998449519023, 0.09611171230089978, 0.16904513801713106, 0.1474686682104113, 0.036311308092641284, 0.14401392498345658, 0.2854685061251514, 0.06303452897248647, 0.3745351625461688, 0.12421821924904038, 0.020099549818289913, 0.015282281414146268, 0.10274540216051797, 0.02740955369514537, 0.09885258411907147, 0.17894941621069063, 0.05515774227938514, 0.21588638337438237, 0.22319602416285217, 0.07869652255105491, 0.1934942573256496, 0.21623854663004005, 0.2905601005491201, 0.11741776370507513, 0.0038043051921707927, 0.07480142950035153, 0.04924069402393559, 0.14467636134129994, 0.0951987720768747, 0.11674413106054157, 0.09611171230089978, 0.016583351960038854, 0.025360810570075044, 0.022333701493042646, 0.2110796126183441, 0.055876147264466346, 0.31790749852681277, 0.25407089997231136, 0.1775564776863496, 0.16904513801713106, 0.1474686682104113, 0.24661040402567636, 0.09729788757434725, 0.2222832844951971, 0.046083160818907516, 0.06064927454998831, 0.01686100342552186, 0.10519379942396122, 0.19760162955213853, 0.2296171698275459, 0.0991654606226228, 0.1416051052400545, 0.04111472086356509, 0.0025794749396926006, 0.10639649119870997, 0.057763145585226446, 0.055554115109993536, 0.023059417895935037, 0.1416051052400545, 0.2153731015989494, 0.1515243091060761, 0.008930964599908943, 0.005869099010087002, 0.05242294540954498, 0.09899326175310617, 0.1874084364198834, 0.05242294540954498, 0.04788097693191041, 0.03499191202499884, 0.04452644711883139, 0.06025472465363676, 0.016999504116443857, 0.05348973060743794, 0.13026890307930608, 0.09769658244757323, 0.15790468034941613, 0.17657811177819305, 0.20906556594562556, 0.24123603106530989, 0.037265779034148176, 0.006755865264489182, 0.42332822041581225, 0.29141291135522396, 0.22850535223481971, 0.10584350555250112, 0.21534730846337458, 0.3097171392081507, 0.33904891717492797, 0.07329468670008364, 0.07978729120784954, 0.24413271238490497, 0.03692199558740089, 0.06193040749573683, 0.21390316733613915, 0.2322575540060214, 0.1520888665881407, 0.21603282715866928, 0.22563093233563591, 0.3259342415726615, 0.21603282715866928, 0.057763145585226446, 0.0768704851723654, 0.020685170088888902, 0.1762145407178467, 0.08674076212083347, 0.12008630034886189, 0.12350640588447456, 0.0768704851723654, 0.3221885123447469, 0.03525671369373358, 0.07500834570828041, 0.06879278315055717, 0.04105448191993905, 0.020614700227123316, 0.025516340596045066, 0.005869099010087002, 0.05242294540954498, 0.05242294540954498, 0.04788097693191041, 0.03692199558740089, 0.06193040749573683, 0.06025472465363676, 0.016999504116443857, 0.13002288340693208, 0.04883361527882606, 0.13497057155401398, 0.1234103423633133, 0.0459881620170262, 0.3462168726614481, 0.25590739864223855, 0.12008630034886189, 0.11935941694968624, 0.12350640588447456, 0.3924853613521495, 0.3221885123447469, 0.02465467356421061, 0.2775784966725229, 0.06007935771746787, 0.17064488767373429, 0.072338877878593, 0.04593019918060475, 0.07238383006852846, 0.049623814315580946, 0.04477688633605306, 0.0884468099891395, 0.10487220840251378, 0.2775784966725229, 0.042943180808991524, 0.09636502379921061, 0.10451278016331068, 0.2211654871915748, 0.06309943348483972, 0.20245511825971993, 0.16067346614329361, 0.038785950281919314, 0.2847735697762856, 0.14985967354232074, 0.04477688633605306, 0.10777979062837821, 0.08791071849625388, 0.050185151231227194, 0.10186571801605651, 0.14470506091674434, 0.21062317825760254, 0.15267493725697567, 0.014857614680541413, 0.0459881620170262, 0.2887451128008293, 0.20245511825971993, 0.16067346614329361, 0.11944639272129925, 0.09185148177261755, 0.038785950281919314, 0.27627715784719836, 0.22489724160851723, 0.00662296625213779, 0.13086928736775205, 0.10086145538802772, 0.07721737254782036, 0.0012589576776430593, 0.07170033692527016, 0.05345433596778496, 0.03619240381509621, 0.1174486602193314, 0.1292156563557061, 0.06341008247512686, 0.12464840519128906, 0.09876998449519023, 0.13318660989044104, 0.12508949511396328, 0.12355386558133834, 0.34076240127418445, 0.004639674019073882, 0.06212066909739473, 0.30895914556727344, 0.2097718537448032, 0.07500757085435057, 0.011327215486063923, 0.10248403942844646, 0.1760523914285095, 0.04913660803396309, 0.16312411515845535, 0.06045122963172829, 0.15567131560394573, 0.023034198434883035, 0.06551204901346093, 0.03509886345870463, 0.1479287609979208, 0.11916841137798063, 0.09158858240869949, 0.16325479142756436, 0.042943180808991524, 0.08104302459672544, 0.0747697821184903, 0.196125706693571, 0.07136618115681408, 0.09135201045459827, 0.03836270370672606, 0.042784205295353664, 0.2656374166605054, 0.3566670560935698, 0.021113754259528338, 0.06212066909739473, 0.11063416639483986, 0.072338877878593, 0.05652385486470242, 0.03072134001739707, 0.18634055924989287, 0.2036518557073129, 0.21048149041400838, 0.008894670817050579, 0.0018405403602324327, 0.07331310548453238, 0.00025929765189220696, 0.35511333741629936, 0.22734482723826968, 0.2806423960368548, 0.1082666164776313, 0.03322222178686892, 0.14499381990362928, 0.05810394107737722, 0.2420733990313126, 0.12653512335631614, 0.0802356347425297, 0.4213883699958642, 0.05652385486470242, 0.0807990649562488, 0.2121994395954604, 0.1801411908317726, 0.003323875033738648, 0.27042044120549935, 0.24869184872360167, 0.24692372333279303, 0.10784241610602519, 0.046891446389816425, 0.08674076212083347, 0.06218120176849918, 0.12243692119653689, 0.06173192096332924, 0.15563018524385042, 0.03608259682038817, 0.2608540425687586, 0.11399799566416426, 0.12552091072595817, 0.08579551476127402, 0.2085348238844345, 0.1421169815066136, 0.08934153195203023, 0.14068923336148764, 0.09231729702681617, 0.25798198899795055, 0.19887487355475336, 0.09719457856484083, 0.17478543686536255, 0.011656611518231464, 0.14799502114919202, 0.013373212292870838, 0.15970328245617002, 0.32400586009511817, 0.2916659598443685, 0.16306841810077088, 0.0272536567684527, 0.08822794341368732, 0.4089043041399495, 0.31345146389908074, 0.09891860946590147, 0.09137131449784457, 0.11788740272408554, 0.015555598312523214, 0.09664171660353334, 0.008091398765863551, 0.05062204681657657, 0.017844433759515183, 0.1268317762083624, 0.24373028639779262, 0.023465518595338835, 0.005444610263682636, 0.005444610263682636, 0.027982069499313186, 0.08404788226167988, 0.04880211172515758, 0.06630987986742569, 0.03736504758525101, 0.01593923618505901, 0.0010856601308623147, 0.15563018524385042, 0.14121319662797185, 0.03608259682038817, 0.008091398765863551, 0.05062204681657657, 0.24373028639779262, 0.12916819079349923, 0.008001384189715074, 0.12552091072595817, 0.008001384189715074, 0.0030493184498356783, 0.029056391757190173, 0.03314322010022067, 0.11343385404117881, 0.06801872020125926, 0.016775682087715897, 0.063021728906759, 0.01910192258750837, 0.2953695608641042, 0.01932004876819255, 0.016277567628112097, 0.1775564776863496, 0.056106161247703235, 0.21647227359175142, 0.006334380569924798, 0.08791071849625388, 0.050185151231227194, 0.10186571801605651, 0.14470506091674434, 0.21062317825760254, 0.15267493725697567, 0.0357136305176069, 0.10849864752450196, 0.055554115109993536, 0.07115410841511458, 0.21588638337438237, 0.08810219321216999, 0.06551204901346093, 0.03509886345870463, 0.06354351032465926, 0.0003376885138540923, 0.2384085850426414, 0.18786891142080353, 0.06841593314033287, 0.029435222661693804, 0.11726134694177474, 0.0032046430736553002, 0.12146305125020512, 0.1360544335585254, 0.1862893430900894, 0.0408425936891176, 0.1740832934826485, 0.00583736563188324, 0.05001662968316812, 0.15996948879075726, 0.21210631878576422, 0.04256568543853291, 0.11499790243264932, 0.09659991505377939, 0.052043803391916776, 0.007451587165742731, 0.11510812778635182, 0.05524635729310154, 0.16538737524003683, 0.018065969937458154, 0.05018291212782675, 0.13938647366014795, 0.0357136305176069, 0.10849864752450196], \"coloraxis\": \"coloraxis\", \"symbol\": \"circle\"}, \"mode\": \"markers\", \"name\": \"\", \"showlegend\": false, \"type\": \"scatter\", \"x\": [70, 60, 46, 73, 42, 56, 59, 45, 70, 73, 59, 27, 27, 52, 60, 27, 73, 52, 49, 57, 58, 45, 54, 58, 59, 39, 46, 59, 73, 52, 45, 70, 80, 60, 47, 66, 73, 56, 70, 59, 20, 59, 60, 60, 58, 51, 58, 77, 70, 58, 77, 70, 59, 54, 59, 49, 60, 49, 70, 39, 70, 70, 39, 46, 84, 70, 54, 70, 60, 14, 60, 51, 52, 52, 34, 59, 35, 27, 60, 42, 70, 58, 50, 53, 56, 56, 59, 51, 80, 59, 59, 59, 56, 60, 87, 52, 73, 60, 54, 56, 60, 39, 63, 42, 42, 54, 58, 52, 58, 70, 29, 46, 51, 58, 60, 59, 53, 52, 87, 57, 51, 60, 60, 20, 58, 70, 70, 56, 58, 70, 20, 66, 59, 35, 42, 73, 52, 52, 77, 59, 56, 59, 59, 60, 70, 58, 54, 32, 35, 49, 58, 54, 52, 20, 14, 52, 59, 59, 60, 87, 51, 14, 60, 58, 53, 59, 58, 59, 58, 70, 59, 70, 73, 58, 58, 14, 52, 59, 73, 57, 59, 49, 59, 58, 58, 14, 80, 58, 58, 58, 73, 58, 46, 59, 25, 59, 73, 45, 52, 59, 73, 25, 55, 58, 42, 28, 77, 58, 60, 58, 27, 59, 59, 73, 58, 58, 58, 31, 31, 59, 80, 56, 56, 51, 80, 56, 49, 58, 59, 58, 87, 73, 50, 73, 58, 59, 60, 52, 54, 57, 59, 42, 28, 58, 40, 66, 47, 60, 59, 51, 58, 53, 47, 52, 58, 59, 58, 52, 58, 49, 58, 70, 43, 58, 58, 53, 56, 31, 31, 43, 58, 53, 73, 45, 59, 51, 35, 46, 63, 29, 51, 60, 58, 70, 49, 39, 70, 59, 58, 42, 46, 58, 54, 58, 59, 58, 58, 56, 43, 38, 51, 51, 18, 24, 42, 29, 50, 58, 42, 22, 39, 58, 59, 42, 59, 60, 20, 58, 51, 46, 59, 80, 46, 70, 56, 80, 58, 58, 58, 56, 38, 46, 46, 60, 58, 56, 35, 45, 59, 50, 59, 73, 31, 52, 43, 39, 77, 60, 59, 59, 60, 56, 56, 46, 46, 58, 58, 59, 56, 15, 58, 42, 56, 24, 49, 56, 42, 35, 35, 58, 56, 43, 38, 21, 73, 63, 87, 73, 59, 51, 59, 56, 56, 56, 47, 58, 58, 45, 58, 31, 56, 56, 87, 52, 59, 51, 51, 58, 58, 35, 42, 46, 43, 56, 73, 70, 60, 59, 73, 60, 80, 56, 42, 58, 58, 58, 30, 42, 51, 40, 59, 56, 56, 42, 45, 58, 58, 46, 39, 54, 58, 58, 51, 58, 38, 38, 40, 59, 57, 60, 25, 53, 38, 40, 59, 35, 58, 54, 58, 31, 51, 58, 58, 58, 42, 58, 58, 38, 43, 14, 73, 40, 45, 52, 59, 59, 56, 42, 56, 46, 46, 59, 56, 58, 47, 58, 45, 58, 42, 14, 31, 52, 45, 52, 52, 25, 53, 40, 38, 21, 43, 20, 53, 59, 56, 56, 56, 42, 42, 56, 54, 58, 58, 58, 45, 58, 58, 58, 56, 42, 14, 56, 46, 52, 58, 43, 59, 20, 87, 59, 55, 70, 40, 58, 56, 14, 45, 58, 70, 40, 48, 70, 40, 60, 56, 59, 56, 55, 58, 50, 40, 59, 70, 40, 35, 35, 56, 42, 56, 56, 49, 46, 60, 55, 58, 60, 58, 50, 58, 58, 14, 42, 35, 43, 60, 38, 56, 42, 56, 56, 56, 58, 58, 58, 59, 39, 58, 34, 70, 43, 60, 52, 59, 56, 59, 56, 56, 56, 56, 49, 21, 14, 42, 45, 49, 59, 40, 51, 37, 40, 77, 51, 59, 43, 60, 58, 40, 70, 40, 56, 42, 21, 42, 47, 46, 58, 58, 45, 58, 59, 59, 59, 49, 59, 59, 35, 56, 49, 56, 56, 42, 56, 59, 58, 45, 58, 56, 56, 53, 38, 21, 52, 56, 27, 49, 49, 40, 40, 58, 40, 31, 56, 58, 58, 58, 58, 58, 35, 35, 42, 42, 35, 42, 56, 39, 66, 56, 59, 73, 59, 56, 56, 40, 59, 47, 59, 59, 50, 59, 59, 40, 40, 40, 43, 40, 43, 59, 59, 14, 24, 49, 49, 49, 59, 59, 59, 40, 40, 58, 40, 54, 40, 40, 58, 40, 40, 58, 40, 53, 59, 40, 42, 73, 14, 56, 35, 35, 56, 42, 56, 56, 46, 25, 53, 38, 43, 24, 21, 14, 40, 40, 58, 40, 58, 40, 40, 40, 40, 40, 58, 40, 56, 56, 56, 56, 35, 49, 59, 35, 59, 59, 56, 56, 56, 56, 59, 56, 46, 25], \"xaxis\": \"x\", \"y\": [1719.0, 2110.0, 2183.0, 1832.0, 1782.0, 1678.0, 1678.0, 2618.0, 1605.0, 1946.0, 1967.0, 1652.0, 1690.0, 1626.0, 2061.0, 2015.0, 2387.0, 1830.0, 1742.0, 1922.0, 1502.0, 2459.0, 1848.0, 1616.0, 2100.0, 2012.0, 1513.0, 1603.0, 1908.0, 1710.0, 1799.0, 1431.0, 2182.0, 2648.0, 1993.0, 1713.0, 2295.0, 1702.0, 1682.0, 1710.0, 1576.0, 1816.0, 1993.0, 1816.0, 1437.0, 1788.0, 2421.0, 1424.0, 1794.0, 1916.0, 2341.0, 1537.0, 1966.0, 1560.0, 1664.0, 1695.0, 2232.0, 1830.0, 2163.0, 1959.0, 1789.0, 1541.0, 1950.0, 2043.0, 2370.0, 1643.0, 2160.0, 2028.0, 1929.0, 1999.0, 1921.0, 1291.0, 1589.0, 1589.0, 1941.0, 1891.0, 1808.0, 1917.0, 2080.0, 1511.0, 1759.0, 2217.0, 1778.0, 2187.0, 2324.0, 2528.0, 1863.0, 1718.0, 2220.0, 2860.0, 1884.0, 3284.0, 1898.0, 1781.0, 2294.0, 1986.0, 1424.0, 2226.0, 1710.0, 1747.0, 1747.0, 1816.0, 2383.0, 2064.0, 1601.0, 2044.0, 1970.0, 2345.0, 2047.0, 2029.0, 2222.0, 2319.0, 1869.0, 1589.0, 3178.0, 1823.0, 1959.0, 1740.0, 1764.0, 1913.0, 1488.0, 1664.0, 2421.0, 1652.0, 2794.0, 1462.0, 2245.0, 1641.0, 2794.0, 2245.0, 2161.0, 2180.0, 1634.0, 1601.0, 1740.0, 1724.0, 1626.0, 2241.0, 2105.0, 2383.0, 2319.0, 1816.0, 1967.0, 1986.0, 3089.0, 1850.0, 3368.0, 2350.0, 2042.0, 2649.0, 1841.0, 2676.0, 2043.0, 1727.0, 2197.0, 1589.0, 2243.0, 2346.0, 3026.0, 2616.0, 1882.0, 2197.0, 1770.0, 3440.0, 1958.0, 1952.0, 2651.0, 2151.0, 2151.0, 1779.0, 3495.0, 1537.0, 2023.0, 1743.0, 3440.0, 3126.0, 2270.0, 1935.0, 1867.0, 2178.0, 2587.0, 1976.0, 2296.0, 1912.0, 1780.0, 3126.0, 2338.0, 2240.0, 2134.0, 1853.0, 3357.0, 2255.0, 2366.0, 2752.0, 2049.0, 3399.0, 1764.0, 2029.0, 2270.0, 2562.0, 2256.0, 2139.0, 2743.0, 2443.0, 2135.0, 2000.0, 2216.0, 2443.0, 1842.0, 1626.0, 2257.0, 2773.0, 2080.0, 2154.0, 1589.0, 1780.0, 1696.0, 1599.0, 3549.0, 2860.0, 2428.0, 2232.0, 2497.0, 1401.0, 1953.0, 1658.0, 2451.0, 2453.0, 2270.0, 1740.0, 2043.0, 1840.0, 2886.0, 2256.0, 2213.0, 2159.0, 1962.0, 1676.0, 1995.0, 2626.0, 2459.0, 1314.0, 1980.0, 3065.0, 1766.0, 2029.0, 1861.0, 2123.0, 1814.0, 3440.0, 2351.0, 2138.0, 3673.0, 1924.0, 2269.0, 2043.0, 2351.0, 1924.0, 2269.0, 2719.0, 2193.0, 1984.0, 2156.0, 2127.0, 1937.0, 1853.0, 1831.0, 2720.0, 2720.0, 1550.0, 1937.0, 1853.0, 1916.0, 2292.0, 1925.0, 3440.0, 1491.0, 2569.0, 2296.0, 2489.0, 2155.0, 2469.0, 2055.0, 2659.0, 1891.0, 1987.0, 1552.0, 1914.0, 1921.0, 1662.0, 2499.0, 2229.0, 3308.0, 2640.0, 1914.0, 1921.0, 2671.0, 1971.0, 1670.0, 1912.0, 1950.0, 2385.0, 1859.0, 3461.0, 2758.0, 2283.0, 2005.0, 2138.0, 2758.0, 2283.0, 2005.0, 2405.0, 2138.0, 1662.0, 2229.0, 2020.0, 2869.0, 2858.0, 2220.0, 3509.0, 2345.0, 1802.0, 1746.0, 2000.0, 2268.0, 1802.0, 2049.0, 2000.0, 2235.0, 1711.0, 2728.0, 3509.0, 1746.0, 1880.0, 2267.0, 1971.0, 1641.0, 2079.0, 2807.0, 1876.0, 2156.0, 2985.0, 2319.0, 2001.0, 1550.0, 3229.0, 1840.0, 1702.0, 2618.0, 2262.0, 2617.0, 2169.0, 2890.0, 3169.0, 2529.0, 2324.0, 2278.0, 2262.0, 2268.0, 2399.0, 2508.0, 2893.0, 2001.0, 2491.0, 3499.0, 2378.0, 1507.0, 2245.0, 2201.0, 2457.0, 1711.0, 1670.0, 1981.0, 2131.0, 1940.0, 1906.0, 2329.0, 2548.0, 1823.0, 2143.0, 2302.0, 1950.0, 3658.0, 1637.0, 3492.0, 2801.0, 2303.0, 2119.0, 2961.0, 2119.0, 2181.0, 1941.0, 2329.0, 3717.0, 1823.0, 2143.0, 2220.0, 2278.0, 2457.0, 1644.0, 2101.0, 2999.0, 2000.0, 3212.0, 2319.0, 2672.0, 2884.0, 3569.0, 1912.0, 2269.0, 1821.0, 2378.0, 1507.0, 2259.0, 2858.0, 2303.0, 2599.0, 1832.0, 1771.0, 2054.0, 2398.0, 3658.0, 1637.0, 2284.0, 2119.0, 2961.0, 2713.0, 3139.0, 3369.0, 2085.0, 2380.0, 2079.0, 1978.0, 3146.0, 2728.0, 1912.0, 2179.0, 2432.0, 1892.0, 2043.0, 1869.0, 1964.0, 2361.0, 2179.0, 3227.0, 2758.0, 2502.0, 2411.0, 2664.0, 2499.0, 2431.0, 2664.0, 2409.0, 2439.0, 1966.0, 2175.0, 2568.0, 1931.0, 1650.0, 2499.0, 1655.0, 3021.0, 3132.0, 3064.0, 2630.0, 2515.0, 1753.0, 1761.0, 2031.0, 3169.0, 2529.0, 2969.0, 3106.0, 2724.0, 2996.0, 2029.0, 2389.0, 2691.0, 2893.0, 3573.0, 3239.0, 2499.0, 3199.0, 3449.0, 2499.0, 1869.0, 2497.0, 2284.0, 1961.0, 2201.0, 1665.0, 1780.0, 2497.0, 1915.0, 1983.0, 2321.0, 1914.0, 1657.0, 1918.0, 1829.0, 2411.0, 2664.0, 2664.0, 2409.0, 2389.0, 2691.0, 2175.0, 2568.0, 2868.0, 1791.0, 2538.0, 2221.0, 2709.0, 3556.0, 3074.0, 1665.0, 2262.0, 1780.0, 3592.0, 1915.0, 2258.0, 2983.0, 1765.0, 1746.0, 2213.0, 1879.0, 2310.0, 2405.0, 2256.0, 1719.0, 2258.0, 2983.0, 1794.0, 1746.0, 2259.0, 3251.0, 2347.0, 2075.0, 1761.0, 1924.0, 3478.0, 2202.0, 2256.0, 1689.0, 2151.0, 2141.0, 1621.0, 1641.0, 2061.0, 1781.0, 3179.0, 2709.0, 3178.0, 2075.0, 1761.0, 1710.0, 1872.0, 1924.0, 3488.0, 2637.0, 2181.0, 2011.0, 1641.0, 2021.0, 2258.0, 1961.0, 2636.0, 1949.0, 1595.0, 1818.0, 1903.0, 2335.0, 2801.0, 2358.0, 2894.0, 2332.0, 1706.0, 1897.0, 1988.0, 3519.0, 2861.0, 2118.0, 2561.0, 2780.0, 3073.0, 2159.0, 1765.0, 2185.0, 2159.0, 1829.0, 2151.0, 2121.0, 2669.0, 2259.0, 2869.0, 3026.0, 1794.0, 1892.0, 2039.0, 1870.0, 2014.0, 1659.0, 2633.0, 2332.0, 3078.0, 1686.0, 2285.0, 1988.0, 2515.0, 2213.0, 1991.0, 1931.0, 2795.0, 3462.0, 3589.0, 2547.0, 2529.0, 2308.0, 2525.0, 3178.0, 3277.0, 2849.0, 3512.0, 2619.0, 2397.0, 2159.0, 3292.0, 2780.0, 2232.0, 3548.0, 1991.0, 1939.0, 3214.0, 3079.0, 2469.0, 3460.0, 3321.0, 2001.0, 2510.0, 2205.0, 2201.0, 2479.0, 2031.0, 2799.0, 3709.0, 3249.0, 1774.0, 2233.0, 1816.0, 2291.0, 3470.0, 2393.0, 2772.0, 2213.0, 2311.0, 3402.0, 3151.0, 2001.0, 1731.0, 2301.0, 1981.0, 1831.0, 1961.0, 3691.0, 3699.0, 2275.0, 2565.0, 2777.0, 3242.0, 3688.0, 2769.0, 2746.0, 2820.0, 2572.0, 2514.0, 2033.0, 2667.0, 2232.0, 2247.0, 3348.0, 1916.0, 2249.0, 2249.0, 1803.0, 2442.0, 1671.0, 2195.0, 2129.0, 2161.0, 2751.0, 3709.0, 2379.0, 3249.0, 2033.0, 2667.0, 3348.0, 2203.0, 2219.0, 1816.0, 2219.0, 1995.0, 2562.0, 2165.0, 2580.0, 2400.0, 2530.0, 1779.0, 2536.0, 3178.0, 2484.0, 1902.0, 2284.0, 2023.0, 2802.0, 2511.0, 2151.0, 2141.0, 1621.0, 1641.0, 2061.0, 1781.0, 1949.0, 2459.0, 1964.0, 1962.0, 2000.0, 2531.0, 2151.0, 2121.0, 1998.0, 2236.0, 1847.0, 3063.0, 2030.0, 2563.0, 2818.0, 2327.0, 2546.0, 2589.0, 2811.0, 2332.0, 3021.0, 2041.0, 2161.0, 2151.0, 2581.0, 3271.0, 2861.0, 2251.0, 2671.0, 2551.0, 1841.0, 2641.0, 2141.0, 2541.0, 2411.0, 2071.0, 1949.0, 2459.0], \"yaxis\": \"y\"}],\n",
              "                        {\"coloraxis\": {\"colorbar\": {\"title\": {\"text\": \"B\\u0142\\u0105d predykcji\"}}, \"colorscale\": [[0.0, \"#0d0887\"], [0.1111111111111111, \"#46039f\"], [0.2222222222222222, \"#7201a8\"], [0.3333333333333333, \"#9c179e\"], [0.4444444444444444, \"#bd3786\"], [0.5555555555555556, \"#d8576b\"], [0.6666666666666666, \"#ed7953\"], [0.7777777777777778, \"#fb9f3a\"], [0.8888888888888888, \"#fdca26\"], [1.0, \"#f0f921\"]]}, \"legend\": {\"tracegroupgap\": 0}, \"template\": {\"data\": {\"bar\": [{\"error_x\": {\"color\": \"#2a3f5f\"}, \"error_y\": {\"color\": \"#2a3f5f\"}, \"marker\": {\"line\": {\"color\": \"#E5ECF6\", \"width\": 0.5}}, \"type\": \"bar\"}], \"barpolar\": [{\"marker\": {\"line\": {\"color\": \"#E5ECF6\", \"width\": 0.5}}, \"type\": \"barpolar\"}], \"carpet\": [{\"aaxis\": {\"endlinecolor\": \"#2a3f5f\", \"gridcolor\": \"white\", \"linecolor\": \"white\", \"minorgridcolor\": \"white\", \"startlinecolor\": \"#2a3f5f\"}, \"baxis\": {\"endlinecolor\": \"#2a3f5f\", \"gridcolor\": \"white\", \"linecolor\": \"white\", \"minorgridcolor\": \"white\", \"startlinecolor\": \"#2a3f5f\"}, \"type\": \"carpet\"}], \"choropleth\": [{\"colorbar\": {\"outlinewidth\": 0, \"ticks\": \"\"}, \"type\": \"choropleth\"}], \"contour\": [{\"colorbar\": {\"outlinewidth\": 0, \"ticks\": \"\"}, \"colorscale\": [[0.0, \"#0d0887\"], [0.1111111111111111, \"#46039f\"], [0.2222222222222222, \"#7201a8\"], [0.3333333333333333, \"#9c179e\"], [0.4444444444444444, \"#bd3786\"], [0.5555555555555556, \"#d8576b\"], [0.6666666666666666, \"#ed7953\"], [0.7777777777777778, \"#fb9f3a\"], [0.8888888888888888, \"#fdca26\"], [1.0, \"#f0f921\"]], \"type\": \"contour\"}], \"contourcarpet\": [{\"colorbar\": {\"outlinewidth\": 0, \"ticks\": \"\"}, \"type\": \"contourcarpet\"}], \"heatmap\": [{\"colorbar\": {\"outlinewidth\": 0, \"ticks\": \"\"}, \"colorscale\": [[0.0, \"#0d0887\"], [0.1111111111111111, \"#46039f\"], [0.2222222222222222, \"#7201a8\"], [0.3333333333333333, \"#9c179e\"], [0.4444444444444444, \"#bd3786\"], [0.5555555555555556, \"#d8576b\"], [0.6666666666666666, \"#ed7953\"], [0.7777777777777778, \"#fb9f3a\"], [0.8888888888888888, \"#fdca26\"], [1.0, \"#f0f921\"]], \"type\": \"heatmap\"}], \"heatmapgl\": [{\"colorbar\": {\"outlinewidth\": 0, \"ticks\": \"\"}, \"colorscale\": [[0.0, \"#0d0887\"], [0.1111111111111111, \"#46039f\"], [0.2222222222222222, \"#7201a8\"], [0.3333333333333333, \"#9c179e\"], [0.4444444444444444, \"#bd3786\"], [0.5555555555555556, \"#d8576b\"], [0.6666666666666666, \"#ed7953\"], [0.7777777777777778, \"#fb9f3a\"], [0.8888888888888888, \"#fdca26\"], [1.0, \"#f0f921\"]], \"type\": \"heatmapgl\"}], \"histogram\": [{\"marker\": {\"colorbar\": {\"outlinewidth\": 0, \"ticks\": \"\"}}, \"type\": \"histogram\"}], \"histogram2d\": [{\"colorbar\": {\"outlinewidth\": 0, \"ticks\": \"\"}, \"colorscale\": [[0.0, \"#0d0887\"], [0.1111111111111111, \"#46039f\"], [0.2222222222222222, \"#7201a8\"], [0.3333333333333333, \"#9c179e\"], [0.4444444444444444, \"#bd3786\"], [0.5555555555555556, \"#d8576b\"], [0.6666666666666666, \"#ed7953\"], [0.7777777777777778, \"#fb9f3a\"], [0.8888888888888888, \"#fdca26\"], [1.0, \"#f0f921\"]], \"type\": \"histogram2d\"}], \"histogram2dcontour\": [{\"colorbar\": {\"outlinewidth\": 0, \"ticks\": \"\"}, \"colorscale\": [[0.0, \"#0d0887\"], [0.1111111111111111, \"#46039f\"], [0.2222222222222222, \"#7201a8\"], [0.3333333333333333, \"#9c179e\"], [0.4444444444444444, \"#bd3786\"], [0.5555555555555556, \"#d8576b\"], [0.6666666666666666, \"#ed7953\"], [0.7777777777777778, \"#fb9f3a\"], [0.8888888888888888, \"#fdca26\"], [1.0, \"#f0f921\"]], \"type\": \"histogram2dcontour\"}], \"mesh3d\": [{\"colorbar\": {\"outlinewidth\": 0, \"ticks\": \"\"}, \"type\": \"mesh3d\"}], \"parcoords\": [{\"line\": {\"colorbar\": {\"outlinewidth\": 0, \"ticks\": \"\"}}, \"type\": \"parcoords\"}], \"pie\": [{\"automargin\": true, \"type\": \"pie\"}], \"scatter\": [{\"marker\": {\"colorbar\": {\"outlinewidth\": 0, \"ticks\": \"\"}}, \"type\": \"scatter\"}], \"scatter3d\": [{\"line\": {\"colorbar\": {\"outlinewidth\": 0, \"ticks\": \"\"}}, \"marker\": {\"colorbar\": {\"outlinewidth\": 0, \"ticks\": \"\"}}, \"type\": \"scatter3d\"}], \"scattercarpet\": [{\"marker\": {\"colorbar\": {\"outlinewidth\": 0, \"ticks\": \"\"}}, \"type\": \"scattercarpet\"}], \"scattergeo\": [{\"marker\": {\"colorbar\": {\"outlinewidth\": 0, \"ticks\": \"\"}}, \"type\": \"scattergeo\"}], \"scattergl\": [{\"marker\": {\"colorbar\": {\"outlinewidth\": 0, \"ticks\": \"\"}}, \"type\": \"scattergl\"}], \"scattermapbox\": [{\"marker\": {\"colorbar\": {\"outlinewidth\": 0, \"ticks\": \"\"}}, \"type\": \"scattermapbox\"}], \"scatterpolar\": [{\"marker\": {\"colorbar\": {\"outlinewidth\": 0, \"ticks\": \"\"}}, \"type\": \"scatterpolar\"}], \"scatterpolargl\": [{\"marker\": {\"colorbar\": {\"outlinewidth\": 0, \"ticks\": \"\"}}, \"type\": \"scatterpolargl\"}], \"scatterternary\": [{\"marker\": {\"colorbar\": {\"outlinewidth\": 0, \"ticks\": \"\"}}, \"type\": \"scatterternary\"}], \"surface\": [{\"colorbar\": {\"outlinewidth\": 0, \"ticks\": \"\"}, \"colorscale\": [[0.0, \"#0d0887\"], [0.1111111111111111, \"#46039f\"], [0.2222222222222222, \"#7201a8\"], [0.3333333333333333, \"#9c179e\"], [0.4444444444444444, \"#bd3786\"], [0.5555555555555556, \"#d8576b\"], [0.6666666666666666, \"#ed7953\"], [0.7777777777777778, \"#fb9f3a\"], [0.8888888888888888, \"#fdca26\"], [1.0, \"#f0f921\"]], \"type\": \"surface\"}], \"table\": [{\"cells\": {\"fill\": {\"color\": \"#EBF0F8\"}, \"line\": {\"color\": \"white\"}}, \"header\": {\"fill\": {\"color\": \"#C8D4E3\"}, \"line\": {\"color\": \"white\"}}, \"type\": \"table\"}]}, \"layout\": {\"annotationdefaults\": {\"arrowcolor\": \"#2a3f5f\", \"arrowhead\": 0, \"arrowwidth\": 1}, \"coloraxis\": {\"colorbar\": {\"outlinewidth\": 0, \"ticks\": \"\"}}, \"colorscale\": {\"diverging\": [[0, \"#8e0152\"], [0.1, \"#c51b7d\"], [0.2, \"#de77ae\"], [0.3, \"#f1b6da\"], [0.4, \"#fde0ef\"], [0.5, \"#f7f7f7\"], [0.6, \"#e6f5d0\"], [0.7, \"#b8e186\"], [0.8, \"#7fbc41\"], [0.9, \"#4d9221\"], [1, \"#276419\"]], \"sequential\": [[0.0, \"#0d0887\"], [0.1111111111111111, \"#46039f\"], [0.2222222222222222, \"#7201a8\"], [0.3333333333333333, \"#9c179e\"], [0.4444444444444444, \"#bd3786\"], [0.5555555555555556, \"#d8576b\"], [0.6666666666666666, \"#ed7953\"], [0.7777777777777778, \"#fb9f3a\"], [0.8888888888888888, \"#fdca26\"], [1.0, \"#f0f921\"]], \"sequentialminus\": [[0.0, \"#0d0887\"], [0.1111111111111111, \"#46039f\"], [0.2222222222222222, \"#7201a8\"], [0.3333333333333333, \"#9c179e\"], [0.4444444444444444, \"#bd3786\"], [0.5555555555555556, \"#d8576b\"], [0.6666666666666666, \"#ed7953\"], [0.7777777777777778, \"#fb9f3a\"], [0.8888888888888888, \"#fdca26\"], [1.0, \"#f0f921\"]]}, \"colorway\": [\"#636efa\", \"#EF553B\", \"#00cc96\", \"#ab63fa\", \"#FFA15A\", \"#19d3f3\", \"#FF6692\", \"#B6E880\", \"#FF97FF\", \"#FECB52\"], \"font\": {\"color\": \"#2a3f5f\"}, \"geo\": {\"bgcolor\": \"white\", \"lakecolor\": \"white\", \"landcolor\": \"#E5ECF6\", \"showlakes\": true, \"showland\": true, \"subunitcolor\": \"white\"}, \"hoverlabel\": {\"align\": \"left\"}, \"hovermode\": \"closest\", \"mapbox\": {\"style\": \"light\"}, \"paper_bgcolor\": \"white\", \"plot_bgcolor\": \"#E5ECF6\", \"polar\": {\"angularaxis\": {\"gridcolor\": \"white\", \"linecolor\": \"white\", \"ticks\": \"\"}, \"bgcolor\": \"#E5ECF6\", \"radialaxis\": {\"gridcolor\": \"white\", \"linecolor\": \"white\", \"ticks\": \"\"}}, \"scene\": {\"xaxis\": {\"backgroundcolor\": \"#E5ECF6\", \"gridcolor\": \"white\", \"gridwidth\": 2, \"linecolor\": \"white\", \"showbackground\": true, \"ticks\": \"\", \"zerolinecolor\": \"white\"}, \"yaxis\": {\"backgroundcolor\": \"#E5ECF6\", \"gridcolor\": \"white\", \"gridwidth\": 2, \"linecolor\": \"white\", \"showbackground\": true, \"ticks\": \"\", \"zerolinecolor\": \"white\"}, \"zaxis\": {\"backgroundcolor\": \"#E5ECF6\", \"gridcolor\": \"white\", \"gridwidth\": 2, \"linecolor\": \"white\", \"showbackground\": true, \"ticks\": \"\", \"zerolinecolor\": \"white\"}}, \"shapedefaults\": {\"line\": {\"color\": \"#2a3f5f\"}}, \"ternary\": {\"aaxis\": {\"gridcolor\": \"white\", \"linecolor\": \"white\", \"ticks\": \"\"}, \"baxis\": {\"gridcolor\": \"white\", \"linecolor\": \"white\", \"ticks\": \"\"}, \"bgcolor\": \"#E5ECF6\", \"caxis\": {\"gridcolor\": \"white\", \"linecolor\": \"white\", \"ticks\": \"\"}}, \"title\": {\"x\": 0.05}, \"xaxis\": {\"automargin\": true, \"gridcolor\": \"white\", \"linecolor\": \"white\", \"ticks\": \"\", \"title\": {\"standoff\": 15}, \"zerolinecolor\": \"white\", \"zerolinewidth\": 2}, \"yaxis\": {\"automargin\": true, \"gridcolor\": \"white\", \"linecolor\": \"white\", \"ticks\": \"\", \"title\": {\"standoff\": 15}, \"zerolinecolor\": \"white\", \"zerolinewidth\": 2}}}, \"title\": {\"text\": \"Zale\\u017cno\\u015b\\u0107 ceny rzeczywistej wycieczki od liczby dni pozosta\\u0142ych do wyjazdu ze wskazaniem b\\u0142\\u0119du predykcji\"}, \"xaxis\": {\"anchor\": \"y\", \"domain\": [0.0, 1.0], \"title\": {\"text\": \"Liczba dni do wyjazdu\"}}, \"yaxis\": {\"anchor\": \"x\", \"domain\": [0.0, 1.0], \"title\": {\"text\": \"Cena oferty\"}}},\n",
              "                        {\"responsive\": true}\n",
              "                    ).then(function(){\n",
              "                            \n",
              "var gd = document.getElementById('dd9bf8c9-926c-4172-b1f8-6358f2dfe627');\n",
              "var x = new MutationObserver(function (mutations, observer) {{\n",
              "        var display = window.getComputedStyle(gd).display;\n",
              "        if (!display || display === 'none') {{\n",
              "            console.log([gd, 'removed!']);\n",
              "            Plotly.purge(gd);\n",
              "            observer.disconnect();\n",
              "        }}\n",
              "}});\n",
              "\n",
              "// Listen for the removal of the full notebook cells\n",
              "var notebookContainer = gd.closest('#notebook-container');\n",
              "if (notebookContainer) {{\n",
              "    x.observe(notebookContainer, {childList: true});\n",
              "}}\n",
              "\n",
              "// Listen for the clearing of the current output cell\n",
              "var outputEl = gd.closest('.output');\n",
              "if (outputEl) {{\n",
              "    x.observe(outputEl, {childList: true});\n",
              "}}\n",
              "\n",
              "                        })\n",
              "                };\n",
              "                \n",
              "            </script>\n",
              "        </div>\n",
              "</body>\n",
              "</html>"
            ]
          },
          "metadata": {}
        }
      ]
    },
    {
      "cell_type": "code",
      "metadata": {
        "colab": {
          "base_uri": "https://localhost:8080/"
        },
        "id": "XFLpN9k34Kmk",
        "outputId": "cb6e29bd-3435-4c92-b814-36d6f181fc14"
      },
      "source": [
        "# W ilu przypadkach model rzeczywiście pomylił się o nie więcej niż 500 zł?\n",
        "x = dane_ML[dane_ML['Błąd bezwzględny predykcji'] <= 500]\n",
        "print(f'Procent przypadków, w których model osiągnął zakładany pułap błędu = {100 * round(x.shape[0] / dane_ML.shape[0], 4)} %.')"
      ],
      "execution_count": 129,
      "outputs": [
        {
          "output_type": "stream",
          "text": [
            "Procent przypadków, w których model osiągnął zakładany pułap błędu = 79.31 %.\n"
          ],
          "name": "stdout"
        }
      ]
    }
  ]
}