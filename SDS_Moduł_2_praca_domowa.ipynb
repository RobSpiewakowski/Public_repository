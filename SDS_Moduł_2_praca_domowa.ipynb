{
  "nbformat": 4,
  "nbformat_minor": 0,
  "metadata": {
    "colab": {
      "name": "SDS Moduł 2 - praca domowa",
      "provenance": [],
      "collapsed_sections": [],
      "include_colab_link": true
    },
    "kernelspec": {
      "name": "python3",
      "display_name": "Python 3"
    }
  },
  "cells": [
    {
      "cell_type": "markdown",
      "metadata": {
        "id": "view-in-github",
        "colab_type": "text"
      },
      "source": [
        "<a href=\"https://colab.research.google.com/github/RobSpiewakowski/Public_repository/blob/main/SDS_Modu%C5%82_2_praca_domowa.ipynb\" target=\"_parent\"><img src=\"https://colab.research.google.com/assets/colab-badge.svg\" alt=\"Open In Colab\"/></a>"
      ]
    },
    {
      "cell_type": "markdown",
      "metadata": {
        "id": "OE8V528-EIjp"
      },
      "source": [
        "# Modul 2 - Praca domowa - Python"
      ]
    },
    {
      "cell_type": "markdown",
      "metadata": {
        "id": "WDVcAsVjGrUD"
      },
      "source": [
        "Zwykle istnieje wiele sposobów, żeby rozwiązać zadanie w Python. Także czasami warto spróbować opracować kod na 1-2 sposoby :)"
      ]
    },
    {
      "cell_type": "markdown",
      "metadata": {
        "id": "CreP0LsfEBiC"
      },
      "source": [
        "## Zadanie - 1"
      ]
    },
    {
      "cell_type": "markdown",
      "metadata": {
        "id": "z54gPCrbEW4O"
      },
      "source": [
        "Utwórz pętlę **FOR**, która wypisze wszystkie parzyste liczby od 0 do 20 w jednym wierszu."
      ]
    },
    {
      "cell_type": "code",
      "metadata": {
        "id": "_Skq1xmpY0o5",
        "colab": {
          "base_uri": "https://localhost:8080/"
        },
        "outputId": "61e11aa1-4b95-4632-af73-f42dac1b9e7b"
      },
      "source": [
        "for i in range(2, 21, 2):\n",
        "  print(i, end = ', ')"
      ],
      "execution_count": 4,
      "outputs": [
        {
          "output_type": "stream",
          "text": [
            "2, 4, 6, 8, 10, 12, 14, 16, 18, 20, "
          ],
          "name": "stdout"
        }
      ]
    },
    {
      "cell_type": "markdown",
      "metadata": {
        "id": "yL2cGPUEmCtu"
      },
      "source": [
        "## Zadanie - 2"
      ]
    },
    {
      "cell_type": "markdown",
      "metadata": {
        "id": "yP0L5BZImehv"
      },
      "source": [
        "Wyświetl liczby całkowite od 0 do 10 za pomocą pętli **WHILE**."
      ]
    },
    {
      "cell_type": "code",
      "metadata": {
        "id": "-zaIeXxhY1PV",
        "colab": {
          "base_uri": "https://localhost:8080/"
        },
        "outputId": "94efbbce-c642-4e6e-efdd-54455b7c8f8c"
      },
      "source": [
        "x = 0\n",
        "while x <= 10:\n",
        "  print(x, end = ', ')\n",
        "  x += 1"
      ],
      "execution_count": 6,
      "outputs": [
        {
          "output_type": "stream",
          "text": [
            "0, 1, 2, 3, 4, 5, 6, 7, 8, 9, 10, "
          ],
          "name": "stdout"
        }
      ]
    },
    {
      "cell_type": "markdown",
      "metadata": {
        "id": "rG3PrtmJm1sH"
      },
      "source": [
        "## Zadanie - 3"
      ]
    },
    {
      "cell_type": "markdown",
      "metadata": {
        "id": "QIBqwf4loGdm"
      },
      "source": [
        "Wyświetl liczby od 0 do liczby dodatniej wskazanej przez użytkownika. Żeby wprowadzić liczbę od użytkownika wykorzystaj funkcję:\n",
        "```\n",
        "input(\"Wprowadź liczbę: \")\n",
        "```\n",
        "*Pamiętaj, żeby używać typu danych liczba całkowita.*"
      ]
    },
    {
      "cell_type": "code",
      "metadata": {
        "id": "eBQmJbNvY6r1",
        "colab": {
          "base_uri": "https://localhost:8080/"
        },
        "outputId": "16d68b47-3fb1-4781-f92c-32f44e44792d"
      },
      "source": [
        "x = int(input('wprowadź liczbę: '))\n",
        "for i in range(0, x+1):\n",
        "  print(i, end = ', ')"
      ],
      "execution_count": 10,
      "outputs": [
        {
          "output_type": "stream",
          "text": [
            "wprowadź liczbę: 31\n",
            "0, 1, 2, 3, 4, 5, 6, 7, 8, 9, 10, 11, 12, 13, 14, 15, 16, 17, 18, 19, 20, 21, 22, 23, 24, 25, 26, 27, 28, 29, 30, 31, "
          ],
          "name": "stdout"
        }
      ]
    },
    {
      "cell_type": "markdown",
      "metadata": {
        "id": "EnZotHoEu5zN"
      },
      "source": [
        "## Zadanie - 4"
      ]
    },
    {
      "cell_type": "markdown",
      "metadata": {
        "id": "ycqk5oZ-vN2Z"
      },
      "source": [
        "Opracuj funkcję, która będzie podnosiła do potęgi 2 przekazaną liczbę.\n",
        "Przykład budowy funkcji:\n",
        "```\n",
        "def nazwa_funkcji():\n",
        "  print(\"wyswietl mnie!\")\n",
        "```"
      ]
    },
    {
      "cell_type": "code",
      "metadata": {
        "id": "KOlbLl9KweTX",
        "colab": {
          "base_uri": "https://localhost:8080/"
        },
        "outputId": "2a880182-9ba7-4408-ac62-011026906a2e"
      },
      "source": [
        "def kwadrat(x):\n",
        "  return x**2\n",
        "\n",
        "kwadrat(1597)"
      ],
      "execution_count": 14,
      "outputs": [
        {
          "output_type": "execute_result",
          "data": {
            "text/plain": [
              "2550409"
            ]
          },
          "metadata": {
            "tags": []
          },
          "execution_count": 14
        }
      ]
    },
    {
      "cell_type": "markdown",
      "metadata": {
        "id": "UCdRATEgxW7W"
      },
      "source": [
        "## Zadanie - 5"
      ]
    },
    {
      "cell_type": "markdown",
      "metadata": {
        "id": "NckidsZxxa0j"
      },
      "source": [
        "Wykorzystaj wyrażenie i wyświetl go na odwrót:<br>\n",
        "***Igor łamał rogi***<br>\n",
        "\n",
        "\n",
        "*Żeby wyświetlić ostatni element w string wystarczy wykorzystać \"-\" i podać indeks litery. Przykład:*\n",
        "```\n",
        "slowo = \"pies\"\n",
        "slowo[-1]\n",
        "```"
      ]
    },
    {
      "cell_type": "code",
      "metadata": {
        "id": "8mHwT1Rs6uyX",
        "colab": {
          "base_uri": "https://localhost:8080/"
        },
        "outputId": "a9d41eda-7e0f-4543-b129-778d4ad22209"
      },
      "source": [
        "słowo = input('podaj string: ')\n",
        "\n",
        "for i in range(len(słowo)):\n",
        "  print(słowo[-i - 1], end = '')"
      ],
      "execution_count": 20,
      "outputs": [
        {
          "output_type": "stream",
          "text": [
            "podaj string: igor łamał rogi\n",
            "igor łamał rogi"
          ],
          "name": "stdout"
        }
      ]
    },
    {
      "cell_type": "markdown",
      "metadata": {
        "id": "ehDArRI06wvQ"
      },
      "source": [
        "## Zadanie - 6"
      ]
    },
    {
      "cell_type": "markdown",
      "metadata": {
        "id": "hi5cjQXH612S"
      },
      "source": [
        "Stwórz prostą funkcję do wyszukiwania kontaktów bazując na imieniu. Jeśli wskazana osoba  jest w kontaktach, to jaki ma numer. W stuacji gdy nie ma tej osoby w kontaktach to wyświetl informację: <br> ***Brak kontaktu!***<br><br>\n",
        "Wykorzystaj slownik z kontaktami:\n",
        "```\n",
        "kontakty = {\n",
        "    \"Marcin\" : 111,\n",
        "    \"Kamil\" : 222,\n",
        "    \"Barbara\" : 333,\n",
        "    \"Oskar\" : 444,\n",
        "    \"Kamila\" : 555\n",
        "}\n",
        "```\n",
        "*Po zrobieniu zadania, dodatkowo spróbuj zrobić wyszukiwarkę po numerze.*"
      ]
    },
    {
      "cell_type": "code",
      "metadata": {
        "id": "KmXq9iTHY_f5",
        "colab": {
          "base_uri": "https://localhost:8080/"
        },
        "outputId": "69411d0a-5d59-446d-e4d2-f85895f87fa7"
      },
      "source": [
        "def kontakt_search(x):\n",
        "  kontakty = {\"Marcin\" : 111,\n",
        "              \"Kamil\" : 222,\n",
        "              \"Barbara\" : 333,\n",
        "              \"Oskar\" : 444,\n",
        "              \"Kamila\" : 555}\n",
        "  if x in kontakty.keys():\n",
        "    print(kontakty[x])\n",
        "  else:\n",
        "    print('Brak')\n",
        "\n",
        "kontakt_search('Kamila')"
      ],
      "execution_count": 28,
      "outputs": [
        {
          "output_type": "stream",
          "text": [
            "555\n"
          ],
          "name": "stdout"
        }
      ]
    },
    {
      "cell_type": "code",
      "metadata": {
        "id": "USSvFvUKsXRv"
      },
      "source": [
        ""
      ],
      "execution_count": null,
      "outputs": []
    }
  ]
}