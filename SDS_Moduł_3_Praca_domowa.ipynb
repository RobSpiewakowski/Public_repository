{
  "nbformat": 4,
  "nbformat_minor": 0,
  "metadata": {
    "colab": {
      "name": "SDS Moduł 3 - Praca domowa",
      "provenance": [],
      "collapsed_sections": [],
      "include_colab_link": true
    },
    "kernelspec": {
      "name": "python3",
      "display_name": "Python 3"
    }
  },
  "cells": [
    {
      "cell_type": "markdown",
      "metadata": {
        "id": "view-in-github",
        "colab_type": "text"
      },
      "source": [
        "<a href=\"https://colab.research.google.com/github/RobSpiewakowski/Public_repository/blob/main/SDS_Modu%C5%82_3_Praca_domowa.ipynb\" target=\"_parent\"><img src=\"https://colab.research.google.com/assets/colab-badge.svg\" alt=\"Open In Colab\"/></a>"
      ]
    },
    {
      "cell_type": "markdown",
      "metadata": {
        "id": "OE8V528-EIjp"
      },
      "source": [
        "# Modul 3 - Praca domowa - Python"
      ]
    },
    {
      "cell_type": "markdown",
      "metadata": {
        "id": "WDVcAsVjGrUD"
      },
      "source": [
        "Zwykle istnieje wiele sposobów, żeby rozwiązać zadanie w Python. Także czasami warto spróbować opracować kod na 1-2 sposoby :)"
      ]
    },
    {
      "cell_type": "markdown",
      "metadata": {
        "id": "CreP0LsfEBiC"
      },
      "source": [
        "## Zadanie - 1"
      ]
    },
    {
      "cell_type": "markdown",
      "metadata": {
        "id": "0Xwa10oADLFd"
      },
      "source": [
        "Zadanie opiera się na danych z informacją o wyjściu statków z portu Gdańsk w okresie 2005-06.2020 ([Więcej o Danych](https://bit.ly/30HkRgS)).<br> Kroki:\n",
        "* Wczytać zbiór danych w formacie `.csv`\n",
        "* Wyświetlić listę kolumn ze zbioru\n",
        "* Wyświetlić pierwsze 10 wierszy z wczytanego zbioru danych<br>\n",
        "<br>![statek](https://media.giphy.com/media/o0eOCNkn7cSD6/giphy.gif)<br>\n",
        "---\n",
        "Wskazówka: uważaj na kodowanie plików. Zalecane wykorzystywanie `UTF-8`. Plik źródłowy ma błędne kodowanie, dlatego został ponownie zapisany w formacie `.csv` z separatorem \";\"."
      ]
    },
    {
      "cell_type": "markdown",
      "metadata": {
        "id": "IbWL2egGWjkh"
      },
      "source": [
        "---"
      ]
    },
    {
      "cell_type": "markdown",
      "metadata": {
        "id": "sP1xprQfWpM-"
      },
      "source": [
        "Wczytaj dane w formacie `.csv` z separatorem `;` wykorzystując link: <br>https://akademiadatascience.s3-eu-west-1.amazonaws.com/materialy/sds/modul3/statki.csv"
      ]
    },
    {
      "cell_type": "code",
      "metadata": {
        "id": "KDIlLv2xWrIF",
        "colab": {
          "base_uri": "https://localhost:8080/",
          "height": 545
        },
        "outputId": "40c0ec49-8018-4dce-99d7-d9f0a2abeb33"
      },
      "source": [
        "import pandas as pd\n",
        "\n",
        "URL = 'https://akademiadatascience.s3-eu-west-1.amazonaws.com/materialy/sds/modul3/statki.csv'\n",
        "dane = pd.read_csv(URL, delimiter = ';')\n",
        "dane.head(10)"
      ],
      "execution_count": 6,
      "outputs": [
        {
          "output_type": "execute_result",
          "data": {
            "text/html": [
              "<div>\n",
              "<style scoped>\n",
              "    .dataframe tbody tr th:only-of-type {\n",
              "        vertical-align: middle;\n",
              "    }\n",
              "\n",
              "    .dataframe tbody tr th {\n",
              "        vertical-align: top;\n",
              "    }\n",
              "\n",
              "    .dataframe thead th {\n",
              "        text-align: right;\n",
              "    }\n",
              "</style>\n",
              "<table border=\"1\" class=\"dataframe\">\n",
              "  <thead>\n",
              "    <tr style=\"text-align: right;\">\n",
              "      <th></th>\n",
              "      <th>Kod portu \\n</th>\n",
              "      <th>Data wyjścia (rrrr-mm-dd)</th>\n",
              "      <th>Godzina wyjścia\\n(hh:mm)</th>\n",
              "      <th>Kod portu, \\nprzeznaczenia</th>\n",
              "      <th>Nazwa statku</th>\n",
              "      <th>Bandera</th>\n",
              "      <th>nr IMO</th>\n",
              "      <th>Sygnał wywoławczy</th>\n",
              "      <th>Pojemność brutto \\n(tony)</th>\n",
              "      <th>Długość (metry)</th>\n",
              "      <th>Agent</th>\n",
              "      <th>Nabrzeże (miejsce zacumowania)</th>\n",
              "    </tr>\n",
              "  </thead>\n",
              "  <tbody>\n",
              "    <tr>\n",
              "      <th>0</th>\n",
              "      <td>PLGDN</td>\n",
              "      <td>04.01.2005</td>\n",
              "      <td>12:00:00</td>\n",
              "      <td>RULED</td>\n",
              "      <td>PETSAMO</td>\n",
              "      <td>Finland</td>\n",
              "      <td>7517545</td>\n",
              "      <td>OIZH</td>\n",
              "      <td>2356</td>\n",
              "      <td>84.00</td>\n",
              "      <td>Cargo Service Co. Ltd Gdańsk</td>\n",
              "      <td>NAB. SZCZECIŃSKIE GTK</td>\n",
              "    </tr>\n",
              "    <tr>\n",
              "      <th>1</th>\n",
              "      <td>PLGDN</td>\n",
              "      <td>04.01.2005</td>\n",
              "      <td>09:00:00</td>\n",
              "      <td>DKCPH</td>\n",
              "      <td>TANGO</td>\n",
              "      <td>Romania</td>\n",
              "      <td>8306589</td>\n",
              "      <td>YQOA</td>\n",
              "      <td>9983</td>\n",
              "      <td>140.12</td>\n",
              "      <td>DFDS SEAWAYS Sp. z o. o.</td>\n",
              "      <td>WESTERPLATTE</td>\n",
              "    </tr>\n",
              "    <tr>\n",
              "      <th>2</th>\n",
              "      <td>PLGDN</td>\n",
              "      <td>05.01.2005</td>\n",
              "      <td>17:00:00</td>\n",
              "      <td>SEOTT</td>\n",
              "      <td>ALLORA</td>\n",
              "      <td>Honduras</td>\n",
              "      <td>6505600</td>\n",
              "      <td>HQRN2</td>\n",
              "      <td>517</td>\n",
              "      <td>47.85</td>\n",
              "      <td>Polfracht Shipping Agency Ltd.</td>\n",
              "      <td>PRZEMYSŁOWE / WIŚLANE</td>\n",
              "    </tr>\n",
              "    <tr>\n",
              "      <th>3</th>\n",
              "      <td>PLGDN</td>\n",
              "      <td>06.01.2005</td>\n",
              "      <td>10:00:00</td>\n",
              "      <td>BEANR</td>\n",
              "      <td>CT SUN</td>\n",
              "      <td>Malta</td>\n",
              "      <td>7816484</td>\n",
              "      <td>9HZC7</td>\n",
              "      <td>4382</td>\n",
              "      <td>118.36</td>\n",
              "      <td>Polfracht Shipping Agency Ltd.</td>\n",
              "      <td>OBROŃCÓW POCZTY POLSKIEJ</td>\n",
              "    </tr>\n",
              "    <tr>\n",
              "      <th>4</th>\n",
              "      <td>PLGDN</td>\n",
              "      <td>07.01.2005</td>\n",
              "      <td>20:00:00</td>\n",
              "      <td>SEGOT</td>\n",
              "      <td>TANGO</td>\n",
              "      <td>Romania</td>\n",
              "      <td>8306589</td>\n",
              "      <td>YQOA</td>\n",
              "      <td>9983</td>\n",
              "      <td>140.00</td>\n",
              "      <td>DFDS SEAWAYS Sp. z o. o.</td>\n",
              "      <td>WESTERPLATTE</td>\n",
              "    </tr>\n",
              "    <tr>\n",
              "      <th>5</th>\n",
              "      <td>PLGDN</td>\n",
              "      <td>08.01.2005</td>\n",
              "      <td>10:00:00</td>\n",
              "      <td>LVVNT</td>\n",
              "      <td>MARELD</td>\n",
              "      <td>Norway</td>\n",
              "      <td>9297204</td>\n",
              "      <td>LADI6</td>\n",
              "      <td>4745</td>\n",
              "      <td>119.10</td>\n",
              "      <td>Polfracht Shipping Agency Ltd.</td>\n",
              "      <td>OBROŃCÓW POCZTY POLSKIEJ</td>\n",
              "    </tr>\n",
              "    <tr>\n",
              "      <th>6</th>\n",
              "      <td>PLGDN</td>\n",
              "      <td>09.01.2005</td>\n",
              "      <td>16:00:00</td>\n",
              "      <td>PLWLA</td>\n",
              "      <td>ICARUS III</td>\n",
              "      <td>Cyprus</td>\n",
              "      <td>9145413</td>\n",
              "      <td>P3WM9</td>\n",
              "      <td>21605</td>\n",
              "      <td>182.14</td>\n",
              "      <td>Polfracht Shipping Agency Ltd.</td>\n",
              "      <td>BPPP JETTY \" R \"</td>\n",
              "    </tr>\n",
              "    <tr>\n",
              "      <th>7</th>\n",
              "      <td>PLGDN</td>\n",
              "      <td>10.01.2005</td>\n",
              "      <td>22:00:00</td>\n",
              "      <td>DEEME</td>\n",
              "      <td>CAPE EGMONT</td>\n",
              "      <td>Marshall Islands</td>\n",
              "      <td>9262819</td>\n",
              "      <td>V7EU8</td>\n",
              "      <td>8351</td>\n",
              "      <td>127.20</td>\n",
              "      <td>Polfracht Shipping Agency Ltd.</td>\n",
              "      <td>CHEMIKÓW</td>\n",
              "    </tr>\n",
              "    <tr>\n",
              "      <th>8</th>\n",
              "      <td>PLGDN</td>\n",
              "      <td>11.01.2005</td>\n",
              "      <td>15:30:00</td>\n",
              "      <td>DKCPH</td>\n",
              "      <td>TANGO</td>\n",
              "      <td>Romania</td>\n",
              "      <td>8306589</td>\n",
              "      <td>YQOA</td>\n",
              "      <td>9983</td>\n",
              "      <td>140.12</td>\n",
              "      <td>DFDS SEAWAYS Sp. z o. o.</td>\n",
              "      <td>WESTERPLATTE</td>\n",
              "    </tr>\n",
              "    <tr>\n",
              "      <th>9</th>\n",
              "      <td>PLGDN</td>\n",
              "      <td>12.01.2005</td>\n",
              "      <td>12:00:00</td>\n",
              "      <td>RULED</td>\n",
              "      <td>PETSAMO</td>\n",
              "      <td>Finland</td>\n",
              "      <td>7517545</td>\n",
              "      <td>OIZH</td>\n",
              "      <td>2356</td>\n",
              "      <td>84.00</td>\n",
              "      <td>Cargo Service Co. Ltd Gdańsk</td>\n",
              "      <td>NAB SZCZECIŃSKIE GTK</td>\n",
              "    </tr>\n",
              "  </tbody>\n",
              "</table>\n",
              "</div>"
            ],
            "text/plain": [
              "  Kod portu \\n  ... Nabrzeże (miejsce zacumowania)\n",
              "0        PLGDN  ...          NAB. SZCZECIŃSKIE GTK\n",
              "1        PLGDN  ...                   WESTERPLATTE\n",
              "2        PLGDN  ...          PRZEMYSŁOWE / WIŚLANE\n",
              "3        PLGDN  ...       OBROŃCÓW POCZTY POLSKIEJ\n",
              "4        PLGDN  ...                   WESTERPLATTE\n",
              "5        PLGDN  ...       OBROŃCÓW POCZTY POLSKIEJ\n",
              "6        PLGDN  ...               BPPP JETTY \" R \"\n",
              "7        PLGDN  ...                       CHEMIKÓW\n",
              "8        PLGDN  ...                   WESTERPLATTE\n",
              "9        PLGDN  ...           NAB SZCZECIŃSKIE GTK\n",
              "\n",
              "[10 rows x 12 columns]"
            ]
          },
          "metadata": {
            "tags": []
          },
          "execution_count": 6
        }
      ]
    },
    {
      "cell_type": "markdown",
      "metadata": {
        "id": "yP0L5BZImehv"
      },
      "source": [
        "Usuń tabulatory w nazwach kolumn, bazując na wcześniej wczytanej tabeli."
      ]
    },
    {
      "cell_type": "code",
      "metadata": {
        "id": "KyGtTW8vmc8y",
        "colab": {
          "base_uri": "https://localhost:8080/",
          "height": 528
        },
        "outputId": "780895c0-0963-42f4-d931-c8f8b9bb2a3f"
      },
      "source": [
        "dane = dane.rename(columns = {'Kod portu \\n' : 'Kod portu',\n",
        "                       'Data wyjścia (rrrr-mm-dd)' : 'Data wyjścia (rrrr-mm-dd)',\n",
        "                       'Godzina wyjścia\\n(hh:mm)': 'Godzina wyjścia (hh-mm)',\n",
        "                       'Kod portu, \\nprzeznaczenia': 'Kod portu przeznaczenia',\n",
        "                       'Nazwa statku': 'Nazwa statku',\n",
        "                       'Bandera': 'Bandera',\n",
        "                       'nr IMO': 'nr IMO',\n",
        "                       'Sygnał wywoławczy': 'Sygnał Wywoławczy',\n",
        "                       'Pojemność brutto \\n(tony)': 'Pojemność brutto (tony)',\n",
        "                       'Długość (metry)': 'Długość (metry)',\n",
        "                       'Agent': 'Agent',\n",
        "                       'Nabrzeże (miejsce zacumowania)': 'Nabrzeże (miejsce zacumowania)'})\n",
        "\n",
        "dane.head(10)"
      ],
      "execution_count": 23,
      "outputs": [
        {
          "output_type": "execute_result",
          "data": {
            "text/html": [
              "<div>\n",
              "<style scoped>\n",
              "    .dataframe tbody tr th:only-of-type {\n",
              "        vertical-align: middle;\n",
              "    }\n",
              "\n",
              "    .dataframe tbody tr th {\n",
              "        vertical-align: top;\n",
              "    }\n",
              "\n",
              "    .dataframe thead th {\n",
              "        text-align: right;\n",
              "    }\n",
              "</style>\n",
              "<table border=\"1\" class=\"dataframe\">\n",
              "  <thead>\n",
              "    <tr style=\"text-align: right;\">\n",
              "      <th></th>\n",
              "      <th>Kod portu</th>\n",
              "      <th>Data wyjścia (rrrr-mm-dd)</th>\n",
              "      <th>Godzina wyjścia (hh-mm)</th>\n",
              "      <th>Kod portu, \\nprzeznaczenia</th>\n",
              "      <th>Nazwa statku</th>\n",
              "      <th>Bandera</th>\n",
              "      <th>nr IMO</th>\n",
              "      <th>Sygnał Wywoławczy</th>\n",
              "      <th>Pojemność brutto (tony)</th>\n",
              "      <th>Długość (metry)</th>\n",
              "      <th>Agent</th>\n",
              "      <th>Nabrzeże (miejsce zacumowania</th>\n",
              "    </tr>\n",
              "  </thead>\n",
              "  <tbody>\n",
              "    <tr>\n",
              "      <th>0</th>\n",
              "      <td>PLGDN</td>\n",
              "      <td>04.01.2005</td>\n",
              "      <td>12:00:00</td>\n",
              "      <td>RULED</td>\n",
              "      <td>PETSAMO</td>\n",
              "      <td>Finland</td>\n",
              "      <td>7517545</td>\n",
              "      <td>OIZH</td>\n",
              "      <td>2356</td>\n",
              "      <td>84.00</td>\n",
              "      <td>Cargo Service Co. Ltd Gdańsk</td>\n",
              "      <td>NAB. SZCZECIŃSKIE GTK</td>\n",
              "    </tr>\n",
              "    <tr>\n",
              "      <th>1</th>\n",
              "      <td>PLGDN</td>\n",
              "      <td>04.01.2005</td>\n",
              "      <td>09:00:00</td>\n",
              "      <td>DKCPH</td>\n",
              "      <td>TANGO</td>\n",
              "      <td>Romania</td>\n",
              "      <td>8306589</td>\n",
              "      <td>YQOA</td>\n",
              "      <td>9983</td>\n",
              "      <td>140.12</td>\n",
              "      <td>DFDS SEAWAYS Sp. z o. o.</td>\n",
              "      <td>WESTERPLATTE</td>\n",
              "    </tr>\n",
              "    <tr>\n",
              "      <th>2</th>\n",
              "      <td>PLGDN</td>\n",
              "      <td>05.01.2005</td>\n",
              "      <td>17:00:00</td>\n",
              "      <td>SEOTT</td>\n",
              "      <td>ALLORA</td>\n",
              "      <td>Honduras</td>\n",
              "      <td>6505600</td>\n",
              "      <td>HQRN2</td>\n",
              "      <td>517</td>\n",
              "      <td>47.85</td>\n",
              "      <td>Polfracht Shipping Agency Ltd.</td>\n",
              "      <td>PRZEMYSŁOWE / WIŚLANE</td>\n",
              "    </tr>\n",
              "    <tr>\n",
              "      <th>3</th>\n",
              "      <td>PLGDN</td>\n",
              "      <td>06.01.2005</td>\n",
              "      <td>10:00:00</td>\n",
              "      <td>BEANR</td>\n",
              "      <td>CT SUN</td>\n",
              "      <td>Malta</td>\n",
              "      <td>7816484</td>\n",
              "      <td>9HZC7</td>\n",
              "      <td>4382</td>\n",
              "      <td>118.36</td>\n",
              "      <td>Polfracht Shipping Agency Ltd.</td>\n",
              "      <td>OBROŃCÓW POCZTY POLSKIEJ</td>\n",
              "    </tr>\n",
              "    <tr>\n",
              "      <th>4</th>\n",
              "      <td>PLGDN</td>\n",
              "      <td>07.01.2005</td>\n",
              "      <td>20:00:00</td>\n",
              "      <td>SEGOT</td>\n",
              "      <td>TANGO</td>\n",
              "      <td>Romania</td>\n",
              "      <td>8306589</td>\n",
              "      <td>YQOA</td>\n",
              "      <td>9983</td>\n",
              "      <td>140.00</td>\n",
              "      <td>DFDS SEAWAYS Sp. z o. o.</td>\n",
              "      <td>WESTERPLATTE</td>\n",
              "    </tr>\n",
              "    <tr>\n",
              "      <th>5</th>\n",
              "      <td>PLGDN</td>\n",
              "      <td>08.01.2005</td>\n",
              "      <td>10:00:00</td>\n",
              "      <td>LVVNT</td>\n",
              "      <td>MARELD</td>\n",
              "      <td>Norway</td>\n",
              "      <td>9297204</td>\n",
              "      <td>LADI6</td>\n",
              "      <td>4745</td>\n",
              "      <td>119.10</td>\n",
              "      <td>Polfracht Shipping Agency Ltd.</td>\n",
              "      <td>OBROŃCÓW POCZTY POLSKIEJ</td>\n",
              "    </tr>\n",
              "    <tr>\n",
              "      <th>6</th>\n",
              "      <td>PLGDN</td>\n",
              "      <td>09.01.2005</td>\n",
              "      <td>16:00:00</td>\n",
              "      <td>PLWLA</td>\n",
              "      <td>ICARUS III</td>\n",
              "      <td>Cyprus</td>\n",
              "      <td>9145413</td>\n",
              "      <td>P3WM9</td>\n",
              "      <td>21605</td>\n",
              "      <td>182.14</td>\n",
              "      <td>Polfracht Shipping Agency Ltd.</td>\n",
              "      <td>BPPP JETTY \" R \"</td>\n",
              "    </tr>\n",
              "    <tr>\n",
              "      <th>7</th>\n",
              "      <td>PLGDN</td>\n",
              "      <td>10.01.2005</td>\n",
              "      <td>22:00:00</td>\n",
              "      <td>DEEME</td>\n",
              "      <td>CAPE EGMONT</td>\n",
              "      <td>Marshall Islands</td>\n",
              "      <td>9262819</td>\n",
              "      <td>V7EU8</td>\n",
              "      <td>8351</td>\n",
              "      <td>127.20</td>\n",
              "      <td>Polfracht Shipping Agency Ltd.</td>\n",
              "      <td>CHEMIKÓW</td>\n",
              "    </tr>\n",
              "    <tr>\n",
              "      <th>8</th>\n",
              "      <td>PLGDN</td>\n",
              "      <td>11.01.2005</td>\n",
              "      <td>15:30:00</td>\n",
              "      <td>DKCPH</td>\n",
              "      <td>TANGO</td>\n",
              "      <td>Romania</td>\n",
              "      <td>8306589</td>\n",
              "      <td>YQOA</td>\n",
              "      <td>9983</td>\n",
              "      <td>140.12</td>\n",
              "      <td>DFDS SEAWAYS Sp. z o. o.</td>\n",
              "      <td>WESTERPLATTE</td>\n",
              "    </tr>\n",
              "    <tr>\n",
              "      <th>9</th>\n",
              "      <td>PLGDN</td>\n",
              "      <td>12.01.2005</td>\n",
              "      <td>12:00:00</td>\n",
              "      <td>RULED</td>\n",
              "      <td>PETSAMO</td>\n",
              "      <td>Finland</td>\n",
              "      <td>7517545</td>\n",
              "      <td>OIZH</td>\n",
              "      <td>2356</td>\n",
              "      <td>84.00</td>\n",
              "      <td>Cargo Service Co. Ltd Gdańsk</td>\n",
              "      <td>NAB SZCZECIŃSKIE GTK</td>\n",
              "    </tr>\n",
              "  </tbody>\n",
              "</table>\n",
              "</div>"
            ],
            "text/plain": [
              "  Kod portu  ... Nabrzeże (miejsce zacumowania\n",
              "0     PLGDN  ...         NAB. SZCZECIŃSKIE GTK\n",
              "1     PLGDN  ...                  WESTERPLATTE\n",
              "2     PLGDN  ...         PRZEMYSŁOWE / WIŚLANE\n",
              "3     PLGDN  ...      OBROŃCÓW POCZTY POLSKIEJ\n",
              "4     PLGDN  ...                  WESTERPLATTE\n",
              "5     PLGDN  ...      OBROŃCÓW POCZTY POLSKIEJ\n",
              "6     PLGDN  ...              BPPP JETTY \" R \"\n",
              "7     PLGDN  ...                      CHEMIKÓW\n",
              "8     PLGDN  ...                  WESTERPLATTE\n",
              "9     PLGDN  ...          NAB SZCZECIŃSKIE GTK\n",
              "\n",
              "[10 rows x 12 columns]"
            ]
          },
          "metadata": {
            "tags": []
          },
          "execution_count": 23
        }
      ]
    },
    {
      "cell_type": "markdown",
      "metadata": {
        "id": "nECf-_7gRWxa"
      },
      "source": [
        "## Zadanie - 2"
      ]
    },
    {
      "cell_type": "markdown",
      "metadata": {
        "id": "4SIvSOD20N7A"
      },
      "source": [
        "Sprawdź rozmiar tabeli oraz typy danych wg. kolumn."
      ]
    },
    {
      "cell_type": "code",
      "metadata": {
        "id": "uZ64Yl5I0V4t",
        "colab": {
          "base_uri": "https://localhost:8080/"
        },
        "outputId": "5239e717-4d92-46f7-dfcd-8f98092d28ae"
      },
      "source": [
        "dane.shape"
      ],
      "execution_count": 24,
      "outputs": [
        {
          "output_type": "execute_result",
          "data": {
            "text/plain": [
              "(11490, 12)"
            ]
          },
          "metadata": {
            "tags": []
          },
          "execution_count": 24
        }
      ]
    },
    {
      "cell_type": "code",
      "metadata": {
        "id": "bouTLPU7N12j",
        "colab": {
          "base_uri": "https://localhost:8080/"
        },
        "outputId": "105b0aab-0749-49c3-fd45-b38671912687"
      },
      "source": [
        "dane.info()"
      ],
      "execution_count": 25,
      "outputs": [
        {
          "output_type": "stream",
          "text": [
            "<class 'pandas.core.frame.DataFrame'>\n",
            "RangeIndex: 11490 entries, 0 to 11489\n",
            "Data columns (total 12 columns):\n",
            " #   Column                         Non-Null Count  Dtype \n",
            "---  ------                         --------------  ----- \n",
            " 0   Kod portu                      11490 non-null  object\n",
            " 1   Data wyjścia (rrrr-mm-dd)      11490 non-null  object\n",
            " 2   Godzina wyjścia (hh-mm)        11490 non-null  object\n",
            " 3   Kod portu, \n",
            "przeznaczenia      11490 non-null  object\n",
            " 4   Nazwa statku                   11490 non-null  object\n",
            " 5   Bandera                        11490 non-null  object\n",
            " 6   nr IMO                         11490 non-null  object\n",
            " 7   Sygnał Wywoławczy              11490 non-null  object\n",
            " 8   Pojemność brutto (tony)        11490 non-null  int64 \n",
            " 9   Długość (metry)                11490 non-null  object\n",
            " 10  Agent                          11490 non-null  object\n",
            " 11  Nabrzeże (miejsce zacumowania  11490 non-null  object\n",
            "dtypes: int64(1), object(11)\n",
            "memory usage: 1.1+ MB\n"
          ],
          "name": "stdout"
        }
      ]
    },
    {
      "cell_type": "markdown",
      "metadata": {
        "id": "rG3PrtmJm1sH"
      },
      "source": [
        "## Zadanie - 3"
      ]
    },
    {
      "cell_type": "markdown",
      "metadata": {
        "id": "23iIXEIy2rZF"
      },
      "source": [
        "Wyświetl nazwę kolumny oraz pierwszą wartość z tej kolumny, przy czym połączenie nazwa kolumny - pierwsza wartość ma być wyświetlone w nowym wierszu odpowiednio."
      ]
    },
    {
      "cell_type": "code",
      "metadata": {
        "id": "sVRKy1xD2Mm6",
        "colab": {
          "base_uri": "https://localhost:8080/"
        },
        "outputId": "0987e56b-b496-4578-b033-f9e69833ff86"
      },
      "source": [
        "for i in range(len(dane.columns)):\n",
        "  print(dane.columns[i])"
      ],
      "execution_count": 26,
      "outputs": [
        {
          "output_type": "stream",
          "text": [
            "Kod portu\n",
            "Data wyjścia (rrrr-mm-dd)\n",
            "Godzina wyjścia (hh-mm)\n",
            "Kod portu, \n",
            "przeznaczenia \n",
            "Nazwa statku\n",
            "Bandera\n",
            "nr IMO\n",
            "Sygnał Wywoławczy\n",
            "Pojemność brutto (tony)\n",
            "Długość (metry)\n",
            "Agent\n",
            "Nabrzeże (miejsce zacumowania\n"
          ],
          "name": "stdout"
        }
      ]
    },
    {
      "cell_type": "markdown",
      "metadata": {
        "id": "cO94GVsn3l3f"
      },
      "source": [
        "## Zadanie - 4"
      ]
    },
    {
      "cell_type": "markdown",
      "metadata": {
        "id": "EFqDtOfp10H6"
      },
      "source": [
        "Zmień typ danych dla kolumn:<br><br>\n",
        "* `Data wyjścia (rrrr-mm-dd)` na `date` uzywając funkcji: `pd.to_datetime(data, format = \"%d.%m.%Y\")`<br><br>\n",
        "\n",
        "Na wartości numeryczne używając funkcji: `pd.to_numeric(liczba, errors = \"coerce\")` <br>gdzie `coerce` wymusza zamianę nieprawidłowych wartości na NaN:<br>\n",
        "* `nr IMO` \n",
        "* `Długość (metry)`"
      ]
    },
    {
      "cell_type": "code",
      "metadata": {
        "id": "TLg1ID-L4ssQ"
      },
      "source": [
        "dane['Data wyjścia (rrrr-mm-dd)'] = pd.to_datetime(dane['Data wyjścia (rrrr-mm-dd)'], format = \"%d.%m.%Y\")\n",
        "dane['nr IMO'] = pd.to_numeric(dane['nr IMO'], errors = 'coerce')\n",
        "dane['Pojemność brutto (tony)'] = pd.to_numeric(dane['Pojemność brutto (tony)'], errors = 'coerce')\n",
        "dane['Długość (metry)'] = pd.to_numeric(dane['Długość (metry)'], errors = 'coerce')"
      ],
      "execution_count": 36,
      "outputs": []
    },
    {
      "cell_type": "markdown",
      "metadata": {
        "id": "QcbVqote-fQh"
      },
      "source": [
        "Sprawdź jaki jest efekt zmian:"
      ]
    },
    {
      "cell_type": "code",
      "metadata": {
        "id": "JbMmNSd_-e50",
        "colab": {
          "base_uri": "https://localhost:8080/"
        },
        "outputId": "96a96153-47c1-4e46-d662-315f218f6993"
      },
      "source": [
        "dane.info()"
      ],
      "execution_count": 37,
      "outputs": [
        {
          "output_type": "stream",
          "text": [
            "<class 'pandas.core.frame.DataFrame'>\n",
            "RangeIndex: 11490 entries, 0 to 11489\n",
            "Data columns (total 12 columns):\n",
            " #   Column                         Non-Null Count  Dtype         \n",
            "---  ------                         --------------  -----         \n",
            " 0   Kod portu                      11490 non-null  object        \n",
            " 1   Data wyjścia (rrrr-mm-dd)      11490 non-null  datetime64[ns]\n",
            " 2   Godzina wyjścia (hh-mm)        11490 non-null  object        \n",
            " 3   Kod portu, \n",
            "przeznaczenia      11490 non-null  object        \n",
            " 4   Nazwa statku                   11490 non-null  object        \n",
            " 5   Bandera                        11490 non-null  object        \n",
            " 6   nr IMO                         11168 non-null  float64       \n",
            " 7   Sygnał Wywoławczy              11490 non-null  object        \n",
            " 8   Pojemność brutto (tony)        11490 non-null  int64         \n",
            " 9   Długość (metry)                11488 non-null  float64       \n",
            " 10  Agent                          11490 non-null  object        \n",
            " 11  Nabrzeże (miejsce zacumowania  11490 non-null  object        \n",
            "dtypes: datetime64[ns](1), float64(2), int64(1), object(8)\n",
            "memory usage: 1.1+ MB\n"
          ],
          "name": "stdout"
        }
      ]
    },
    {
      "cell_type": "markdown",
      "metadata": {
        "id": "wVUVqTAuAAGU"
      },
      "source": [
        "## Zadanie - 5 "
      ]
    },
    {
      "cell_type": "markdown",
      "metadata": {
        "id": "clANEzmEFwMl"
      },
      "source": [
        "Obetnij zbiór do 10000 wierszy:"
      ]
    },
    {
      "cell_type": "code",
      "metadata": {
        "id": "AhWUwY_aGRBU",
        "colab": {
          "base_uri": "https://localhost:8080/"
        },
        "outputId": "fc34a6dd-82a5-4546-a3d8-fc3d95e6423e"
      },
      "source": [
        "dane = dane.head(10000)\n",
        "dane.shape"
      ],
      "execution_count": 39,
      "outputs": [
        {
          "output_type": "execute_result",
          "data": {
            "text/plain": [
              "(10000, 12)"
            ]
          },
          "metadata": {
            "tags": []
          },
          "execution_count": 39
        }
      ]
    },
    {
      "cell_type": "markdown",
      "metadata": {
        "id": "T3LYFYey1x0a"
      },
      "source": [
        "Sprawdź podstawowe statystyki co do długości statków dodatkowo agregując wynik wg. kolumny Bandera (*przynależność państwowa statku*). "
      ]
    },
    {
      "cell_type": "code",
      "metadata": {
        "id": "9CwMsIDvHMz4",
        "colab": {
          "base_uri": "https://localhost:8080/",
          "height": 431
        },
        "outputId": "ce48286e-ec97-4c1d-d0da-0bb5e066d74d"
      },
      "source": [
        "dane.groupby('Bandera')['Długość (metry)'].describe()"
      ],
      "execution_count": 40,
      "outputs": [
        {
          "output_type": "execute_result",
          "data": {
            "text/html": [
              "<div>\n",
              "<style scoped>\n",
              "    .dataframe tbody tr th:only-of-type {\n",
              "        vertical-align: middle;\n",
              "    }\n",
              "\n",
              "    .dataframe tbody tr th {\n",
              "        vertical-align: top;\n",
              "    }\n",
              "\n",
              "    .dataframe thead th {\n",
              "        text-align: right;\n",
              "    }\n",
              "</style>\n",
              "<table border=\"1\" class=\"dataframe\">\n",
              "  <thead>\n",
              "    <tr style=\"text-align: right;\">\n",
              "      <th></th>\n",
              "      <th>count</th>\n",
              "      <th>mean</th>\n",
              "      <th>std</th>\n",
              "      <th>min</th>\n",
              "      <th>25%</th>\n",
              "      <th>50%</th>\n",
              "      <th>75%</th>\n",
              "      <th>max</th>\n",
              "    </tr>\n",
              "    <tr>\n",
              "      <th>Bandera</th>\n",
              "      <th></th>\n",
              "      <th></th>\n",
              "      <th></th>\n",
              "      <th></th>\n",
              "      <th></th>\n",
              "      <th></th>\n",
              "      <th></th>\n",
              "      <th></th>\n",
              "    </tr>\n",
              "  </thead>\n",
              "  <tbody>\n",
              "    <tr>\n",
              "      <th>Anguilla</th>\n",
              "      <td>1.0</td>\n",
              "      <td>73.660000</td>\n",
              "      <td>NaN</td>\n",
              "      <td>73.66</td>\n",
              "      <td>73.6600</td>\n",
              "      <td>73.66</td>\n",
              "      <td>73.6600</td>\n",
              "      <td>73.66</td>\n",
              "    </tr>\n",
              "    <tr>\n",
              "      <th>Antigua and Barbuda</th>\n",
              "      <td>768.0</td>\n",
              "      <td>174.439076</td>\n",
              "      <td>783.604384</td>\n",
              "      <td>47.00</td>\n",
              "      <td>132.0000</td>\n",
              "      <td>137.50</td>\n",
              "      <td>152.0000</td>\n",
              "      <td>15808.00</td>\n",
              "    </tr>\n",
              "    <tr>\n",
              "      <th>Bahamas</th>\n",
              "      <td>152.0</td>\n",
              "      <td>204.697237</td>\n",
              "      <td>67.689633</td>\n",
              "      <td>63.00</td>\n",
              "      <td>143.7575</td>\n",
              "      <td>244.65</td>\n",
              "      <td>253.0000</td>\n",
              "      <td>334.45</td>\n",
              "    </tr>\n",
              "    <tr>\n",
              "      <th>Barbados</th>\n",
              "      <td>5.0</td>\n",
              "      <td>79.752000</td>\n",
              "      <td>1.927491</td>\n",
              "      <td>78.89</td>\n",
              "      <td>78.8900</td>\n",
              "      <td>78.89</td>\n",
              "      <td>78.8900</td>\n",
              "      <td>83.20</td>\n",
              "    </tr>\n",
              "    <tr>\n",
              "      <th>Belgium</th>\n",
              "      <td>4.0</td>\n",
              "      <td>133.642500</td>\n",
              "      <td>94.247735</td>\n",
              "      <td>79.78</td>\n",
              "      <td>87.4300</td>\n",
              "      <td>89.98</td>\n",
              "      <td>136.1925</td>\n",
              "      <td>274.83</td>\n",
              "    </tr>\n",
              "    <tr>\n",
              "      <th>...</th>\n",
              "      <td>...</td>\n",
              "      <td>...</td>\n",
              "      <td>...</td>\n",
              "      <td>...</td>\n",
              "      <td>...</td>\n",
              "      <td>...</td>\n",
              "      <td>...</td>\n",
              "      <td>...</td>\n",
              "    </tr>\n",
              "    <tr>\n",
              "      <th>Sweden</th>\n",
              "      <td>588.0</td>\n",
              "      <td>197.705595</td>\n",
              "      <td>805.693386</td>\n",
              "      <td>83.70</td>\n",
              "      <td>143.9700</td>\n",
              "      <td>149.95</td>\n",
              "      <td>155.4700</td>\n",
              "      <td>14401.00</td>\n",
              "    </tr>\n",
              "    <tr>\n",
              "      <th>Turkey</th>\n",
              "      <td>6.0</td>\n",
              "      <td>164.421667</td>\n",
              "      <td>55.990485</td>\n",
              "      <td>122.66</td>\n",
              "      <td>128.0075</td>\n",
              "      <td>144.05</td>\n",
              "      <td>173.9525</td>\n",
              "      <td>269.19</td>\n",
              "    </tr>\n",
              "    <tr>\n",
              "      <th>United Kingdom</th>\n",
              "      <td>219.0</td>\n",
              "      <td>160.785890</td>\n",
              "      <td>61.360357</td>\n",
              "      <td>29.50</td>\n",
              "      <td>134.4200</td>\n",
              "      <td>139.50</td>\n",
              "      <td>161.0000</td>\n",
              "      <td>366.00</td>\n",
              "    </tr>\n",
              "    <tr>\n",
              "      <th>United States</th>\n",
              "      <td>34.0</td>\n",
              "      <td>185.374118</td>\n",
              "      <td>67.669120</td>\n",
              "      <td>97.80</td>\n",
              "      <td>155.0000</td>\n",
              "      <td>155.00</td>\n",
              "      <td>202.2350</td>\n",
              "      <td>399.00</td>\n",
              "    </tr>\n",
              "    <tr>\n",
              "      <th>Vanuatu</th>\n",
              "      <td>7.0</td>\n",
              "      <td>172.504286</td>\n",
              "      <td>62.642747</td>\n",
              "      <td>85.70</td>\n",
              "      <td>118.3600</td>\n",
              "      <td>199.52</td>\n",
              "      <td>228.5300</td>\n",
              "      <td>228.53</td>\n",
              "    </tr>\n",
              "  </tbody>\n",
              "</table>\n",
              "<p>61 rows × 8 columns</p>\n",
              "</div>"
            ],
            "text/plain": [
              "                     count        mean         std  ...     50%       75%       max\n",
              "Bandera                                             ...                            \n",
              "Anguilla               1.0   73.660000         NaN  ...   73.66   73.6600     73.66\n",
              "Antigua and Barbuda  768.0  174.439076  783.604384  ...  137.50  152.0000  15808.00\n",
              "Bahamas              152.0  204.697237   67.689633  ...  244.65  253.0000    334.45\n",
              "Barbados               5.0   79.752000    1.927491  ...   78.89   78.8900     83.20\n",
              "Belgium                4.0  133.642500   94.247735  ...   89.98  136.1925    274.83\n",
              "...                    ...         ...         ...  ...     ...       ...       ...\n",
              "Sweden               588.0  197.705595  805.693386  ...  149.95  155.4700  14401.00\n",
              "Turkey                 6.0  164.421667   55.990485  ...  144.05  173.9525    269.19\n",
              "United Kingdom       219.0  160.785890   61.360357  ...  139.50  161.0000    366.00\n",
              "United States         34.0  185.374118   67.669120  ...  155.00  202.2350    399.00\n",
              "Vanuatu                7.0  172.504286   62.642747  ...  199.52  228.5300    228.53\n",
              "\n",
              "[61 rows x 8 columns]"
            ]
          },
          "metadata": {
            "tags": []
          },
          "execution_count": 40
        }
      ]
    },
    {
      "cell_type": "markdown",
      "metadata": {
        "id": "jwYDPq1zHah-"
      },
      "source": [
        "Wg. przynależności państwowej statków, skąd są **średnio** **najdłuższe statki**, które wychodzą z portu Gdańsk? (Top 10)"
      ]
    },
    {
      "cell_type": "code",
      "metadata": {
        "id": "FQnAY5VlHxPs",
        "colab": {
          "base_uri": "https://localhost:8080/"
        },
        "outputId": "5feb9ce5-df66-4fc8-a5b8-b4bf1cee7b44"
      },
      "source": [
        "dane.groupby('Bandera')['Długość (metry)'].mean().sort_values(ascending = False).head(10)"
      ],
      "execution_count": 48,
      "outputs": [
        {
          "output_type": "execute_result",
          "data": {
            "text/plain": [
              "Bandera\n",
              "Isle of Man                 379.749410\n",
              "Denmark                     369.096494\n",
              "Kuwait                      333.583333\n",
              "Liberia                     327.549186\n",
              "Hong Kong                   322.034526\n",
              "Japan                       291.970000\n",
              "Bermuda                     288.500000\n",
              "Iran Islamic Republic of    274.000000\n",
              "India                       254.778571\n",
              "Cyprus                      254.252619\n",
              "Name: Długość (metry), dtype: float64"
            ]
          },
          "metadata": {
            "tags": []
          },
          "execution_count": 48
        }
      ]
    },
    {
      "cell_type": "markdown",
      "metadata": {
        "id": "FyXErevNIePN"
      },
      "source": [
        "Wg. przynależności państwowej statków, jaka jest **średnia największa** ich **pojemność brutto** (tony)? (Top 10)"
      ]
    },
    {
      "cell_type": "code",
      "metadata": {
        "id": "EN1y1A3hAvNp",
        "colab": {
          "base_uri": "https://localhost:8080/"
        },
        "outputId": "abe96613-1894-439f-d30b-34411fe0f9d8"
      },
      "source": [
        "dane.groupby('Bandera')['Pojemność brutto (tony)'].mean().sort_values(ascending = False).head(10)"
      ],
      "execution_count": 49,
      "outputs": [
        {
          "output_type": "execute_result",
          "data": {
            "text/plain": [
              "Bandera\n",
              "Kuwait                      160243.000000\n",
              "Hong Kong                   132319.726316\n",
              "Denmark                     103773.544693\n",
              "Japan                        93182.000000\n",
              "Bermuda                      88539.000000\n",
              "Iran Islamic Republic of     81479.000000\n",
              "Hong Kong                    81119.792857\n",
              "India                        65479.714286\n",
              "Greece                       64022.824885\n",
              "Cayman Islands               61371.000000\n",
              "Name: Pojemność brutto (tony), dtype: float64"
            ]
          },
          "metadata": {
            "tags": []
          },
          "execution_count": 49
        }
      ]
    },
    {
      "cell_type": "markdown",
      "metadata": {
        "id": "EnZotHoEu5zN"
      },
      "source": [
        "## Zadanie - 6 (dodatkowe)"
      ]
    },
    {
      "cell_type": "markdown",
      "metadata": {
        "id": "9-Af-n2aMocw"
      },
      "source": [
        "Opracuj to zadanie wg. kroków:\n",
        "* Stwórz bazę `SQLite`\n",
        "* Wczytaj dane do stworzonej bazy wykorzystując Data Frame obcięty do 10K wierszy z zadania N5\n",
        "* Opracuj zapytania SQL, które pozwolą odpowiedzieć na pytania:\n",
        "> 1) Wg. przynależności państwowej statków, skąd są średnio **najkrótsze statki**, które wychodzą z portu Gdańsk? (Top 10 - bander z średnio najkrótszymi statkami)<br><br>\n",
        "> 2) Wg. przynależności państwowej statków, jaka jest **średnia** ich **pojemność brutto** (tony)? (Top 10 - bander z średnio najemniejszą pojemnością statków)"
      ]
    },
    {
      "cell_type": "markdown",
      "metadata": {
        "id": "zMU2Ovs0M-nm"
      },
      "source": [
        "![database](https://media.giphy.com/media/4FQMuOKR6zQRO/giphy.gif)"
      ]
    },
    {
      "cell_type": "code",
      "metadata": {
        "id": "m9YqByfhNEmd"
      },
      "source": [
        ""
      ],
      "execution_count": null,
      "outputs": []
    }
  ]
}