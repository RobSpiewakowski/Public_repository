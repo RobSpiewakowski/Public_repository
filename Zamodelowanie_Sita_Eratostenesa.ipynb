{
  "nbformat": 4,
  "nbformat_minor": 0,
  "metadata": {
    "colab": {
      "name": "Zamodelowanie Sita Eratostenesa",
      "provenance": [],
      "authorship_tag": "ABX9TyOOkBq8h45Ob7pzJ4iG14jk",
      "include_colab_link": true
    },
    "kernelspec": {
      "name": "python3",
      "display_name": "Python 3"
    },
    "language_info": {
      "name": "python"
    }
  },
  "cells": [
    {
      "cell_type": "markdown",
      "metadata": {
        "id": "view-in-github",
        "colab_type": "text"
      },
      "source": [
        "<a href=\"https://colab.research.google.com/github/RobSpiewakowski/Public_repository/blob/main/Zamodelowanie_Sita_Eratostenesa.ipynb\" target=\"_parent\"><img src=\"https://colab.research.google.com/assets/colab-badge.svg\" alt=\"Open In Colab\"/></a>"
      ]
    },
    {
      "cell_type": "code",
      "metadata": {
        "id": "NO3spGCZWrGP"
      },
      "source": [
        "def sito_eratostenesa(x):\n",
        "  \n",
        "  import numpy as np\n",
        "  # Zdefiniowanie zakresu liczb do przeszukania:\n",
        "  liczby = list(range(2, x+1))\n",
        "  \n",
        "  # Szukanie liczb złożonych:\n",
        "  for i in liczby:\n",
        "    for j in range(2, x//2 + 1):\n",
        "      y = i * j\n",
        "\n",
        "  # Dodanie liczby złożonej do zbioru:    \n",
        "      if y in liczby:\n",
        "        liczby.remove(y)\n",
        "  return liczby\n"
      ],
      "execution_count": null,
      "outputs": []
    },
    {
      "cell_type": "code",
      "metadata": {
        "id": "XJy686_tF5cH"
      },
      "source": [
        ""
      ],
      "execution_count": null,
      "outputs": []
    }
  ]
}