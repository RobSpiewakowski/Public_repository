{
  "nbformat": 4,
  "nbformat_minor": 0,
  "metadata": {
    "kernelspec": {
      "display_name": "Python 3",
      "language": "python",
      "name": "python3"
    },
    "language_info": {
      "codemirror_mode": {
        "name": "ipython",
        "version": 3
      },
      "file_extension": ".py",
      "mimetype": "text/x-python",
      "name": "python",
      "nbconvert_exporter": "python",
      "pygments_lexer": "ipython3",
      "version": "3.8.5"
    },
    "colab": {
      "name": "Funkcje i pętle w Python.ipynb",
      "provenance": [],
      "include_colab_link": true
    }
  },
  "cells": [
    {
      "cell_type": "markdown",
      "metadata": {
        "id": "view-in-github",
        "colab_type": "text"
      },
      "source": [
        "<a href=\"https://colab.research.google.com/github/RobSpiewakowski/nauka-data-science/blob/main/skrypty-colab/Funkcje_i_p%C4%99tle_w_Python.ipynb\" target=\"_parent\"><img src=\"https://colab.research.google.com/assets/colab-badge.svg\" alt=\"Open In Colab\"/></a>"
      ]
    },
    {
      "cell_type": "code",
      "metadata": {
        "id": "EjONWkbH88Jv",
        "outputId": "43b988f5-8834-4376-e392-548449f83673"
      },
      "source": [
        "# Przykład prostej funkcji bez parametru\n",
        "print('Tak definiuje się własną funkcję:')\n",
        "def jakas_funkcja():\n",
        "    print('To jest moja pierwsza funkcja')\n",
        "print('a tak, ją wywołujesz:')\n",
        "jakas_funkcja()"
      ],
      "execution_count": null,
      "outputs": [
        {
          "output_type": "stream",
          "text": [
            "Tak definiuje się własną funkcję:\n",
            "a tak, ją wywołujesz:\n",
            "To jest moja pierwsza funkcja\n"
          ],
          "name": "stdout"
        }
      ]
    },
    {
      "cell_type": "code",
      "metadata": {
        "id": "0Cvl9Yms88J3",
        "outputId": "d9e22852-6f28-47ec-b3b3-d95613c03a72"
      },
      "source": [
        "# Przykład prostej funkcji z parametrem\n",
        "print('Oto przykład zdefiniowania prostej funkcji, która będzie mnożyła zadany paramert przez 5.')\n",
        "# Nazwiemy ją \"razy5\". x jest argumentem tej funkcji.\n",
        "def razy5(x):\n",
        "# Co ma robić funkcja\n",
        "    F = x*5\n",
        "# Co ma wyświetlić funkcja\n",
        "    return F\n",
        "print('Zdefiniowałem funkcję, która ma pomnożyć zadany argument przez 5 i wyświetlić wynik tego mnożenia. Aby zobaczyć jej działanie, wystarczy wywołać tę funkcję i w miejscu x wstawić dowolną liczbę, o tak:')\n",
        "print('wpisanie: razy5(0.5) da nam:', razy5(0.5))"
      ],
      "execution_count": null,
      "outputs": [
        {
          "output_type": "stream",
          "text": [
            "Oto przykład zdefiniowania prostej funkcji, która będzie mnożyła zadany paramert przez 5.\n",
            "Zdefiniowałem funkcję, która ma pomnożyć zadany argument przez 5 i wyświetlić wynik tego mnożenia. Aby zobaczyć jej działanie, wystarczy wywołać tę funkcję i w miejscu x wstawić dowolną liczbę, o tak:\n",
            "wpisanie: razy5(0.5) da nam: 2.5\n"
          ],
          "name": "stdout"
        }
      ]
    },
    {
      "cell_type": "code",
      "metadata": {
        "id": "siJFhswx88J4",
        "outputId": "d88b4b16-b623-4c10-f1f9-9be88d421804"
      },
      "source": [
        "# Funkcja w innej funkcji\n",
        "print('Zdefiniujemy sobie funkcję, która będzie liczyła wypłatę:')\n",
        "def pensja(godziny):\n",
        "    return godziny * 18.30\n",
        "print('Sprawdzamy, czy działa. Osoba, która przepracowała 48 godzin zarobiła', pensja(48))\n",
        "print('Za każdą przepracowaną godzinę powyżej 40 dodamy do wynagrodzenia premię w wysokości 2 zł. Stwórzmy więc funkcję, która oblicvzy wysokość wynagrodzenia wraz z premią:')\n",
        "def pensja_i_premia(godziny):\n",
        "# Warunek konieczny, delikwent przepracował więcej niż 40 godzin\n",
        "    if godziny > 40:\n",
        "# Jeśli tak, to od nadwyżki dostanie 2 zł/h\n",
        "        premia = 2 * (godziny - 40)\n",
        "    else:\n",
        "# Jeśli nie, to gówno dostanie\n",
        "        premia = 0\n",
        "# Funkcja ma zwrócić sumę wartości funkcji pensja - zdefiniowanej wcześniej i funkcji premia\n",
        "    return pensja(godziny) + premia\n",
        "print('Osoba, która przepracowała 48 godzin zarobi', pensja_i_premia(48), 'z czego goła pensja bez premii to:', pensja(48))\n",
        "print('Sprawdźmy: 48 * 18.30 + 8 * 2 = ', 48*18.3+8*2, 'Funkcja działa poprawnie :-)')"
      ],
      "execution_count": null,
      "outputs": [
        {
          "output_type": "stream",
          "text": [
            "Zdefiniujemy sobie funkcję, która będzie liczyła wypłatę:\n",
            "Sprawdzamy, czy działa. Osoba, która przepracowała 48 godzin zarobiła 878.4000000000001\n",
            "Za każdą przepracowaną godzinę powyżej 40 dodamy do wynagrodzenia premię w wysokości 2 zł. Stwórzmy więc funkcję, która oblicvzy wysokość wynagrodzenia wraz z premią:\n",
            "Osoba, która przepracowała 48 godzin zarobi 894.4000000000001 z czego goła pensja bez premii to: 878.4000000000001\n",
            "Sprawdźmy: 48 * 18.30 + 8 * 2 =  894.4000000000001 Funkcja działa poprawnie :-)\n"
          ],
          "name": "stdout"
        }
      ]
    },
    {
      "cell_type": "code",
      "metadata": {
        "id": "zv7JTSSV88J5",
        "outputId": "c0e694bb-0178-4fc0-88ad-976fb2f08cbd"
      },
      "source": [
        "# Funkcja z wieloma parametrami / zmiennymi\n",
        "print('Często mamy do czynienia z  funkcjami wielu zmiennych. W tym przykładzie napiszemy funkcję, która będzie obliczała objętość prostopadłościennej walizki o zadanych przez użytkownika wymiarach.')\n",
        "def walizka(dlugosc, szerokosc, glebokosc):\n",
        "# objętość prostopadłościanu to po prostu iloczyn wymiarów. 1000 słży do przeliczenia cm3 na dm3.\n",
        "    objetosc = dlugosc * szerokosc * glebokosc /1000\n",
        "    return print('Walizka o wymiarach:', dlugosc, 'x', szerokosc,'x', glebokosc, 'cm ma objętość', objetosc, 'dm3.')\n",
        "print('sprawdzamy. Pamiętaj, aby wymiary podać w cm')\n",
        "walizka(24, 56, 19)"
      ],
      "execution_count": null,
      "outputs": [
        {
          "output_type": "stream",
          "text": [
            "Często mamy do czynienia z  funkcjami wielu zmiennych. W tym przykładzie napiszemy funkcję, która będzie obliczała objętość prostopadłościennej walizki o zadanych przez użytkownika wymiarach.\n",
            "sprawdzamy. Pamiętaj, aby wymiary podać w cm\n",
            "Walizka o wymiarach: 24 x 56 x 19 cm ma objętość 25.536 dm3.\n"
          ],
          "name": "stdout"
        }
      ]
    },
    {
      "cell_type": "code",
      "metadata": {
        "id": "cosCGm9288J5",
        "outputId": "76c09e14-eacc-436d-f1bf-bff9f70d56d8"
      },
      "source": [
        "#Inne przydatne funkcje - praca na ciągach\n",
        "print('Masz taki ciąg liczb:')\n",
        "a = [0, 2, 6, 45, 35, 669, 98, -9, 201, 20, 36, 10, 9, 89, 54, 25]\n",
        "print(a)\n",
        "print('Oto kilka fajnych funkcji, które pomogą ci ogarnąć ciągi')\n",
        "# Liczba wyrazów ciągu\n",
        "print('ile wyrazów ma ciąg? Skorzystaj z funkcji len')\n",
        "print('ciąg a ma', len(a), 'wyrazów.')\n",
        "# Wartość maksymalna\n",
        "print('Jaka jest wartość maksymalna w ciągu? Skorzystaj z funkcji max')\n",
        "print('maksymalna wartość w ciągu a to', max(a))\n",
        "# Wartość minimalna\n",
        "print('Analogicznie, jak w przypadku max, tylko tu korzystamy z funkcji min')\n",
        "print('Minimalna wartość w ciągu a to', min(a))\n",
        "# Suma wyrazów ciągu\n",
        "print('A jeśli chcemy dodać do siebie wszystkie wyrazy tego ciągu, to korzystamy z funkcji sum')\n",
        "print('Suma wyrazów ciągu a to', sum(a))"
      ],
      "execution_count": null,
      "outputs": [
        {
          "output_type": "stream",
          "text": [
            "Masz taki ciąg liczb:\n",
            "[0, 2, 6, 45, 35, 669, 98, -9, 201, 20, 36, 10, 9, 89, 54, 25]\n",
            "Oto kilka fajnych funkcji, które pomogą ci ogarnąć ciągi\n",
            "ile wyrazów ma ciąg? Skorzystaj z funkcji len\n",
            "ciąg a ma 16 wyrazów.\n",
            "Jaka jest wartość maksymalna w ciągu? Skorzystaj z funkcji max\n",
            "maksymalna wartość w ciągu a to 669\n",
            "Analogicznie, jak w przypadku max, tylko tu korzystamy z funkcji min\n",
            "Minimalna wartość w ciągu a to -9\n",
            "A jeśli chcemy dodać do siebie wszystkie wyrazy tego ciągu, to korzystamy z funkcji sum\n",
            "Suma wyrazów ciągu a to 1290\n"
          ],
          "name": "stdout"
        }
      ]
    },
    {
      "cell_type": "code",
      "metadata": {
        "id": "1apl6ucm88J6",
        "outputId": "57189ac7-c350-4998-d3d5-02572c9ae660"
      },
      "source": [
        "# Jeszcze kilka ciekawych funkcji\n",
        "b = - 351.3659\n",
        "# Wartośc bezwzględna liczby\n",
        "print('Aby wyznaczyć wartość bezwzględną skorzystaj z funkcji abs')\n",
        "print('Wartość bezwzględna liczby b wynosi', abs(b))\n",
        "# Podniesienie liczby do potęgi\n",
        "print('Potęgować można także za pomocą funkcji pow(podstawa, wykładnik)')\n",
        "print('Liczba b podniesiona do sześcianu wynosi', pow(b, 3))\n",
        "# Zaokrąglanie liczb\n",
        "print('Jeśli chcemy zaokrąglić liczbę b do pierwszej cyfry po przecinku, to skorzystaj z funckji round(liczba, cyfry po przecinku)')\n",
        "print('Liczba b zaokrąglona do jednego miejsca po przecinku wynosi', round(b, 1))"
      ],
      "execution_count": null,
      "outputs": [
        {
          "output_type": "stream",
          "text": [
            "Aby wyznaczyć wartość bezwzględną skorzystaj z funkcji abs\n",
            "Wartość bezwzględna liczby b wynosi 351.3659\n",
            "Potęgować można także za pomocą funkcji pow(podstawa, wykładnik)\n",
            "Liczba b podniesiona do sześcianu wynosi -43378929.765286654\n",
            "Jeśli chcemy zaokrąglić liczbę b do pierwszej cyfry po przecinku, to skorzystaj z funckji round(liczba, cyfry po przecinku)\n",
            "Liczba b zaokrąglona do jednego miejsca po przecinku wynosi -351.4\n"
          ],
          "name": "stdout"
        }
      ]
    },
    {
      "cell_type": "code",
      "metadata": {
        "id": "eDNEyJMD88J6",
        "outputId": "12672ef2-6d33-4811-d730-13f905e74daf"
      },
      "source": [
        "# Pętla FOR\n",
        "print('Pętla for służy do wykonywania w kółko tej samej komendy, lub zestawu komend, określoną liczbę razy. Jeśli chcemy, aby za pomocą pętli, każdy element ze zbioru:')\n",
        "lista = [0,1,2,3,4,5,6,7,8,9]\n",
        "print(lista)\n",
        "print('pomnożyć przez 2, to definiujemy następującą pętlę:')\n",
        "# Dla każdego elementu z tej listy\n",
        "for element in lista:\n",
        "# Pomnóż każdy element przez 2 i zapisz wynik\n",
        "    print(element * 2)"
      ],
      "execution_count": null,
      "outputs": [
        {
          "output_type": "stream",
          "text": [
            "Pętla for służy do wykonywania w kółko tej samej komendy, lub zestawu komend, określoną liczbę razy. Jeśli chcemy, aby za pomocą pętli, każdy element ze zbioru:\n",
            "[0, 1, 2, 3, 4, 5, 6, 7, 8, 9]\n",
            "pomnożyć przez 2, to definiujemy następującą pętlę:\n",
            "0\n",
            "2\n",
            "4\n",
            "6\n",
            "8\n",
            "10\n",
            "12\n",
            "14\n",
            "16\n",
            "18\n"
          ],
          "name": "stdout"
        }
      ]
    },
    {
      "cell_type": "code",
      "metadata": {
        "id": "pMCmpq8y88J7",
        "outputId": "a05e9495-afc1-4113-dfb2-b7a14868c4e5"
      },
      "source": [
        "# Pętla FOR ze zmienną typu str - tekstową i wykorztystaniem polecenia BREAK - zatrzymaj\n",
        "print('W tej pętli wykonujemy instrukcje tak długo aż spełniony zostanie warunek zatrzymujący. Wypisz mi każdy znak z tekstu:')\n",
        "text = 'To dopiero początek! Gotowi?'\n",
        "print(text)\n",
        "print('aż do momentu, gdy znajdziesz literę w:')\n",
        "# dla każdego elementu w zbiorze text\n",
        "for litera in text:\n",
        "# zapisz ten znak, oddziel je tabulatorami\n",
        "    print(litera, end=\"\\t\")\n",
        "# jak dojdziesz do litery w, to przestań\n",
        "    if litera == \"w\": break"
      ],
      "execution_count": null,
      "outputs": [
        {
          "output_type": "stream",
          "text": [
            "W tej pętli wykonujemy instrukcje tak długo aż spełniony zostanie warunek zatrzymujący. Wypisz mi każdy znak z tekstu:\n",
            "To dopiero początek! Gotowi?\n",
            "aż do momentu, gdy znajdziesz literę w:\n",
            "T\to\t \td\to\tp\ti\te\tr\to\t \tp\to\tc\tz\tą\tt\te\tk\t!\t \tG\to\tt\to\tw\t"
          ],
          "name": "stdout"
        }
      ]
    },
    {
      "cell_type": "code",
      "metadata": {
        "id": "nkaLKGdT88J7",
        "outputId": "bed49b46-dd53-40de-d61e-4c7024810445"
      },
      "source": [
        "# Pętla FOR z poleceniem CONTINUE - pominięcie elementu\n",
        "print('Polecenie continue spowoduje, że jeśli w czasie wykonywania pętli, zadany warunek zostanie spełniony, to algorytm pominie wykonywanie polecenia dla tego kroku.')\n",
        "print('We wcześniejszym napisie:')\n",
        "print(text)\n",
        "print('chcemy pominąć wykrzyknik. Zatem tworzymy pętlę:')\n",
        "# Dla każdej litery w tekście\n",
        "for litera in text:\n",
        "# Jeśli trafisz na !\n",
        "    if litera == \"!\":\n",
        "        #print('pomijamy', litera)\n",
        "# Pomiń ją\n",
        "        continue\n",
        "# Wypisuj litery, oddzielone tabulatorami\n",
        "    print(litera, end=\"\\t\")"
      ],
      "execution_count": null,
      "outputs": [
        {
          "output_type": "stream",
          "text": [
            "Polecenie continue spowoduje, że jeśli w czasie wykonywania pętli, zadany warunek zostanie spełniony, to algorytm pominie wykonywanie polecenia dla tego kroku.\n",
            "We wcześniejszym napisie:\n",
            "To dopiero początek! Gotowi?\n",
            "chcemy pominąć wykrzyknik. Zatem tworzymy pętlę:\n",
            "T\to\t \td\to\tp\ti\te\tr\to\t \tp\to\tc\tz\tą\tt\te\tk\t \tG\to\tt\to\tw\ti\t?\t"
          ],
          "name": "stdout"
        }
      ]
    },
    {
      "cell_type": "code",
      "metadata": {
        "id": "6-S_hxJx88J8",
        "outputId": "47e342ef-2846-4a00-9055-3dc70d160bc1"
      },
      "source": [
        "# Polecenie RANGE - wypisz wszystkie liczby od x do y, co z i pętla FOR z zakresem liczb.\n",
        "print('Wypisz mi wszystkie liczby od 3 do 100, co 3. Aby to zrobić, korzystamy z polecenia range. Składnia: x = range(początek, koniec, krok)')\n",
        "x = range(3, 100, 3)\n",
        "print('Teraz na każdej liczbie z zakresu 3 do 100, co 3 wykonamy działanie: podzielimy ją przez 3.')\n",
        "# Dla każdej liczby w tym zbiorze\n",
        "for liczba in x:\n",
        "# Podziel ją przez 3. Wyniki oddziel średnikiem.\n",
        "    print(liczba / 3, end = \"; \")"
      ],
      "execution_count": null,
      "outputs": [
        {
          "output_type": "stream",
          "text": [
            "Wypisz mi wszystkie liczby od 3 do 100, co 3. Aby to zrobić, korzystamy z polecenia range. Składnia: x = range(początek, koniec, krok)\n",
            "Teraz na każdej liczbie z zakresu 3 do 100, co 3 wykonamy działanie: podzielimy ją przez 3.\n",
            "1.0; 2.0; 3.0; 4.0; 5.0; 6.0; 7.0; 8.0; 9.0; 10.0; 11.0; 12.0; 13.0; 14.0; 15.0; 16.0; 17.0; 18.0; 19.0; 20.0; 21.0; 22.0; 23.0; 24.0; 25.0; 26.0; 27.0; 28.0; 29.0; 30.0; 31.0; 32.0; 33.0; "
          ],
          "name": "stdout"
        }
      ]
    },
    {
      "cell_type": "code",
      "metadata": {
        "id": "WySr_lQ588J8",
        "outputId": "d4af59f4-e819-4a39-9ca4-5238c8cb8f9b"
      },
      "source": [
        "# Funkcja z pętlą FOR. Ile wyrazów ciągu spełnia jakiś warunek?\n",
        "print('Oto lista ocen końcowych z informatyki dla klasy 7C:')\n",
        "oceny = [2, 3, 5, 5, 5, 4, 2, 3, 3, 3, 4, 5, 2, 3, 2, 5, 4, 2, 3, 4, 3, 5, 5, 2, 3, 5, 4, 4, 4, 2, 3, 2, 2, 5, 4]\n",
        "print(oceny)\n",
        "print('Aby sprawdzić, ilu uczniów tej klasy otrzymało ocenę 4 lub wyższą, należy użyć pętli, która zliczy wszystkie argumenty, dla których został spełniony ten warunek.')\n",
        "print('W klasie jest', len(oceny), 'uczniów')\n",
        "# Ile mamy czwórek lub piątek? Definiujemy funkcję:\n",
        "def dobra_ocena(lista_ocen):\n",
        "# Liczenie rozpoczynamy od 0\n",
        "    liczba_dobrych_ocen = 0\n",
        "# Dla każdej oceny na liście...\n",
        "    for ocena in lista_ocen:\n",
        "# Sprawdź, czy jesy większa lub równa 4...\n",
        "        if ocena >= 4:\n",
        "# jeśli tak, to podbij licznik o 1\n",
        "            liczba_dobrych_ocen += 1\n",
        "# Wypluj mi liczbę dobrych ocen.\n",
        "    return liczba_dobrych_ocen\n",
        "print('w klasie', dobra_ocena(oceny), 'uczniów dostało dobre oceny z informatyki.')"
      ],
      "execution_count": null,
      "outputs": [
        {
          "output_type": "stream",
          "text": [
            "Oto lista ocen końcowych z informatyki dla klasy 7C:\n",
            "[2, 3, 5, 5, 5, 4, 2, 3, 3, 3, 4, 5, 2, 3, 2, 5, 4, 2, 3, 4, 3, 5, 5, 2, 3, 5, 4, 4, 4, 2, 3, 2, 2, 5, 4]\n",
            "Aby sprawdzić, ilu uczniów tej klasy otrzymało ocenę 4 lub wyższą, należy użyć pętli, która zliczy wszystkie argumenty, dla których został spełniony ten warunek.\n",
            "W klasie jest 35 uczniów\n",
            "w klasie 17 uczniów dostało dobre oceny z informatyki.\n"
          ],
          "name": "stdout"
        }
      ]
    },
    {
      "cell_type": "code",
      "metadata": {
        "id": "Q_e_HkrM88J9",
        "outputId": "11fe42df-992b-4891-ac72-2f66b1b3a959"
      },
      "source": [
        "# Pętla WHILE - wykonywanie instrukcji aż do spełnienia określonego warunku\n",
        "print('Odkładamy na lokatę 1000,00 zł. Oprocentowanie wynosi 5 % w skali roku z miesięczną kapitalizacją odsetek. Będziemy trzymać na niej pieniądze aż podwoimy kapitał. Ile czasu nam to zajmie?')\n",
        "print('W związku z tymi planami, utworzymy pętlę WHILE, która będzie nam naliczała odsetki (metodą procenta składanego), aż podwoimy kapitał.')\n",
        "# Definiujemy wartość początkową\n",
        "kapital = 1000\n",
        "print('na lokatę odkładamy', kapital, 'zł.')\n",
        "# Jak długo kapitał jest mniejszy niż 2000,00 zł...\n",
        "while kapital < 2000:\n",
        "# pokaż, ile to jest...\n",
        "    print(round(kapital, 2), end = \"; \")\n",
        "# Dopisuj odsetki.\n",
        "    kapital *= (1+0.05/12)\n",
        "print('W ostatnim miesiącu trwania lokaty uzbieraliśmy na niej', round(kapital, 2), 'zł.')"
      ],
      "execution_count": null,
      "outputs": [
        {
          "output_type": "stream",
          "text": [
            "Odkładamy na lokatę 1000,00 zł. Oprocentowanie wynosi 5 % w skali roku z miesięczną kapitalizacją odsetek. Będziemy trzymać na niej pieniądze aż podwoimy kapitał. Ile czasu nam to zajmie?\n",
            "W związku z tymi planami, utworzymy pętlę WHILE, która będzie nam naliczała odsetki (metodą procenta składanego), aż podwoimy kapitał.\n",
            "na lokatę odkładamy 1000 zł.\n",
            "1000; 1004.17; 1008.35; 1012.55; 1016.77; 1021.01; 1025.26; 1029.53; 1033.82; 1038.13; 1042.46; 1046.8; 1051.16; 1055.54; 1059.94; 1064.36; 1068.79; 1073.24; 1077.72; 1082.21; 1086.72; 1091.24; 1095.79; 1100.36; 1104.94; 1109.55; 1114.17; 1118.81; 1123.47; 1128.15; 1132.85; 1137.57; 1142.31; 1147.07; 1151.85; 1156.65; 1161.47; 1166.31; 1171.17; 1176.05; 1180.95; 1185.87; 1190.81; 1195.77; 1200.76; 1205.76; 1210.78; 1215.83; 1220.9; 1225.98; 1231.09; 1236.22; 1241.37; 1246.54; 1251.74; 1256.95; 1262.19; 1267.45; 1272.73; 1278.03; 1283.36; 1288.71; 1294.08; 1299.47; 1304.88; 1310.32; 1315.78; 1321.26; 1326.77; 1332.29; 1337.85; 1343.42; 1349.02; 1354.64; 1360.28; 1365.95; 1371.64; 1377.36; 1383.1; 1388.86; 1394.65; 1400.46; 1406.29; 1412.15; 1418.04; 1423.94; 1429.88; 1435.84; 1441.82; 1447.83; 1453.86; 1459.92; 1466.0; 1472.11; 1478.24; 1484.4; 1490.59; 1496.8; 1503.03; 1509.3; 1515.58; 1521.9; 1528.24; 1534.61; 1541.0; 1547.42; 1553.87; 1560.35; 1566.85; 1573.38; 1579.93; 1586.51; 1593.12; 1599.76; 1606.43; 1613.12; 1619.84; 1626.59; 1633.37; 1640.18; 1647.01; 1653.87; 1660.76; 1667.68; 1674.63; 1681.61; 1688.62; 1695.65; 1702.72; 1709.81; 1716.94; 1724.09; 1731.27; 1738.49; 1745.73; 1753.0; 1760.31; 1767.64; 1775.01; 1782.4; 1789.83; 1797.29; 1804.78; 1812.3; 1819.85; 1827.43; 1835.05; 1842.69; 1850.37; 1858.08; 1865.82; 1873.6; 1881.4; 1889.24; 1897.11; 1905.02; 1912.96; 1920.93; 1928.93; 1936.97; 1945.04; 1953.14; 1961.28; 1969.45; 1977.66; 1985.9; 1994.17; W ostatnim miesiącu trwania lokaty uzbieraliśmy na niej 2002.48 zł.\n"
          ],
          "name": "stdout"
        }
      ]
    },
    {
      "cell_type": "code",
      "metadata": {
        "id": "HmzEV7Ck88J9",
        "outputId": "c8b6f075-9332-42ad-8417-e6712bda5e6d"
      },
      "source": [
        "# Zadanko z ćwiczeń: FOR / IN / RANGE\n",
        "print(\"Oto funkcja, która wypluwa wszystkie parzyste znaki z ciągu tekstowego.\")\n",
        "print(\"Teraz poprosimy użytkownika, żeby nam coś napisał:\")\n",
        "text = str(input(\"Napisz mi kilka ciepłych słów: \"))\n",
        "# Definiujemy funkcję od text:\n",
        "def zwroc_znaki(text):\n",
        "# Najpierw wyświetli się komunikat o długości tekstu. Funkcja len() zwraca liczbę znaków w ciągu:\n",
        "    print(\"Twój tekst ma \", len(text), \"znaków.\")\n",
        "# dla każdego i wysłubanego z tekstu tak, że: range(zacznij od znaku numer, aż do tego znaku, co 2 znaki):\n",
        "    for i in range(1, len(text), 2):\n",
        "# Wyświetl wydłubany znak\n",
        "        print(text[i])\n",
        "zwroc_znaki(text)"
      ],
      "execution_count": null,
      "outputs": [
        {
          "output_type": "stream",
          "text": [
            "Oto funkcja, która wypluwa wszystkie parzyste znaki z ciągu tekstowego.\n",
            "Teraz poprosimy użytkownika, żeby nam coś napisał:\n",
            "Napisz mi kilka ciepłych słów: kicha\n",
            "Twój tekst ma  5 znaków.\n",
            "i\n",
            "h\n"
          ],
          "name": "stdout"
        }
      ]
    },
    {
      "cell_type": "code",
      "metadata": {
        "id": "2tpo-G3j88J9",
        "outputId": "ff8bece7-e8bf-4470-d4de-b48a38c62aef"
      },
      "source": [
        "# W tym przykładzie tworzymy listę elementów, zdefiniowanych przez użytkownika, tak długo aż napisze koniec. Komenda koniec kończy uzupełnianie listy.\n",
        "print(\"Tworzenie pustej listy:\")\n",
        "lista = []\n",
        "print(lista)\n",
        "print(\"Jako, że nie wiemy, ile elementów do listy dopisze użytkownik, skorzystamy z pętli WHILE, która działa tak długo, jal długo warunek jest spełniony.\")\n",
        "# Warunek kontynuowania pętli:\n",
        "zakoncz_liste = False\n",
        "# Tworzenie pętli WHILE - dopóki zakoncz_liste ma wartość False:\n",
        "while zakoncz_liste == False:\n",
        "# Niech użytkownik coś napisze:\n",
        "    n = input(\"Podaj element listy. Słowo 'koniec' kończy listę: \")\n",
        "# Jeśli napisze słowo \"koniec\"...\n",
        "    if n.lower() == \"koniec\":\n",
        "# to kończymy zabawę...\n",
        "        zakoncz_liste = True\n",
        "# Jeśli nie, to jedziemy dalej. lista.append(n) - dopisz do listy to, co zdefiniował użytkownik.\n",
        "    else:\n",
        "        lista.append(n)\n",
        "print(\"Twoja lista: \", lista)"
      ],
      "execution_count": null,
      "outputs": [
        {
          "output_type": "stream",
          "text": [
            "Tworzenie pustej listy:\n",
            "[]\n",
            "Jako, że nie wiemy, ile elementów do listy dopisze użytkownik, skorzystamy z pętli WHILE, która działa tak długo, jal długo warunek jest spełniony.\n",
            "Podaj element listy. Słowo 'koniec' kończy listę: początek\n",
            "Podaj element listy. Słowo 'koniec' kończy listę: środek\n",
            "Podaj element listy. Słowo 'koniec' kończy listę: koniec\n",
            "Twoja lista:  ['początek', 'środek']\n"
          ],
          "name": "stdout"
        }
      ]
    },
    {
      "cell_type": "code",
      "metadata": {
        "id": "6HY3H4cR88J-",
        "outputId": "0ae45494-a82b-4a9f-8163-da7177f20199"
      },
      "source": [
        "# Liczniki. Liczenie znaków w stringu.\n",
        "print(\"Teraz poprosimy użytkownika, żeby wpisał nam coś fajnego. Pózniej policzymy, ile razy pojawił się tam znak, który użytkownik zadał.\")\n",
        "text = input(\"Napisz mi coś miłego\").lower()\n",
        "znak = input(\"Podaj klucz: \").lower()\n",
        "# argument.COUNT(co ma liczyć) - w tym ciągu policz te znaki\n",
        "licznik = text.count(znak)\n",
        "print(licznik)"
      ],
      "execution_count": null,
      "outputs": [
        {
          "output_type": "stream",
          "text": [
            "Teraz poprosimy użytkownika, żeby wpisał nam coś fajnego. Pózniej policzymy, ile razy pojawił się tam znak, który użytkownik zadał.\n",
            "Napisz mi coś miłegolkbnwrwrlkw wdlkghqwrlfhq wqklfjewoi\n",
            "Podaj klucz: b\n",
            "1\n"
          ],
          "name": "stdout"
        }
      ]
    },
    {
      "cell_type": "code",
      "metadata": {
        "id": "Ifzk1vBK88KA",
        "outputId": "e4d272c7-3ae5-4aeb-8f66-a0643092305d"
      },
      "source": [
        "# Odwrócenie ciągu znaków - zapisanie od tyłu.\n",
        "print(\"Teraz zapiszemy sobie ciąg znaków od tyłu do przodu. Robi się to za pomocą indeksu [::-1], na przykład:\")\n",
        "x = input(\"Podaj jakiś ciąg: \")\n",
        "print(x[::-1])"
      ],
      "execution_count": null,
      "outputs": [
        {
          "output_type": "stream",
          "text": [
            "Teraz zapiszemy sobie ciąg znaków od tyłu do przodu. Robi się to za pomocą indeksu [::-1], na przykład:\n",
            "Podaj jakiś ciąg: ltyjdrafhetjytkyukhmhergawgegwgerg\n",
            "gregwgegwagrehmhkuyktyjtehfardjytl\n"
          ],
          "name": "stdout"
        }
      ]
    },
    {
      "cell_type": "code",
      "metadata": {
        "id": "q8L1FCDx88KA",
        "outputId": "9ef5c1b9-3777-4828-8f2e-237b5b641b0e"
      },
      "source": [
        "# Wybieranie elementów z listy i wstawianie ich do innej listy.\n",
        "print(\"Teraz wybierzemy sobie elementy z jednej listy i wstawimy do drugiej. Oto przykładowa lista:\")\n",
        "lista1 = [3,23,25,698,12,3,6,9,1,25,985,24,36,15,23,56,985,15,26,94,36,569,100]\n",
        "print(lista1)\n",
        "print(\"Chcemy wydłubać z tej listy wszystkie liczby parzyste, większe od 15 i z nich utworzyć drugą listę, w której elementy będą uszeregowane od najmniejszego do największego.\")\n",
        "print(\"Do tego, przyda się pętla FOR. Ale zaczynamy od zdefinowania funkcji:\")\n",
        "# Definiowanie funkcji:\n",
        "def funkcja(lista1):\n",
        "# Zdefiniuj pustą listę wewnątrz funkcji\n",
        "    lista2=[]\n",
        "# tworzenie pętli FOR: dla każdego elementu i w liście 1\n",
        "    for i in range(len(lista1)):\n",
        "# Warunki logiczne: element i ma bć większy od 15 i reszta z dzielenia przez 2 ma być równa 0:\n",
        "        if lista1[i] > 15 and lista1[i] %2 == 0:\n",
        "# Jeśli tak, to dopisz do listy 2 ten element z listy 1\n",
        "            lista2.append(lista1[i])\n",
        "#Posortuj listę 2\n",
        "    lista2.sort()\n",
        "    return print(lista2)\n",
        "# Wywołaj tę funkcję :-)\n",
        "funkcja(lista1)"
      ],
      "execution_count": null,
      "outputs": [
        {
          "output_type": "stream",
          "text": [
            "Teraz wybierzemy sobie elementy z jednej listy i wstawimy do drugiej. Oto przykładowa lista:\n",
            "[3, 23, 25, 698, 12, 3, 6, 9, 1, 25, 985, 24, 36, 15, 23, 56, 985, 15, 26, 94, 36, 569, 100]\n",
            "Chcemy wydłubać z tej listy wszystkie liczby parzyste, większe od 15 i z nich utworzyć drugą listę, w której elementy będą uszeregowane od najmniejszego do największego.\n",
            "Do tego, przyda się pętla FOR. Ale zaczynamy od zdefinowania funkcji:\n",
            "[24, 26, 36, 36, 56, 94, 100, 698]\n"
          ],
          "name": "stdout"
        }
      ]
    },
    {
      "cell_type": "code",
      "metadata": {
        "id": "rrSZpdEW88KB",
        "outputId": "2dfe4327-cb58-466d-9fe3-9f3042f19697"
      },
      "source": [
        "# Pętla WHILE / ELSE:\n",
        "print('Na początek prosta pętla while, która określoną liczbę razy wyświetli pewną wartość. Definiujemy zmienną do pętli:')\n",
        "x = 1\n",
        "print('x = 1')\n",
        "print('Ta zmienna będzie informowała mnie, który raz przechodzimy przez pętlę - iteracja.')\n",
        "print('Teraz zadajemy warunek kończący pętlę: xmax = 15. Chodzi o to, że komputer ma wykonać czynności w pętli 15 razy.')\n",
        "xmax = 15\n",
        "print('Zaczynamy zapętlać:')\n",
        "# Jak długo x jest mniejsze lub równe xmax - czyli po ludzku: aż do osiągnięcia wartości xmax...\n",
        "while x <= xmax:\n",
        "# instrukcja do wykonania...\n",
        "    print('Przechodzę przez pętlę już', x, 'raz.')\n",
        "# Tu zwiększamy wartość x - czyli po ludzku odliczamy kolejne przejścia przez pętlę.\n",
        "    x += 1\n",
        "else:\n",
        "    print('Już skończyłem.')\n",
        "\n",
        "'''Składnia pętli while:\n",
        "while warunek kontynuacji pętli:\n",
        "    ciąg instrukcji\n",
        "    coś, co zbliży nas do zatrzymania pętli.\n",
        "else:\n",
        "    ciąg instrukcji po zakończeniu pętli'''"
      ],
      "execution_count": null,
      "outputs": [
        {
          "output_type": "stream",
          "text": [
            "Na początek prosta pętla while, która określoną liczbę razy wyświetli pewną wartość. Definiujemy zmienną do pętli:\n",
            "x = 1\n",
            "Ta zmienna będzie informowała mnie, który raz przechodzimy przez pętlę - iteracja.\n",
            "Teraz zadajemy warunek kończący pętlę: xmax = 15. Chodzi o to, że komputer ma wykonać czynności w pętli 15 razy.\n",
            "Zaczynamy zapętlać:\n",
            "Przechodzę przez pętlę już 1 raz.\n",
            "Przechodzę przez pętlę już 2 raz.\n",
            "Przechodzę przez pętlę już 3 raz.\n",
            "Przechodzę przez pętlę już 4 raz.\n",
            "Przechodzę przez pętlę już 5 raz.\n",
            "Przechodzę przez pętlę już 6 raz.\n",
            "Przechodzę przez pętlę już 7 raz.\n",
            "Przechodzę przez pętlę już 8 raz.\n",
            "Przechodzę przez pętlę już 9 raz.\n",
            "Przechodzę przez pętlę już 10 raz.\n",
            "Przechodzę przez pętlę już 11 raz.\n",
            "Przechodzę przez pętlę już 12 raz.\n",
            "Przechodzę przez pętlę już 13 raz.\n",
            "Przechodzę przez pętlę już 14 raz.\n",
            "Przechodzę przez pętlę już 15 raz.\n",
            "Już skończyłem.\n"
          ],
          "name": "stdout"
        },
        {
          "output_type": "execute_result",
          "data": {
            "text/plain": [
              "'Składnia pętli while:\\nwhile warunek kontynuacji pętli:\\n    ciąg instrukcji\\n    coś, co zbliży nas do zatrzymania pętli.\\nelse:\\n    ciąg instrukcji po zakończeniu pętli'"
            ]
          },
          "metadata": {
            "tags": []
          },
          "execution_count": 7
        }
      ]
    },
    {
      "cell_type": "code",
      "metadata": {
        "id": "qnNpNZJv88KB",
        "outputId": "b6cd1b21-9ad6-4e97-e396-137162310244"
      },
      "source": [
        "# Ćwiczenia z Udemy:\n",
        "# 1\n",
        "firstRow = 1\n",
        "lastRow = 10\n",
        "row = firstRow\n",
        "while row <= lastRow:\n",
        "    print('Row number', row)\n",
        "    row += 1\n",
        "else:\n",
        "    print('Finished')\n",
        "print('--------------------------------')\n",
        "# 2\n",
        "a = 1\n",
        "while a <= 13:\n",
        "    print(a, '; x^2 =', a**2, '; x^3 =', a**3)\n",
        "    a += 1\n",
        "print('--------------------------------')\n",
        "# 3\n",
        "n = float(input('Ile?'))\n",
        "x = 1\n",
        "while x <= n:\n",
        "    print('2^',x, '=', 2**x)\n",
        "    x += 1\n",
        "print('--------------------------------')\n",
        "# 4\n",
        "k = float(input('Ile rzędów wzorków mam wykonać?'))\n",
        "j = 1\n",
        "while j <= k:\n",
        "    print(j*'X')\n",
        "    j += 1"
      ],
      "execution_count": null,
      "outputs": [
        {
          "output_type": "stream",
          "text": [
            "Row number 1\n",
            "Row number 2\n",
            "Row number 3\n",
            "Row number 4\n",
            "Row number 5\n",
            "Row number 6\n",
            "Row number 7\n",
            "Row number 8\n",
            "Row number 9\n",
            "Row number 10\n",
            "Finished\n",
            "--------------------------------\n",
            "1 ; x^2 = 1 ; x^3 = 1\n",
            "2 ; x^2 = 4 ; x^3 = 8\n",
            "3 ; x^2 = 9 ; x^3 = 27\n",
            "4 ; x^2 = 16 ; x^3 = 64\n",
            "5 ; x^2 = 25 ; x^3 = 125\n",
            "6 ; x^2 = 36 ; x^3 = 216\n",
            "7 ; x^2 = 49 ; x^3 = 343\n",
            "8 ; x^2 = 64 ; x^3 = 512\n",
            "9 ; x^2 = 81 ; x^3 = 729\n",
            "10 ; x^2 = 100 ; x^3 = 1000\n",
            "11 ; x^2 = 121 ; x^3 = 1331\n",
            "12 ; x^2 = 144 ; x^3 = 1728\n",
            "13 ; x^2 = 169 ; x^3 = 2197\n",
            "--------------------------------\n",
            "Ile?1\n",
            "2^ 1 = 2\n",
            "--------------------------------\n",
            "Ile rzędów wzorków mam wykonać?10\n",
            "X\n",
            "XX\n",
            "XXX\n",
            "XXXX\n",
            "XXXXX\n",
            "XXXXXX\n",
            "XXXXXXX\n",
            "XXXXXXXX\n",
            "XXXXXXXXX\n",
            "XXXXXXXXXX\n"
          ],
          "name": "stdout"
        }
      ]
    },
    {
      "cell_type": "code",
      "metadata": {
        "id": "Izynh3Zk88KD",
        "outputId": "6a340260-1451-4e0f-d88f-534c6b62f6a7"
      },
      "source": [
        "# IF w WHILE - przykład: wyszukiwanie wzorca w ciągu liczb:\n",
        "print('Jest sobie pewna lista:')\n",
        "values = [10, 36, 98, 14, 2, 98, 21, 396, 25, 964, 125, 3, 69, 21, 58, 36, 10, 50, 608, 69]\n",
        "print(values)\n",
        "print('Chcielibyśmy wyciągnąć z tego ciągu zestawy trzech kolejnych liczb, które tworzą podciąg rosnący. Np. 10, 36, 98. Zrobimy to za pomocą pętli while, z zagnieżdżoną funkcją if:')\n",
        "# Deklarowanie zmiennej. 0, bo Python będzie szukał kolejnych wyrazów tego ciągu:\n",
        "i = 0\n",
        "# Deklarowanie maksymalnej wartości zmiennej. Gdy i osiągnie tę wartość, kończymy pętlę.\n",
        "max = len(values)-2\n",
        "# dopóki ten warunek jest spełniony...\n",
        "while i < max:\n",
        "# Jeśli następujące po sobie trzy liczby tworzą ciąg rosnący...\n",
        "    if values[i] < values[i+1] < values[i+2]:\n",
        "# Zapisz je.\n",
        "        print('\\tFound:', values[i], values[i+1], values[i+2])\n",
        "# zwiększ i o jeden - tak aby w następnym przejściu przez pętlę, analizować od kolejnej liczby.\n",
        "    i += 1\n",
        "print('Znaleźliśmy dwa takie podciągi.')"
      ],
      "execution_count": null,
      "outputs": [
        {
          "output_type": "stream",
          "text": [
            "Jest sobie pewna lista:\n",
            "[10, 36, 98, 14, 2, 98, 21, 396, 25, 964, 125, 3, 69, 21, 58, 36, 10, 50, 608, 69]\n",
            "Chcielibyśmy wyciągnąć z tego ciągu zestawy trzech kolejnych liczb, które tworzą podciąg rosnący. Np. 10, 36, 98. Zrobimy to za pomocą pętli while, z zagnieżdżoną funkcją if:\n",
            "\tFound: 10 36 98\n",
            "\tFound: 10 50 608\n",
            "Znaleźliśmy dwa takie podciągi.\n"
          ],
          "name": "stdout"
        }
      ]
    },
    {
      "cell_type": "code",
      "metadata": {
        "id": "pOaC8U7f88KE",
        "outputId": "32c36d29-f298-4360-f03f-d419ace45ce9"
      },
      "source": [
        "# Ćwiczenie z Udemy:\n",
        "# 1\n",
        "numbers = [8, 18, 2, 4, 16, 5, 25, 4, 22, 3, 3, 5, 3]\n",
        "i = 0\n",
        "maxi = len(numbers)-1\n",
        "while i < maxi:\n",
        "    if numbers[i]**2 == numbers[i+1]:\n",
        "        print('\\tFound:', numbers[i], numbers[i+1])\n",
        "    i += 1\n",
        "print('-----------------------------------')\n",
        "# 2\n",
        "j = 0\n",
        "maxj = len(numbers)-2\n",
        "while j < maxj:\n",
        "    if numbers[j]**2 == numbers[j+1] and numbers[j+1]**2 == numbers[j+2]:\n",
        "        print('\\tFound:', numbers[j], numbers[j+1], numbers[j+2])\n",
        "    j += 1\n",
        "print('-----------------------------------')\n",
        "# 3\n",
        "texts = ['zero', 'one', 'two', 'three', 'four', 'five', 'six', 'seven', 'eight', 'nine']\n",
        "k = 0\n",
        "maxk = len(numbers)-1\n",
        "while k < maxk:\n",
        "    if len(texts[k]) == len(texts[k+1]):\n",
        "        print('\\tFound:', texts[k], texts[k+1])\n",
        "    k +=1"
      ],
      "execution_count": null,
      "outputs": [
        {
          "output_type": "stream",
          "text": [
            "\tFound: 2 4\n",
            "\tFound: 4 16\n",
            "\tFound: 5 25\n",
            "-----------------------------------\n",
            "\tFound: 2 4 16\n",
            "-----------------------------------\n",
            "\tFound: one two\n",
            "\tFound: four five\n",
            "\tFound: seven eight\n"
          ],
          "name": "stdout"
        },
        {
          "output_type": "error",
          "ename": "IndexError",
          "evalue": "list index out of range",
          "traceback": [
            "\u001b[1;31m---------------------------------------------------------------------------\u001b[0m",
            "\u001b[1;31mIndexError\u001b[0m                                Traceback (most recent call last)",
            "\u001b[1;32m<ipython-input-11-b43584ae28e8>\u001b[0m in \u001b[0;36m<module>\u001b[1;34m\u001b[0m\n\u001b[0;32m     22\u001b[0m \u001b[0mmaxk\u001b[0m \u001b[1;33m=\u001b[0m \u001b[0mlen\u001b[0m\u001b[1;33m(\u001b[0m\u001b[0mnumbers\u001b[0m\u001b[1;33m)\u001b[0m\u001b[1;33m-\u001b[0m\u001b[1;36m1\u001b[0m\u001b[1;33m\u001b[0m\u001b[1;33m\u001b[0m\u001b[0m\n\u001b[0;32m     23\u001b[0m \u001b[1;32mwhile\u001b[0m \u001b[0mk\u001b[0m \u001b[1;33m<\u001b[0m \u001b[0mmaxk\u001b[0m\u001b[1;33m:\u001b[0m\u001b[1;33m\u001b[0m\u001b[1;33m\u001b[0m\u001b[0m\n\u001b[1;32m---> 24\u001b[1;33m     \u001b[1;32mif\u001b[0m \u001b[0mlen\u001b[0m\u001b[1;33m(\u001b[0m\u001b[0mtexts\u001b[0m\u001b[1;33m[\u001b[0m\u001b[0mk\u001b[0m\u001b[1;33m]\u001b[0m\u001b[1;33m)\u001b[0m \u001b[1;33m==\u001b[0m \u001b[0mlen\u001b[0m\u001b[1;33m(\u001b[0m\u001b[0mtexts\u001b[0m\u001b[1;33m[\u001b[0m\u001b[0mk\u001b[0m\u001b[1;33m+\u001b[0m\u001b[1;36m1\u001b[0m\u001b[1;33m]\u001b[0m\u001b[1;33m)\u001b[0m\u001b[1;33m:\u001b[0m\u001b[1;33m\u001b[0m\u001b[1;33m\u001b[0m\u001b[0m\n\u001b[0m\u001b[0;32m     25\u001b[0m         \u001b[0mprint\u001b[0m\u001b[1;33m(\u001b[0m\u001b[1;34m'\\tFound:'\u001b[0m\u001b[1;33m,\u001b[0m \u001b[0mtexts\u001b[0m\u001b[1;33m[\u001b[0m\u001b[0mk\u001b[0m\u001b[1;33m]\u001b[0m\u001b[1;33m,\u001b[0m \u001b[0mtexts\u001b[0m\u001b[1;33m[\u001b[0m\u001b[0mk\u001b[0m\u001b[1;33m+\u001b[0m\u001b[1;36m1\u001b[0m\u001b[1;33m]\u001b[0m\u001b[1;33m)\u001b[0m\u001b[1;33m\u001b[0m\u001b[1;33m\u001b[0m\u001b[0m\n\u001b[0;32m     26\u001b[0m     \u001b[0mk\u001b[0m \u001b[1;33m+=\u001b[0m\u001b[1;36m1\u001b[0m\u001b[1;33m\u001b[0m\u001b[1;33m\u001b[0m\u001b[0m\n",
            "\u001b[1;31mIndexError\u001b[0m: list index out of range"
          ]
        }
      ]
    },
    {
      "cell_type": "code",
      "metadata": {
        "id": "90xGnI8S88KF",
        "outputId": "7781c2b7-33a5-4240-b85b-a49b7e4287cd"
      },
      "source": [
        "# WHILE - przykład z pakowaniem:\n",
        "print('Dziś pakujemy paczuszki do ciężarówek. Lista paczek jest poniżej. liczba odpowiada długości paczki. Jako, że ciężarówka ma 12 metrów długości, musimy dbać, aby ładunek nie wystawał poza jej obrys - słowem: paczki ładować tak, żeby nie przekroczyły 12 metrów.')\n",
        "pack = [2, 5, 3, 5, 3, 6, 5, 6, 5, 5, 3, 2, 4, 4, 1, 2, 3, 2, 2]\n",
        "print('Oto nasze paczki:', pack)\n",
        "print('Teraz zadamy sobie warunki początkowe:')\n",
        "truckCapacity = 12\n",
        "truck = []\n",
        "i = 0\n",
        "print('Maksymalna ładowność ciężarówki:',truckCapacity,'aktualna ciężarówka - na razie pusta:' , truck,'Zmienna:', i)\n",
        "print('Dla zachowania porządku, poszeregujemy sobie paczki:')\n",
        "pack.sort()\n",
        "pack.reverse()\n",
        "while (truckCapacity - sum(truck)) >= min(pack):\n",
        "    if pack[i] <= (truckCapacity - sum(truck)):\n",
        "        truck.append(pack[i])\n",
        "        print(pack)\n",
        "        pack.pop(i)\n",
        "    i += 1\n",
        "print('The collected items sum is:', sum(truck))\n",
        "print('The elements are:', truck)"
      ],
      "execution_count": null,
      "outputs": [
        {
          "output_type": "stream",
          "text": [
            "Dziś pakujemy paczuszki do ciężarówek. Lista paczek jest poniżej. liczba odpowiada długości paczki. Jako, że ciężarówka ma 12 metrów długości, musimy dbać, aby ładunek nie wystawał poza jej obrys - słowem: paczki ładować tak, żeby nie przekroczyły 12 metrów.\n",
            "Oto nasze paczki: [2, 5, 3, 5, 3, 6, 5, 6, 5, 5, 3, 2, 4, 4, 1, 2, 3, 2, 2]\n",
            "Teraz zadamy sobie warunki początkowe:\n",
            "Maksymalna ładowność ciężarówki: 12 aktualna ciężarówka - na razie pusta: [] Zmienna: 0\n",
            "Dla zachowania porządku, poszeregujemy sobie paczki:\n",
            "[6, 6, 5, 5, 5, 5, 5, 4, 4, 3, 3, 3, 3, 2, 2, 2, 2, 2, 1]\n",
            "[6, 5, 5, 5, 5, 5, 4, 4, 3, 3, 3, 3, 2, 2, 2, 2, 2, 1]\n",
            "[6, 5, 5, 5, 5, 4, 4, 3, 3, 3, 3, 2, 2, 2, 2, 2, 1]\n",
            "The collected items sum is: 12\n",
            "The elements are: [6, 5, 1]\n"
          ],
          "name": "stdout"
        }
      ]
    },
    {
      "cell_type": "code",
      "metadata": {
        "id": "dQSRagE288KF",
        "outputId": "1cc8a3fc-e0cd-4a72-a7be-2b7cd0a69032"
      },
      "source": [
        "# Ćwiczenia z Udemy:\n",
        "# 1\n",
        "i = 0\n",
        "while i <= 50:\n",
        "    print(i, '+', (i-1), '=', i+i-1)\n",
        "    i += 1\n",
        "print('-------------------------------')\n",
        "# 2\n",
        "import random\n",
        "my_num = random.randint(0,20)\n",
        "guess = -1\n",
        "print('Guess my nnumber.')\n",
        "while guess != my_num:\n",
        "    guess = int(input('podaj liczbę:'))\n",
        "    print('Pudło :-P')\n",
        "else:\n",
        "    print('Brawo!', my_num)\n",
        "print('-------------------------------')\n",
        "# 3\n",
        "import random\n",
        "my_num = random.randint(0,20)\n",
        "guess = -1\n",
        "trails = 0\n",
        "print('Guess my nnumber.')\n",
        "while guess != my_num:\n",
        "    guess = int(input('podaj liczbę:'))\n",
        "    print('Pudło :-P')\n",
        "    trails += 1\n",
        "else:\n",
        "    print('Brawo!', my_num)\n",
        "    print(trails)"
      ],
      "execution_count": null,
      "outputs": [
        {
          "output_type": "stream",
          "text": [
            "0 + -1 = -1\n",
            "1 + 0 = 1\n",
            "2 + 1 = 3\n",
            "3 + 2 = 5\n",
            "4 + 3 = 7\n",
            "5 + 4 = 9\n",
            "6 + 5 = 11\n",
            "7 + 6 = 13\n",
            "8 + 7 = 15\n",
            "9 + 8 = 17\n",
            "10 + 9 = 19\n",
            "11 + 10 = 21\n",
            "12 + 11 = 23\n",
            "13 + 12 = 25\n",
            "14 + 13 = 27\n",
            "15 + 14 = 29\n",
            "16 + 15 = 31\n",
            "17 + 16 = 33\n",
            "18 + 17 = 35\n",
            "19 + 18 = 37\n",
            "20 + 19 = 39\n",
            "21 + 20 = 41\n",
            "22 + 21 = 43\n",
            "23 + 22 = 45\n",
            "24 + 23 = 47\n",
            "25 + 24 = 49\n",
            "26 + 25 = 51\n",
            "27 + 26 = 53\n",
            "28 + 27 = 55\n",
            "29 + 28 = 57\n",
            "30 + 29 = 59\n",
            "31 + 30 = 61\n",
            "32 + 31 = 63\n",
            "33 + 32 = 65\n",
            "34 + 33 = 67\n",
            "35 + 34 = 69\n",
            "36 + 35 = 71\n",
            "37 + 36 = 73\n",
            "38 + 37 = 75\n",
            "39 + 38 = 77\n",
            "40 + 39 = 79\n",
            "41 + 40 = 81\n",
            "42 + 41 = 83\n",
            "43 + 42 = 85\n",
            "44 + 43 = 87\n",
            "45 + 44 = 89\n",
            "46 + 45 = 91\n",
            "47 + 46 = 93\n",
            "48 + 47 = 95\n",
            "49 + 48 = 97\n",
            "50 + 49 = 99\n",
            "-------------------------------\n",
            "Guess my nnumber.\n",
            "podaj liczbę:6\n",
            "Pudło :-P\n",
            "podaj liczbę:6\n",
            "Pudło :-P\n",
            "podaj liczbę:1\n",
            "Pudło :-P\n",
            "podaj liczbę:2\n",
            "Pudło :-P\n",
            "podaj liczbę:3\n",
            "Pudło :-P\n",
            "podaj liczbę:4\n",
            "Pudło :-P\n",
            "podaj liczbę:5\n",
            "Pudło :-P\n",
            "podaj liczbę:6\n",
            "Pudło :-P\n",
            "podaj liczbę:7\n",
            "Pudło :-P\n",
            "podaj liczbę:8\n",
            "Pudło :-P\n",
            "Brawo! 8\n",
            "-------------------------------\n",
            "Guess my nnumber.\n",
            "podaj liczbę:1\n",
            "Pudło :-P\n",
            "podaj liczbę:2\n",
            "Pudło :-P\n",
            "podaj liczbę:3\n",
            "Pudło :-P\n",
            "podaj liczbę:4\n",
            "Pudło :-P\n",
            "podaj liczbę:5\n",
            "Pudło :-P\n",
            "podaj liczbę:6\n",
            "Pudło :-P\n",
            "podaj liczbę:7\n",
            "Pudło :-P\n",
            "podaj liczbę:8\n",
            "Pudło :-P\n",
            "podaj liczbę:9\n",
            "Pudło :-P\n",
            "podaj liczbę:10\n",
            "Pudło :-P\n",
            "podaj liczbę:11\n",
            "Pudło :-P\n",
            "podaj liczbę:12\n",
            "Pudło :-P\n",
            "Brawo! 12\n",
            "12\n"
          ],
          "name": "stdout"
        }
      ]
    },
    {
      "cell_type": "code",
      "metadata": {
        "id": "ktrhcczl88KF",
        "outputId": "b063d12e-47e2-45fa-d4c0-a9978526998f"
      },
      "source": [
        "# Pętla FOR:\n",
        "print('Pętla FOR jest przeznaczona do wykonywania zadań dla każdego elementu z listy. Spójrz na tę listę:')\n",
        "labors = ['Roman', 'Włodek', 'Joanna', 'Agata', 'Józef', 'Grzegorz', 'Barbara', 'Anna', 'Bronisław', 'Zygfryd']\n",
        "print(labors)\n",
        "print('Każdemu z naszych pracowników musimy utworzeć konto e-mail w domenie firmowej. Oto domena')\n",
        "domain = 'blablabla.com'\n",
        "print(domain)\n",
        "print('Teraz każdemu z pracowników utworzymy adres e-mail, który będzie składał się z imienia i domeny. Do tego wykorzystamy pętlę FOR.')\n",
        "# Dla wymyślona nazwa, np. osoba w liście...\n",
        "for name in labors:\n",
        "# utwórz taki adres, że imię + @ + domena\n",
        "    email = name + '@' + domain\n",
        "# Wyświetl ten adres\n",
        "    print('email for\\t', name, 'is :\\t', email)"
      ],
      "execution_count": null,
      "outputs": [
        {
          "output_type": "stream",
          "text": [
            "Pętla FOR jest przeznaczona do wykonywania zadań dla każdego elementu z listy. Spójrz na tę listę:\n",
            "['Roman', 'Włodek', 'Joanna', 'Agata', 'Józef', 'Grzegorz', 'Barbara', 'Anna', 'Bronisław', 'Zygfryd']\n",
            "Każdemu z naszych pracowników musimy utworzeć konto e-mail w domenie firmowej. Oto domena\n",
            "blablabla.com\n",
            "Teraz każdemu z pracowników utworzymy adres e-mail, który będzie składał się z imienia i domeny. Do tego wykorzystamy pętlę FOR.\n",
            "email for\t Roman is :\t Roman@blablabla.com\n",
            "email for\t Włodek is :\t Włodek@blablabla.com\n",
            "email for\t Joanna is :\t Joanna@blablabla.com\n",
            "email for\t Agata is :\t Agata@blablabla.com\n",
            "email for\t Józef is :\t Józef@blablabla.com\n",
            "email for\t Grzegorz is :\t Grzegorz@blablabla.com\n",
            "email for\t Barbara is :\t Barbara@blablabla.com\n",
            "email for\t Anna is :\t Anna@blablabla.com\n",
            "email for\t Bronisław is :\t Bronisław@blablabla.com\n",
            "email for\t Zygfryd is :\t Zygfryd@blablabla.com\n"
          ],
          "name": "stdout"
        }
      ]
    },
    {
      "cell_type": "code",
      "metadata": {
        "id": "AcKUIvik88KF",
        "outputId": "48a8e7f4-25ea-40c1-d753-732943737af1"
      },
      "source": [
        "# Ćwiczenia z Udemy:\n",
        "# 1\n",
        "data = ['Error: File cannot be open', 'Error: No free space on disk', 'Error: File missing', 'Error: Internet connection lost', 'Error: Acces denied']\n",
        "for pos in data:\n",
        "    print(pos.upper())\n",
        "print('-------------------------------')\n",
        "# 2\n",
        "for pos in data:\n",
        "    element = pos.split(':')\n",
        "    print(element[0].upper())\n",
        "    print(element[1])"
      ],
      "execution_count": null,
      "outputs": [
        {
          "output_type": "stream",
          "text": [
            "ERROR: FILE CANNOT BE OPEN\n",
            "ERROR: NO FREE SPACE ON DISK\n",
            "ERROR: FILE MISSING\n",
            "ERROR: INTERNET CONNECTION LOST\n",
            "ERROR: ACCES DENIED\n",
            "-------------------------------\n",
            "ERROR\n",
            " File cannot be open\n",
            "ERROR\n",
            " No free space on disk\n",
            "ERROR\n",
            " File missing\n",
            "ERROR\n",
            " Internet connection lost\n",
            "ERROR\n",
            " Acces denied\n"
          ],
          "name": "stdout"
        }
      ]
    },
    {
      "cell_type": "code",
      "metadata": {
        "id": "KX1vWxKD88KG",
        "outputId": "ea9b9dde-b05d-47ac-bce7-d378ee6cd12c"
      },
      "source": [
        "# Pętla do wykonywania zadaną liczbę razy:\n",
        "print('A teraz poprosimy Pythona, żeby wykonał powtarzalną czynność zadaną liczbę razy. W tym celu do pętli FOR, dodamy RANGE, w którym zaszyjemy informację, ile razy ma przejść przez pętlę.')\n",
        "# Dla każdej liczby w zakresie od 1 do 20 co 1... ostatnia liczba z zakresu jest pomijana!\n",
        "for num in range(1,21,1):\n",
        "# Sprawdź, czy jest parzysta...\n",
        "    if num %2 == 0:\n",
        "# jeśli tak, to napisz, że jest parzysta...\n",
        "        print(num, 'is even')\n",
        "    else:\n",
        "# a jak nie, to napisz, że jest nieparzysta\n",
        "        print(num, 'is odd')"
      ],
      "execution_count": null,
      "outputs": [
        {
          "output_type": "stream",
          "text": [
            "A teraz poprosimy Pythona, żeby wykonał powtarzalną czynność zadaną liczbę razy. W tym celu do pętli FOR, dodamy RANGE, w którym zaszyjemy informację, ile razy ma przejść przez pętlę.\n",
            "1 is odd\n",
            "2 is even\n",
            "3 is odd\n",
            "4 is even\n",
            "5 is odd\n",
            "6 is even\n",
            "7 is odd\n",
            "8 is even\n",
            "9 is odd\n",
            "10 is even\n",
            "11 is odd\n",
            "12 is even\n",
            "13 is odd\n",
            "14 is even\n",
            "15 is odd\n",
            "16 is even\n",
            "17 is odd\n",
            "18 is even\n",
            "19 is odd\n",
            "20 is even\n"
          ],
          "name": "stdout"
        }
      ]
    },
    {
      "cell_type": "code",
      "metadata": {
        "id": "zXjE86WU88KG",
        "outputId": "472360b0-da89-4cd2-fcc8-682d390ce6b3"
      },
      "source": [
        "# Pętla zagnieżdżona w pętli:\n",
        "print('W pętlach, również można zagnieżdzać pętle. Patrz na przykład - tworzymy tabliczkę mnożenia:')\n",
        "# Dla każdego x w zakresie 1:10...\n",
        "for x in range(1,11):\n",
        "# Licz, dla każdego y w zakresie 1:10...\n",
        "    for y in range(1,11):\n",
        "# pokaż wynik...\n",
        "        print(x, '*', y, '=', x*y)\n",
        "# Czyli: x przyjmuje wartość 1 i dla niego, program przyjmuje kolejne wartości od 1 do 10 i po kolei mnoży. Potem x zmienia się na 2 i ponownie zmieniamy y. I tak, aż do momentu, gdy x = 10 i y = 10"
      ],
      "execution_count": null,
      "outputs": [
        {
          "output_type": "stream",
          "text": [
            "W pętlach, również można zagnieżdzać pętle. Patrz na przykład - tworzymy tabliczkę mnożenia:\n",
            "1 * 1 = 1\n",
            "1 * 2 = 2\n",
            "1 * 3 = 3\n",
            "1 * 4 = 4\n",
            "1 * 5 = 5\n",
            "1 * 6 = 6\n",
            "1 * 7 = 7\n",
            "1 * 8 = 8\n",
            "1 * 9 = 9\n",
            "1 * 10 = 10\n",
            "2 * 1 = 2\n",
            "2 * 2 = 4\n",
            "2 * 3 = 6\n",
            "2 * 4 = 8\n",
            "2 * 5 = 10\n",
            "2 * 6 = 12\n",
            "2 * 7 = 14\n",
            "2 * 8 = 16\n",
            "2 * 9 = 18\n",
            "2 * 10 = 20\n",
            "3 * 1 = 3\n",
            "3 * 2 = 6\n",
            "3 * 3 = 9\n",
            "3 * 4 = 12\n",
            "3 * 5 = 15\n",
            "3 * 6 = 18\n",
            "3 * 7 = 21\n",
            "3 * 8 = 24\n",
            "3 * 9 = 27\n",
            "3 * 10 = 30\n",
            "4 * 1 = 4\n",
            "4 * 2 = 8\n",
            "4 * 3 = 12\n",
            "4 * 4 = 16\n",
            "4 * 5 = 20\n",
            "4 * 6 = 24\n",
            "4 * 7 = 28\n",
            "4 * 8 = 32\n",
            "4 * 9 = 36\n",
            "4 * 10 = 40\n",
            "5 * 1 = 5\n",
            "5 * 2 = 10\n",
            "5 * 3 = 15\n",
            "5 * 4 = 20\n",
            "5 * 5 = 25\n",
            "5 * 6 = 30\n",
            "5 * 7 = 35\n",
            "5 * 8 = 40\n",
            "5 * 9 = 45\n",
            "5 * 10 = 50\n",
            "6 * 1 = 6\n",
            "6 * 2 = 12\n",
            "6 * 3 = 18\n",
            "6 * 4 = 24\n",
            "6 * 5 = 30\n",
            "6 * 6 = 36\n",
            "6 * 7 = 42\n",
            "6 * 8 = 48\n",
            "6 * 9 = 54\n",
            "6 * 10 = 60\n",
            "7 * 1 = 7\n",
            "7 * 2 = 14\n",
            "7 * 3 = 21\n",
            "7 * 4 = 28\n",
            "7 * 5 = 35\n",
            "7 * 6 = 42\n",
            "7 * 7 = 49\n",
            "7 * 8 = 56\n",
            "7 * 9 = 63\n",
            "7 * 10 = 70\n",
            "8 * 1 = 8\n",
            "8 * 2 = 16\n",
            "8 * 3 = 24\n",
            "8 * 4 = 32\n",
            "8 * 5 = 40\n",
            "8 * 6 = 48\n",
            "8 * 7 = 56\n",
            "8 * 8 = 64\n",
            "8 * 9 = 72\n",
            "8 * 10 = 80\n",
            "9 * 1 = 9\n",
            "9 * 2 = 18\n",
            "9 * 3 = 27\n",
            "9 * 4 = 36\n",
            "9 * 5 = 45\n",
            "9 * 6 = 54\n",
            "9 * 7 = 63\n",
            "9 * 8 = 72\n",
            "9 * 9 = 81\n",
            "9 * 10 = 90\n",
            "10 * 1 = 10\n",
            "10 * 2 = 20\n",
            "10 * 3 = 30\n",
            "10 * 4 = 40\n",
            "10 * 5 = 50\n",
            "10 * 6 = 60\n",
            "10 * 7 = 70\n",
            "10 * 8 = 80\n",
            "10 * 9 = 90\n",
            "10 * 10 = 100\n"
          ],
          "name": "stdout"
        }
      ]
    },
    {
      "cell_type": "code",
      "metadata": {
        "id": "wFm5Aw2O88KG",
        "outputId": "eb00d8fb-51c4-4d6b-d0d6-ca7e93748f64"
      },
      "source": [
        "# Ćwiczenia z Udemy:\n",
        "# 1\n",
        "def silnia(x):\n",
        "    res = 1\n",
        "    for i in range(1,x+1):\n",
        "        res *= i\n",
        "    print(res)\n",
        "silnia(2)\n",
        "silnia(4)\n",
        "silnia(12)\n",
        "print('-------------------------------')\n",
        "# 2\n",
        "silnia = 1\n",
        "for j in range(1,11):\n",
        "    silnia *= j\n",
        "    print(j, '! =', silnia)\n",
        "print('-------------------------------')\n",
        "# 3\n",
        "list_noun = ['dog', 'potato', 'meal', 'icecream', 'car']\n",
        "list_adj = ['dirty', 'big', 'hot', 'colorful', 'fast']\n",
        "for i in list_noun:\n",
        "    for j in list_adj:\n",
        "        print(j + ' ' + i)"
      ],
      "execution_count": null,
      "outputs": [
        {
          "output_type": "stream",
          "text": [
            "2\n",
            "24\n",
            "479001600\n",
            "-------------------------------\n",
            "1 ! = 1\n",
            "2 ! = 2\n",
            "3 ! = 6\n",
            "4 ! = 24\n",
            "5 ! = 120\n",
            "6 ! = 720\n",
            "7 ! = 5040\n",
            "8 ! = 40320\n",
            "9 ! = 362880\n",
            "10 ! = 3628800\n",
            "-------------------------------\n",
            "dirty dog\n",
            "big dog\n",
            "hot dog\n",
            "colorful dog\n",
            "fast dog\n",
            "dirty potato\n",
            "big potato\n",
            "hot potato\n",
            "colorful potato\n",
            "fast potato\n",
            "dirty meal\n",
            "big meal\n",
            "hot meal\n",
            "colorful meal\n",
            "fast meal\n",
            "dirty icecream\n",
            "big icecream\n",
            "hot icecream\n",
            "colorful icecream\n",
            "fast icecream\n",
            "dirty car\n",
            "big car\n",
            "hot car\n",
            "colorful car\n",
            "fast car\n"
          ],
          "name": "stdout"
        }
      ]
    },
    {
      "cell_type": "code",
      "metadata": {
        "id": "nzDhawUm88KG",
        "outputId": "9d71210b-9174-4e06-ea2a-9fe289d3b70d"
      },
      "source": [
        "# Instrukcja BREAK:\n",
        "print('Czasem potrzebujemy czegoś, co zatrzyma wykonywanie pętli. W tym celu korzysta się z polecenia BREAK. Przykład: wyszukiwanie liczb pierwszych.')\n",
        "print('Aby sprawdzić, czy liczba jest pierwsza, będziemy po kolei dzielić liczby kandydatów, przez kolejne dzielniki. Jeśli uda się znaleźć choć pierwszy dzielnik, to nie ma sensu szukać dalej. Dlatego wykorzystamy polecenie BREAK.')\n",
        "print('Znajdziemy liczby pierwsze w zakresie od 1 do 30:')\n",
        "# Dla każdej liczby w zakresie...\n",
        "for x in range(2, 31):\n",
        "# dziel kolejno przez każdą liczbę od 2 do niej samej...\n",
        "    for y in range(2, x):\n",
        "        if x % y == 0:\n",
        "# jeśli znajdzie dzielnik, to liczba nie jest pierwsza...\n",
        "            print(x, 'is not a prime number. Divider is ', y)\n",
        "# przerwij wykonywanie pętli...\n",
        "            break\n",
        "# w przeciwnym wypadku...\n",
        "    else:\n",
        "        print(x, 'is a prime number.')\n",
        "print('Mały tip: ELSE nie będzie wykonane, jeśli pętla zostanie przerwana instrukcją BREAK. To może się przydać.')"
      ],
      "execution_count": null,
      "outputs": [
        {
          "output_type": "stream",
          "text": [
            "Czasem potrzebujemy czegoś, co zatrzyma wykonywanie pętli. W tym celu korzysta się z polecenia BREAK. Przykład: wyszukiwanie liczb pierwszych.\n",
            "Aby sprawdzić, czy liczba jest pierwsza, będziemy po kolei dzielić liczby kandydatów, przez kolejne dzielniki. Jeśli uda się znaleźć choć pierwszy dzielnik, to nie ma sensu szukać dalej. Dlatego wykorzystamy polecenie BREAK.\n",
            "Znajdziemy liczby pierwsze w zakresie od 1 do 30:\n",
            "2 is a prime number.\n",
            "3 is a prime number.\n",
            "4 is not a prime number. Divider is  2\n",
            "5 is a prime number.\n",
            "6 is not a prime number. Divider is  2\n",
            "7 is a prime number.\n",
            "8 is not a prime number. Divider is  2\n",
            "9 is not a prime number. Divider is  3\n",
            "10 is not a prime number. Divider is  2\n",
            "11 is a prime number.\n",
            "12 is not a prime number. Divider is  2\n",
            "13 is a prime number.\n",
            "14 is not a prime number. Divider is  2\n",
            "15 is not a prime number. Divider is  3\n",
            "16 is not a prime number. Divider is  2\n",
            "17 is a prime number.\n",
            "18 is not a prime number. Divider is  2\n",
            "19 is a prime number.\n",
            "20 is not a prime number. Divider is  2\n",
            "21 is not a prime number. Divider is  3\n",
            "22 is not a prime number. Divider is  2\n",
            "23 is a prime number.\n",
            "24 is not a prime number. Divider is  2\n",
            "25 is not a prime number. Divider is  5\n",
            "26 is not a prime number. Divider is  2\n",
            "27 is not a prime number. Divider is  3\n",
            "28 is not a prime number. Divider is  2\n",
            "29 is a prime number.\n",
            "30 is not a prime number. Divider is  2\n",
            "Mały tip: ELSE nie będzie wykonane, jeśli pętla zostanie przerwana instrukcją BREAK. To może się przydać.\n"
          ],
          "name": "stdout"
        }
      ]
    },
    {
      "cell_type": "code",
      "metadata": {
        "id": "v0L28t9M88KH",
        "outputId": "ef6e502a-53d2-4298-b616-a52e05b42b30"
      },
      "source": [
        "# Ćwiczenia z Udemy:\n",
        "# 1\n",
        "text = 'Mechanical advantage is a measure of the force amplification achieved by using a tool, mechanical device or machine system. The device preserves the input power and simply trades off forces against movement to obtain a desired amplification in the output force. The model for this is the law of the lever. Machine components designed to manage forces and movement in this way are called mechanisms.[1] An ideal mechanism transmits power without adding to or subtracting from it. This means the ideal mechanism does not include a power source, is frictionless, and is constructed from rigid bodies that do not deflect or wear. The performance of a real system relative to this ideal.'\n",
        "words = text.split(' ')\n",
        "short_text = ''\n",
        "counter = 0\n",
        "for i in words:\n",
        "    if counter < 20:\n",
        "        short_text += i+' '\n",
        "        counter += 1\n",
        "    else:\n",
        "        break\n",
        "print(short_text)\n",
        "print('--------------------------------------')\n",
        "# 2\n",
        "definitions = ['Mechanical advantage is a measure of the force amplification achieved by using a tool, mechanical device or machine system. The device preserves the input power and simply trades off forces against movement to obtain a desired amplification in the output force. The model for this is the law of the lever. Machine components designed to manage forces and movement in this way are called mechanisms.[1] An ideal mechanism transmits power without adding to or subtracting from it. This means the ideal mechanism does not include a power source, is frictionless, and is constructed from rigid bodies that do not deflect or wear. The performance of a real system relative to this ideal.', 'Ein Kraftwandler ist eine mechanische Anordnung zur Veränderung einer Kraft in Bezug auf ihren Angriffspunkt, ihre Richtung oder ihren Betrag. Die einfachsten Kraftwandler sind Seile, Stangen, Rollen, schiefe Ebenen und Hebel. Dies sind gleichzeitig die grundlegenden einfachen Maschinen.', 'La ventaja mecánica es una magnitud adimensional que indica cuánto se amplifica la fuerza aplicada usando un mecanismo (ya sea una máquina simple, una herramienta o un dispositivo mecánico más complejo) para contrarrestar una carga de resistencia.', 'Cette notion s\\'applique de manière évidente dans les systèmes de poulies et de leviers. Elle est centrale dans les systèmes de freinage : on applique une petite force sur un parcours important et l\\'on obtient une force importante transmise au système de freinage pour une course de faible distance.']\n",
        "for a in definitions:\n",
        "    def_words = a.split(' ')\n",
        "    short_def = ''\n",
        "    licznik = 0\n",
        "    for j in def_words:\n",
        "        if licznik < 20:\n",
        "            short_def += j+' '\n",
        "            licznik += 1\n",
        "        else:\n",
        "            break\n",
        "    print(short_def, end = \"\\n\")"
      ],
      "execution_count": null,
      "outputs": [
        {
          "output_type": "stream",
          "text": [
            "Mechanical advantage is a measure of the force amplification achieved by using a tool, mechanical device or machine system. The \n",
            "--------------------------------------\n",
            "Mechanical advantage is a measure of the force amplification achieved by using a tool, mechanical device or machine system. The \n",
            "Ein Kraftwandler ist eine mechanische Anordnung zur Veränderung einer Kraft in Bezug auf ihren Angriffspunkt, ihre Richtung oder ihren Betrag. \n",
            "La ventaja mecánica es una magnitud adimensional que indica cuánto se amplifica la fuerza aplicada usando un mecanismo (ya sea \n",
            "Cette notion s'applique de manière évidente dans les systèmes de poulies et de leviers. Elle est centrale dans les systèmes \n"
          ],
          "name": "stdout"
        }
      ]
    },
    {
      "cell_type": "code",
      "metadata": {
        "id": "ywDCZSRS88KH",
        "outputId": "4783cc15-6061-4a2e-d51f-2589db6c501e"
      },
      "source": [
        "# Instrukcja CONTINUE:\n",
        "print('Jeśli zostanie spełniony jakiś warunek, to polecenie CONTINUE, po prostu pominie wykonywanie pętli dla tego elementu. Oto przykład:')\n",
        "labors = ['Elizabeth', 'sales@company.com', 'Roman', 'Svetlana', 'rachel@company.eu', 'Alex', 'John', 'Zygmunt']\n",
        "print('Zauważ, że niektóre osoby, mają już adresy e-mail, więc nie będziemy ich towrzyć ponownie. W tym pomoże nam polecenie CONTINUE.')\n",
        "domain = 'company.com'\n",
        "emails = []\n",
        "for person in labors:\n",
        "    if '@' in person:\n",
        "        emails.append(person)\n",
        "        continue\n",
        "    email = person + \"@\" + domain\n",
        "    emails.append(email)\n",
        "print(emails)"
      ],
      "execution_count": null,
      "outputs": [
        {
          "output_type": "stream",
          "text": [
            "Jeśli zostanie spełniony jakiś warunek, to polecenie CONTINUE, po prostu pominie wykonywanie pętli dla tego elementu. Oto przykład:\n",
            "Zauważ, że niektóre osoby, mają już adresy e-mail, więc nie będziemy ich towrzyć ponownie. W tym pomoże nam polecenie CONTINUE.\n",
            "['Elizabeth@company.com', 'sales@company.com', 'Roman@company.com', 'Svetlana@company.com', 'rachel@company.eu', 'Alex@company.com', 'John@company.com', 'Zygmunt@company.com']\n"
          ],
          "name": "stdout"
        }
      ]
    },
    {
      "cell_type": "code",
      "metadata": {
        "id": "zGHQojVl88KH",
        "outputId": "d9bc9723-2b1d-4af6-d646-7ea7e8eb4f31"
      },
      "source": [
        "# Ćwiczenia z Udemy:\n",
        "menu = '''\n",
        "Choose what you want me to do for you:\n",
        "1 - COFFEE\n",
        "2 - TEA\n",
        "3 - MAKE ME SMILE\n",
        "---------------\n",
        "To stop this script select 0\n",
        "'''\n",
        " \n",
        "smile = '''\n",
        " \n",
        "                          oooo$$$$$$$$$$$$oooo\n",
        "                      oo$$$$$$$$$$$$$$$$$$$$$$$$o\n",
        "                   oo$$$$$$$$$$$$$$$$$$$$$$$$$$$$$$o         o$   $$ o$\n",
        "   o $ oo        o$$$$$$$$$$$$$$$$$$$$$$$$$$$$$$$$$$$$o       $$ $$ $$o$\n",
        "oo $ $ \"$      o$$$$$$$$$    $$$$$$$$$$$$$    $$$$$$$$$o       $$$o$$o$\n",
        "\"$$$$$$o$     o$$$$$$$$$      $$$$$$$$$$$      $$$$$$$$$$o    $$$$$$$$\n",
        "  $$$$$$$    $$$$$$$$$$$      $$$$$$$$$$$      $$$$$$$$$$$$$$$$$$$$$$$\n",
        "  $$$$$$$$$$$$$$$$$$$$$$$    $$$$$$$$$$$$$    $$$$$$$$$$$$$$  \"\"\"$$$\n",
        "   \"$$$\"\"\"\"$$$$$$$$$$$$$$$$$$$$$$$$$$$$$$$$$$$$$$$$$$$$$$$$$     \"$$$\n",
        "    $$$   o$$$$$$$$$$$$$$$$$$$$$$$$$$$$$$$$$$$$$$$$$$$$$$$$$$     \"$$$o\n",
        "   o$$\"   $$$$$$$$$$$$$$$$$$$$$$$$$$$$$$$$$$$$$$$$$$$$$$$$$$$       $$$o\n",
        "   $$$    $$$$$$$$$$$$$$$$$$$$$$$$$$$$$$$$$$$$$$$$$$$$$\" \"$$$$$$ooooo$$$$o\n",
        "  o$$$oooo$$$$$  $$$$$$$$$$$$$$$$$$$$$$$$$$$$$$$$$$$$$   o$$$$$$$$$$$$$$$$$\n",
        "  $$$$$$$$\"$$$$   $$$$$$$$$$$$$$$$$$$$$$$$$$$$$$$$$$     $$$$\"\"\"\"\"\"\"\"\n",
        " \"\"\"\"       $$$$    \"$$$$$$$$$$$$$$$$$$$$$$$$$$$$\"      o$$$\n",
        "            \"$$$o     \"\"\"$$$$$$$$$$$$$$$$$$\"$$\"         $$$\n",
        "              $$$o          \"$$\"\"$$$$$$\"\"\"\"           o$$$\n",
        "               $$$$o                                o$$$\"\n",
        "                \"$$$$o      o$$$$$$o\"$$$$o        o$$$$\n",
        "                  \"$$$$$oo     \"\"$$$$o$$$$$o   o$$$$\"\"\n",
        "                     \"\"$$$$$oooo  \"$$$o$$$$$$$$$\"\"\"\n",
        "                        \"\"$$$$$$$oo $$$$$$$$$$\n",
        "                                \"\"\"\"$$$$$$$$$$$\n",
        "                                    $$$$$$$$$$$$\n",
        "                                     $$$$$$$$$$\"\n",
        "                                      \"$$$\"\"\"\"\n",
        "'''\n",
        "while True:\n",
        " \n",
        "    print(menu)\n",
        "    letter = input('Enter your choice  ')\n",
        " \n",
        "    if letter == '1':\n",
        "        print(\"Function COFFEE not implemented\")\n",
        "        input('Press enter')\n",
        "        continue\n",
        "    \n",
        "    if letter == '2':\n",
        "        print(\"Function TEA not implemented\")\n",
        "        input('Press enter')\n",
        "        continue\n",
        "    \n",
        "    if letter =='3':\n",
        "        print(smile)\n",
        "        input('Press enter')        \n",
        "        continue\n",
        "        \n",
        "    if letter == '0':\n",
        "        break\n",
        " \n",
        "    input('You need to make a valid choice. Press ENTER and try again!')"
      ],
      "execution_count": null,
      "outputs": [
        {
          "output_type": "stream",
          "text": [
            "\n",
            "Choose what you want me to do for you:\n",
            "1 - COFFEE\n",
            "2 - TEA\n",
            "3 - MAKE ME SMILE\n",
            "---------------\n",
            "To stop this script select 0\n",
            "\n",
            "Enter your choice  1\n",
            "Function COFFEE not implemented\n",
            "Press enter2\n",
            "\n",
            "Choose what you want me to do for you:\n",
            "1 - COFFEE\n",
            "2 - TEA\n",
            "3 - MAKE ME SMILE\n",
            "---------------\n",
            "To stop this script select 0\n",
            "\n",
            "Enter your choice  3\n",
            "\n",
            " \n",
            "                          oooo$$$$$$$$$$$$oooo\n",
            "                      oo$$$$$$$$$$$$$$$$$$$$$$$$o\n",
            "                   oo$$$$$$$$$$$$$$$$$$$$$$$$$$$$$$o         o$   $$ o$\n",
            "   o $ oo        o$$$$$$$$$$$$$$$$$$$$$$$$$$$$$$$$$$$$o       $$ $$ $$o$\n",
            "oo $ $ \"$      o$$$$$$$$$    $$$$$$$$$$$$$    $$$$$$$$$o       $$$o$$o$\n",
            "\"$$$$$$o$     o$$$$$$$$$      $$$$$$$$$$$      $$$$$$$$$$o    $$$$$$$$\n",
            "  $$$$$$$    $$$$$$$$$$$      $$$$$$$$$$$      $$$$$$$$$$$$$$$$$$$$$$$\n",
            "  $$$$$$$$$$$$$$$$$$$$$$$    $$$$$$$$$$$$$    $$$$$$$$$$$$$$  \"\"\"$$$\n",
            "   \"$$$\"\"\"\"$$$$$$$$$$$$$$$$$$$$$$$$$$$$$$$$$$$$$$$$$$$$$$$$$     \"$$$\n",
            "    $$$   o$$$$$$$$$$$$$$$$$$$$$$$$$$$$$$$$$$$$$$$$$$$$$$$$$$     \"$$$o\n",
            "   o$$\"   $$$$$$$$$$$$$$$$$$$$$$$$$$$$$$$$$$$$$$$$$$$$$$$$$$$       $$$o\n",
            "   $$$    $$$$$$$$$$$$$$$$$$$$$$$$$$$$$$$$$$$$$$$$$$$$$\" \"$$$$$$ooooo$$$$o\n",
            "  o$$$oooo$$$$$  $$$$$$$$$$$$$$$$$$$$$$$$$$$$$$$$$$$$$   o$$$$$$$$$$$$$$$$$\n",
            "  $$$$$$$$\"$$$$   $$$$$$$$$$$$$$$$$$$$$$$$$$$$$$$$$$     $$$$\"\"\"\"\"\"\"\"\n",
            " \"\"\"\"       $$$$    \"$$$$$$$$$$$$$$$$$$$$$$$$$$$$\"      o$$$\n",
            "            \"$$$o     \"\"\"$$$$$$$$$$$$$$$$$$\"$$\"         $$$\n",
            "              $$$o          \"$$\"\"$$$$$$\"\"\"\"           o$$$\n",
            "               $$$$o                                o$$$\"\n",
            "                \"$$$$o      o$$$$$$o\"$$$$o        o$$$$\n",
            "                  \"$$$$$oo     \"\"$$$$o$$$$$o   o$$$$\"\"\n",
            "                     \"\"$$$$$oooo  \"$$$o$$$$$$$$$\"\"\"\n",
            "                        \"\"$$$$$$$oo $$$$$$$$$$\n",
            "                                \"\"\"\"$$$$$$$$$$$\n",
            "                                    $$$$$$$$$$$$\n",
            "                                     $$$$$$$$$$\"\n",
            "                                      \"$$$\"\"\"\"\n",
            "\n",
            "Press enter1\n",
            "\n",
            "Choose what you want me to do for you:\n",
            "1 - COFFEE\n",
            "2 - TEA\n",
            "3 - MAKE ME SMILE\n",
            "---------------\n",
            "To stop this script select 0\n",
            "\n",
            "Enter your choice  1\n",
            "Function COFFEE not implemented\n",
            "Press enter1\n",
            "\n",
            "Choose what you want me to do for you:\n",
            "1 - COFFEE\n",
            "2 - TEA\n",
            "3 - MAKE ME SMILE\n",
            "---------------\n",
            "To stop this script select 0\n",
            "\n",
            "Enter your choice  3\n",
            "\n",
            " \n",
            "                          oooo$$$$$$$$$$$$oooo\n",
            "                      oo$$$$$$$$$$$$$$$$$$$$$$$$o\n",
            "                   oo$$$$$$$$$$$$$$$$$$$$$$$$$$$$$$o         o$   $$ o$\n",
            "   o $ oo        o$$$$$$$$$$$$$$$$$$$$$$$$$$$$$$$$$$$$o       $$ $$ $$o$\n",
            "oo $ $ \"$      o$$$$$$$$$    $$$$$$$$$$$$$    $$$$$$$$$o       $$$o$$o$\n",
            "\"$$$$$$o$     o$$$$$$$$$      $$$$$$$$$$$      $$$$$$$$$$o    $$$$$$$$\n",
            "  $$$$$$$    $$$$$$$$$$$      $$$$$$$$$$$      $$$$$$$$$$$$$$$$$$$$$$$\n",
            "  $$$$$$$$$$$$$$$$$$$$$$$    $$$$$$$$$$$$$    $$$$$$$$$$$$$$  \"\"\"$$$\n",
            "   \"$$$\"\"\"\"$$$$$$$$$$$$$$$$$$$$$$$$$$$$$$$$$$$$$$$$$$$$$$$$$     \"$$$\n",
            "    $$$   o$$$$$$$$$$$$$$$$$$$$$$$$$$$$$$$$$$$$$$$$$$$$$$$$$$     \"$$$o\n",
            "   o$$\"   $$$$$$$$$$$$$$$$$$$$$$$$$$$$$$$$$$$$$$$$$$$$$$$$$$$       $$$o\n",
            "   $$$    $$$$$$$$$$$$$$$$$$$$$$$$$$$$$$$$$$$$$$$$$$$$$\" \"$$$$$$ooooo$$$$o\n",
            "  o$$$oooo$$$$$  $$$$$$$$$$$$$$$$$$$$$$$$$$$$$$$$$$$$$   o$$$$$$$$$$$$$$$$$\n",
            "  $$$$$$$$\"$$$$   $$$$$$$$$$$$$$$$$$$$$$$$$$$$$$$$$$     $$$$\"\"\"\"\"\"\"\"\n",
            " \"\"\"\"       $$$$    \"$$$$$$$$$$$$$$$$$$$$$$$$$$$$\"      o$$$\n",
            "            \"$$$o     \"\"\"$$$$$$$$$$$$$$$$$$\"$$\"         $$$\n",
            "              $$$o          \"$$\"\"$$$$$$\"\"\"\"           o$$$\n",
            "               $$$$o                                o$$$\"\n",
            "                \"$$$$o      o$$$$$$o\"$$$$o        o$$$$\n",
            "                  \"$$$$$oo     \"\"$$$$o$$$$$o   o$$$$\"\"\n",
            "                     \"\"$$$$$oooo  \"$$$o$$$$$$$$$\"\"\"\n",
            "                        \"\"$$$$$$$oo $$$$$$$$$$\n",
            "                                \"\"\"\"$$$$$$$$$$$\n",
            "                                    $$$$$$$$$$$$\n",
            "                                     $$$$$$$$$$\"\n",
            "                                      \"$$$\"\"\"\"\n",
            "\n",
            "Press enter3\n",
            "\n",
            "Choose what you want me to do for you:\n",
            "1 - COFFEE\n",
            "2 - TEA\n",
            "3 - MAKE ME SMILE\n",
            "---------------\n",
            "To stop this script select 0\n",
            "\n",
            "Enter your choice  0\n"
          ],
          "name": "stdout"
        }
      ]
    },
    {
      "cell_type": "code",
      "metadata": {
        "id": "LI770rFV88KI",
        "outputId": "0f57a7ab-cb5c-447f-f4b4-907315a9fb6b"
      },
      "source": [
        "# Znowu źwiczenia z Udemy:\n",
        "# 1\n",
        "initialCapital = 20000.00\n",
        "rate = 0.03\n",
        "time = 10\n",
        "t = 0\n",
        "while t < time:\n",
        "    d = initialCapital * rate\n",
        "    initialCapital += d\n",
        "    t += 1\n",
        "    print('Your current capital after', t, 'years is:', round(initialCapital, 2))\n",
        "print('Your total income is:', round((initialCapital - 20000), 2))\n",
        "print('--------------------------------')\n",
        "# 2\n",
        "number = 20730906\n",
        "i = 8\n",
        "sum_num = 0\n",
        "while i >0:\n",
        "    c = number % 10\n",
        "    sum_num += c\n",
        "    number = number // 10\n",
        "    i -= 1\n",
        "print('the sum is:', sum_num)\n",
        "print('--------------------------------')\n",
        "# 3\n",
        "text = 'United Space Alliance: This company provides major support to NASA for various projects, such as the space shuttle. One of its projects is to create Workflow Automation System (WAS), an application designed to manage NASA and other third-party projects. The setup uses a central Oracle database as a repository for information. Python was chosen over languages such as Java and C++ because it provides dynamic typing and pseudo-code–like syntax and it has an interpreter. The result is that the application is developed faster, and unit testing each piece is easier.'\n",
        "words_in_text = text.split(' ')\n",
        "long_words = 0\n",
        "for word in words_in_text:\n",
        "    if len(word) > 6:\n",
        "        long_words += 1\n",
        "print(long_words)"
      ],
      "execution_count": null,
      "outputs": [
        {
          "output_type": "stream",
          "text": [
            "Your current capital after 1 years is: 20600.0\n",
            "Your current capital after 2 years is: 21218.0\n",
            "Your current capital after 3 years is: 21854.54\n",
            "Your current capital after 4 years is: 22510.18\n",
            "Your current capital after 5 years is: 23185.48\n",
            "Your current capital after 6 years is: 23881.05\n",
            "Your current capital after 7 years is: 24597.48\n",
            "Your current capital after 8 years is: 25335.4\n",
            "Your current capital after 9 years is: 26095.46\n",
            "Your current capital after 10 years is: 26878.33\n",
            "Your total income is: 6878.33\n",
            "--------------------------------\n",
            "the sum is: 27\n",
            "--------------------------------\n",
            "29\n"
          ],
          "name": "stdout"
        }
      ]
    },
    {
      "cell_type": "code",
      "metadata": {
        "id": "sjkQLw1588KI",
        "outputId": "95e8bcc2-624e-4fd4-986e-a68ee4e5a5da"
      },
      "source": [
        "# Ćwiczenia z Udemy:\n",
        "# 1\n",
        "def Fibonacci(x):\n",
        "    a1 = 0\n",
        "    a2 = 1\n",
        "    a3 = 0\n",
        "    for i in range(0, x):\n",
        "        print(a3, end = '; ')\n",
        "        a1 = a2\n",
        "        a2 = a3\n",
        "        a3 = a1 + a2\n",
        "Fibonacci(3)\n",
        "print('--')\n",
        "Fibonacci(20)\n",
        "print('--')\n",
        "Fibonacci(48)\n",
        "print('\\n -------------------------------------')\n",
        "# 2\n",
        "text = '''Industrial Light & Magic: In this case, you find Python\n",
        "used in the production process for scripting complex,\n",
        "computer graphic-intensive films. Originally, Industrial\n",
        "Light & Magic relied on Unix shell scripting, but it was\n",
        "found that this solution just couldn’t do the job. Python\n",
        "was compared to other languages, such as Tcl and Perl, and\n",
        "chosen because it’s an easier-to-learn language that the\n",
        "organization can implement incrementally. In addition, Python\n",
        "can be embedded within a larger software system as a scripting\n",
        "language, even if the system is written in a language such as\n",
        "C/C++. It turns out that Python can successfully interact with\n",
        "these other languages in situations in which some languages can’t.'''\n",
        "x = text.split(' ')\n",
        "for k in x:\n",
        "    if 'p' in k:\n",
        "        print(k)\n",
        "print('-------------------------------------')\n",
        "# 3\n",
        "dictionary={'A':'80%-100%','B':'60%-80%','C':'50-60%','D':'less then 50%'}\n",
        "for word in dictionary.keys():\n",
        "    print(word, '-', dictionary[word])"
      ],
      "execution_count": null,
      "outputs": [
        {
          "output_type": "stream",
          "text": [
            "0; 1; 1; --\n",
            "0; 1; 1; 2; 3; 5; 8; 13; 21; 34; 55; 89; 144; 233; 377; 610; 987; 1597; 2584; 4181; --\n",
            "0; 1; 1; 2; 3; 5; 8; 13; 21; 34; 55; 89; 144; 233; 377; 610; 987; 1597; 2584; 4181; 6765; 10946; 17711; 28657; 46368; 75025; 121393; 196418; 317811; 514229; 832040; 1346269; 2178309; 3524578; 5702887; 9227465; 14930352; 24157817; 39088169; 63245986; 102334155; 165580141; 267914296; 433494437; 701408733; 1134903170; 1836311903; 2971215073; \n",
            " -------------------------------------\n",
            "production\n",
            "process\n",
            "scripting\n",
            "complex,\n",
            "computer\n",
            "graphic-intensive\n",
            "scripting,\n",
            "compared\n",
            "implement\n",
            "scripting\n",
            "language,\n",
            "-------------------------------------\n",
            "A - 80%-100%\n",
            "B - 60%-80%\n",
            "C - 50-60%\n",
            "D - less then 50%\n"
          ],
          "name": "stdout"
        }
      ]
    },
    {
      "cell_type": "code",
      "metadata": {
        "id": "tiNXmjFK88KI"
      },
      "source": [
        ""
      ],
      "execution_count": null,
      "outputs": []
    }
  ]
}