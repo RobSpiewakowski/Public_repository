{
  "nbformat": 4,
  "nbformat_minor": 5,
  "metadata": {
    "kernelspec": {
      "display_name": "Python 3",
      "language": "python",
      "name": "python3"
    },
    "language_info": {
      "codemirror_mode": {
        "name": "ipython",
        "version": 3
      },
      "file_extension": ".py",
      "mimetype": "text/x-python",
      "name": "python",
      "nbconvert_exporter": "python",
      "pygments_lexer": "ipython3",
      "version": "3.8.5"
    },
    "colab": {
      "name": "SQL.ipynb",
      "provenance": [],
      "include_colab_link": true
    }
  },
  "cells": [
    {
      "cell_type": "markdown",
      "metadata": {
        "id": "view-in-github",
        "colab_type": "text"
      },
      "source": [
        "<a href=\"https://colab.research.google.com/github/RobSpiewakowski/nauka-data-science/blob/main/skrypty-colab/SQL.ipynb\" target=\"_parent\"><img src=\"https://colab.research.google.com/assets/colab-badge.svg\" alt=\"Open In Colab\"/></a>"
      ]
    },
    {
      "cell_type": "code",
      "metadata": {
        "id": "3ENpxhkJ89V9"
      },
      "source": [
        "# Klasy pamięci i typy danych w SQL:\n",
        "\n",
        "# NULL - wartość NULL (czyli nic)\n",
        "# INTEGER - liczba całkowita ze znakiem, przechowywana w 1, 2, 3, 4, 6 lub 8 bajtach\n",
        "# REAL - liczba rzeczywista, przechowywana jako 8-bajtowa liczba zmiennoprzecinkowa\n",
        "# TEXT - element tekstowy, przechowywany przy użyciu określonego kodowania (np. UTF-8)\n",
        "# BLOB - Zbiór danych przechowywany dokładnie tak, jak został wprowadzony."
      ],
      "id": "3ENpxhkJ89V9",
      "execution_count": null,
      "outputs": []
    },
    {
      "cell_type": "code",
      "metadata": {
        "id": "VSjWN8f989V-",
        "outputId": "1b04d7e2-2c35-400d-d7bb-7d5bd6944f59"
      },
      "source": [
        "# Tworzenie bazy danych w SQLite DB: bez potrzeby tworzenia serwera:\n",
        "import sqlite3\n",
        "data_base = sqlite3.connect(\"SQLite.db\")\n",
        "\n",
        "# Nawiązywanie połączenia z kursorem poleceń SQL:\n",
        "bd_kursor = data_base.cursor()\n",
        "\n",
        "# Tworzenie tabeli w bazie danych:\n",
        "bd_kursor.execute('''CREATE TABLE testowa (id integer, imie text, numer_zamowienia text, cena real)''')\n",
        "bd_kursor.execute('''CREATE TABLE testowa2 (imie text, numer_zamowienia text)''')\n",
        "\n",
        "# Wczytanie wiersza z danymi do tabeli:\n",
        "bd_kursor.execute(\"INSERT INTO testowa VALUES (001,'Robert','10A', 12.99)\")\n",
        "bd_kursor.execute(\"INSERT INTO testowa2 VALUES ('Robert','10A')\")\n",
        "\n",
        "# Zapisanie zmian w bazie danych (KONIECZNE!!!):\n",
        "data_base.commit()\n"
      ],
      "id": "VSjWN8f989V-",
      "execution_count": null,
      "outputs": [
        {
          "output_type": "error",
          "ename": "OperationalError",
          "evalue": "table testowa already exists",
          "traceback": [
            "\u001b[1;31m---------------------------------------------------------------------------\u001b[0m",
            "\u001b[1;31mOperationalError\u001b[0m                          Traceback (most recent call last)",
            "\u001b[1;32m<ipython-input-10-3386d83a7c64>\u001b[0m in \u001b[0;36m<module>\u001b[1;34m\u001b[0m\n\u001b[0;32m      7\u001b[0m \u001b[1;33m\u001b[0m\u001b[0m\n\u001b[0;32m      8\u001b[0m \u001b[1;31m# Tworzenie tabeli w bazie danych:\u001b[0m\u001b[1;33m\u001b[0m\u001b[1;33m\u001b[0m\u001b[1;33m\u001b[0m\u001b[0m\n\u001b[1;32m----> 9\u001b[1;33m \u001b[0mbd_kursor\u001b[0m\u001b[1;33m.\u001b[0m\u001b[0mexecute\u001b[0m\u001b[1;33m(\u001b[0m\u001b[1;34m'''CREATE TABLE testowa (id integer, imie text, numer_zamowienia text, cena real)'''\u001b[0m\u001b[1;33m)\u001b[0m\u001b[1;33m\u001b[0m\u001b[1;33m\u001b[0m\u001b[0m\n\u001b[0m\u001b[0;32m     10\u001b[0m \u001b[0mbd_kursor\u001b[0m\u001b[1;33m.\u001b[0m\u001b[0mexecute\u001b[0m\u001b[1;33m(\u001b[0m\u001b[1;34m'''CREATE TABLE testowa2 (imie text, numer_zamowienia text)'''\u001b[0m\u001b[1;33m)\u001b[0m\u001b[1;33m\u001b[0m\u001b[1;33m\u001b[0m\u001b[0m\n\u001b[0;32m     11\u001b[0m \u001b[1;33m\u001b[0m\u001b[0m\n",
            "\u001b[1;31mOperationalError\u001b[0m: table testowa already exists"
          ]
        }
      ]
    },
    {
      "cell_type": "code",
      "metadata": {
        "id": "Ba40SBlz89V_",
        "outputId": "f80d711c-c782-4255-9c33-ce9a76100c08"
      },
      "source": [
        "# Sprawdzenie typu utworzonej bazy danych:\n",
        "type(data_base)"
      ],
      "id": "Ba40SBlz89V_",
      "execution_count": null,
      "outputs": [
        {
          "output_type": "execute_result",
          "data": {
            "text/plain": [
              "sqlite3.Connection"
            ]
          },
          "metadata": {
            "tags": []
          },
          "execution_count": 11
        }
      ]
    },
    {
      "cell_type": "code",
      "metadata": {
        "id": "HCNFR48V89WA",
        "outputId": "f331e95b-b350-4b12-ed4a-ed76556e7c04"
      },
      "source": [
        "# Odczytanie zapisanej tabeli:\n",
        "bd = sqlite3.connect(\"SQLite.db\")\n",
        "kursor = bd.cursor()\n",
        "kursor.execute(\"SELECT * FROM testowa\")\n",
        "\n",
        "# Wyświetl pierwszy wiersz tabeli:\n",
        "print(kursor.fetchone())"
      ],
      "id": "HCNFR48V89WA",
      "execution_count": null,
      "outputs": [
        {
          "output_type": "stream",
          "text": [
            "(1, 'Robert', '10A', 12.99)\n"
          ],
          "name": "stdout"
        }
      ]
    },
    {
      "cell_type": "code",
      "metadata": {
        "id": "wxozwKeN89WA",
        "outputId": "614d7787-6714-4868-e2ac-e6193a429315"
      },
      "source": [
        "# Dodanie kolejnych elementów do tabeli:\n",
        "# Tworzymy listę z danymi:\n",
        "dane = [(2,'Oliwia','11B',49.99), (3,'Piotr','16A',0.98), (4,'Monika','35T',25.00), (5,'Michal','236H',259.95), (6,'Weronika','75C',69.99)]\n",
        "print(type(dane))\n",
        "\n",
        "# Wczytanie danych:\n",
        "kursor.executemany(\"INSERT INTO testowa VALUES (?,?,?,?)\", dane)\n",
        "\n",
        "# Zapisanie zmian:\n",
        "bd.commit()"
      ],
      "id": "wxozwKeN89WA",
      "execution_count": null,
      "outputs": [
        {
          "output_type": "stream",
          "text": [
            "<class 'list'>\n"
          ],
          "name": "stdout"
        }
      ]
    },
    {
      "cell_type": "code",
      "metadata": {
        "id": "qfLT_0Af89WB",
        "outputId": "b408ca6e-162c-4932-d319-bd8e83169414"
      },
      "source": [
        "# Wczytanie całej tabeli - metoda 1 na pętlę:\n",
        "for a in kursor.execute(\"SELECT * FROM testowa\"):\n",
        "    print(a)\n",
        "\n",
        "# Wczytanie całej tabeli - metoda 2 na komendę:\n",
        "kursor.execute(\"SELECT * FROM testowa\").fetchall()\n",
        "\n",
        "# Zamknięcie bazy danych:\n",
        "bd.close()\n",
        "# Zanim otworzysz nowe połączenie, zamknij istniejące!"
      ],
      "id": "qfLT_0Af89WB",
      "execution_count": null,
      "outputs": [
        {
          "output_type": "stream",
          "text": [
            "(1, 'Robert', '10A', 12.99)\n",
            "(2, 'Oliwia', '11B', 49.99)\n",
            "(3, 'Piotr', '16A', 0.98)\n",
            "(4, 'Monika', '35T', 25.0)\n",
            "(5, 'Michal', '236H', 259.95)\n",
            "(6, 'Weronika', '75C', 69.99)\n",
            "(2, 'Oliwia', '11B', 49.99)\n",
            "(3, 'Piotr', '16A', 0.98)\n",
            "(4, 'Monika', '35T', 25.0)\n",
            "(5, 'Michal', '236H', 259.95)\n",
            "(6, 'Weronika', '75C', 69.99)\n"
          ],
          "name": "stdout"
        }
      ]
    },
    {
      "cell_type": "code",
      "metadata": {
        "id": "qnqHac1989WB"
      },
      "source": [
        "# Użycie Pandas dla pracy z SQLite:\n",
        "# Wczytaj bibliotekę Pandas:\n",
        "import pandas as pd\n",
        "\n",
        "# Łączenie ze stworzoną bazą danych SQLite:\n",
        "db_poloczenie = sqlite3.connect('SQLite.db')\n",
        "# Użycie pandas jako wrappera dla pracy z danymi z bazy danych:\n",
        "dane_df = pd.read_sql(\"select * from testowa;\", db_poloczenie)"
      ],
      "id": "qnqHac1989WB",
      "execution_count": null,
      "outputs": []
    },
    {
      "cell_type": "code",
      "metadata": {
        "id": "bm3fB6aE89WC",
        "outputId": "16a6e125-b973-4413-d7c7-5232d9648fbb"
      },
      "source": [
        "# Wyświetl dane:\n",
        "dane_df"
      ],
      "id": "bm3fB6aE89WC",
      "execution_count": null,
      "outputs": [
        {
          "output_type": "execute_result",
          "data": {
            "text/html": [
              "<div>\n",
              "<style scoped>\n",
              "    .dataframe tbody tr th:only-of-type {\n",
              "        vertical-align: middle;\n",
              "    }\n",
              "\n",
              "    .dataframe tbody tr th {\n",
              "        vertical-align: top;\n",
              "    }\n",
              "\n",
              "    .dataframe thead th {\n",
              "        text-align: right;\n",
              "    }\n",
              "</style>\n",
              "<table border=\"1\" class=\"dataframe\">\n",
              "  <thead>\n",
              "    <tr style=\"text-align: right;\">\n",
              "      <th></th>\n",
              "      <th>id</th>\n",
              "      <th>imie</th>\n",
              "      <th>numer_zamowienia</th>\n",
              "      <th>cena</th>\n",
              "    </tr>\n",
              "  </thead>\n",
              "  <tbody>\n",
              "    <tr>\n",
              "      <th>0</th>\n",
              "      <td>1</td>\n",
              "      <td>Robert</td>\n",
              "      <td>10A</td>\n",
              "      <td>12.99</td>\n",
              "    </tr>\n",
              "    <tr>\n",
              "      <th>1</th>\n",
              "      <td>2</td>\n",
              "      <td>Oliwia</td>\n",
              "      <td>11B</td>\n",
              "      <td>49.99</td>\n",
              "    </tr>\n",
              "    <tr>\n",
              "      <th>2</th>\n",
              "      <td>3</td>\n",
              "      <td>Piotr</td>\n",
              "      <td>16A</td>\n",
              "      <td>0.98</td>\n",
              "    </tr>\n",
              "    <tr>\n",
              "      <th>3</th>\n",
              "      <td>4</td>\n",
              "      <td>Monika</td>\n",
              "      <td>35T</td>\n",
              "      <td>25.00</td>\n",
              "    </tr>\n",
              "    <tr>\n",
              "      <th>4</th>\n",
              "      <td>5</td>\n",
              "      <td>Michal</td>\n",
              "      <td>236H</td>\n",
              "      <td>259.95</td>\n",
              "    </tr>\n",
              "    <tr>\n",
              "      <th>5</th>\n",
              "      <td>6</td>\n",
              "      <td>Weronika</td>\n",
              "      <td>75C</td>\n",
              "      <td>69.99</td>\n",
              "    </tr>\n",
              "    <tr>\n",
              "      <th>6</th>\n",
              "      <td>2</td>\n",
              "      <td>Oliwia</td>\n",
              "      <td>11B</td>\n",
              "      <td>49.99</td>\n",
              "    </tr>\n",
              "    <tr>\n",
              "      <th>7</th>\n",
              "      <td>3</td>\n",
              "      <td>Piotr</td>\n",
              "      <td>16A</td>\n",
              "      <td>0.98</td>\n",
              "    </tr>\n",
              "    <tr>\n",
              "      <th>8</th>\n",
              "      <td>4</td>\n",
              "      <td>Monika</td>\n",
              "      <td>35T</td>\n",
              "      <td>25.00</td>\n",
              "    </tr>\n",
              "    <tr>\n",
              "      <th>9</th>\n",
              "      <td>5</td>\n",
              "      <td>Michal</td>\n",
              "      <td>236H</td>\n",
              "      <td>259.95</td>\n",
              "    </tr>\n",
              "    <tr>\n",
              "      <th>10</th>\n",
              "      <td>6</td>\n",
              "      <td>Weronika</td>\n",
              "      <td>75C</td>\n",
              "      <td>69.99</td>\n",
              "    </tr>\n",
              "  </tbody>\n",
              "</table>\n",
              "</div>"
            ],
            "text/plain": [
              "    id      imie numer_zamowienia    cena\n",
              "0    1    Robert              10A   12.99\n",
              "1    2    Oliwia              11B   49.99\n",
              "2    3     Piotr              16A    0.98\n",
              "3    4    Monika              35T   25.00\n",
              "4    5    Michal             236H  259.95\n",
              "5    6  Weronika              75C   69.99\n",
              "6    2    Oliwia              11B   49.99\n",
              "7    3     Piotr              16A    0.98\n",
              "8    4    Monika              35T   25.00\n",
              "9    5    Michal             236H  259.95\n",
              "10   6  Weronika              75C   69.99"
            ]
          },
          "metadata": {
            "tags": []
          },
          "execution_count": 19
        }
      ]
    },
    {
      "cell_type": "code",
      "metadata": {
        "id": "OJv1sX__89WC",
        "outputId": "c7a7700a-8835-40a7-bad0-2adefd9d06df"
      },
      "source": [
        "# Sprawdzanie kolumn:\n",
        "dane_df.columns"
      ],
      "id": "OJv1sX__89WC",
      "execution_count": null,
      "outputs": [
        {
          "output_type": "execute_result",
          "data": {
            "text/plain": [
              "Index(['id', 'imie', 'numer_zamowienia', 'cena'], dtype='object')"
            ]
          },
          "metadata": {
            "tags": []
          },
          "execution_count": 20
        }
      ]
    },
    {
      "cell_type": "code",
      "metadata": {
        "id": "w91exzj_89WC",
        "outputId": "3a2e97ae-87e7-493b-bcb3-f384a2c74573"
      },
      "source": [
        "# Wyświetlenie zawartości tabeli:\n",
        "dane_df.head()"
      ],
      "id": "w91exzj_89WC",
      "execution_count": null,
      "outputs": [
        {
          "output_type": "execute_result",
          "data": {
            "text/html": [
              "<div>\n",
              "<style scoped>\n",
              "    .dataframe tbody tr th:only-of-type {\n",
              "        vertical-align: middle;\n",
              "    }\n",
              "\n",
              "    .dataframe tbody tr th {\n",
              "        vertical-align: top;\n",
              "    }\n",
              "\n",
              "    .dataframe thead th {\n",
              "        text-align: right;\n",
              "    }\n",
              "</style>\n",
              "<table border=\"1\" class=\"dataframe\">\n",
              "  <thead>\n",
              "    <tr style=\"text-align: right;\">\n",
              "      <th></th>\n",
              "      <th>id</th>\n",
              "      <th>imie</th>\n",
              "      <th>numer_zamowienia</th>\n",
              "      <th>cena</th>\n",
              "    </tr>\n",
              "  </thead>\n",
              "  <tbody>\n",
              "    <tr>\n",
              "      <th>0</th>\n",
              "      <td>1</td>\n",
              "      <td>Robert</td>\n",
              "      <td>10A</td>\n",
              "      <td>12.99</td>\n",
              "    </tr>\n",
              "    <tr>\n",
              "      <th>1</th>\n",
              "      <td>2</td>\n",
              "      <td>Oliwia</td>\n",
              "      <td>11B</td>\n",
              "      <td>49.99</td>\n",
              "    </tr>\n",
              "    <tr>\n",
              "      <th>2</th>\n",
              "      <td>3</td>\n",
              "      <td>Piotr</td>\n",
              "      <td>16A</td>\n",
              "      <td>0.98</td>\n",
              "    </tr>\n",
              "    <tr>\n",
              "      <th>3</th>\n",
              "      <td>4</td>\n",
              "      <td>Monika</td>\n",
              "      <td>35T</td>\n",
              "      <td>25.00</td>\n",
              "    </tr>\n",
              "    <tr>\n",
              "      <th>4</th>\n",
              "      <td>5</td>\n",
              "      <td>Michal</td>\n",
              "      <td>236H</td>\n",
              "      <td>259.95</td>\n",
              "    </tr>\n",
              "  </tbody>\n",
              "</table>\n",
              "</div>"
            ],
            "text/plain": [
              "   id    imie numer_zamowienia    cena\n",
              "0   1  Robert              10A   12.99\n",
              "1   2  Oliwia              11B   49.99\n",
              "2   3   Piotr              16A    0.98\n",
              "3   4  Monika              35T   25.00\n",
              "4   5  Michal             236H  259.95"
            ]
          },
          "metadata": {
            "tags": []
          },
          "execution_count": 21
        }
      ]
    },
    {
      "cell_type": "code",
      "metadata": {
        "id": "JPAmiPL289WC"
      },
      "source": [
        "# Podstawowe funkcje SQL z wykorzystaniem Pandas:\n",
        "import pandas as pd\n",
        "db_polaczenie = sqlite3.connect(\"SQLite.db\")"
      ],
      "id": "JPAmiPL289WC",
      "execution_count": null,
      "outputs": []
    },
    {
      "cell_type": "code",
      "metadata": {
        "id": "HbUk2rLl89WD",
        "outputId": "ef253729-29bc-4d39-b418-4fba77a29bb9"
      },
      "source": [
        "# Ładowanie wybranych kolumn tabeli:\n",
        "pd.read_sql(\"SELECT imie,numer_zamowienia FROM testowa\", db_polaczenie)"
      ],
      "id": "HbUk2rLl89WD",
      "execution_count": null,
      "outputs": [
        {
          "output_type": "execute_result",
          "data": {
            "text/html": [
              "<div>\n",
              "<style scoped>\n",
              "    .dataframe tbody tr th:only-of-type {\n",
              "        vertical-align: middle;\n",
              "    }\n",
              "\n",
              "    .dataframe tbody tr th {\n",
              "        vertical-align: top;\n",
              "    }\n",
              "\n",
              "    .dataframe thead th {\n",
              "        text-align: right;\n",
              "    }\n",
              "</style>\n",
              "<table border=\"1\" class=\"dataframe\">\n",
              "  <thead>\n",
              "    <tr style=\"text-align: right;\">\n",
              "      <th></th>\n",
              "      <th>imie</th>\n",
              "      <th>numer_zamowienia</th>\n",
              "    </tr>\n",
              "  </thead>\n",
              "  <tbody>\n",
              "    <tr>\n",
              "      <th>0</th>\n",
              "      <td>Robert</td>\n",
              "      <td>10A</td>\n",
              "    </tr>\n",
              "    <tr>\n",
              "      <th>1</th>\n",
              "      <td>Oliwia</td>\n",
              "      <td>11B</td>\n",
              "    </tr>\n",
              "    <tr>\n",
              "      <th>2</th>\n",
              "      <td>Piotr</td>\n",
              "      <td>16A</td>\n",
              "    </tr>\n",
              "    <tr>\n",
              "      <th>3</th>\n",
              "      <td>Monika</td>\n",
              "      <td>35T</td>\n",
              "    </tr>\n",
              "    <tr>\n",
              "      <th>4</th>\n",
              "      <td>Michal</td>\n",
              "      <td>236H</td>\n",
              "    </tr>\n",
              "    <tr>\n",
              "      <th>5</th>\n",
              "      <td>Weronika</td>\n",
              "      <td>75C</td>\n",
              "    </tr>\n",
              "    <tr>\n",
              "      <th>6</th>\n",
              "      <td>Oliwia</td>\n",
              "      <td>11B</td>\n",
              "    </tr>\n",
              "    <tr>\n",
              "      <th>7</th>\n",
              "      <td>Piotr</td>\n",
              "      <td>16A</td>\n",
              "    </tr>\n",
              "    <tr>\n",
              "      <th>8</th>\n",
              "      <td>Monika</td>\n",
              "      <td>35T</td>\n",
              "    </tr>\n",
              "    <tr>\n",
              "      <th>9</th>\n",
              "      <td>Michal</td>\n",
              "      <td>236H</td>\n",
              "    </tr>\n",
              "    <tr>\n",
              "      <th>10</th>\n",
              "      <td>Weronika</td>\n",
              "      <td>75C</td>\n",
              "    </tr>\n",
              "  </tbody>\n",
              "</table>\n",
              "</div>"
            ],
            "text/plain": [
              "        imie numer_zamowienia\n",
              "0     Robert              10A\n",
              "1     Oliwia              11B\n",
              "2      Piotr              16A\n",
              "3     Monika              35T\n",
              "4     Michal             236H\n",
              "5   Weronika              75C\n",
              "6     Oliwia              11B\n",
              "7      Piotr              16A\n",
              "8     Monika              35T\n",
              "9     Michal             236H\n",
              "10  Weronika              75C"
            ]
          },
          "metadata": {
            "tags": []
          },
          "execution_count": 23
        }
      ]
    },
    {
      "cell_type": "code",
      "metadata": {
        "id": "1eYnuGW689WD",
        "outputId": "d32236cd-7c18-48c1-eb6d-7dffcb38df42"
      },
      "source": [
        "# Sortowanie zawartości tabeli po wybranej kolumnie:\n",
        "pd.read_sql(\"SELECT * FROM testowa ORDER BY imie\", db_polaczenie)"
      ],
      "id": "1eYnuGW689WD",
      "execution_count": null,
      "outputs": [
        {
          "output_type": "execute_result",
          "data": {
            "text/html": [
              "<div>\n",
              "<style scoped>\n",
              "    .dataframe tbody tr th:only-of-type {\n",
              "        vertical-align: middle;\n",
              "    }\n",
              "\n",
              "    .dataframe tbody tr th {\n",
              "        vertical-align: top;\n",
              "    }\n",
              "\n",
              "    .dataframe thead th {\n",
              "        text-align: right;\n",
              "    }\n",
              "</style>\n",
              "<table border=\"1\" class=\"dataframe\">\n",
              "  <thead>\n",
              "    <tr style=\"text-align: right;\">\n",
              "      <th></th>\n",
              "      <th>id</th>\n",
              "      <th>imie</th>\n",
              "      <th>numer_zamowienia</th>\n",
              "      <th>cena</th>\n",
              "    </tr>\n",
              "  </thead>\n",
              "  <tbody>\n",
              "    <tr>\n",
              "      <th>0</th>\n",
              "      <td>5</td>\n",
              "      <td>Michal</td>\n",
              "      <td>236H</td>\n",
              "      <td>259.95</td>\n",
              "    </tr>\n",
              "    <tr>\n",
              "      <th>1</th>\n",
              "      <td>5</td>\n",
              "      <td>Michal</td>\n",
              "      <td>236H</td>\n",
              "      <td>259.95</td>\n",
              "    </tr>\n",
              "    <tr>\n",
              "      <th>2</th>\n",
              "      <td>4</td>\n",
              "      <td>Monika</td>\n",
              "      <td>35T</td>\n",
              "      <td>25.00</td>\n",
              "    </tr>\n",
              "    <tr>\n",
              "      <th>3</th>\n",
              "      <td>4</td>\n",
              "      <td>Monika</td>\n",
              "      <td>35T</td>\n",
              "      <td>25.00</td>\n",
              "    </tr>\n",
              "    <tr>\n",
              "      <th>4</th>\n",
              "      <td>2</td>\n",
              "      <td>Oliwia</td>\n",
              "      <td>11B</td>\n",
              "      <td>49.99</td>\n",
              "    </tr>\n",
              "    <tr>\n",
              "      <th>5</th>\n",
              "      <td>2</td>\n",
              "      <td>Oliwia</td>\n",
              "      <td>11B</td>\n",
              "      <td>49.99</td>\n",
              "    </tr>\n",
              "    <tr>\n",
              "      <th>6</th>\n",
              "      <td>3</td>\n",
              "      <td>Piotr</td>\n",
              "      <td>16A</td>\n",
              "      <td>0.98</td>\n",
              "    </tr>\n",
              "    <tr>\n",
              "      <th>7</th>\n",
              "      <td>3</td>\n",
              "      <td>Piotr</td>\n",
              "      <td>16A</td>\n",
              "      <td>0.98</td>\n",
              "    </tr>\n",
              "    <tr>\n",
              "      <th>8</th>\n",
              "      <td>1</td>\n",
              "      <td>Robert</td>\n",
              "      <td>10A</td>\n",
              "      <td>12.99</td>\n",
              "    </tr>\n",
              "    <tr>\n",
              "      <th>9</th>\n",
              "      <td>6</td>\n",
              "      <td>Weronika</td>\n",
              "      <td>75C</td>\n",
              "      <td>69.99</td>\n",
              "    </tr>\n",
              "    <tr>\n",
              "      <th>10</th>\n",
              "      <td>6</td>\n",
              "      <td>Weronika</td>\n",
              "      <td>75C</td>\n",
              "      <td>69.99</td>\n",
              "    </tr>\n",
              "  </tbody>\n",
              "</table>\n",
              "</div>"
            ],
            "text/plain": [
              "    id      imie numer_zamowienia    cena\n",
              "0    5    Michal             236H  259.95\n",
              "1    5    Michal             236H  259.95\n",
              "2    4    Monika              35T   25.00\n",
              "3    4    Monika              35T   25.00\n",
              "4    2    Oliwia              11B   49.99\n",
              "5    2    Oliwia              11B   49.99\n",
              "6    3     Piotr              16A    0.98\n",
              "7    3     Piotr              16A    0.98\n",
              "8    1    Robert              10A   12.99\n",
              "9    6  Weronika              75C   69.99\n",
              "10   6  Weronika              75C   69.99"
            ]
          },
          "metadata": {
            "tags": []
          },
          "execution_count": 24
        }
      ]
    },
    {
      "cell_type": "code",
      "metadata": {
        "id": "MT3x0jF089WD",
        "outputId": "cf8f865a-6a4c-45a8-e5c1-3ce72eacddb1"
      },
      "source": [
        "# Sortowanie zawartości tabeli po wybranej kolumnie w przeciwnej kolejności\n",
        "pd.read_sql(\"SELECT * FROM testowa ORDER BY imie DESC\", db_polaczenie)"
      ],
      "id": "MT3x0jF089WD",
      "execution_count": null,
      "outputs": [
        {
          "output_type": "execute_result",
          "data": {
            "text/html": [
              "<div>\n",
              "<style scoped>\n",
              "    .dataframe tbody tr th:only-of-type {\n",
              "        vertical-align: middle;\n",
              "    }\n",
              "\n",
              "    .dataframe tbody tr th {\n",
              "        vertical-align: top;\n",
              "    }\n",
              "\n",
              "    .dataframe thead th {\n",
              "        text-align: right;\n",
              "    }\n",
              "</style>\n",
              "<table border=\"1\" class=\"dataframe\">\n",
              "  <thead>\n",
              "    <tr style=\"text-align: right;\">\n",
              "      <th></th>\n",
              "      <th>id</th>\n",
              "      <th>imie</th>\n",
              "      <th>numer_zamowienia</th>\n",
              "      <th>cena</th>\n",
              "    </tr>\n",
              "  </thead>\n",
              "  <tbody>\n",
              "    <tr>\n",
              "      <th>0</th>\n",
              "      <td>6</td>\n",
              "      <td>Weronika</td>\n",
              "      <td>75C</td>\n",
              "      <td>69.99</td>\n",
              "    </tr>\n",
              "    <tr>\n",
              "      <th>1</th>\n",
              "      <td>6</td>\n",
              "      <td>Weronika</td>\n",
              "      <td>75C</td>\n",
              "      <td>69.99</td>\n",
              "    </tr>\n",
              "    <tr>\n",
              "      <th>2</th>\n",
              "      <td>1</td>\n",
              "      <td>Robert</td>\n",
              "      <td>10A</td>\n",
              "      <td>12.99</td>\n",
              "    </tr>\n",
              "    <tr>\n",
              "      <th>3</th>\n",
              "      <td>3</td>\n",
              "      <td>Piotr</td>\n",
              "      <td>16A</td>\n",
              "      <td>0.98</td>\n",
              "    </tr>\n",
              "    <tr>\n",
              "      <th>4</th>\n",
              "      <td>3</td>\n",
              "      <td>Piotr</td>\n",
              "      <td>16A</td>\n",
              "      <td>0.98</td>\n",
              "    </tr>\n",
              "    <tr>\n",
              "      <th>5</th>\n",
              "      <td>2</td>\n",
              "      <td>Oliwia</td>\n",
              "      <td>11B</td>\n",
              "      <td>49.99</td>\n",
              "    </tr>\n",
              "    <tr>\n",
              "      <th>6</th>\n",
              "      <td>2</td>\n",
              "      <td>Oliwia</td>\n",
              "      <td>11B</td>\n",
              "      <td>49.99</td>\n",
              "    </tr>\n",
              "    <tr>\n",
              "      <th>7</th>\n",
              "      <td>4</td>\n",
              "      <td>Monika</td>\n",
              "      <td>35T</td>\n",
              "      <td>25.00</td>\n",
              "    </tr>\n",
              "    <tr>\n",
              "      <th>8</th>\n",
              "      <td>4</td>\n",
              "      <td>Monika</td>\n",
              "      <td>35T</td>\n",
              "      <td>25.00</td>\n",
              "    </tr>\n",
              "    <tr>\n",
              "      <th>9</th>\n",
              "      <td>5</td>\n",
              "      <td>Michal</td>\n",
              "      <td>236H</td>\n",
              "      <td>259.95</td>\n",
              "    </tr>\n",
              "    <tr>\n",
              "      <th>10</th>\n",
              "      <td>5</td>\n",
              "      <td>Michal</td>\n",
              "      <td>236H</td>\n",
              "      <td>259.95</td>\n",
              "    </tr>\n",
              "  </tbody>\n",
              "</table>\n",
              "</div>"
            ],
            "text/plain": [
              "    id      imie numer_zamowienia    cena\n",
              "0    6  Weronika              75C   69.99\n",
              "1    6  Weronika              75C   69.99\n",
              "2    1    Robert              10A   12.99\n",
              "3    3     Piotr              16A    0.98\n",
              "4    3     Piotr              16A    0.98\n",
              "5    2    Oliwia              11B   49.99\n",
              "6    2    Oliwia              11B   49.99\n",
              "7    4    Monika              35T   25.00\n",
              "8    4    Monika              35T   25.00\n",
              "9    5    Michal             236H  259.95\n",
              "10   5    Michal             236H  259.95"
            ]
          },
          "metadata": {
            "tags": []
          },
          "execution_count": 25
        }
      ]
    },
    {
      "cell_type": "code",
      "metadata": {
        "id": "7FqnR3gh89WE",
        "outputId": "741e31df-db85-44b1-dd44-10c7b18c005d"
      },
      "source": [
        "# Grupowanie kolumn po numer_zamowienia i obliczanie kwoty zamówienia:\n",
        "pd.read_sql(\"SELECT sum(cena) as 'SUMA' FROM testowa GROUP BY numer_zamowienia\", db_polaczenie)"
      ],
      "id": "7FqnR3gh89WE",
      "execution_count": null,
      "outputs": [
        {
          "output_type": "execute_result",
          "data": {
            "text/html": [
              "<div>\n",
              "<style scoped>\n",
              "    .dataframe tbody tr th:only-of-type {\n",
              "        vertical-align: middle;\n",
              "    }\n",
              "\n",
              "    .dataframe tbody tr th {\n",
              "        vertical-align: top;\n",
              "    }\n",
              "\n",
              "    .dataframe thead th {\n",
              "        text-align: right;\n",
              "    }\n",
              "</style>\n",
              "<table border=\"1\" class=\"dataframe\">\n",
              "  <thead>\n",
              "    <tr style=\"text-align: right;\">\n",
              "      <th></th>\n",
              "      <th>SUMA</th>\n",
              "    </tr>\n",
              "  </thead>\n",
              "  <tbody>\n",
              "    <tr>\n",
              "      <th>0</th>\n",
              "      <td>12.99</td>\n",
              "    </tr>\n",
              "    <tr>\n",
              "      <th>1</th>\n",
              "      <td>99.98</td>\n",
              "    </tr>\n",
              "    <tr>\n",
              "      <th>2</th>\n",
              "      <td>1.96</td>\n",
              "    </tr>\n",
              "    <tr>\n",
              "      <th>3</th>\n",
              "      <td>519.90</td>\n",
              "    </tr>\n",
              "    <tr>\n",
              "      <th>4</th>\n",
              "      <td>50.00</td>\n",
              "    </tr>\n",
              "    <tr>\n",
              "      <th>5</th>\n",
              "      <td>139.98</td>\n",
              "    </tr>\n",
              "  </tbody>\n",
              "</table>\n",
              "</div>"
            ],
            "text/plain": [
              "     SUMA\n",
              "0   12.99\n",
              "1   99.98\n",
              "2    1.96\n",
              "3  519.90\n",
              "4   50.00\n",
              "5  139.98"
            ]
          },
          "metadata": {
            "tags": []
          },
          "execution_count": 26
        }
      ]
    },
    {
      "cell_type": "code",
      "metadata": {
        "id": "je7yXcIa89WE",
        "outputId": "94a0dd4d-a0bc-494d-eafd-be953d2c37f7"
      },
      "source": [
        "# Wczytywanie wierszy tabeli z pominięciem wybranego:\n",
        "pd.read_sql(\"SELECT * FROM testowa WHERE imie NOT LIKE 'Michal'\", db_polaczenie)"
      ],
      "id": "je7yXcIa89WE",
      "execution_count": null,
      "outputs": [
        {
          "output_type": "execute_result",
          "data": {
            "text/html": [
              "<div>\n",
              "<style scoped>\n",
              "    .dataframe tbody tr th:only-of-type {\n",
              "        vertical-align: middle;\n",
              "    }\n",
              "\n",
              "    .dataframe tbody tr th {\n",
              "        vertical-align: top;\n",
              "    }\n",
              "\n",
              "    .dataframe thead th {\n",
              "        text-align: right;\n",
              "    }\n",
              "</style>\n",
              "<table border=\"1\" class=\"dataframe\">\n",
              "  <thead>\n",
              "    <tr style=\"text-align: right;\">\n",
              "      <th></th>\n",
              "      <th>id</th>\n",
              "      <th>imie</th>\n",
              "      <th>numer_zamowienia</th>\n",
              "      <th>cena</th>\n",
              "    </tr>\n",
              "  </thead>\n",
              "  <tbody>\n",
              "    <tr>\n",
              "      <th>0</th>\n",
              "      <td>1</td>\n",
              "      <td>Robert</td>\n",
              "      <td>10A</td>\n",
              "      <td>12.99</td>\n",
              "    </tr>\n",
              "    <tr>\n",
              "      <th>1</th>\n",
              "      <td>2</td>\n",
              "      <td>Oliwia</td>\n",
              "      <td>11B</td>\n",
              "      <td>49.99</td>\n",
              "    </tr>\n",
              "    <tr>\n",
              "      <th>2</th>\n",
              "      <td>3</td>\n",
              "      <td>Piotr</td>\n",
              "      <td>16A</td>\n",
              "      <td>0.98</td>\n",
              "    </tr>\n",
              "    <tr>\n",
              "      <th>3</th>\n",
              "      <td>4</td>\n",
              "      <td>Monika</td>\n",
              "      <td>35T</td>\n",
              "      <td>25.00</td>\n",
              "    </tr>\n",
              "    <tr>\n",
              "      <th>4</th>\n",
              "      <td>6</td>\n",
              "      <td>Weronika</td>\n",
              "      <td>75C</td>\n",
              "      <td>69.99</td>\n",
              "    </tr>\n",
              "    <tr>\n",
              "      <th>5</th>\n",
              "      <td>2</td>\n",
              "      <td>Oliwia</td>\n",
              "      <td>11B</td>\n",
              "      <td>49.99</td>\n",
              "    </tr>\n",
              "    <tr>\n",
              "      <th>6</th>\n",
              "      <td>3</td>\n",
              "      <td>Piotr</td>\n",
              "      <td>16A</td>\n",
              "      <td>0.98</td>\n",
              "    </tr>\n",
              "    <tr>\n",
              "      <th>7</th>\n",
              "      <td>4</td>\n",
              "      <td>Monika</td>\n",
              "      <td>35T</td>\n",
              "      <td>25.00</td>\n",
              "    </tr>\n",
              "    <tr>\n",
              "      <th>8</th>\n",
              "      <td>6</td>\n",
              "      <td>Weronika</td>\n",
              "      <td>75C</td>\n",
              "      <td>69.99</td>\n",
              "    </tr>\n",
              "  </tbody>\n",
              "</table>\n",
              "</div>"
            ],
            "text/plain": [
              "   id      imie numer_zamowienia   cena\n",
              "0   1    Robert              10A  12.99\n",
              "1   2    Oliwia              11B  49.99\n",
              "2   3     Piotr              16A   0.98\n",
              "3   4    Monika              35T  25.00\n",
              "4   6  Weronika              75C  69.99\n",
              "5   2    Oliwia              11B  49.99\n",
              "6   3     Piotr              16A   0.98\n",
              "7   4    Monika              35T  25.00\n",
              "8   6  Weronika              75C  69.99"
            ]
          },
          "metadata": {
            "tags": []
          },
          "execution_count": 27
        }
      ]
    },
    {
      "cell_type": "code",
      "metadata": {
        "id": "w6vytGQK89WF",
        "outputId": "f0980b76-b75c-4758-da2b-b1aa1f309630"
      },
      "source": [
        "# Wczytanie zamówień o wartości w zadanych widełkach (20 - 50):\n",
        "pd.read_sql(\"SELECT * FROM testowa WHERE cena BETWEEN 20 AND 50\", db_polaczenie)"
      ],
      "id": "w6vytGQK89WF",
      "execution_count": null,
      "outputs": [
        {
          "output_type": "execute_result",
          "data": {
            "text/html": [
              "<div>\n",
              "<style scoped>\n",
              "    .dataframe tbody tr th:only-of-type {\n",
              "        vertical-align: middle;\n",
              "    }\n",
              "\n",
              "    .dataframe tbody tr th {\n",
              "        vertical-align: top;\n",
              "    }\n",
              "\n",
              "    .dataframe thead th {\n",
              "        text-align: right;\n",
              "    }\n",
              "</style>\n",
              "<table border=\"1\" class=\"dataframe\">\n",
              "  <thead>\n",
              "    <tr style=\"text-align: right;\">\n",
              "      <th></th>\n",
              "      <th>id</th>\n",
              "      <th>imie</th>\n",
              "      <th>numer_zamowienia</th>\n",
              "      <th>cena</th>\n",
              "    </tr>\n",
              "  </thead>\n",
              "  <tbody>\n",
              "    <tr>\n",
              "      <th>0</th>\n",
              "      <td>2</td>\n",
              "      <td>Oliwia</td>\n",
              "      <td>11B</td>\n",
              "      <td>49.99</td>\n",
              "    </tr>\n",
              "    <tr>\n",
              "      <th>1</th>\n",
              "      <td>4</td>\n",
              "      <td>Monika</td>\n",
              "      <td>35T</td>\n",
              "      <td>25.00</td>\n",
              "    </tr>\n",
              "    <tr>\n",
              "      <th>2</th>\n",
              "      <td>2</td>\n",
              "      <td>Oliwia</td>\n",
              "      <td>11B</td>\n",
              "      <td>49.99</td>\n",
              "    </tr>\n",
              "    <tr>\n",
              "      <th>3</th>\n",
              "      <td>4</td>\n",
              "      <td>Monika</td>\n",
              "      <td>35T</td>\n",
              "      <td>25.00</td>\n",
              "    </tr>\n",
              "  </tbody>\n",
              "</table>\n",
              "</div>"
            ],
            "text/plain": [
              "   id    imie numer_zamowienia   cena\n",
              "0   2  Oliwia              11B  49.99\n",
              "1   4  Monika              35T  25.00\n",
              "2   2  Oliwia              11B  49.99\n",
              "3   4  Monika              35T  25.00"
            ]
          },
          "metadata": {
            "tags": []
          },
          "execution_count": 28
        }
      ]
    },
    {
      "cell_type": "code",
      "metadata": {
        "id": "TdOyVibH89WF",
        "outputId": "0c9b4363-3cdb-4d60-c45c-5bfb73480be4"
      },
      "source": [
        "# Wczytanie tylko unikalnych (bez powtórzeń) zamówień:\n",
        "pd.read_sql(\"SELECT DISTINCT numer_zamowienia FROM testowa\", db_polaczenie)"
      ],
      "id": "TdOyVibH89WF",
      "execution_count": null,
      "outputs": [
        {
          "output_type": "execute_result",
          "data": {
            "text/html": [
              "<div>\n",
              "<style scoped>\n",
              "    .dataframe tbody tr th:only-of-type {\n",
              "        vertical-align: middle;\n",
              "    }\n",
              "\n",
              "    .dataframe tbody tr th {\n",
              "        vertical-align: top;\n",
              "    }\n",
              "\n",
              "    .dataframe thead th {\n",
              "        text-align: right;\n",
              "    }\n",
              "</style>\n",
              "<table border=\"1\" class=\"dataframe\">\n",
              "  <thead>\n",
              "    <tr style=\"text-align: right;\">\n",
              "      <th></th>\n",
              "      <th>numer_zamowienia</th>\n",
              "    </tr>\n",
              "  </thead>\n",
              "  <tbody>\n",
              "    <tr>\n",
              "      <th>0</th>\n",
              "      <td>10A</td>\n",
              "    </tr>\n",
              "    <tr>\n",
              "      <th>1</th>\n",
              "      <td>11B</td>\n",
              "    </tr>\n",
              "    <tr>\n",
              "      <th>2</th>\n",
              "      <td>16A</td>\n",
              "    </tr>\n",
              "    <tr>\n",
              "      <th>3</th>\n",
              "      <td>35T</td>\n",
              "    </tr>\n",
              "    <tr>\n",
              "      <th>4</th>\n",
              "      <td>236H</td>\n",
              "    </tr>\n",
              "    <tr>\n",
              "      <th>5</th>\n",
              "      <td>75C</td>\n",
              "    </tr>\n",
              "  </tbody>\n",
              "</table>\n",
              "</div>"
            ],
            "text/plain": [
              "  numer_zamowienia\n",
              "0              10A\n",
              "1              11B\n",
              "2              16A\n",
              "3              35T\n",
              "4             236H\n",
              "5              75C"
            ]
          },
          "metadata": {
            "tags": []
          },
          "execution_count": 29
        }
      ]
    },
    {
      "cell_type": "code",
      "metadata": {
        "id": "e0Z0Ihdq89WF",
        "outputId": "c05f7c78-5040-48da-dcad-047b2e983cf2"
      },
      "source": [
        "# Łączenie tabel po numerze zamówienia:\n",
        "\n",
        "# Wyświetl tabelę testowa:\n",
        "tabela1 = pd.read_sql(\"SELECT * FROM testowa\", db_polaczenie)\n",
        "print(tabela1)\n",
        "print(\"\\n\")\n",
        "\n",
        "# Wyświetl tabelę testowa2:\n",
        "tabela2 = pd.read_sql(\"SELECT * FROM testowa2\", db_polaczenie)\n",
        "print(tabela2)\n",
        "print(\"\\n\")\n",
        "\n",
        "# Złączenie tabel:\n",
        "wynik = pd.read_sql('''SELECT *\n",
        "                        FROM testowa2\n",
        "                        LEFT JOIN testowa ON testowa2.numer_zamowienia=testowa.numer_zamowienia''', db_polaczenie)\n",
        "print(wynik)"
      ],
      "id": "e0Z0Ihdq89WF",
      "execution_count": null,
      "outputs": [
        {
          "output_type": "stream",
          "text": [
            "    id      imie numer_zamowienia    cena\n",
            "0    1    Robert              10A   12.99\n",
            "1    2    Oliwia              11B   49.99\n",
            "2    3     Piotr              16A    0.98\n",
            "3    4    Monika              35T   25.00\n",
            "4    5    Michal             236H  259.95\n",
            "5    6  Weronika              75C   69.99\n",
            "6    2    Oliwia              11B   49.99\n",
            "7    3     Piotr              16A    0.98\n",
            "8    4    Monika              35T   25.00\n",
            "9    5    Michal             236H  259.95\n",
            "10   6  Weronika              75C   69.99\n",
            "\n",
            "\n",
            "     imie numer_zamowienia\n",
            "0  Robert              10A\n",
            "\n",
            "\n",
            "     imie numer_zamowienia  id    imie numer_zamowienia   cena\n",
            "0  Robert              10A   1  Robert              10A  12.99\n"
          ],
          "name": "stdout"
        }
      ]
    },
    {
      "cell_type": "code",
      "metadata": {
        "id": "sUQw1_HV89WF"
      },
      "source": [
        "# Zamykanie\n",
        "db_polaczenie.close()"
      ],
      "id": "sUQw1_HV89WF",
      "execution_count": null,
      "outputs": []
    },
    {
      "cell_type": "code",
      "metadata": {
        "id": "eJUJ1BWm89WG"
      },
      "source": [
        ""
      ],
      "id": "eJUJ1BWm89WG",
      "execution_count": null,
      "outputs": []
    }
  ]
}