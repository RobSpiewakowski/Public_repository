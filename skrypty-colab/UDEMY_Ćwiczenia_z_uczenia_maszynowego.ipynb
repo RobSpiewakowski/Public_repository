{
  "nbformat": 4,
  "nbformat_minor": 0,
  "metadata": {
    "colab": {
      "name": "UDEMY - Ćwiczenia z uczenia maszynowego",
      "provenance": [],
      "toc_visible": true,
      "mount_file_id": "1h9W-Ua0TavsAIpfXQ7YFdERS8avot2yU",
      "authorship_tag": "ABX9TyN/txkWw6Elc1HsgxlxJBGL",
      "include_colab_link": true
    },
    "kernelspec": {
      "name": "python3",
      "display_name": "Python 3"
    },
    "language_info": {
      "name": "python"
    }
  },
  "cells": [
    {
      "cell_type": "markdown",
      "metadata": {
        "id": "view-in-github",
        "colab_type": "text"
      },
      "source": [
        "<a href=\"https://colab.research.google.com/github/RobSpiewakowski/nauka-data-science/blob/main/skrypty-colab/UDEMY_%C4%86wiczenia_z_uczenia_maszynowego.ipynb\" target=\"_parent\"><img src=\"https://colab.research.google.com/assets/colab-badge.svg\" alt=\"Open In Colab\"/></a>"
      ]
    },
    {
      "cell_type": "code",
      "metadata": {
        "id": "XYs5_hms2Gbr"
      },
      "source": [
        "# Import modułów:\n",
        "import sklearn as sl\n",
        "import numpy as np\n",
        "import pandas as pd\n",
        "import plotly.express as px\n",
        "from sklearn.impute import SimpleImputer\n",
        "from sklearn.datasets import load_iris\n",
        "from sklearn.model_selection import train_test_split\n",
        "from sklearn.linear_model import LogisticRegression\n",
        "from sklearn.metrics import confusion_matrix\n",
        "from sklearn.metrics import classification_report\n",
        "from sklearn.preprocessing import LabelEncoder\n",
        "from sklearn.preprocessing import OneHotEncoder\n",
        "from sklearn.datasets import load_breast_cancer\n",
        "from sklearn.linear_model import LinearRegression\n",
        "from sklearn.preprocessing import PolynomialFeatures\n",
        "from sklearn.preprocessing import StandardScaler"
      ],
      "execution_count": 6,
      "outputs": []
    },
    {
      "cell_type": "markdown",
      "metadata": {
        "id": "RoUN42VwAgSz"
      },
      "source": [
        "# Ćwiczenie 1\n",
        "\n",
        "Z poniższego słoenika utwórz obiekt Data Frame i przypisz go do zmiennej df. Następnie zapoznaj się z obiektem df i sprawdź liczbę braków danych dla wszystkich kolumn. Podaj procent braków, wynik zaokrąglij do drugiego miejsca po przecinku i wydrukuj na konsoli."
      ]
    },
    {
      "cell_type": "code",
      "metadata": {
        "colab": {
          "base_uri": "https://localhost:8080/",
          "height": 342
        },
        "id": "49vwWQeIAaZS",
        "outputId": "43330823-40c1-4f3d-c392-dcdff8b5199e"
      },
      "source": [
        "# Dane:\n",
        "data = {'size': ['XL', 'L', 'M', np.nan, 'M', 'M'],\n",
        "    'color': ['red', 'green', 'blue', 'green', 'red', 'green'],\n",
        "    'gender': ['female', 'male', np.nan, 'female', 'female', 'male'],\n",
        "    'price': [199.0, 89.0, np.nan, 129.0, 79.0, 89.0],\n",
        "    'weight': [500, 450, 300, np.nan, 410, np.nan],\n",
        "    'bought': ['yes', 'no', 'yes', 'no', 'yes', 'no']}\n",
        "\n",
        "df = pd.DataFrame(data)\n",
        "\n",
        "# Zaokrąglony do 2 miejsc po przecinku, wynik dzielenia sumy wszystkich pustych komórek przez liczbę wszystkich komórek w kolumnie.\n",
        "print(np.round(df.isnull().sum() / len(df), 2))\n",
        "\n",
        "# Wyświetlenie Data Frame\n",
        "df"
      ],
      "execution_count": null,
      "outputs": [
        {
          "output_type": "stream",
          "text": [
            "size      0.17\n",
            "color     0.00\n",
            "gender    0.17\n",
            "price     0.17\n",
            "weight    0.33\n",
            "bought    0.00\n",
            "dtype: float64\n"
          ],
          "name": "stdout"
        },
        {
          "output_type": "execute_result",
          "data": {
            "text/html": [
              "<div>\n",
              "<style scoped>\n",
              "    .dataframe tbody tr th:only-of-type {\n",
              "        vertical-align: middle;\n",
              "    }\n",
              "\n",
              "    .dataframe tbody tr th {\n",
              "        vertical-align: top;\n",
              "    }\n",
              "\n",
              "    .dataframe thead th {\n",
              "        text-align: right;\n",
              "    }\n",
              "</style>\n",
              "<table border=\"1\" class=\"dataframe\">\n",
              "  <thead>\n",
              "    <tr style=\"text-align: right;\">\n",
              "      <th></th>\n",
              "      <th>size</th>\n",
              "      <th>color</th>\n",
              "      <th>gender</th>\n",
              "      <th>price</th>\n",
              "      <th>weight</th>\n",
              "      <th>bought</th>\n",
              "    </tr>\n",
              "  </thead>\n",
              "  <tbody>\n",
              "    <tr>\n",
              "      <th>0</th>\n",
              "      <td>XL</td>\n",
              "      <td>red</td>\n",
              "      <td>female</td>\n",
              "      <td>199.0</td>\n",
              "      <td>500.0</td>\n",
              "      <td>yes</td>\n",
              "    </tr>\n",
              "    <tr>\n",
              "      <th>1</th>\n",
              "      <td>L</td>\n",
              "      <td>green</td>\n",
              "      <td>male</td>\n",
              "      <td>89.0</td>\n",
              "      <td>450.0</td>\n",
              "      <td>no</td>\n",
              "    </tr>\n",
              "    <tr>\n",
              "      <th>2</th>\n",
              "      <td>M</td>\n",
              "      <td>blue</td>\n",
              "      <td>NaN</td>\n",
              "      <td>NaN</td>\n",
              "      <td>300.0</td>\n",
              "      <td>yes</td>\n",
              "    </tr>\n",
              "    <tr>\n",
              "      <th>3</th>\n",
              "      <td>NaN</td>\n",
              "      <td>green</td>\n",
              "      <td>female</td>\n",
              "      <td>129.0</td>\n",
              "      <td>NaN</td>\n",
              "      <td>no</td>\n",
              "    </tr>\n",
              "    <tr>\n",
              "      <th>4</th>\n",
              "      <td>M</td>\n",
              "      <td>red</td>\n",
              "      <td>female</td>\n",
              "      <td>79.0</td>\n",
              "      <td>410.0</td>\n",
              "      <td>yes</td>\n",
              "    </tr>\n",
              "    <tr>\n",
              "      <th>5</th>\n",
              "      <td>M</td>\n",
              "      <td>green</td>\n",
              "      <td>male</td>\n",
              "      <td>89.0</td>\n",
              "      <td>NaN</td>\n",
              "      <td>no</td>\n",
              "    </tr>\n",
              "  </tbody>\n",
              "</table>\n",
              "</div>"
            ],
            "text/plain": [
              "  size  color  gender  price  weight bought\n",
              "0   XL    red  female  199.0   500.0    yes\n",
              "1    L  green    male   89.0   450.0     no\n",
              "2    M   blue     NaN    NaN   300.0    yes\n",
              "3  NaN  green  female  129.0     NaN     no\n",
              "4    M    red  female   79.0   410.0    yes\n",
              "5    M  green    male   89.0     NaN     no"
            ]
          },
          "metadata": {
            "tags": []
          },
          "execution_count": 220
        }
      ]
    },
    {
      "cell_type": "markdown",
      "metadata": {
        "id": "EfC1gODiFjqT"
      },
      "source": [
        "# Ćwiczenie 2. \n",
        "\n",
        "Dany jest obiekt Data Frame (jak w poprzednim ćwiczeniu). Za pomocą pakietu scikit-learn oraz klasy SimpleImputer uzupełnij braki danych dla kolumny \"weight\" wartościami średnimi. Zmiany przypisz do obiektu df. Wydrukuj obiekt df."
      ]
    },
    {
      "cell_type": "code",
      "metadata": {
        "colab": {
          "base_uri": "https://localhost:8080/",
          "height": 225
        },
        "id": "SXvjFihXBDfL",
        "outputId": "964eb85d-9780-42f2-b460-c5d4418a40b5"
      },
      "source": [
        "# Utworzenie imputera (funkcji uzupełniającej braki):\n",
        "imp_mean = SimpleImputer(missing_values = np.NaN, strategy = \"mean\")\n",
        "\n",
        "# Wytrenowanie imputera:\n",
        "imp_mean.fit(df[[\"weight\"]])\n",
        "\n",
        "# Zastosowanie imputera:\n",
        "df[\"weight\"] = imp_mean.transform(df[[\"weight\"]])\n",
        "df"
      ],
      "execution_count": null,
      "outputs": [
        {
          "output_type": "execute_result",
          "data": {
            "text/html": [
              "<div>\n",
              "<style scoped>\n",
              "    .dataframe tbody tr th:only-of-type {\n",
              "        vertical-align: middle;\n",
              "    }\n",
              "\n",
              "    .dataframe tbody tr th {\n",
              "        vertical-align: top;\n",
              "    }\n",
              "\n",
              "    .dataframe thead th {\n",
              "        text-align: right;\n",
              "    }\n",
              "</style>\n",
              "<table border=\"1\" class=\"dataframe\">\n",
              "  <thead>\n",
              "    <tr style=\"text-align: right;\">\n",
              "      <th></th>\n",
              "      <th>size</th>\n",
              "      <th>color</th>\n",
              "      <th>gender</th>\n",
              "      <th>price</th>\n",
              "      <th>weight</th>\n",
              "      <th>bought</th>\n",
              "    </tr>\n",
              "  </thead>\n",
              "  <tbody>\n",
              "    <tr>\n",
              "      <th>0</th>\n",
              "      <td>XL</td>\n",
              "      <td>red</td>\n",
              "      <td>female</td>\n",
              "      <td>199.0</td>\n",
              "      <td>500.0</td>\n",
              "      <td>yes</td>\n",
              "    </tr>\n",
              "    <tr>\n",
              "      <th>1</th>\n",
              "      <td>L</td>\n",
              "      <td>green</td>\n",
              "      <td>male</td>\n",
              "      <td>89.0</td>\n",
              "      <td>450.0</td>\n",
              "      <td>no</td>\n",
              "    </tr>\n",
              "    <tr>\n",
              "      <th>2</th>\n",
              "      <td>M</td>\n",
              "      <td>blue</td>\n",
              "      <td>NaN</td>\n",
              "      <td>NaN</td>\n",
              "      <td>300.0</td>\n",
              "      <td>yes</td>\n",
              "    </tr>\n",
              "    <tr>\n",
              "      <th>3</th>\n",
              "      <td>NaN</td>\n",
              "      <td>green</td>\n",
              "      <td>female</td>\n",
              "      <td>129.0</td>\n",
              "      <td>415.0</td>\n",
              "      <td>no</td>\n",
              "    </tr>\n",
              "    <tr>\n",
              "      <th>4</th>\n",
              "      <td>M</td>\n",
              "      <td>red</td>\n",
              "      <td>female</td>\n",
              "      <td>79.0</td>\n",
              "      <td>410.0</td>\n",
              "      <td>yes</td>\n",
              "    </tr>\n",
              "    <tr>\n",
              "      <th>5</th>\n",
              "      <td>M</td>\n",
              "      <td>green</td>\n",
              "      <td>male</td>\n",
              "      <td>89.0</td>\n",
              "      <td>415.0</td>\n",
              "      <td>no</td>\n",
              "    </tr>\n",
              "  </tbody>\n",
              "</table>\n",
              "</div>"
            ],
            "text/plain": [
              "  size  color  gender  price  weight bought\n",
              "0   XL    red  female  199.0   500.0    yes\n",
              "1    L  green    male   89.0   450.0     no\n",
              "2    M   blue     NaN    NaN   300.0    yes\n",
              "3  NaN  green  female  129.0   415.0     no\n",
              "4    M    red  female   79.0   410.0    yes\n",
              "5    M  green    male   89.0   415.0     no"
            ]
          },
          "metadata": {
            "tags": []
          },
          "execution_count": 221
        }
      ]
    },
    {
      "cell_type": "markdown",
      "metadata": {
        "id": "JTx1_0YeJxLW"
      },
      "source": [
        "# Ćwiczenie 3.\n",
        "\n",
        "Dany jest obiekt Data Frame (jak w poprzednim zadaniu). Braki danych dla kolumny \"weight\" zostały uzupełnione wartością średnią za pomocą klasy SimpleImputer. Wyświetl tę wartość średnią wykorzystując klasę SimpleImputer."
      ]
    },
    {
      "cell_type": "code",
      "metadata": {
        "colab": {
          "base_uri": "https://localhost:8080/"
        },
        "id": "jCG2Ix1dHhsW",
        "outputId": "9c0ed456-95c6-441d-c38a-d39cf25fb602"
      },
      "source": [
        "# Wyświetla wartość wygenerowaną przez SimpleImputer:\n",
        "print(imp_mean.statistics_)"
      ],
      "execution_count": null,
      "outputs": [
        {
          "output_type": "stream",
          "text": [
            "[415.]\n"
          ],
          "name": "stdout"
        }
      ]
    },
    {
      "cell_type": "markdown",
      "metadata": {
        "id": "7d02iKntLdVL"
      },
      "source": [
        "# Ćwiczenie 4\n",
        "\n",
        "Jest dany obiekt Data Frame (nie zgadniesz, który...). Wykorzystując pakiet do uczenia maszynowego scikit-learn i klasę SimpleImputer, uzupełnij braki danych w kolumnie \"price\" stałą wartością 99.0. Zmiany przypisz na stałe do obiektu df."
      ]
    },
    {
      "cell_type": "code",
      "metadata": {
        "colab": {
          "base_uri": "https://localhost:8080/",
          "height": 225
        },
        "id": "D840ZW1vKIW3",
        "outputId": "1641797d-ade5-4597-bc5a-532b78b60f58"
      },
      "source": [
        "# Utworzenie imputera:\n",
        "imp_const = SimpleImputer(missing_values = np.NaN, strategy = \"constant\", fill_value = 99.0)\n",
        "\n",
        "# Wytrenowanie imnputera:\n",
        "imp_const.fit(df[[\"price\"]])\n",
        "\n",
        "# Zastosowanie imputera:\n",
        "df[\"price\"] = imp_const.transform(df[[\"price\"]])\n",
        "df"
      ],
      "execution_count": null,
      "outputs": [
        {
          "output_type": "execute_result",
          "data": {
            "text/html": [
              "<div>\n",
              "<style scoped>\n",
              "    .dataframe tbody tr th:only-of-type {\n",
              "        vertical-align: middle;\n",
              "    }\n",
              "\n",
              "    .dataframe tbody tr th {\n",
              "        vertical-align: top;\n",
              "    }\n",
              "\n",
              "    .dataframe thead th {\n",
              "        text-align: right;\n",
              "    }\n",
              "</style>\n",
              "<table border=\"1\" class=\"dataframe\">\n",
              "  <thead>\n",
              "    <tr style=\"text-align: right;\">\n",
              "      <th></th>\n",
              "      <th>size</th>\n",
              "      <th>color</th>\n",
              "      <th>gender</th>\n",
              "      <th>price</th>\n",
              "      <th>weight</th>\n",
              "      <th>bought</th>\n",
              "    </tr>\n",
              "  </thead>\n",
              "  <tbody>\n",
              "    <tr>\n",
              "      <th>0</th>\n",
              "      <td>XL</td>\n",
              "      <td>red</td>\n",
              "      <td>female</td>\n",
              "      <td>199.0</td>\n",
              "      <td>500.0</td>\n",
              "      <td>yes</td>\n",
              "    </tr>\n",
              "    <tr>\n",
              "      <th>1</th>\n",
              "      <td>L</td>\n",
              "      <td>green</td>\n",
              "      <td>male</td>\n",
              "      <td>89.0</td>\n",
              "      <td>450.0</td>\n",
              "      <td>no</td>\n",
              "    </tr>\n",
              "    <tr>\n",
              "      <th>2</th>\n",
              "      <td>M</td>\n",
              "      <td>blue</td>\n",
              "      <td>NaN</td>\n",
              "      <td>99.0</td>\n",
              "      <td>300.0</td>\n",
              "      <td>yes</td>\n",
              "    </tr>\n",
              "    <tr>\n",
              "      <th>3</th>\n",
              "      <td>NaN</td>\n",
              "      <td>green</td>\n",
              "      <td>female</td>\n",
              "      <td>129.0</td>\n",
              "      <td>415.0</td>\n",
              "      <td>no</td>\n",
              "    </tr>\n",
              "    <tr>\n",
              "      <th>4</th>\n",
              "      <td>M</td>\n",
              "      <td>red</td>\n",
              "      <td>female</td>\n",
              "      <td>79.0</td>\n",
              "      <td>410.0</td>\n",
              "      <td>yes</td>\n",
              "    </tr>\n",
              "    <tr>\n",
              "      <th>5</th>\n",
              "      <td>M</td>\n",
              "      <td>green</td>\n",
              "      <td>male</td>\n",
              "      <td>89.0</td>\n",
              "      <td>415.0</td>\n",
              "      <td>no</td>\n",
              "    </tr>\n",
              "  </tbody>\n",
              "</table>\n",
              "</div>"
            ],
            "text/plain": [
              "  size  color  gender  price  weight bought\n",
              "0   XL    red  female  199.0   500.0    yes\n",
              "1    L  green    male   89.0   450.0     no\n",
              "2    M   blue     NaN   99.0   300.0    yes\n",
              "3  NaN  green  female  129.0   415.0     no\n",
              "4    M    red  female   79.0   410.0    yes\n",
              "5    M  green    male   89.0   415.0     no"
            ]
          },
          "metadata": {
            "tags": []
          },
          "execution_count": 223
        }
      ]
    },
    {
      "cell_type": "markdown",
      "metadata": {
        "id": "LFxvGqPUNRWj"
      },
      "source": [
        "# Ćwiczenie 5\n",
        "\n",
        "Poniżej dany jest obiekt Data Frame (ten, co zwykle). Kosrzystając z pakietu scikit-learn oraz klast SimpleImputer, uzupełnij braki danych w kolumnie \"size\" najczęściej pojawiającą się wartością. zmiany przypisz na stałe do obiektu df."
      ]
    },
    {
      "cell_type": "code",
      "metadata": {
        "colab": {
          "base_uri": "https://localhost:8080/",
          "height": 225
        },
        "id": "9I845ButMMtw",
        "outputId": "da91225f-5e6b-49d4-fa9b-ca8d87b02590"
      },
      "source": [
        "# Utworzenie imputera:\n",
        "imp_mfreq = SimpleImputer(missing_values = np.NaN, strategy = \"most_frequent\")\n",
        "\n",
        "# Wytrenowanie imputera:\n",
        "imp_mfreq.fit(df[[\"size\"]])\n",
        "\n",
        "# Użycie imputera:\n",
        "df[\"size\"] = imp_mfreq.transform(df[[\"size\"]])\n",
        "df"
      ],
      "execution_count": null,
      "outputs": [
        {
          "output_type": "execute_result",
          "data": {
            "text/html": [
              "<div>\n",
              "<style scoped>\n",
              "    .dataframe tbody tr th:only-of-type {\n",
              "        vertical-align: middle;\n",
              "    }\n",
              "\n",
              "    .dataframe tbody tr th {\n",
              "        vertical-align: top;\n",
              "    }\n",
              "\n",
              "    .dataframe thead th {\n",
              "        text-align: right;\n",
              "    }\n",
              "</style>\n",
              "<table border=\"1\" class=\"dataframe\">\n",
              "  <thead>\n",
              "    <tr style=\"text-align: right;\">\n",
              "      <th></th>\n",
              "      <th>size</th>\n",
              "      <th>color</th>\n",
              "      <th>gender</th>\n",
              "      <th>price</th>\n",
              "      <th>weight</th>\n",
              "      <th>bought</th>\n",
              "    </tr>\n",
              "  </thead>\n",
              "  <tbody>\n",
              "    <tr>\n",
              "      <th>0</th>\n",
              "      <td>XL</td>\n",
              "      <td>red</td>\n",
              "      <td>female</td>\n",
              "      <td>199.0</td>\n",
              "      <td>500.0</td>\n",
              "      <td>yes</td>\n",
              "    </tr>\n",
              "    <tr>\n",
              "      <th>1</th>\n",
              "      <td>L</td>\n",
              "      <td>green</td>\n",
              "      <td>male</td>\n",
              "      <td>89.0</td>\n",
              "      <td>450.0</td>\n",
              "      <td>no</td>\n",
              "    </tr>\n",
              "    <tr>\n",
              "      <th>2</th>\n",
              "      <td>M</td>\n",
              "      <td>blue</td>\n",
              "      <td>NaN</td>\n",
              "      <td>99.0</td>\n",
              "      <td>300.0</td>\n",
              "      <td>yes</td>\n",
              "    </tr>\n",
              "    <tr>\n",
              "      <th>3</th>\n",
              "      <td>M</td>\n",
              "      <td>green</td>\n",
              "      <td>female</td>\n",
              "      <td>129.0</td>\n",
              "      <td>415.0</td>\n",
              "      <td>no</td>\n",
              "    </tr>\n",
              "    <tr>\n",
              "      <th>4</th>\n",
              "      <td>M</td>\n",
              "      <td>red</td>\n",
              "      <td>female</td>\n",
              "      <td>79.0</td>\n",
              "      <td>410.0</td>\n",
              "      <td>yes</td>\n",
              "    </tr>\n",
              "    <tr>\n",
              "      <th>5</th>\n",
              "      <td>M</td>\n",
              "      <td>green</td>\n",
              "      <td>male</td>\n",
              "      <td>89.0</td>\n",
              "      <td>415.0</td>\n",
              "      <td>no</td>\n",
              "    </tr>\n",
              "  </tbody>\n",
              "</table>\n",
              "</div>"
            ],
            "text/plain": [
              "  size  color  gender  price  weight bought\n",
              "0   XL    red  female  199.0   500.0    yes\n",
              "1    L  green    male   89.0   450.0     no\n",
              "2    M   blue     NaN   99.0   300.0    yes\n",
              "3    M  green  female  129.0   415.0     no\n",
              "4    M    red  female   79.0   410.0    yes\n",
              "5    M  green    male   89.0   415.0     no"
            ]
          },
          "metadata": {
            "tags": []
          },
          "execution_count": 224
        }
      ]
    },
    {
      "cell_type": "markdown",
      "metadata": {
        "id": "LuHw9AVgPwFP"
      },
      "source": [
        "# Ćwiczenie 6\n",
        "\n",
        "Dany jest obiekt Data Frame. Wytnij wszystkie wiersze, w których kolumna \"weight\" nie przyjmuje wartości NAN i policz średnią wartość dla kolumn numerycznych."
      ]
    },
    {
      "cell_type": "code",
      "metadata": {
        "colab": {
          "base_uri": "https://localhost:8080/"
        },
        "id": "NHDdP0frO5wF",
        "outputId": "4a5b50ae-544c-43db-9a03-05778d580d63"
      },
      "source": [
        "# Trzeba przywrócić wartość NAN:\n",
        "df[\"weight\"][3] = np.NAN\n",
        "\n",
        "# Wywołanie średnich wszystkich kolumn, w których \"weight\" nie jest nieznana:\n",
        "print(df[~df[\"weight\"].isnull()].mean())"
      ],
      "execution_count": null,
      "outputs": [
        {
          "output_type": "stream",
          "text": [
            "price     111.0\n",
            "weight    415.0\n",
            "dtype: float64\n"
          ],
          "name": "stdout"
        },
        {
          "output_type": "stream",
          "text": [
            "/usr/local/lib/python3.7/dist-packages/ipykernel_launcher.py:2: SettingWithCopyWarning: \n",
            "A value is trying to be set on a copy of a slice from a DataFrame\n",
            "\n",
            "See the caveats in the documentation: https://pandas.pydata.org/pandas-docs/stable/user_guide/indexing.html#returning-a-view-versus-a-copy\n",
            "  \n"
          ],
          "name": "stderr"
        }
      ]
    },
    {
      "cell_type": "markdown",
      "metadata": {
        "id": "z7G9YcoBQxzs"
      },
      "source": [
        "# Ćwiczenie 7\n",
        "\n",
        "Z obiektu Data Frame wydobądź kolumny typu \"object\". Następnie wszystkie braki danych uzupełnij wartością \"empty\". Wynik przypisz do zmiennej df."
      ]
    },
    {
      "cell_type": "code",
      "metadata": {
        "colab": {
          "base_uri": "https://localhost:8080/",
          "height": 225
        },
        "id": "bbelvLCwRHVn",
        "outputId": "a6cd5dfb-35c7-4221-94f2-e34e5363c25b"
      },
      "source": [
        "# Wygenerowanie nowego df ze zmienionymi danymi:\n",
        "df_empty = df.select_dtypes(include = [\"object\"]).fillna(\"empty\")\n",
        "df_empty"
      ],
      "execution_count": null,
      "outputs": [
        {
          "output_type": "execute_result",
          "data": {
            "text/html": [
              "<div>\n",
              "<style scoped>\n",
              "    .dataframe tbody tr th:only-of-type {\n",
              "        vertical-align: middle;\n",
              "    }\n",
              "\n",
              "    .dataframe tbody tr th {\n",
              "        vertical-align: top;\n",
              "    }\n",
              "\n",
              "    .dataframe thead th {\n",
              "        text-align: right;\n",
              "    }\n",
              "</style>\n",
              "<table border=\"1\" class=\"dataframe\">\n",
              "  <thead>\n",
              "    <tr style=\"text-align: right;\">\n",
              "      <th></th>\n",
              "      <th>size</th>\n",
              "      <th>color</th>\n",
              "      <th>gender</th>\n",
              "      <th>bought</th>\n",
              "    </tr>\n",
              "  </thead>\n",
              "  <tbody>\n",
              "    <tr>\n",
              "      <th>0</th>\n",
              "      <td>XL</td>\n",
              "      <td>red</td>\n",
              "      <td>female</td>\n",
              "      <td>yes</td>\n",
              "    </tr>\n",
              "    <tr>\n",
              "      <th>1</th>\n",
              "      <td>L</td>\n",
              "      <td>green</td>\n",
              "      <td>male</td>\n",
              "      <td>no</td>\n",
              "    </tr>\n",
              "    <tr>\n",
              "      <th>2</th>\n",
              "      <td>M</td>\n",
              "      <td>blue</td>\n",
              "      <td>empty</td>\n",
              "      <td>yes</td>\n",
              "    </tr>\n",
              "    <tr>\n",
              "      <th>3</th>\n",
              "      <td>M</td>\n",
              "      <td>green</td>\n",
              "      <td>female</td>\n",
              "      <td>no</td>\n",
              "    </tr>\n",
              "    <tr>\n",
              "      <th>4</th>\n",
              "      <td>M</td>\n",
              "      <td>red</td>\n",
              "      <td>female</td>\n",
              "      <td>yes</td>\n",
              "    </tr>\n",
              "    <tr>\n",
              "      <th>5</th>\n",
              "      <td>M</td>\n",
              "      <td>green</td>\n",
              "      <td>male</td>\n",
              "      <td>no</td>\n",
              "    </tr>\n",
              "  </tbody>\n",
              "</table>\n",
              "</div>"
            ],
            "text/plain": [
              "  size  color  gender bought\n",
              "0   XL    red  female    yes\n",
              "1    L  green    male     no\n",
              "2    M   blue   empty    yes\n",
              "3    M  green  female     no\n",
              "4    M    red  female    yes\n",
              "5    M  green    male     no"
            ]
          },
          "metadata": {
            "tags": []
          },
          "execution_count": 226
        }
      ]
    },
    {
      "cell_type": "markdown",
      "metadata": {
        "id": "dYl1GJl8Uiuo"
      },
      "source": [
        "# Ćwiczenie 8\n",
        "\n",
        "Dany jest obiekt Data Frame (poniżej). Dokonaj dyskretyzacji danych na 3 przedziały o równej szerokości. Przypisz wynik do kolumny o nazwie \"weight_cut\" i wydrukuj obiekt df na konsoli."
      ]
    },
    {
      "cell_type": "code",
      "metadata": {
        "colab": {
          "base_uri": "https://localhost:8080/",
          "height": 254
        },
        "id": "OUzHWiEHTwjF",
        "outputId": "52894064-6c53-49ea-a6d4-9ed70ea8ad1e"
      },
      "source": [
        "# Utworzenie Data Frame:\n",
        "df = pd.DataFrame(data = {'weight' : [75., 78.5, 85., 91., 84.5, 83., 68.]})\n",
        "\n",
        "# Utworzenie przedziałów za pomocą funkcji pd.cut():\n",
        "df['weight_cut'] = pd.cut(df['weight'], bins = 3)\n",
        "df"
      ],
      "execution_count": null,
      "outputs": [
        {
          "output_type": "execute_result",
          "data": {
            "text/html": [
              "<div>\n",
              "<style scoped>\n",
              "    .dataframe tbody tr th:only-of-type {\n",
              "        vertical-align: middle;\n",
              "    }\n",
              "\n",
              "    .dataframe tbody tr th {\n",
              "        vertical-align: top;\n",
              "    }\n",
              "\n",
              "    .dataframe thead th {\n",
              "        text-align: right;\n",
              "    }\n",
              "</style>\n",
              "<table border=\"1\" class=\"dataframe\">\n",
              "  <thead>\n",
              "    <tr style=\"text-align: right;\">\n",
              "      <th></th>\n",
              "      <th>weight</th>\n",
              "      <th>weight_cut</th>\n",
              "    </tr>\n",
              "  </thead>\n",
              "  <tbody>\n",
              "    <tr>\n",
              "      <th>0</th>\n",
              "      <td>75.0</td>\n",
              "      <td>(67.977, 75.667]</td>\n",
              "    </tr>\n",
              "    <tr>\n",
              "      <th>1</th>\n",
              "      <td>78.5</td>\n",
              "      <td>(75.667, 83.333]</td>\n",
              "    </tr>\n",
              "    <tr>\n",
              "      <th>2</th>\n",
              "      <td>85.0</td>\n",
              "      <td>(83.333, 91.0]</td>\n",
              "    </tr>\n",
              "    <tr>\n",
              "      <th>3</th>\n",
              "      <td>91.0</td>\n",
              "      <td>(83.333, 91.0]</td>\n",
              "    </tr>\n",
              "    <tr>\n",
              "      <th>4</th>\n",
              "      <td>84.5</td>\n",
              "      <td>(83.333, 91.0]</td>\n",
              "    </tr>\n",
              "    <tr>\n",
              "      <th>5</th>\n",
              "      <td>83.0</td>\n",
              "      <td>(75.667, 83.333]</td>\n",
              "    </tr>\n",
              "    <tr>\n",
              "      <th>6</th>\n",
              "      <td>68.0</td>\n",
              "      <td>(67.977, 75.667]</td>\n",
              "    </tr>\n",
              "  </tbody>\n",
              "</table>\n",
              "</div>"
            ],
            "text/plain": [
              "   weight        weight_cut\n",
              "0    75.0  (67.977, 75.667]\n",
              "1    78.5  (75.667, 83.333]\n",
              "2    85.0    (83.333, 91.0]\n",
              "3    91.0    (83.333, 91.0]\n",
              "4    84.5    (83.333, 91.0]\n",
              "5    83.0  (75.667, 83.333]\n",
              "6    68.0  (67.977, 75.667]"
            ]
          },
          "metadata": {
            "tags": []
          },
          "execution_count": 227
        }
      ]
    },
    {
      "cell_type": "markdown",
      "metadata": {
        "id": "TdvvX94DVtJK"
      },
      "source": [
        "# Ćwiczenie 9\n",
        "\n",
        "Dany jest obiekt Data Frame (tak, jak w poprzednim zadaniu). Dokonaj dyskretyzacji kolumny \"weight\" na 3 przedziały o zadanej postaci:\n",
        "* (60, 75],\n",
        "* (75, 80],\n",
        "* (80, 95].\n",
        "\n",
        "Wynik przypisz do zmiennej 'weight_cut' i pokaż df."
      ]
    },
    {
      "cell_type": "code",
      "metadata": {
        "colab": {
          "base_uri": "https://localhost:8080/",
          "height": 254
        },
        "id": "Ax4BFNrSVQWd",
        "outputId": "da168029-e3d3-47f6-864f-a342aebb9329"
      },
      "source": [
        "# Utworzenie Data Frame:\n",
        "df = pd.DataFrame(data = {'weight' : [75., 78.5, 85., 91., 84.5, 83., 68.]})\n",
        "\n",
        "# Utworzenie przedziałów za pomocą funkcji pd.cut():\n",
        "df['weight_cut'] = pd.cut(df['weight'], bins = (60, 75, 80, 95))\n",
        "df"
      ],
      "execution_count": null,
      "outputs": [
        {
          "output_type": "execute_result",
          "data": {
            "text/html": [
              "<div>\n",
              "<style scoped>\n",
              "    .dataframe tbody tr th:only-of-type {\n",
              "        vertical-align: middle;\n",
              "    }\n",
              "\n",
              "    .dataframe tbody tr th {\n",
              "        vertical-align: top;\n",
              "    }\n",
              "\n",
              "    .dataframe thead th {\n",
              "        text-align: right;\n",
              "    }\n",
              "</style>\n",
              "<table border=\"1\" class=\"dataframe\">\n",
              "  <thead>\n",
              "    <tr style=\"text-align: right;\">\n",
              "      <th></th>\n",
              "      <th>weight</th>\n",
              "      <th>weight_cut</th>\n",
              "    </tr>\n",
              "  </thead>\n",
              "  <tbody>\n",
              "    <tr>\n",
              "      <th>0</th>\n",
              "      <td>75.0</td>\n",
              "      <td>(60, 75]</td>\n",
              "    </tr>\n",
              "    <tr>\n",
              "      <th>1</th>\n",
              "      <td>78.5</td>\n",
              "      <td>(75, 80]</td>\n",
              "    </tr>\n",
              "    <tr>\n",
              "      <th>2</th>\n",
              "      <td>85.0</td>\n",
              "      <td>(80, 95]</td>\n",
              "    </tr>\n",
              "    <tr>\n",
              "      <th>3</th>\n",
              "      <td>91.0</td>\n",
              "      <td>(80, 95]</td>\n",
              "    </tr>\n",
              "    <tr>\n",
              "      <th>4</th>\n",
              "      <td>84.5</td>\n",
              "      <td>(80, 95]</td>\n",
              "    </tr>\n",
              "    <tr>\n",
              "      <th>5</th>\n",
              "      <td>83.0</td>\n",
              "      <td>(80, 95]</td>\n",
              "    </tr>\n",
              "    <tr>\n",
              "      <th>6</th>\n",
              "      <td>68.0</td>\n",
              "      <td>(60, 75]</td>\n",
              "    </tr>\n",
              "  </tbody>\n",
              "</table>\n",
              "</div>"
            ],
            "text/plain": [
              "   weight weight_cut\n",
              "0    75.0   (60, 75]\n",
              "1    78.5   (75, 80]\n",
              "2    85.0   (80, 95]\n",
              "3    91.0   (80, 95]\n",
              "4    84.5   (80, 95]\n",
              "5    83.0   (80, 95]\n",
              "6    68.0   (60, 75]"
            ]
          },
          "metadata": {
            "tags": []
          },
          "execution_count": 228
        }
      ]
    },
    {
      "cell_type": "markdown",
      "metadata": {
        "id": "tAK8Zs0qWecQ"
      },
      "source": [
        "# Ćwiczenie 10\n",
        "\n",
        "Dany jest znów ten sam Data Frame. Tym razem dokonaj dyskretyzacji kolumny na te same przedziały, ale dodaj im etykietkę: light, medium, heavy."
      ]
    },
    {
      "cell_type": "code",
      "metadata": {
        "colab": {
          "base_uri": "https://localhost:8080/",
          "height": 254
        },
        "id": "irzRiAWeWXPs",
        "outputId": "9d76eebe-90f2-40c3-d664-75999b962f1d"
      },
      "source": [
        "# Utworzenie Data Frame:\n",
        "df = pd.DataFrame(data = {'weight' : [75., 78.5, 85., 91., 84.5, 83., 68.]})\n",
        "\n",
        "# Utworzenie przedziałów za pomocą funkcji pd.cut():\n",
        "df['weight_cut'] = pd.cut(df['weight'], bins = (60, 75, 80, 95), labels = (\"light\", \"medium\", \"heavy\"))\n",
        "df"
      ],
      "execution_count": null,
      "outputs": [
        {
          "output_type": "execute_result",
          "data": {
            "text/html": [
              "<div>\n",
              "<style scoped>\n",
              "    .dataframe tbody tr th:only-of-type {\n",
              "        vertical-align: middle;\n",
              "    }\n",
              "\n",
              "    .dataframe tbody tr th {\n",
              "        vertical-align: top;\n",
              "    }\n",
              "\n",
              "    .dataframe thead th {\n",
              "        text-align: right;\n",
              "    }\n",
              "</style>\n",
              "<table border=\"1\" class=\"dataframe\">\n",
              "  <thead>\n",
              "    <tr style=\"text-align: right;\">\n",
              "      <th></th>\n",
              "      <th>weight</th>\n",
              "      <th>weight_cut</th>\n",
              "    </tr>\n",
              "  </thead>\n",
              "  <tbody>\n",
              "    <tr>\n",
              "      <th>0</th>\n",
              "      <td>75.0</td>\n",
              "      <td>light</td>\n",
              "    </tr>\n",
              "    <tr>\n",
              "      <th>1</th>\n",
              "      <td>78.5</td>\n",
              "      <td>medium</td>\n",
              "    </tr>\n",
              "    <tr>\n",
              "      <th>2</th>\n",
              "      <td>85.0</td>\n",
              "      <td>heavy</td>\n",
              "    </tr>\n",
              "    <tr>\n",
              "      <th>3</th>\n",
              "      <td>91.0</td>\n",
              "      <td>heavy</td>\n",
              "    </tr>\n",
              "    <tr>\n",
              "      <th>4</th>\n",
              "      <td>84.5</td>\n",
              "      <td>heavy</td>\n",
              "    </tr>\n",
              "    <tr>\n",
              "      <th>5</th>\n",
              "      <td>83.0</td>\n",
              "      <td>heavy</td>\n",
              "    </tr>\n",
              "    <tr>\n",
              "      <th>6</th>\n",
              "      <td>68.0</td>\n",
              "      <td>light</td>\n",
              "    </tr>\n",
              "  </tbody>\n",
              "</table>\n",
              "</div>"
            ],
            "text/plain": [
              "   weight weight_cut\n",
              "0    75.0      light\n",
              "1    78.5     medium\n",
              "2    85.0      heavy\n",
              "3    91.0      heavy\n",
              "4    84.5      heavy\n",
              "5    83.0      heavy\n",
              "6    68.0      light"
            ]
          },
          "metadata": {
            "tags": []
          },
          "execution_count": 229
        }
      ]
    },
    {
      "cell_type": "markdown",
      "metadata": {
        "id": "gDyposqVXCUn"
      },
      "source": [
        "# Ćwiczenie 11\n",
        "\n",
        "Dany jest obiekt Data Frame z poprzedniego zadania. Dokonaj kodowania kategorii wagowych za pomocą funkcji pd.get_dummies()."
      ]
    },
    {
      "cell_type": "code",
      "metadata": {
        "colab": {
          "base_uri": "https://localhost:8080/",
          "height": 254
        },
        "id": "f4PwwaaRW5ZA",
        "outputId": "f315b0ee-ad85-4250-cdd9-b4406f1e53c2"
      },
      "source": [
        "df = pd.get_dummies(df)\n",
        "df"
      ],
      "execution_count": null,
      "outputs": [
        {
          "output_type": "execute_result",
          "data": {
            "text/html": [
              "<div>\n",
              "<style scoped>\n",
              "    .dataframe tbody tr th:only-of-type {\n",
              "        vertical-align: middle;\n",
              "    }\n",
              "\n",
              "    .dataframe tbody tr th {\n",
              "        vertical-align: top;\n",
              "    }\n",
              "\n",
              "    .dataframe thead th {\n",
              "        text-align: right;\n",
              "    }\n",
              "</style>\n",
              "<table border=\"1\" class=\"dataframe\">\n",
              "  <thead>\n",
              "    <tr style=\"text-align: right;\">\n",
              "      <th></th>\n",
              "      <th>weight</th>\n",
              "      <th>weight_cut_light</th>\n",
              "      <th>weight_cut_medium</th>\n",
              "      <th>weight_cut_heavy</th>\n",
              "    </tr>\n",
              "  </thead>\n",
              "  <tbody>\n",
              "    <tr>\n",
              "      <th>0</th>\n",
              "      <td>75.0</td>\n",
              "      <td>1</td>\n",
              "      <td>0</td>\n",
              "      <td>0</td>\n",
              "    </tr>\n",
              "    <tr>\n",
              "      <th>1</th>\n",
              "      <td>78.5</td>\n",
              "      <td>0</td>\n",
              "      <td>1</td>\n",
              "      <td>0</td>\n",
              "    </tr>\n",
              "    <tr>\n",
              "      <th>2</th>\n",
              "      <td>85.0</td>\n",
              "      <td>0</td>\n",
              "      <td>0</td>\n",
              "      <td>1</td>\n",
              "    </tr>\n",
              "    <tr>\n",
              "      <th>3</th>\n",
              "      <td>91.0</td>\n",
              "      <td>0</td>\n",
              "      <td>0</td>\n",
              "      <td>1</td>\n",
              "    </tr>\n",
              "    <tr>\n",
              "      <th>4</th>\n",
              "      <td>84.5</td>\n",
              "      <td>0</td>\n",
              "      <td>0</td>\n",
              "      <td>1</td>\n",
              "    </tr>\n",
              "    <tr>\n",
              "      <th>5</th>\n",
              "      <td>83.0</td>\n",
              "      <td>0</td>\n",
              "      <td>0</td>\n",
              "      <td>1</td>\n",
              "    </tr>\n",
              "    <tr>\n",
              "      <th>6</th>\n",
              "      <td>68.0</td>\n",
              "      <td>1</td>\n",
              "      <td>0</td>\n",
              "      <td>0</td>\n",
              "    </tr>\n",
              "  </tbody>\n",
              "</table>\n",
              "</div>"
            ],
            "text/plain": [
              "   weight  weight_cut_light  weight_cut_medium  weight_cut_heavy\n",
              "0    75.0                 1                  0                 0\n",
              "1    78.5                 0                  1                 0\n",
              "2    85.0                 0                  0                 1\n",
              "3    91.0                 0                  0                 1\n",
              "4    84.5                 0                  0                 1\n",
              "5    83.0                 0                  0                 1\n",
              "6    68.0                 1                  0                 0"
            ]
          },
          "metadata": {
            "tags": []
          },
          "execution_count": 230
        }
      ]
    },
    {
      "cell_type": "markdown",
      "metadata": {
        "id": "tXyx3lAoYBgx"
      },
      "source": [
        "# Ćwiczenie 12\n",
        "\n",
        "Dany jest obiekt Data Frame. Do obiektu przypisz nową kolumnę o nazwie \"number\", która przyjmie liczbę elementów listy w kolumnie \"currency\"."
      ]
    },
    {
      "cell_type": "code",
      "metadata": {
        "colab": {
          "base_uri": "https://localhost:8080/",
          "height": 195
        },
        "id": "d953dnaNXKnM",
        "outputId": "9108405e-c5fc-4042-aeab-ad2b9d93c3f2"
      },
      "source": [
        "# Utworzenie obiektu Data Frame:\n",
        "dane = {'currency': [['PLN', 'USD'], ['EUR', 'USD', 'PLN', 'CAD'], ['GBP'], ['JPY', 'CZK', 'HUF'], []]}\n",
        "df = pd.DataFrame(dane)\n",
        "\n",
        "# Utworzenie nowej kategorii\n",
        "# Liczbę elementów w poszczególnyvh komórkach określimy za pomocą apply(len):\n",
        "df[\"number\"] = df['currency'].apply(len)\n",
        "df"
      ],
      "execution_count": null,
      "outputs": [
        {
          "output_type": "execute_result",
          "data": {
            "text/html": [
              "<div>\n",
              "<style scoped>\n",
              "    .dataframe tbody tr th:only-of-type {\n",
              "        vertical-align: middle;\n",
              "    }\n",
              "\n",
              "    .dataframe tbody tr th {\n",
              "        vertical-align: top;\n",
              "    }\n",
              "\n",
              "    .dataframe thead th {\n",
              "        text-align: right;\n",
              "    }\n",
              "</style>\n",
              "<table border=\"1\" class=\"dataframe\">\n",
              "  <thead>\n",
              "    <tr style=\"text-align: right;\">\n",
              "      <th></th>\n",
              "      <th>currency</th>\n",
              "      <th>number</th>\n",
              "    </tr>\n",
              "  </thead>\n",
              "  <tbody>\n",
              "    <tr>\n",
              "      <th>0</th>\n",
              "      <td>[PLN, USD]</td>\n",
              "      <td>2</td>\n",
              "    </tr>\n",
              "    <tr>\n",
              "      <th>1</th>\n",
              "      <td>[EUR, USD, PLN, CAD]</td>\n",
              "      <td>4</td>\n",
              "    </tr>\n",
              "    <tr>\n",
              "      <th>2</th>\n",
              "      <td>[GBP]</td>\n",
              "      <td>1</td>\n",
              "    </tr>\n",
              "    <tr>\n",
              "      <th>3</th>\n",
              "      <td>[JPY, CZK, HUF]</td>\n",
              "      <td>3</td>\n",
              "    </tr>\n",
              "    <tr>\n",
              "      <th>4</th>\n",
              "      <td>[]</td>\n",
              "      <td>0</td>\n",
              "    </tr>\n",
              "  </tbody>\n",
              "</table>\n",
              "</div>"
            ],
            "text/plain": [
              "               currency  number\n",
              "0            [PLN, USD]       2\n",
              "1  [EUR, USD, PLN, CAD]       4\n",
              "2                 [GBP]       1\n",
              "3       [JPY, CZK, HUF]       3\n",
              "4                    []       0"
            ]
          },
          "metadata": {
            "tags": []
          },
          "execution_count": 231
        }
      ]
    },
    {
      "cell_type": "markdown",
      "metadata": {
        "id": "de_yhxK0ZUH7"
      },
      "source": [
        "# Ćwiczenie 13\n",
        "\n",
        "Dany jest obiekt Data Frame (jak w poprzednim zadaniu). Dodaj nową kolumnę o nazwie \"PLN_flag\", która zwróci wartość 1, jeśli wśród walud znajdzie się złoty lub 0, jeśli nie będzie go tam."
      ]
    },
    {
      "cell_type": "code",
      "metadata": {
        "colab": {
          "base_uri": "https://localhost:8080/",
          "height": 195
        },
        "id": "sP1teBpAYhOT",
        "outputId": "4da5748e-7971-4557-fec1-f1b76927f637"
      },
      "source": [
        "# Składnia: .apply(lambda obszar, w którym szukamy: 1 jeśli 'PLN' jest w tym obszarze jeśli nie to 0)\n",
        "df['PLN_flag'] = df['currency'].apply(lambda item: 1 if 'PLN' in item else 0)\n",
        "df"
      ],
      "execution_count": null,
      "outputs": [
        {
          "output_type": "execute_result",
          "data": {
            "text/html": [
              "<div>\n",
              "<style scoped>\n",
              "    .dataframe tbody tr th:only-of-type {\n",
              "        vertical-align: middle;\n",
              "    }\n",
              "\n",
              "    .dataframe tbody tr th {\n",
              "        vertical-align: top;\n",
              "    }\n",
              "\n",
              "    .dataframe thead th {\n",
              "        text-align: right;\n",
              "    }\n",
              "</style>\n",
              "<table border=\"1\" class=\"dataframe\">\n",
              "  <thead>\n",
              "    <tr style=\"text-align: right;\">\n",
              "      <th></th>\n",
              "      <th>currency</th>\n",
              "      <th>number</th>\n",
              "      <th>PLN_flag</th>\n",
              "    </tr>\n",
              "  </thead>\n",
              "  <tbody>\n",
              "    <tr>\n",
              "      <th>0</th>\n",
              "      <td>[PLN, USD]</td>\n",
              "      <td>2</td>\n",
              "      <td>1</td>\n",
              "    </tr>\n",
              "    <tr>\n",
              "      <th>1</th>\n",
              "      <td>[EUR, USD, PLN, CAD]</td>\n",
              "      <td>4</td>\n",
              "      <td>1</td>\n",
              "    </tr>\n",
              "    <tr>\n",
              "      <th>2</th>\n",
              "      <td>[GBP]</td>\n",
              "      <td>1</td>\n",
              "      <td>0</td>\n",
              "    </tr>\n",
              "    <tr>\n",
              "      <th>3</th>\n",
              "      <td>[JPY, CZK, HUF]</td>\n",
              "      <td>3</td>\n",
              "      <td>0</td>\n",
              "    </tr>\n",
              "    <tr>\n",
              "      <th>4</th>\n",
              "      <td>[]</td>\n",
              "      <td>0</td>\n",
              "      <td>0</td>\n",
              "    </tr>\n",
              "  </tbody>\n",
              "</table>\n",
              "</div>"
            ],
            "text/plain": [
              "               currency  number  PLN_flag\n",
              "0            [PLN, USD]       2         1\n",
              "1  [EUR, USD, PLN, CAD]       4         1\n",
              "2                 [GBP]       1         0\n",
              "3       [JPY, CZK, HUF]       3         0\n",
              "4                    []       0         0"
            ]
          },
          "metadata": {
            "tags": []
          },
          "execution_count": 232
        }
      ]
    },
    {
      "cell_type": "markdown",
      "metadata": {
        "id": "SLtq7IldaaE4"
      },
      "source": [
        "# Ćwiczenie 14\n",
        "\n",
        "Dany jest zestaw danych (poniżej). Podziel wartości kolumny względem znaku \"#\" używając pd.Series.str.split() z argumentem \"expand = True\". Otrzymasz cztery kolumny. Pierwsza będzie zawierała puste stringi. Usuń ją. Następnie przypisz nazwy kolumn: 'hashtag1', 'hashtag2', 'hashtag3'."
      ]
    },
    {
      "cell_type": "code",
      "metadata": {
        "colab": {
          "base_uri": "https://localhost:8080/",
          "height": 166
        },
        "id": "jpNYk-swaMoh",
        "outputId": "fffc923b-0f3b-402b-b514-04db84e21497"
      },
      "source": [
        "# Dane:\n",
        "data={'hashtags': ['#good#vibes', '#hot#summer#holiday', '#street#food', '#workout']}\n",
        "\n",
        "# Tworzenie DataFrame:\n",
        "df = pd.DataFrame(data)\n",
        "\n",
        "# Dzielenie wyrazów na hashtagi:\n",
        "df = df['hashtags'].str.split('#', expand = True)\n",
        "\n",
        "# Usuwanie pierwszej kolumny:\n",
        "df = df.drop(columns = [0])\n",
        "\n",
        "# Przypisz kolumnom nazwy:\n",
        "df.columns = ['hashtag 1', 'hashtag 2', 'hashtag 3']\n",
        "df"
      ],
      "execution_count": null,
      "outputs": [
        {
          "output_type": "execute_result",
          "data": {
            "text/html": [
              "<div>\n",
              "<style scoped>\n",
              "    .dataframe tbody tr th:only-of-type {\n",
              "        vertical-align: middle;\n",
              "    }\n",
              "\n",
              "    .dataframe tbody tr th {\n",
              "        vertical-align: top;\n",
              "    }\n",
              "\n",
              "    .dataframe thead th {\n",
              "        text-align: right;\n",
              "    }\n",
              "</style>\n",
              "<table border=\"1\" class=\"dataframe\">\n",
              "  <thead>\n",
              "    <tr style=\"text-align: right;\">\n",
              "      <th></th>\n",
              "      <th>hashtag 1</th>\n",
              "      <th>hashtag 2</th>\n",
              "      <th>hashtag 3</th>\n",
              "    </tr>\n",
              "  </thead>\n",
              "  <tbody>\n",
              "    <tr>\n",
              "      <th>0</th>\n",
              "      <td>good</td>\n",
              "      <td>vibes</td>\n",
              "      <td>None</td>\n",
              "    </tr>\n",
              "    <tr>\n",
              "      <th>1</th>\n",
              "      <td>hot</td>\n",
              "      <td>summer</td>\n",
              "      <td>holiday</td>\n",
              "    </tr>\n",
              "    <tr>\n",
              "      <th>2</th>\n",
              "      <td>street</td>\n",
              "      <td>food</td>\n",
              "      <td>None</td>\n",
              "    </tr>\n",
              "    <tr>\n",
              "      <th>3</th>\n",
              "      <td>workout</td>\n",
              "      <td>None</td>\n",
              "      <td>None</td>\n",
              "    </tr>\n",
              "  </tbody>\n",
              "</table>\n",
              "</div>"
            ],
            "text/plain": [
              "  hashtag 1 hashtag 2 hashtag 3\n",
              "0      good     vibes      None\n",
              "1       hot    summer   holiday\n",
              "2    street      food      None\n",
              "3   workout      None      None"
            ]
          },
          "metadata": {
            "tags": []
          },
          "execution_count": 233
        }
      ]
    },
    {
      "cell_type": "markdown",
      "metadata": {
        "id": "JZvgVYpoddsD"
      },
      "source": [
        "# Ćwiczenie 15\n",
        "\n",
        "Do obiektu df z poprzedniego zadania dopisz kolumnę 'missing', która policzy puste pola w każdym wierszu.# "
      ]
    },
    {
      "cell_type": "code",
      "metadata": {
        "colab": {
          "base_uri": "https://localhost:8080/",
          "height": 166
        },
        "id": "Y7IPMTm7bCbi",
        "outputId": "2fadbb76-8026-44aa-cb03-bd4103f9b7ab"
      },
      "source": [
        "# Funkcja, która liczy wszystkie puste kolumny w wierszu. Dodanie nowej kolumny z wynikiem liczenia.\n",
        "df['missing'] = df.isnull().sum(axis = 1)\n",
        "df"
      ],
      "execution_count": null,
      "outputs": [
        {
          "output_type": "execute_result",
          "data": {
            "text/html": [
              "<div>\n",
              "<style scoped>\n",
              "    .dataframe tbody tr th:only-of-type {\n",
              "        vertical-align: middle;\n",
              "    }\n",
              "\n",
              "    .dataframe tbody tr th {\n",
              "        vertical-align: top;\n",
              "    }\n",
              "\n",
              "    .dataframe thead th {\n",
              "        text-align: right;\n",
              "    }\n",
              "</style>\n",
              "<table border=\"1\" class=\"dataframe\">\n",
              "  <thead>\n",
              "    <tr style=\"text-align: right;\">\n",
              "      <th></th>\n",
              "      <th>hashtag 1</th>\n",
              "      <th>hashtag 2</th>\n",
              "      <th>hashtag 3</th>\n",
              "      <th>missing</th>\n",
              "    </tr>\n",
              "  </thead>\n",
              "  <tbody>\n",
              "    <tr>\n",
              "      <th>0</th>\n",
              "      <td>good</td>\n",
              "      <td>vibes</td>\n",
              "      <td>None</td>\n",
              "      <td>1</td>\n",
              "    </tr>\n",
              "    <tr>\n",
              "      <th>1</th>\n",
              "      <td>hot</td>\n",
              "      <td>summer</td>\n",
              "      <td>holiday</td>\n",
              "      <td>0</td>\n",
              "    </tr>\n",
              "    <tr>\n",
              "      <th>2</th>\n",
              "      <td>street</td>\n",
              "      <td>food</td>\n",
              "      <td>None</td>\n",
              "      <td>1</td>\n",
              "    </tr>\n",
              "    <tr>\n",
              "      <th>3</th>\n",
              "      <td>workout</td>\n",
              "      <td>None</td>\n",
              "      <td>None</td>\n",
              "      <td>2</td>\n",
              "    </tr>\n",
              "  </tbody>\n",
              "</table>\n",
              "</div>"
            ],
            "text/plain": [
              "  hashtag 1 hashtag 2 hashtag 3  missing\n",
              "0      good     vibes      None        1\n",
              "1       hot    summer   holiday        0\n",
              "2    street      food      None        1\n",
              "3   workout      None      None        2"
            ]
          },
          "metadata": {
            "tags": []
          },
          "execution_count": 234
        }
      ]
    },
    {
      "cell_type": "markdown",
      "metadata": {
        "id": "dH7FKhRxecR2"
      },
      "source": [
        "# Ćwiczenie 16\n",
        "\n",
        "Dany jest zestaw danych (poniżej). Przekształć wartości w kolumnach na liczby (int)."
      ]
    },
    {
      "cell_type": "code",
      "metadata": {
        "colab": {
          "base_uri": "https://localhost:8080/",
          "height": 166
        },
        "id": "hYGjiMBndr6m",
        "outputId": "620b1db4-09e4-434e-fde6-51a335c8d968"
      },
      "source": [
        "# Dane:\n",
        "df = pd.DataFrame(data={'investments': ['100_000_000', '100_000', '30_000_000', '100_500_000']})\n",
        "\n",
        "# Przekształcenie. Zamieniamy znak '_' na '' i zmieniamy format na int:\n",
        "df['investments'] = df['investments'].str.replace(\"-\", \"\").astype(int)\n",
        "df"
      ],
      "execution_count": null,
      "outputs": [
        {
          "output_type": "execute_result",
          "data": {
            "text/html": [
              "<div>\n",
              "<style scoped>\n",
              "    .dataframe tbody tr th:only-of-type {\n",
              "        vertical-align: middle;\n",
              "    }\n",
              "\n",
              "    .dataframe tbody tr th {\n",
              "        vertical-align: top;\n",
              "    }\n",
              "\n",
              "    .dataframe thead th {\n",
              "        text-align: right;\n",
              "    }\n",
              "</style>\n",
              "<table border=\"1\" class=\"dataframe\">\n",
              "  <thead>\n",
              "    <tr style=\"text-align: right;\">\n",
              "      <th></th>\n",
              "      <th>investments</th>\n",
              "    </tr>\n",
              "  </thead>\n",
              "  <tbody>\n",
              "    <tr>\n",
              "      <th>0</th>\n",
              "      <td>100000000</td>\n",
              "    </tr>\n",
              "    <tr>\n",
              "      <th>1</th>\n",
              "      <td>100000</td>\n",
              "    </tr>\n",
              "    <tr>\n",
              "      <th>2</th>\n",
              "      <td>30000000</td>\n",
              "    </tr>\n",
              "    <tr>\n",
              "      <th>3</th>\n",
              "      <td>100500000</td>\n",
              "    </tr>\n",
              "  </tbody>\n",
              "</table>\n",
              "</div>"
            ],
            "text/plain": [
              "   investments\n",
              "0    100000000\n",
              "1       100000\n",
              "2     30000000\n",
              "3    100500000"
            ]
          },
          "metadata": {
            "tags": []
          },
          "execution_count": 235
        }
      ]
    },
    {
      "cell_type": "markdown",
      "metadata": {
        "id": "QQ_S13iqgAiT"
      },
      "source": [
        "# Ćwiczenie 17\n",
        "\n",
        "Załaduj zbiór danych IRIS do zmiennej data, wykorzystując funkcję load_iris() z pakietu scikit-learn. Wyświetl wszystkie klucze zmiennej data."
      ]
    },
    {
      "cell_type": "code",
      "metadata": {
        "colab": {
          "base_uri": "https://localhost:8080/"
        },
        "id": "rjUbGlZUemnV",
        "outputId": "aff49bbb-a0d6-41eb-aaa6-fc787fe02288"
      },
      "source": [
        "# Pobranie danych:\n",
        "data = load_iris()\n",
        "\n",
        "# Wyświetlenie kluczy:\n",
        "data.keys()"
      ],
      "execution_count": null,
      "outputs": [
        {
          "output_type": "execute_result",
          "data": {
            "text/plain": [
              "dict_keys(['data', 'target', 'target_names', 'DESCR', 'feature_names', 'filename'])"
            ]
          },
          "metadata": {
            "tags": []
          },
          "execution_count": 236
        }
      ]
    },
    {
      "cell_type": "markdown",
      "metadata": {
        "id": "yhmHuIQ6hB4C"
      },
      "source": [
        "# Ćwiczenie 18\n",
        "\n",
        "Wyświetl nazwy zmiennych 'feature_names' oraz nazwy klas 'target_names' w załadowanym zestawie danych.\n"
      ]
    },
    {
      "cell_type": "code",
      "metadata": {
        "colab": {
          "base_uri": "https://localhost:8080/"
        },
        "id": "F-d4JX1pgPlR",
        "outputId": "fb206b4b-2e85-4416-a617-c1e7bcc6abf9"
      },
      "source": [
        "print(data[\"feature_names\"])\n",
        "print(data[\"target_names\"])"
      ],
      "execution_count": null,
      "outputs": [
        {
          "output_type": "stream",
          "text": [
            "['sepal length (cm)', 'sepal width (cm)', 'petal length (cm)', 'petal width (cm)']\n",
            "['setosa' 'versicolor' 'virginica']\n"
          ],
          "name": "stdout"
        }
      ]
    },
    {
      "cell_type": "markdown",
      "metadata": {
        "id": "REhbdH8KiADp"
      },
      "source": [
        "# Ćwiczenie 19\n",
        "\n",
        "Do zmiennej \"data_raw\" przypisano załadowane dane z setu \"IRIS\". Do zmiennej \"data\" przypisz dane ze zbioru IRIS (klucz: \"data\"). Do zmiennej \"target\" przypisz wartości zmiennej docelowej (\"target\") zw zbioru IRIS."
      ]
    },
    {
      "cell_type": "code",
      "metadata": {
        "colab": {
          "base_uri": "https://localhost:8080/"
        },
        "id": "dd--ULWwhStL",
        "outputId": "96d00f42-3a40-45a3-e5c2-2aefd3288f53"
      },
      "source": [
        "# Załadowanie danych:\n",
        "data_raw = load_iris()\n",
        "\n",
        "# Zdefiniowanie zmiennych:\n",
        "data = data_raw[\"data\"]\n",
        "target = data_raw[\"target\"]\n",
        "\n",
        "# Rozmiaty arrays z danymi:\n",
        "print(data.shape)\n",
        "print(target.shape)"
      ],
      "execution_count": null,
      "outputs": [
        {
          "output_type": "stream",
          "text": [
            "(150, 4)\n",
            "(150,)\n"
          ],
          "name": "stdout"
        }
      ]
    },
    {
      "cell_type": "markdown",
      "metadata": {
        "id": "ebAVY-dVjGj5"
      },
      "source": [
        "# Ćwiczenie 20\n",
        "\n",
        "Z wyodrębnionych w poprzednim ćwiczeniu tablic: \"data\" oraz \"target\", podziel je na zbiory uczące i testowe: data_uczący, data_testowy, target_uczący, target_testowy. (Za pomocą funkcji train_test_split()). Ustal rozmiar zbiotu testowego na 30 %. Wyświetl rozmiary zbiorów."
      ]
    },
    {
      "cell_type": "code",
      "metadata": {
        "colab": {
          "base_uri": "https://localhost:8080/"
        },
        "id": "b7eIxFE9ihTi",
        "outputId": "f135c81b-4256-4fdb-d1a4-53a3c3f89da5"
      },
      "source": [
        "# Podział na zbiory uczący i testowy:\n",
        "data_uczący, data_testowy, target_uczący, target_testowy = train_test_split(data, target, test_size = 0.3, random_state = 2020)\n",
        "\n",
        "# Rozmiary zbiorów:\n",
        "print(\"Rozmiary zbiorów: data_uczący: \", data_uczący.shape,\n",
        "      \", data_testowy: \", data_testowy.shape, \"\\n\"\n",
        "      \"target_uczący: \", target_uczący.shape,\n",
        "      \", target_testowy: \", target_testowy.shape)"
      ],
      "execution_count": null,
      "outputs": [
        {
          "output_type": "stream",
          "text": [
            "Rozmiary zbiorów: data_uczący:  (105, 4) , data_testowy:  (45, 4) \n",
            "target_uczący:  (105,) , target_testowy:  (45,)\n"
          ],
          "name": "stdout"
        }
      ]
    },
    {
      "cell_type": "markdown",
      "metadata": {
        "id": "hu3Etkm_mRhi"
      },
      "source": [
        "# Ćwiczenie 21\n",
        "\n",
        "Z wykorzystaniem zbiorów z poprzedniego zadania, zbuduj model regresji logistycznej (ustaw jako argument \"max_iter\" = 1000), wykorzystując pakiet scikit-learn.\n",
        "\n",
        "Model wytrenuj na danych uczących i sprawdź na danych testowych. W odpowiedzi pokaż dokładność modelu na zbiorze testowym. Powinno wyjść 0.9333."
      ]
    },
    {
      "cell_type": "code",
      "metadata": {
        "colab": {
          "base_uri": "https://localhost:8080/"
        },
        "id": "gIHsB6a5ktLQ",
        "outputId": "f56905c0-83e0-42f0-86f8-2ef4e6af6796"
      },
      "source": [
        "# Budujemy model do przewidywania gatunku irysa na podstawie wymiarów liścia i łodygi.\n",
        "# Definiowanie modelu regresji logistycznej:\n",
        "model = LogisticRegression(max_iter = 1000)         # reszta parametrów pozostaje domyślna\n",
        "\n",
        "# Wytrenowanie modelu na zbiorze uczącym:\n",
        "model.fit(data_uczący, target_uczący)\n",
        "\n",
        "# Zastosowanie modelu na zbiorze testowym i wyznaczenie współczynnika accuracy:\n",
        "acc = model.score(data_testowy, target_testowy)\n",
        "print(round(acc, 4))"
      ],
      "execution_count": null,
      "outputs": [
        {
          "output_type": "stream",
          "text": [
            "0.9111\n"
          ],
          "name": "stdout"
        }
      ]
    },
    {
      "cell_type": "markdown",
      "metadata": {
        "id": "Q5WE4h7SomIA"
      },
      "source": [
        "# Ćwiczenie 22\n",
        "\n",
        "Zbudowałeś i wytrenowałeś model regresji logistycznej. Teraz za pomocą tego modelu, dokonaj predykcji danych testowych i przypisz je do zmiennej \"target_pred\". Wyświetl tę zmienną."
      ]
    },
    {
      "cell_type": "code",
      "metadata": {
        "colab": {
          "base_uri": "https://localhost:8080/"
        },
        "id": "WclI3m2YoTSe",
        "outputId": "48286348-936c-4182-a42c-1b718b84b303"
      },
      "source": [
        "# Nasz model teraz przewidzi gatunek kwiatów na podstawie dantych i tego, czego nauczył się na zbiorach uczących.\n",
        "# Predykcja wartości paramterów \"target\"\n",
        "target_pred = model.predict(data_testowy)\n",
        "print(target_testowy)\n",
        "print(target_pred)\n",
        "\n",
        "for i in target_pred:\n",
        "  print(target_pred[i] == target_testowy[i], end = \" \")\n",
        "\n",
        "# Wynika z tego, że nasz algorytm nie pomylił się ani razu przewidując gatunek irysa :-)"
      ],
      "execution_count": null,
      "outputs": [
        {
          "output_type": "stream",
          "text": [
            "[2 0 1 1 1 2 2 1 0 0 2 2 0 2 2 0 1 1 2 0 0 2 1 0 2 1 1 1 0 0 2 0 0 0 2 0 0\n",
            " 1 0 2 0 2 1 0 1]\n",
            "[2 0 1 1 1 1 2 1 0 0 2 1 0 2 2 0 1 1 2 0 0 2 2 0 2 1 1 2 0 0 2 0 0 0 2 0 0\n",
            " 1 0 2 0 2 1 0 1]\n",
            "True True True True True True True True True True True True True True True True True True True True True True True True True True True True True True True True True True True True True True True True True True True True True "
          ],
          "name": "stdout"
        }
      ]
    },
    {
      "cell_type": "markdown",
      "metadata": {
        "id": "uTt8NI_IqU1t"
      },
      "source": [
        "# Ćwiczenie 23\n",
        "\n",
        "Utwórz macierz pomyłek (confusion matrix) zastosowanego modelu."
      ]
    },
    {
      "cell_type": "code",
      "metadata": {
        "colab": {
          "base_uri": "https://localhost:8080/"
        },
        "id": "MiBk8aXEpYds",
        "outputId": "9d905be8-9b30-442f-e7a1-25f29f4bc152"
      },
      "source": [
        "# Macierz pomyłek:\n",
        "confusion_matrix(target_testowy, target_pred)"
      ],
      "execution_count": null,
      "outputs": [
        {
          "output_type": "execute_result",
          "data": {
            "text/plain": [
              "array([[18,  0,  0],\n",
              "       [ 0, 11,  2],\n",
              "       [ 0,  2, 12]])"
            ]
          },
          "metadata": {
            "tags": []
          },
          "execution_count": 242
        }
      ]
    },
    {
      "cell_type": "markdown",
      "metadata": {
        "id": "aYnyMAQgrIsF"
      },
      "source": [
        "# Ćwiczenie 24\n",
        "\n",
        "Wyświetl raport klasyfikacji tego modelu wykorzystując funkcję classification_report() z pakietu scikit-learn."
      ]
    },
    {
      "cell_type": "code",
      "metadata": {
        "colab": {
          "base_uri": "https://localhost:8080/",
          "height": 69
        },
        "id": "LPUE2pe9qoyw",
        "outputId": "5af931a6-bf2c-4d30-e653-cc63f3b2d5ba"
      },
      "source": [
        "# Wyświetlenie raportu:\n",
        "classification_report(target_testowy, target_pred)"
      ],
      "execution_count": null,
      "outputs": [
        {
          "output_type": "execute_result",
          "data": {
            "application/vnd.google.colaboratory.intrinsic+json": {
              "type": "string"
            },
            "text/plain": [
              "'              precision    recall  f1-score   support\\n\\n           0       1.00      1.00      1.00        18\\n           1       0.85      0.85      0.85        13\\n           2       0.86      0.86      0.86        14\\n\\n    accuracy                           0.91        45\\n   macro avg       0.90      0.90      0.90        45\\nweighted avg       0.91      0.91      0.91        45\\n'"
            ]
          },
          "metadata": {
            "tags": []
          },
          "execution_count": 243
        }
      ]
    },
    {
      "cell_type": "markdown",
      "metadata": {
        "id": "BOiNQsSjuBXu"
      },
      "source": [
        "# Ćwiczenie 25\n",
        "\n",
        "Dany jest obiekt Data Frame (poniżej). Wykorzystując klasę \"LabelEncoder\" z pakietu scikit-learn dokonaj kodowania 0-1 kolumny \"bought\". Przypisz zmiany do zmiennej df."
      ]
    },
    {
      "cell_type": "code",
      "metadata": {
        "colab": {
          "base_uri": "https://localhost:8080/",
          "height": 195
        },
        "id": "lb6co5JarXds",
        "outputId": "5715004b-e648-4de3-ac92-8394d378cd8a"
      },
      "source": [
        "# Dane:\n",
        "data = {'size': ['XL', 'L', 'M', 'L', 'M'],\n",
        "    'color': ['red', 'green', 'blue', 'green', 'red'],\n",
        "    'gender': ['female', 'male', 'male', 'female', 'female'],\n",
        "    'price': [199.0, 89.0, 99.0, 129.0, 79.0],\n",
        "    'weight': [500, 450, 300, 380, 410],\n",
        "    'bought': ['yes', 'no', 'yes', 'no', 'yes']}\n",
        "df = pd.DataFrame(data)\n",
        "\n",
        "# Kategorie kolumn:\n",
        "for col in ['size', 'color', 'gender', 'bought']:\n",
        "  df[col] = df[col].astype('category')\n",
        "df['weight'] = df['weight'].astype('float')\n",
        "\n",
        "# Kodowanie kategorii w zmiennej \"bought\"\n",
        "encoder = LabelEncoder()\n",
        "df[\"bought\"] = encoder.fit_transform(df[\"bought\"])\n",
        "\n",
        "df"
      ],
      "execution_count": null,
      "outputs": [
        {
          "output_type": "execute_result",
          "data": {
            "text/html": [
              "<div>\n",
              "<style scoped>\n",
              "    .dataframe tbody tr th:only-of-type {\n",
              "        vertical-align: middle;\n",
              "    }\n",
              "\n",
              "    .dataframe tbody tr th {\n",
              "        vertical-align: top;\n",
              "    }\n",
              "\n",
              "    .dataframe thead th {\n",
              "        text-align: right;\n",
              "    }\n",
              "</style>\n",
              "<table border=\"1\" class=\"dataframe\">\n",
              "  <thead>\n",
              "    <tr style=\"text-align: right;\">\n",
              "      <th></th>\n",
              "      <th>size</th>\n",
              "      <th>color</th>\n",
              "      <th>gender</th>\n",
              "      <th>price</th>\n",
              "      <th>weight</th>\n",
              "      <th>bought</th>\n",
              "    </tr>\n",
              "  </thead>\n",
              "  <tbody>\n",
              "    <tr>\n",
              "      <th>0</th>\n",
              "      <td>XL</td>\n",
              "      <td>red</td>\n",
              "      <td>female</td>\n",
              "      <td>199.0</td>\n",
              "      <td>500.0</td>\n",
              "      <td>1</td>\n",
              "    </tr>\n",
              "    <tr>\n",
              "      <th>1</th>\n",
              "      <td>L</td>\n",
              "      <td>green</td>\n",
              "      <td>male</td>\n",
              "      <td>89.0</td>\n",
              "      <td>450.0</td>\n",
              "      <td>0</td>\n",
              "    </tr>\n",
              "    <tr>\n",
              "      <th>2</th>\n",
              "      <td>M</td>\n",
              "      <td>blue</td>\n",
              "      <td>male</td>\n",
              "      <td>99.0</td>\n",
              "      <td>300.0</td>\n",
              "      <td>1</td>\n",
              "    </tr>\n",
              "    <tr>\n",
              "      <th>3</th>\n",
              "      <td>L</td>\n",
              "      <td>green</td>\n",
              "      <td>female</td>\n",
              "      <td>129.0</td>\n",
              "      <td>380.0</td>\n",
              "      <td>0</td>\n",
              "    </tr>\n",
              "    <tr>\n",
              "      <th>4</th>\n",
              "      <td>M</td>\n",
              "      <td>red</td>\n",
              "      <td>female</td>\n",
              "      <td>79.0</td>\n",
              "      <td>410.0</td>\n",
              "      <td>1</td>\n",
              "    </tr>\n",
              "  </tbody>\n",
              "</table>\n",
              "</div>"
            ],
            "text/plain": [
              "  size  color  gender  price  weight  bought\n",
              "0   XL    red  female  199.0   500.0       1\n",
              "1    L  green    male   89.0   450.0       0\n",
              "2    M   blue    male   99.0   300.0       1\n",
              "3    L  green  female  129.0   380.0       0\n",
              "4    M    red  female   79.0   410.0       1"
            ]
          },
          "metadata": {
            "tags": []
          },
          "execution_count": 244
        }
      ]
    },
    {
      "cell_type": "markdown",
      "metadata": {
        "id": "e9_dOQTqxTxC"
      },
      "source": [
        "# Ćwiczenie 26\n",
        "\n",
        "Znowusz mamy obiekt Data Frame. Wykorzystując klasę \"OneHotEncoder\" z pakietu \"scikit-learn\" dokonaj kodowania 0-1 kolumny \"size\" (Ustaw argument \"sparse = False\"). Nie zapisuj tego do df. Wydrukuj także otrzymane kategorie przy kodowaniu kolumny \"size\"."
      ]
    },
    {
      "cell_type": "code",
      "metadata": {
        "colab": {
          "base_uri": "https://localhost:8080/"
        },
        "id": "nthETmZAuv86",
        "outputId": "5cce1975-4fbe-492b-be27-801b66e36bfb"
      },
      "source": [
        "# Utworzenie enkodera:\n",
        "ohe = OneHotEncoder(sparse = False)\n",
        "\n",
        "# Zastosowanie enkodera:\n",
        "x = ohe.fit_transform(df[[\"size\"]])\n",
        "print(x)\n",
        "print(ohe.categories_)"
      ],
      "execution_count": null,
      "outputs": [
        {
          "output_type": "stream",
          "text": [
            "[[0. 0. 1.]\n",
            " [1. 0. 0.]\n",
            " [0. 1. 0.]\n",
            " [1. 0. 0.]\n",
            " [0. 1. 0.]]\n",
            "[array(['L', 'M', 'XL'], dtype=object)]\n"
          ],
          "name": "stdout"
        }
      ]
    },
    {
      "cell_type": "markdown",
      "metadata": {
        "id": "DwHUSTEYynoN"
      },
      "source": [
        "# ćwiczenie 27\n",
        "\n",
        "Załaduj dane \"load_breast_cancer()\" z pakietu scikit-learn do zmiennej \"raw_data\". Następnie wyświetl informacje o tym zbiorze (zawartość klucza \"DESCR\")."
      ]
    },
    {
      "cell_type": "code",
      "metadata": {
        "colab": {
          "base_uri": "https://localhost:8080/",
          "height": 154
        },
        "id": "jfo4or26yR2t",
        "outputId": "213b53f0-0076-497d-988b-510254c8f29c"
      },
      "source": [
        "# Pobranie danych:\n",
        "raw_data = load_breast_cancer()\n",
        "raw_data[\"DESCR\"]"
      ],
      "execution_count": null,
      "outputs": [
        {
          "output_type": "execute_result",
          "data": {
            "application/vnd.google.colaboratory.intrinsic+json": {
              "type": "string"
            },
            "text/plain": [
              "'.. _breast_cancer_dataset:\\n\\nBreast cancer wisconsin (diagnostic) dataset\\n--------------------------------------------\\n\\n**Data Set Characteristics:**\\n\\n    :Number of Instances: 569\\n\\n    :Number of Attributes: 30 numeric, predictive attributes and the class\\n\\n    :Attribute Information:\\n        - radius (mean of distances from center to points on the perimeter)\\n        - texture (standard deviation of gray-scale values)\\n        - perimeter\\n        - area\\n        - smoothness (local variation in radius lengths)\\n        - compactness (perimeter^2 / area - 1.0)\\n        - concavity (severity of concave portions of the contour)\\n        - concave points (number of concave portions of the contour)\\n        - symmetry \\n        - fractal dimension (\"coastline approximation\" - 1)\\n\\n        The mean, standard error, and \"worst\" or largest (mean of the three\\n        largest values) of these features were computed for each image,\\n        resulting in 30 features.  For instance, field 3 is Mean Radius, field\\n        13 is Radius SE, field 23 is Worst Radius.\\n\\n        - class:\\n                - WDBC-Malignant\\n                - WDBC-Benign\\n\\n    :Summary Statistics:\\n\\n    ===================================== ====== ======\\n                                           Min    Max\\n    ===================================== ====== ======\\n    radius (mean):                        6.981  28.11\\n    texture (mean):                       9.71   39.28\\n    perimeter (mean):                     43.79  188.5\\n    area (mean):                          143.5  2501.0\\n    smoothness (mean):                    0.053  0.163\\n    compactness (mean):                   0.019  0.345\\n    concavity (mean):                     0.0    0.427\\n    concave points (mean):                0.0    0.201\\n    symmetry (mean):                      0.106  0.304\\n    fractal dimension (mean):             0.05   0.097\\n    radius (standard error):              0.112  2.873\\n    texture (standard error):             0.36   4.885\\n    perimeter (standard error):           0.757  21.98\\n    area (standard error):                6.802  542.2\\n    smoothness (standard error):          0.002  0.031\\n    compactness (standard error):         0.002  0.135\\n    concavity (standard error):           0.0    0.396\\n    concave points (standard error):      0.0    0.053\\n    symmetry (standard error):            0.008  0.079\\n    fractal dimension (standard error):   0.001  0.03\\n    radius (worst):                       7.93   36.04\\n    texture (worst):                      12.02  49.54\\n    perimeter (worst):                    50.41  251.2\\n    area (worst):                         185.2  4254.0\\n    smoothness (worst):                   0.071  0.223\\n    compactness (worst):                  0.027  1.058\\n    concavity (worst):                    0.0    1.252\\n    concave points (worst):               0.0    0.291\\n    symmetry (worst):                     0.156  0.664\\n    fractal dimension (worst):            0.055  0.208\\n    ===================================== ====== ======\\n\\n    :Missing Attribute Values: None\\n\\n    :Class Distribution: 212 - Malignant, 357 - Benign\\n\\n    :Creator:  Dr. William H. Wolberg, W. Nick Street, Olvi L. Mangasarian\\n\\n    :Donor: Nick Street\\n\\n    :Date: November, 1995\\n\\nThis is a copy of UCI ML Breast Cancer Wisconsin (Diagnostic) datasets.\\nhttps://goo.gl/U2Uwz2\\n\\nFeatures are computed from a digitized image of a fine needle\\naspirate (FNA) of a breast mass.  They describe\\ncharacteristics of the cell nuclei present in the image.\\n\\nSeparating plane described above was obtained using\\nMultisurface Method-Tree (MSM-T) [K. P. Bennett, \"Decision Tree\\nConstruction Via Linear Programming.\" Proceedings of the 4th\\nMidwest Artificial Intelligence and Cognitive Science Society,\\npp. 97-101, 1992], a classification method which uses linear\\nprogramming to construct a decision tree.  Relevant features\\nwere selected using an exhaustive search in the space of 1-4\\nfeatures and 1-3 separating planes.\\n\\nThe actual linear program used to obtain the separating plane\\nin the 3-dimensional space is that described in:\\n[K. P. Bennett and O. L. Mangasarian: \"Robust Linear\\nProgramming Discrimination of Two Linearly Inseparable Sets\",\\nOptimization Methods and Software 1, 1992, 23-34].\\n\\nThis database is also available through the UW CS ftp server:\\n\\nftp ftp.cs.wisc.edu\\ncd math-prog/cpo-dataset/machine-learn/WDBC/\\n\\n.. topic:: References\\n\\n   - W.N. Street, W.H. Wolberg and O.L. Mangasarian. Nuclear feature extraction \\n     for breast tumor diagnosis. IS&T/SPIE 1993 International Symposium on \\n     Electronic Imaging: Science and Technology, volume 1905, pages 861-870,\\n     San Jose, CA, 1993.\\n   - O.L. Mangasarian, W.N. Street and W.H. Wolberg. Breast cancer diagnosis and \\n     prognosis via linear programming. Operations Research, 43(4), pages 570-577, \\n     July-August 1995.\\n   - W.H. Wolberg, W.N. Street, and O.L. Mangasarian. Machine learning techniques\\n     to diagnose breast cancer from fine-needle aspirates. Cancer Letters 77 (1994) \\n     163-171.'"
            ]
          },
          "metadata": {
            "tags": []
          },
          "execution_count": 246
        }
      ]
    },
    {
      "cell_type": "markdown",
      "metadata": {
        "id": "3KnqM9UOzSjZ"
      },
      "source": [
        "# Ćwiczenie 28\n",
        "\n",
        "Z załadowanych danych \"breast cancer\" wyciągnij kilka danych. Do zmiennej \"data\" przypisztablicę \"numpy\" z danymi ze zmiennej \"raw_data\" (klucz \"data\") oraz do zmiennej \"target\" ze zmienną docelową \"target\"."
      ]
    },
    {
      "cell_type": "code",
      "metadata": {
        "colab": {
          "base_uri": "https://localhost:8080/"
        },
        "id": "mK_JVe14y9Di",
        "outputId": "36f6d78e-ae83-4ba0-90ba-33b7b68f0daa"
      },
      "source": [
        "data = raw_data[\"data\"]\n",
        "target = raw_data[\"target\"]\n",
        "\n",
        "print(data[:3])"
      ],
      "execution_count": null,
      "outputs": [
        {
          "output_type": "stream",
          "text": [
            "[[1.799e+01 1.038e+01 1.228e+02 1.001e+03 1.184e-01 2.776e-01 3.001e-01\n",
            "  1.471e-01 2.419e-01 7.871e-02 1.095e+00 9.053e-01 8.589e+00 1.534e+02\n",
            "  6.399e-03 4.904e-02 5.373e-02 1.587e-02 3.003e-02 6.193e-03 2.538e+01\n",
            "  1.733e+01 1.846e+02 2.019e+03 1.622e-01 6.656e-01 7.119e-01 2.654e-01\n",
            "  4.601e-01 1.189e-01]\n",
            " [2.057e+01 1.777e+01 1.329e+02 1.326e+03 8.474e-02 7.864e-02 8.690e-02\n",
            "  7.017e-02 1.812e-01 5.667e-02 5.435e-01 7.339e-01 3.398e+00 7.408e+01\n",
            "  5.225e-03 1.308e-02 1.860e-02 1.340e-02 1.389e-02 3.532e-03 2.499e+01\n",
            "  2.341e+01 1.588e+02 1.956e+03 1.238e-01 1.866e-01 2.416e-01 1.860e-01\n",
            "  2.750e-01 8.902e-02]\n",
            " [1.969e+01 2.125e+01 1.300e+02 1.203e+03 1.096e-01 1.599e-01 1.974e-01\n",
            "  1.279e-01 2.069e-01 5.999e-02 7.456e-01 7.869e-01 4.585e+00 9.403e+01\n",
            "  6.150e-03 4.006e-02 3.832e-02 2.058e-02 2.250e-02 4.571e-03 2.357e+01\n",
            "  2.553e+01 1.525e+02 1.709e+03 1.444e-01 4.245e-01 4.504e-01 2.430e-01\n",
            "  3.613e-01 8.758e-02]]\n"
          ],
          "name": "stdout"
        }
      ]
    },
    {
      "cell_type": "markdown",
      "metadata": {
        "id": "dFXLVeyZz_Zs"
      },
      "source": [
        "# Ćwiczenie 29\n",
        "\n",
        "Połącz dwie tablice z poprzedniego ćwiczenia w jedną o nazwie \"all_data\" i wyświetl trzy pierwsze wiersze."
      ]
    },
    {
      "cell_type": "code",
      "metadata": {
        "colab": {
          "base_uri": "https://localhost:8080/"
        },
        "id": "To8BuDIwzw4A",
        "outputId": "16b853f8-ef81-40b3-eb65-a03d8b895cfa"
      },
      "source": [
        "# Funkcja np.c_[] pozwoli połączyć 2 arrays w jednen:\n",
        "all_data = np.c_[data, target]\n",
        "print(all_data[:3])"
      ],
      "execution_count": null,
      "outputs": [
        {
          "output_type": "stream",
          "text": [
            "[[1.799e+01 1.038e+01 1.228e+02 1.001e+03 1.184e-01 2.776e-01 3.001e-01\n",
            "  1.471e-01 2.419e-01 7.871e-02 1.095e+00 9.053e-01 8.589e+00 1.534e+02\n",
            "  6.399e-03 4.904e-02 5.373e-02 1.587e-02 3.003e-02 6.193e-03 2.538e+01\n",
            "  1.733e+01 1.846e+02 2.019e+03 1.622e-01 6.656e-01 7.119e-01 2.654e-01\n",
            "  4.601e-01 1.189e-01 0.000e+00]\n",
            " [2.057e+01 1.777e+01 1.329e+02 1.326e+03 8.474e-02 7.864e-02 8.690e-02\n",
            "  7.017e-02 1.812e-01 5.667e-02 5.435e-01 7.339e-01 3.398e+00 7.408e+01\n",
            "  5.225e-03 1.308e-02 1.860e-02 1.340e-02 1.389e-02 3.532e-03 2.499e+01\n",
            "  2.341e+01 1.588e+02 1.956e+03 1.238e-01 1.866e-01 2.416e-01 1.860e-01\n",
            "  2.750e-01 8.902e-02 0.000e+00]\n",
            " [1.969e+01 2.125e+01 1.300e+02 1.203e+03 1.096e-01 1.599e-01 1.974e-01\n",
            "  1.279e-01 2.069e-01 5.999e-02 7.456e-01 7.869e-01 4.585e+00 9.403e+01\n",
            "  6.150e-03 4.006e-02 3.832e-02 2.058e-02 2.250e-02 4.571e-03 2.357e+01\n",
            "  2.553e+01 1.525e+02 1.709e+03 1.444e-01 4.245e-01 4.504e-01 2.430e-01\n",
            "  3.613e-01 8.758e-02 0.000e+00]]\n"
          ],
          "name": "stdout"
        }
      ]
    },
    {
      "cell_type": "markdown",
      "metadata": {
        "id": "Qi9QUfC50m1b"
      },
      "source": [
        "# Ćwiczenie 30\n",
        "\n",
        "Z tablicy \"all_data\" utwórz obiekt Data Frame, nadając odpowiednio nazwy kolumn (klucz: \"feature_names\") obiektu \"raw_data\" + nazwa zmiennej docelowej jako \"target\"."
      ]
    },
    {
      "cell_type": "code",
      "metadata": {
        "colab": {
          "base_uri": "https://localhost:8080/",
          "height": 249
        },
        "id": "IGpv6_k30XKg",
        "outputId": "21c0d475-a6db-42e7-defb-cb22b14e3cf6"
      },
      "source": [
        "# Utworzenie obiektu Data Frame z zadanymi nazwami kolumn:\n",
        "all_data2 = pd.DataFrame(data = all_data, columns = list(raw_data[\"feature_names\"]) + [\"target\"])\n",
        "all_data2.head()"
      ],
      "execution_count": null,
      "outputs": [
        {
          "output_type": "execute_result",
          "data": {
            "text/html": [
              "<div>\n",
              "<style scoped>\n",
              "    .dataframe tbody tr th:only-of-type {\n",
              "        vertical-align: middle;\n",
              "    }\n",
              "\n",
              "    .dataframe tbody tr th {\n",
              "        vertical-align: top;\n",
              "    }\n",
              "\n",
              "    .dataframe thead th {\n",
              "        text-align: right;\n",
              "    }\n",
              "</style>\n",
              "<table border=\"1\" class=\"dataframe\">\n",
              "  <thead>\n",
              "    <tr style=\"text-align: right;\">\n",
              "      <th></th>\n",
              "      <th>mean radius</th>\n",
              "      <th>mean texture</th>\n",
              "      <th>mean perimeter</th>\n",
              "      <th>mean area</th>\n",
              "      <th>mean smoothness</th>\n",
              "      <th>mean compactness</th>\n",
              "      <th>mean concavity</th>\n",
              "      <th>mean concave points</th>\n",
              "      <th>mean symmetry</th>\n",
              "      <th>mean fractal dimension</th>\n",
              "      <th>radius error</th>\n",
              "      <th>texture error</th>\n",
              "      <th>perimeter error</th>\n",
              "      <th>area error</th>\n",
              "      <th>smoothness error</th>\n",
              "      <th>compactness error</th>\n",
              "      <th>concavity error</th>\n",
              "      <th>concave points error</th>\n",
              "      <th>symmetry error</th>\n",
              "      <th>fractal dimension error</th>\n",
              "      <th>worst radius</th>\n",
              "      <th>worst texture</th>\n",
              "      <th>worst perimeter</th>\n",
              "      <th>worst area</th>\n",
              "      <th>worst smoothness</th>\n",
              "      <th>worst compactness</th>\n",
              "      <th>worst concavity</th>\n",
              "      <th>worst concave points</th>\n",
              "      <th>worst symmetry</th>\n",
              "      <th>worst fractal dimension</th>\n",
              "      <th>target</th>\n",
              "    </tr>\n",
              "  </thead>\n",
              "  <tbody>\n",
              "    <tr>\n",
              "      <th>0</th>\n",
              "      <td>17.99</td>\n",
              "      <td>10.38</td>\n",
              "      <td>122.80</td>\n",
              "      <td>1001.0</td>\n",
              "      <td>0.11840</td>\n",
              "      <td>0.27760</td>\n",
              "      <td>0.3001</td>\n",
              "      <td>0.14710</td>\n",
              "      <td>0.2419</td>\n",
              "      <td>0.07871</td>\n",
              "      <td>1.0950</td>\n",
              "      <td>0.9053</td>\n",
              "      <td>8.589</td>\n",
              "      <td>153.40</td>\n",
              "      <td>0.006399</td>\n",
              "      <td>0.04904</td>\n",
              "      <td>0.05373</td>\n",
              "      <td>0.01587</td>\n",
              "      <td>0.03003</td>\n",
              "      <td>0.006193</td>\n",
              "      <td>25.38</td>\n",
              "      <td>17.33</td>\n",
              "      <td>184.60</td>\n",
              "      <td>2019.0</td>\n",
              "      <td>0.1622</td>\n",
              "      <td>0.6656</td>\n",
              "      <td>0.7119</td>\n",
              "      <td>0.2654</td>\n",
              "      <td>0.4601</td>\n",
              "      <td>0.11890</td>\n",
              "      <td>0.0</td>\n",
              "    </tr>\n",
              "    <tr>\n",
              "      <th>1</th>\n",
              "      <td>20.57</td>\n",
              "      <td>17.77</td>\n",
              "      <td>132.90</td>\n",
              "      <td>1326.0</td>\n",
              "      <td>0.08474</td>\n",
              "      <td>0.07864</td>\n",
              "      <td>0.0869</td>\n",
              "      <td>0.07017</td>\n",
              "      <td>0.1812</td>\n",
              "      <td>0.05667</td>\n",
              "      <td>0.5435</td>\n",
              "      <td>0.7339</td>\n",
              "      <td>3.398</td>\n",
              "      <td>74.08</td>\n",
              "      <td>0.005225</td>\n",
              "      <td>0.01308</td>\n",
              "      <td>0.01860</td>\n",
              "      <td>0.01340</td>\n",
              "      <td>0.01389</td>\n",
              "      <td>0.003532</td>\n",
              "      <td>24.99</td>\n",
              "      <td>23.41</td>\n",
              "      <td>158.80</td>\n",
              "      <td>1956.0</td>\n",
              "      <td>0.1238</td>\n",
              "      <td>0.1866</td>\n",
              "      <td>0.2416</td>\n",
              "      <td>0.1860</td>\n",
              "      <td>0.2750</td>\n",
              "      <td>0.08902</td>\n",
              "      <td>0.0</td>\n",
              "    </tr>\n",
              "    <tr>\n",
              "      <th>2</th>\n",
              "      <td>19.69</td>\n",
              "      <td>21.25</td>\n",
              "      <td>130.00</td>\n",
              "      <td>1203.0</td>\n",
              "      <td>0.10960</td>\n",
              "      <td>0.15990</td>\n",
              "      <td>0.1974</td>\n",
              "      <td>0.12790</td>\n",
              "      <td>0.2069</td>\n",
              "      <td>0.05999</td>\n",
              "      <td>0.7456</td>\n",
              "      <td>0.7869</td>\n",
              "      <td>4.585</td>\n",
              "      <td>94.03</td>\n",
              "      <td>0.006150</td>\n",
              "      <td>0.04006</td>\n",
              "      <td>0.03832</td>\n",
              "      <td>0.02058</td>\n",
              "      <td>0.02250</td>\n",
              "      <td>0.004571</td>\n",
              "      <td>23.57</td>\n",
              "      <td>25.53</td>\n",
              "      <td>152.50</td>\n",
              "      <td>1709.0</td>\n",
              "      <td>0.1444</td>\n",
              "      <td>0.4245</td>\n",
              "      <td>0.4504</td>\n",
              "      <td>0.2430</td>\n",
              "      <td>0.3613</td>\n",
              "      <td>0.08758</td>\n",
              "      <td>0.0</td>\n",
              "    </tr>\n",
              "    <tr>\n",
              "      <th>3</th>\n",
              "      <td>11.42</td>\n",
              "      <td>20.38</td>\n",
              "      <td>77.58</td>\n",
              "      <td>386.1</td>\n",
              "      <td>0.14250</td>\n",
              "      <td>0.28390</td>\n",
              "      <td>0.2414</td>\n",
              "      <td>0.10520</td>\n",
              "      <td>0.2597</td>\n",
              "      <td>0.09744</td>\n",
              "      <td>0.4956</td>\n",
              "      <td>1.1560</td>\n",
              "      <td>3.445</td>\n",
              "      <td>27.23</td>\n",
              "      <td>0.009110</td>\n",
              "      <td>0.07458</td>\n",
              "      <td>0.05661</td>\n",
              "      <td>0.01867</td>\n",
              "      <td>0.05963</td>\n",
              "      <td>0.009208</td>\n",
              "      <td>14.91</td>\n",
              "      <td>26.50</td>\n",
              "      <td>98.87</td>\n",
              "      <td>567.7</td>\n",
              "      <td>0.2098</td>\n",
              "      <td>0.8663</td>\n",
              "      <td>0.6869</td>\n",
              "      <td>0.2575</td>\n",
              "      <td>0.6638</td>\n",
              "      <td>0.17300</td>\n",
              "      <td>0.0</td>\n",
              "    </tr>\n",
              "    <tr>\n",
              "      <th>4</th>\n",
              "      <td>20.29</td>\n",
              "      <td>14.34</td>\n",
              "      <td>135.10</td>\n",
              "      <td>1297.0</td>\n",
              "      <td>0.10030</td>\n",
              "      <td>0.13280</td>\n",
              "      <td>0.1980</td>\n",
              "      <td>0.10430</td>\n",
              "      <td>0.1809</td>\n",
              "      <td>0.05883</td>\n",
              "      <td>0.7572</td>\n",
              "      <td>0.7813</td>\n",
              "      <td>5.438</td>\n",
              "      <td>94.44</td>\n",
              "      <td>0.011490</td>\n",
              "      <td>0.02461</td>\n",
              "      <td>0.05688</td>\n",
              "      <td>0.01885</td>\n",
              "      <td>0.01756</td>\n",
              "      <td>0.005115</td>\n",
              "      <td>22.54</td>\n",
              "      <td>16.67</td>\n",
              "      <td>152.20</td>\n",
              "      <td>1575.0</td>\n",
              "      <td>0.1374</td>\n",
              "      <td>0.2050</td>\n",
              "      <td>0.4000</td>\n",
              "      <td>0.1625</td>\n",
              "      <td>0.2364</td>\n",
              "      <td>0.07678</td>\n",
              "      <td>0.0</td>\n",
              "    </tr>\n",
              "  </tbody>\n",
              "</table>\n",
              "</div>"
            ],
            "text/plain": [
              "   mean radius  mean texture  ...  worst fractal dimension  target\n",
              "0        17.99         10.38  ...                  0.11890     0.0\n",
              "1        20.57         17.77  ...                  0.08902     0.0\n",
              "2        19.69         21.25  ...                  0.08758     0.0\n",
              "3        11.42         20.38  ...                  0.17300     0.0\n",
              "4        20.29         14.34  ...                  0.07678     0.0\n",
              "\n",
              "[5 rows x 31 columns]"
            ]
          },
          "metadata": {
            "tags": []
          },
          "execution_count": 249
        }
      ]
    },
    {
      "cell_type": "markdown",
      "metadata": {
        "id": "KenP57mj3cEM"
      },
      "source": [
        "# Ćwiczenie 31\n",
        "\n",
        "Wykorzystując funkcję \"train_test_split()\" podziel te dane na zbiór uczący i testowy (data oraz target). Ustaw rozmiar zbioru testowego na 25 % oraz ziarno losowości na 40. Wyświetl rozmiary zbiorów:\n"
      ]
    },
    {
      "cell_type": "code",
      "metadata": {
        "id": "WAJUc93yDF6v",
        "colab": {
          "base_uri": "https://localhost:8080/"
        },
        "outputId": "736893bc-f9af-4f32-ed5c-f88c43ba269c"
      },
      "source": [
        "# Dzielenie na zbiory: uczący i testowy:\n",
        "data_uczący, data_testowy, target_uczący, target_testowy = train_test_split(data, target, test_size = 0.25, random_state = 40)\n",
        "\n",
        "# Wielkości zbiorów:\n",
        "print(\"data_uczący: \", data_uczący.shape, \"\\n\",\n",
        "      \"data_testowy: \", data_testowy.shape, \"\\n\",\n",
        "      \"target_uczący: \", target_uczący.shape, \"\\n\",\n",
        "      \"target_testowy: \", target_testowy.shape)"
      ],
      "execution_count": null,
      "outputs": [
        {
          "output_type": "stream",
          "text": [
            "data_uczący:  (426, 30) \n",
            " data_testowy:  (143, 30) \n",
            " target_uczący:  (426,) \n",
            " target_testowy:  (143,)\n"
          ],
          "name": "stdout"
        }
      ]
    },
    {
      "cell_type": "markdown",
      "metadata": {
        "id": "U3EesnesV_Iy"
      },
      "source": [
        "# Ćwiczenie 32\n",
        "\n",
        "Sprawdź procentowy rozkład wartości zmiennych: \"target\", \"target_uczący\", \"target_testowy\"."
      ]
    },
    {
      "cell_type": "code",
      "metadata": {
        "colab": {
          "base_uri": "https://localhost:8080/"
        },
        "id": "DPq578H_UnrR",
        "outputId": "a02aefa4-9378-4243-cfe5-1480c7ebd0c7"
      },
      "source": [
        "# Wartości unikalne w zbiorach:\n",
        "un_target = np.unique(target, return_counts = True)[1] / len(target)\n",
        "un_target_u = np.unique(target_uczący, return_counts = True)[1] / len(target_uczący)\n",
        "un_target_t = np.unique(target_testowy, return_counts = True)[1] / len(target_testowy)\n",
        "\n",
        "print(un_target, \"\\n\", un_target_u, \"\\n\", un_target_t)"
      ],
      "execution_count": null,
      "outputs": [
        {
          "output_type": "stream",
          "text": [
            "[0.37258348 0.62741652] \n",
            " [0.39201878 0.60798122] \n",
            " [0.31468531 0.68531469]\n"
          ],
          "name": "stdout"
        }
      ]
    },
    {
      "cell_type": "markdown",
      "metadata": {
        "id": "Vth7HTg_X0pO"
      },
      "source": [
        "# Ćwiczenie 33\n",
        "\n",
        "Podziel dane data, target na zbiory: uczący i testowy, tak aby zachować procentowy rozkład wartości w tablicach: \"target_uczący\" i \"target_testowy\", taki jak w tablicy \"target\"."
      ]
    },
    {
      "cell_type": "code",
      "metadata": {
        "colab": {
          "base_uri": "https://localhost:8080/"
        },
        "id": "qIB3U0EYWu3P",
        "outputId": "629162e6-c999-4520-f935-abc95206eb53"
      },
      "source": [
        "# To będzie wyglądało niemal tak samo, jak dwa zadania wcześniej, z małą różnicą: dodamy do funkcji jeszcze jeden argument.\n",
        "x_train, x_test, y_train, y_test = train_test_split(data, target, test_size = 0.25, random_state = 40, stratify = target)\n",
        "\n",
        "# Sprawdzamy:\n",
        "um_target = np.unique(target, return_counts = True)[1] / len(target)\n",
        "um_y_train = np.unique(y_train, return_counts = True)[1] / len(y_train)\n",
        "um_y_test = np.unique(y_test, return_counts = True)[1] / len(y_test)\n",
        "\n",
        "print(um_target, \"\\n\", um_y_train, '\\n', um_y_test)"
      ],
      "execution_count": null,
      "outputs": [
        {
          "output_type": "stream",
          "text": [
            "[0.37258348 0.62741652] \n",
            " [0.37323944 0.62676056] \n",
            " [0.37062937 0.62937063]\n"
          ],
          "name": "stdout"
        }
      ]
    },
    {
      "cell_type": "markdown",
      "metadata": {
        "id": "8N_kSVaJZRx6"
      },
      "source": [
        "# Ćwiczenie 34\n",
        "\n",
        "Dany jest zestaw danych (poniżej). Pierwsza kolumna to zmienna objaśniająca a druga - zmienna objaśniana. Wykorzystując równanie normalne oraz pakiet numpy, wyznacz równanie linii trendy (regresja liniowa)."
      ]
    },
    {
      "cell_type": "code",
      "metadata": {
        "colab": {
          "base_uri": "https://localhost:8080/"
        },
        "id": "GjDk3x0FYi-G",
        "outputId": "5269c408-2bca-4a6b-8ccf-0cbdc1b64f73"
      },
      "source": [
        "# Dane:\n",
        "df = pd.DataFrame({'years': [1, 2, 3, 4, 5, 6],\n",
        "                   'salary': [4000, 4250, 4500, 4750, 5000, 5250]})\n",
        "\n",
        "# współrzędne punktow:\n",
        "X1 = df['years'].values\n",
        "Y = df['salary'].values\n",
        "\n",
        "# Przekształcenie macierzy X1:\n",
        "m = len(df)\n",
        "X1 = X1.reshape(m, 1)\n",
        "\n",
        "# Wyznaczenie macierzy X:\n",
        "bias = np.ones((m, 1))\n",
        "X = np.append(bias, X1, axis = 1)\n",
        "\n",
        "# Wyznaczenie wartości współczynnika przesunięcia i współczynnika kierunkowego:\n",
        "coefs = np.dot(np.linalg.inv(np.dot(X.T, X)), np.dot(X.T, Y))\n",
        "\n",
        "# Odpowiedź:\n",
        "print(f\"Linear regression: {coefs[0]:.2f} + {coefs[1]:.2f}x\")"
      ],
      "execution_count": null,
      "outputs": [
        {
          "output_type": "stream",
          "text": [
            "Linear regression: 3750.00 + 250.00x\n"
          ],
          "name": "stdout"
        }
      ]
    },
    {
      "cell_type": "markdown",
      "metadata": {
        "id": "ozuErPVNb5SG"
      },
      "source": [
        "# Ćwiczenie 35\n",
        "\n",
        "Znów ten sam Data Frame i to samo zadanie. Tym razem rozwal je wykorzystując funkcję \"LinearRegression\" w pakiecie scikit-learn."
      ]
    },
    {
      "cell_type": "code",
      "metadata": {
        "colab": {
          "base_uri": "https://localhost:8080/"
        },
        "id": "xHLvzsD8aw0f",
        "outputId": "318985cd-ec73-4c7d-955a-524d305b0dc2"
      },
      "source": [
        "# Tworzenie modelu:\n",
        "model = LinearRegression()\n",
        "\n",
        "# Trenowanie modelu: iksy i igreki:\n",
        "model.fit(df[['years']], df[['salary']])\n",
        "\n",
        "# Odpowiedź:\n",
        "print(f'Linear regression: {model.intercept_[0]:.2f} + {model.coef_[0][0]:.2f}x')"
      ],
      "execution_count": null,
      "outputs": [
        {
          "output_type": "stream",
          "text": [
            "Linear regression: 3750.00 + 250.00x\n"
          ],
          "name": "stdout"
        }
      ]
    },
    {
      "cell_type": "markdown",
      "metadata": {
        "id": "Q2W9txVUdFx3"
      },
      "source": [
        "# Ćwiczenie 36\n",
        "\n",
        "Wczytaj dane do obiektu Data Frame. Następnie, w oparciu o zmienną 'variable', zbuduj model grgresji liniowej pozwalający przewidywać wartości zmiennej docelowej 'target'. Wykorzystaj w tym celu pakiet scikit-learn oraz funkcję LinearRegression."
      ]
    },
    {
      "cell_type": "code",
      "metadata": {
        "colab": {
          "base_uri": "https://localhost:8080/"
        },
        "id": "-kiFu3OWcxWK",
        "outputId": "ab7b2aed-9277-4ec7-ca28-4300dfd02f38"
      },
      "source": [
        "# Wczytanie danych:\n",
        "data = pd.read_csv('/content/drive/MyDrive/Colab Notebooks/Pliki pomocnicze/data.csv', delimiter = ',')\n",
        "data\n",
        "\n",
        "# Tym razem nie będzie dzielenia danych na zbiory. Wykorzystamy do nauki wszysko:\n",
        "x = data[['variable']]\n",
        "y = data[['target']]\n",
        "\n",
        "# Zdefiniuj model:\n",
        "model = LinearRegression()\n",
        "\n",
        "# Uczenie modelu:\n",
        "model.fit(x, y)\n",
        "\n",
        "# Sprawdzenie modelu:\n",
        "result = model.score(x, y)\n",
        "print(round(float(result), 4))"
      ],
      "execution_count": null,
      "outputs": [
        {
          "output_type": "stream",
          "text": [
            "0.5532\n"
          ],
          "name": "stdout"
        }
      ]
    },
    {
      "cell_type": "markdown",
      "metadata": {
        "id": "zMGOgs5VgYIy"
      },
      "source": [
        "# Ćwiczenie 37\n",
        "\n",
        "Wczytaj dane z pliku \"data2.csv\". Dokonaj ekstrakcji wielomianowych za zmiennej 'var1' stopnia drugiego. Otrzymane cechy w postaci tablicy numpy wyświetl."
      ]
    },
    {
      "cell_type": "code",
      "metadata": {
        "colab": {
          "base_uri": "https://localhost:8080/"
        },
        "id": "mKBWwkQDeX3v",
        "outputId": "ee211c97-611a-4120-f07a-84f094a070ff"
      },
      "source": [
        "# wczytaj dane:\n",
        "data = pd.read_csv('/content/drive/MyDrive/Colab Notebooks/Pliki pomocnicze/data2.csv', delimiter = ',')\n",
        "data\n",
        "\n",
        "# Ekstrakcja:\n",
        "poly = PolynomialFeatures(degree = 2)\n",
        "df_poly = poly.fit_transform(data)\n",
        "df_poly"
      ],
      "execution_count": null,
      "outputs": [
        {
          "output_type": "execute_result",
          "data": {
            "text/plain": [
              "array([[ 1.        , -0.54203446,  0.29380135],\n",
              "       [ 1.        ,  0.52861971,  0.2794388 ],\n",
              "       [ 1.        ,  0.62514332,  0.39080417],\n",
              "       [ 1.        ,  0.19397775,  0.03762737],\n",
              "       [ 1.        , -0.80025878,  0.64041412],\n",
              "       [ 1.        , -0.30353167,  0.09213148],\n",
              "       [ 1.        ,  1.08617991,  1.17978679],\n",
              "       [ 1.        , -1.1601817 ,  1.34602158],\n",
              "       [ 1.        ,  1.03831416,  1.07809629],\n",
              "       [ 1.        , -0.81530272,  0.66471852],\n",
              "       [ 1.        ,  0.41601746,  0.17307052],\n",
              "       [ 1.        ,  1.29711284,  1.68250171],\n",
              "       [ 1.        , -0.43286591,  0.1873729 ],\n",
              "       [ 1.        ,  1.05874434,  1.12093957],\n",
              "       [ 1.        ,  1.13877614,  1.2968111 ],\n",
              "       [ 1.        ,  0.99991287,  0.99982575],\n",
              "       [ 1.        ,  0.108967  ,  0.01187381],\n",
              "       [ 1.        , -0.39014048,  0.15220959],\n",
              "       [ 1.        , -0.70064547,  0.49090407],\n",
              "       [ 1.        ,  0.69831212,  0.48763982],\n",
              "       [ 1.        ,  0.75157138,  0.56485954],\n",
              "       [ 1.        ,  0.66124469,  0.43724453],\n",
              "       [ 1.        , -0.96424987,  0.92977782],\n",
              "       [ 1.        , -0.2521932 ,  0.06360141],\n",
              "       [ 1.        ,  0.34425468,  0.11851128],\n",
              "       [ 1.        ,  0.52388186,  0.27445221],\n",
              "       [ 1.        , -0.16383086,  0.02684055],\n",
              "       [ 1.        ,  0.04834162,  0.00233691],\n",
              "       [ 1.        ,  0.60559861,  0.36674968],\n",
              "       [ 1.        , -0.14827298,  0.02198488]])"
            ]
          },
          "metadata": {
            "tags": []
          },
          "execution_count": 293
        }
      ]
    },
    {
      "cell_type": "markdown",
      "metadata": {
        "id": "tcCZXnH7h0Ek"
      },
      "source": [
        "# Ćwiczenie 38\n",
        "\n",
        "Wczytaj plik 'data3.csv'. Następnie dokonaj ekstrakcji cech wielomianowych ze zmiennych 'var1' i 'var2' stopnia trzeciego. Otrzymane cechy wyświetl."
      ]
    },
    {
      "cell_type": "code",
      "metadata": {
        "colab": {
          "base_uri": "https://localhost:8080/"
        },
        "id": "ki0YWAxKhInm",
        "outputId": "48e306f8-0af4-40a6-cf8c-c14aab9111b0"
      },
      "source": [
        "data = pd.read_csv('/content/drive/MyDrive/Colab Notebooks/Pliki pomocnicze/data3.csv', delimiter = ',')\n",
        "data\n",
        "\n",
        "# Ustawienie parametrów macierzy: zaokrąglenie, wielkość linijki:\n",
        "np.set_printoptions(suppress = True, precision = 3, linewidth = 150)\n",
        "\n",
        "# Ekstrakcja:\n",
        "poly = PolynomialFeatures(degree = 3)\n",
        "df_poly = poly.fit_transform(data)\n",
        "df_poly"
      ],
      "execution_count": null,
      "outputs": [
        {
          "output_type": "execute_result",
          "data": {
            "text/plain": [
              "array([[  1.   ,  -0.016,   0.589,   0.   ,  -0.01 ,   0.347,  -0.   ,   0.   ,  -0.006,   0.204],\n",
              "       [  1.   ,   0.754,   0.076,   0.569,   0.058,   0.006,   0.429,   0.043,   0.004,   0.   ],\n",
              "       [  1.   ,  -1.157,  -1.465,   1.338,   1.695,   2.146,  -1.548,  -1.96 ,  -2.482,  -3.143],\n",
              "       [  1.   ,   0.177,  -0.175,   0.031,  -0.031,   0.031,   0.006,  -0.006,   0.005,  -0.005],\n",
              "       [  1.   ,  -2.502,   1.536,   6.258,  -3.843,   2.36 , -15.656,   9.615,  -5.905,   3.626],\n",
              "       [  1.   ,   0.631,   0.537,   0.398,   0.339,   0.288,   0.251,   0.214,   0.182,   0.155],\n",
              "       [  1.   ,   0.239,   0.227,   0.057,   0.054,   0.051,   0.014,   0.013,   0.012,   0.012],\n",
              "       [  1.   ,   1.062,   0.598,   1.127,   0.635,   0.358,   1.197,   0.675,   0.38 ,   0.214],\n",
              "       [  1.   ,  -0.837,  -0.328,   0.7  ,   0.275,   0.108,  -0.586,  -0.23 ,  -0.09 ,  -0.035],\n",
              "       [  1.   ,   0.567,  -0.313,   0.321,  -0.178,   0.098,   0.182,  -0.101,   0.056,  -0.031],\n",
              "       [  1.   ,   0.845,  -2.593,   0.714,  -2.191,   6.726,   0.603,  -1.852,   5.684, -17.444],\n",
              "       [  1.   ,  -0.498,   0.997,   0.248,  -0.497,   0.994,  -0.124,   0.247,  -0.495,   0.991],\n",
              "       [  1.   ,  -0.753,   0.89 ,   0.566,  -0.67 ,   0.792,  -0.426,   0.504,  -0.596,   0.704],\n",
              "       [  1.   ,   0.549,  -1.034,   0.302,  -0.568,   1.068,   0.166,  -0.312,   0.587,  -1.104],\n",
              "       [  1.   ,   0.872,   0.405,   0.76 ,   0.353,   0.164,   0.662,   0.307,   0.143,   0.066],\n",
              "       [  1.   ,   1.309,  -1.543,   1.713,  -2.019,   2.38 ,   2.243,  -2.643,   3.115,  -3.672],\n",
              "       [  1.   ,  -1.486,  -0.926,   2.208,   1.376,   0.858,  -3.28 ,  -2.045,  -1.275,  -0.795],\n",
              "       [  1.   ,  -0.192,  -1.319,   0.037,   0.253,   1.739,  -0.007,  -0.048,  -0.333,  -2.293],\n",
              "       [  1.   ,   0.786,   0.64 ,   0.618,   0.503,   0.409,   0.486,   0.396,   0.322,   0.262],\n",
              "       [  1.   ,  -0.013,   0.489,   0.   ,  -0.006,   0.24 ,  -0.   ,   0.   ,  -0.003,   0.117],\n",
              "       [  1.   ,   0.849,  -1.723,   0.72 ,  -1.462,   2.969,   0.612,  -1.241,   2.52 ,  -5.115],\n",
              "       [  1.   ,  -0.175,   0.269,   0.031,  -0.047,   0.072,  -0.005,   0.008,  -0.013,   0.019],\n",
              "       [  1.   ,   0.289,   0.723,   0.084,   0.209,   0.523,   0.024,   0.06 ,   0.151,   0.378],\n",
              "       [  1.   ,  -0.761,  -0.848,   0.579,   0.646,   0.72 ,  -0.441,  -0.492,  -0.548,  -0.61 ],\n",
              "       [  1.   ,  -0.556,   0.191,   0.309,  -0.106,   0.037,  -0.172,   0.059,  -0.02 ,   0.007],\n",
              "       [  1.   ,  -0.137,  -1.477,   0.019,   0.203,   2.182,  -0.003,  -0.028,  -0.3  ,  -3.224],\n",
              "       [  1.   ,   0.369,  -0.511,   0.136,  -0.189,   0.261,   0.05 ,  -0.07 ,   0.096,  -0.133],\n",
              "       [  1.   ,   2.415,   0.031,   5.833,   0.074,   0.001,  14.087,   0.179,   0.002,   0.   ],\n",
              "       [  1.   ,  -1.502,  -1.225,   2.257,   1.841,   1.502,  -3.39 ,  -2.766,  -2.256,  -1.84 ],\n",
              "       [  1.   ,   0.642,   1.024,   0.412,   0.658,   1.049,   0.265,   0.423,   0.674,   1.075]])"
            ]
          },
          "metadata": {
            "tags": []
          },
          "execution_count": 298
        }
      ]
    },
    {
      "cell_type": "markdown",
      "metadata": {
        "id": "lQhtpgJNi9zd"
      },
      "source": [
        "# Ćwiczenie 39\n",
        "\n",
        "Plik 'Predictions.csv' zawiera predykcje pewnego modelu regresji:\n",
        "* zmienna y_true opisuje rzeczywiste wartości\n",
        "* zmienna y_pred opisuje wartości przewidziane przez model.\n",
        "\n",
        "Wczytaj ten plik do Data Frame i stwórz funkcję o nazwie 'mean_absolute_error()' obliczającą średni błąd bezwzględny predykcji. Oblicz wartość MAE dla tego modelu."
      ]
    },
    {
      "cell_type": "code",
      "metadata": {
        "colab": {
          "base_uri": "https://localhost:8080/"
        },
        "id": "jleVwi2IiGF9",
        "outputId": "adb5be59-67f4-4695-aad1-3aa0a20e9057"
      },
      "source": [
        "df = pd.read_csv('/content/drive/MyDrive/Colab Notebooks/Pliki pomocnicze/Predictions.csv', delimiter = ',')\n",
        "df\n",
        "\n",
        "# Średni bezwzględny błąd predykcji - stworzenie funkcji:\n",
        "def mean_absolute_error(y_true, y_pred):\n",
        "  MAE = abs(y_true - y_pred).sum() / len(y_true)\n",
        "  return round(MAE, 4)\n",
        "\n",
        "# Obliczenie MAE:\n",
        "y_true = df['y_true']\n",
        "y_pred = df['y_pred']\n",
        "\n",
        "mean_absolute_error(y_true, y_pred)"
      ],
      "execution_count": null,
      "outputs": [
        {
          "output_type": "execute_result",
          "data": {
            "text/plain": [
              "6.7918"
            ]
          },
          "metadata": {
            "tags": []
          },
          "execution_count": 306
        }
      ]
    },
    {
      "cell_type": "markdown",
      "metadata": {
        "id": "lv5oCevTk-1u"
      },
      "source": [
        "# Ćwiczenie 40\n",
        "\n",
        "Z tego samego zestawu danych, oblicz błąd średniokwadratowy predykcji. Stwórz funkcję i ją wykorzystaj do obliczeń."
      ]
    },
    {
      "cell_type": "code",
      "metadata": {
        "colab": {
          "base_uri": "https://localhost:8080/"
        },
        "id": "t1cQj0fmjvAI",
        "outputId": "cf90b4b8-eb41-479c-fb3a-a110b0bd376c"
      },
      "source": [
        "df\n",
        "\n",
        "# Stworzenie funkcji:\n",
        "def mean_squared_error(a, b):\n",
        "  MSE = ((a - b)**2).sum() / len(a)\n",
        "  return round(MSE, 4)\n",
        "\n",
        "# Obliczenia:\n",
        "mean_squared_error(y_true, y_pred)"
      ],
      "execution_count": null,
      "outputs": [
        {
          "output_type": "execute_result",
          "data": {
            "text/plain": [
              "74.9471"
            ]
          },
          "metadata": {
            "tags": []
          },
          "execution_count": 309
        }
      ]
    },
    {
      "cell_type": "markdown",
      "metadata": {
        "id": "egeLFbY3lybI"
      },
      "source": [
        "# Ćwiczenie 41\n",
        "\n",
        "Stwórz funkcję Sigmoid i policz jej wartość dla zmiennych 'var1'. Przypisz wynik do kolumny o nazwie 'var1_sigmoid'."
      ]
    },
    {
      "cell_type": "code",
      "metadata": {
        "colab": {
          "base_uri": "https://localhost:8080/",
          "height": 343
        },
        "id": "QaHSKcHRlNuC",
        "outputId": "81cdfdfc-de3a-4e2e-cfd1-6b7cc0cb6540"
      },
      "source": [
        "# Dane - stworzenie Data Frame:\n",
        "df = pd.DataFrame(data = np.random.randn(10), columns = ['var1'])\n",
        "# Stworzenie funkcji SIGMOID:\n",
        "def sigmoid(x):\n",
        "  return 1 / (1 + np.exp(-x))\n",
        "  \n",
        "# Użycie funkcji:\n",
        "df['var1_sigmoid'] = sigmoid(df['var1'])\n",
        "df"
      ],
      "execution_count": null,
      "outputs": [
        {
          "output_type": "execute_result",
          "data": {
            "text/html": [
              "<div>\n",
              "<style scoped>\n",
              "    .dataframe tbody tr th:only-of-type {\n",
              "        vertical-align: middle;\n",
              "    }\n",
              "\n",
              "    .dataframe tbody tr th {\n",
              "        vertical-align: top;\n",
              "    }\n",
              "\n",
              "    .dataframe thead th {\n",
              "        text-align: right;\n",
              "    }\n",
              "</style>\n",
              "<table border=\"1\" class=\"dataframe\">\n",
              "  <thead>\n",
              "    <tr style=\"text-align: right;\">\n",
              "      <th></th>\n",
              "      <th>var1</th>\n",
              "      <th>var1_sigmoid</th>\n",
              "    </tr>\n",
              "  </thead>\n",
              "  <tbody>\n",
              "    <tr>\n",
              "      <th>0</th>\n",
              "      <td>1.465649</td>\n",
              "      <td>0.812395</td>\n",
              "    </tr>\n",
              "    <tr>\n",
              "      <th>1</th>\n",
              "      <td>-0.225776</td>\n",
              "      <td>0.443794</td>\n",
              "    </tr>\n",
              "    <tr>\n",
              "      <th>2</th>\n",
              "      <td>0.067528</td>\n",
              "      <td>0.516876</td>\n",
              "    </tr>\n",
              "    <tr>\n",
              "      <th>3</th>\n",
              "      <td>-1.424748</td>\n",
              "      <td>0.193918</td>\n",
              "    </tr>\n",
              "    <tr>\n",
              "      <th>4</th>\n",
              "      <td>-0.544383</td>\n",
              "      <td>0.367169</td>\n",
              "    </tr>\n",
              "    <tr>\n",
              "      <th>5</th>\n",
              "      <td>0.110923</td>\n",
              "      <td>0.527702</td>\n",
              "    </tr>\n",
              "    <tr>\n",
              "      <th>6</th>\n",
              "      <td>-1.150994</td>\n",
              "      <td>0.240308</td>\n",
              "    </tr>\n",
              "    <tr>\n",
              "      <th>7</th>\n",
              "      <td>0.375698</td>\n",
              "      <td>0.592835</td>\n",
              "    </tr>\n",
              "    <tr>\n",
              "      <th>8</th>\n",
              "      <td>-0.600639</td>\n",
              "      <td>0.354198</td>\n",
              "    </tr>\n",
              "    <tr>\n",
              "      <th>9</th>\n",
              "      <td>-0.291694</td>\n",
              "      <td>0.427589</td>\n",
              "    </tr>\n",
              "  </tbody>\n",
              "</table>\n",
              "</div>"
            ],
            "text/plain": [
              "       var1  var1_sigmoid\n",
              "0  1.465649      0.812395\n",
              "1 -0.225776      0.443794\n",
              "2  0.067528      0.516876\n",
              "3 -1.424748      0.193918\n",
              "4 -0.544383      0.367169\n",
              "5  0.110923      0.527702\n",
              "6 -1.150994      0.240308\n",
              "7  0.375698      0.592835\n",
              "8 -0.600639      0.354198\n",
              "9 -0.291694      0.427589"
            ]
          },
          "metadata": {
            "tags": []
          },
          "execution_count": 324
        }
      ]
    },
    {
      "cell_type": "markdown",
      "metadata": {
        "id": "nGYEuQmqoPmW"
      },
      "source": [
        "# Ćwiczenie 42\n",
        "\n",
        "Wczytaj plik 'data4.csv'. Następnie wykorzystując funkcję StandardScaler() z pakietu scikit-learn dokonaj standaryzacji kolumn. Wyświetl wystandaryzowany Data Frame."
      ]
    },
    {
      "cell_type": "code",
      "metadata": {
        "colab": {
          "base_uri": "https://localhost:8080/"
        },
        "id": "-AMCxV_3mmWj",
        "outputId": "11414447-4b47-4f5a-df7e-147c73b89ae2"
      },
      "source": [
        "# Wczytanie danych do standaryzacji:\n",
        "np.set_printoptions(precision = 4, suppress = True)\n",
        "dane = pd.read_csv('/content/drive/MyDrive/Colab Notebooks/Pliki pomocnicze/data4.csv', delimiter = ',')\n",
        "print(dane)\n",
        "\n",
        "# Utworzenie skalera:\n",
        "scaler = StandardScaler()\n",
        "\n",
        "# Wytrenowanie skalera:\n",
        "scaler.fit(dane)\n",
        "\n",
        "# Dane przeskalowane:\n",
        "dane_scalled = scaler.fit_transform(dane)\n",
        "print(dane_scalled[:5])"
      ],
      "execution_count": null,
      "outputs": [
        {
          "output_type": "stream",
          "text": [
            "      var1   var2    var3    var4     var5\n",
            "0    12.47  18.60   81.09   481.9  0.09965\n",
            "1    18.94  21.31  123.60  1130.0  0.09009\n",
            "2    15.46  19.48  101.70   748.9  0.10920\n",
            "3    12.40  17.68   81.47   467.8  0.10540\n",
            "4    11.54  14.44   74.65   402.9  0.09984\n",
            "..     ...    ...     ...     ...      ...\n",
            "138  14.64  15.24   95.77   651.9  0.11320\n",
            "139  14.45  20.22   94.49   642.7  0.09872\n",
            "140  11.04  16.83   70.92   373.2  0.10770\n",
            "141  19.81  22.15  130.00  1260.0  0.09831\n",
            "142  10.26  12.22   65.75   321.6  0.09996\n",
            "\n",
            "[143 rows x 5 columns]\n",
            "[[-0.4785 -0.2137 -0.4584 -0.5114  0.0636]\n",
            " [ 1.3742  0.3895  1.2924  1.4055 -0.616 ]\n",
            " [ 0.3777 -0.0178  0.3905  0.2783  0.7424]\n",
            " [-0.4986 -0.4185 -0.4427 -0.5531  0.4723]\n",
            " [-0.7449 -1.1397 -0.7236 -0.745   0.0771]]\n"
          ],
          "name": "stdout"
        }
      ]
    },
    {
      "cell_type": "markdown",
      "metadata": {
        "id": "Lwfv_uecqAK3"
      },
      "source": [
        "# Ćwiczenie 43\n",
        "\n",
        "Wczytaj pliki 'X_train.csv' oraz 'X_test.csv'. do obiektów Data Frame. Następnie, wykorzystując funkcję StandardScaller() z pakietu scikit-learn dokonaj standaryzacji danych. Dane dopasuj na zbiorze uczącym X_train."
      ]
    },
    {
      "cell_type": "code",
      "metadata": {
        "colab": {
          "base_uri": "https://localhost:8080/",
          "height": 229
        },
        "id": "dBP2QMCJpbM8",
        "outputId": "1fc89f92-3e04-48ad-fcd1-a52995ec99ed"
      },
      "source": [
        "# Wczytanie danych:\n",
        "X_train = pd.read_csv('/content/drive/MyDrive/Colab Notebooks/Pliki pomocnicze/X_train.csv', delimiter = ',')\n",
        "X_test = pd.read_csv('/content/drive/MyDrive/Colab Notebooks/Pliki pomocnicze/X_test.csv', delimiter = ',')\n",
        "\n",
        "# Utworzenie skalera:\n",
        "scaler = StandardScaler()\n",
        "\n",
        "# Wytrenowanie skalera:\n",
        "scaler.fit(X_train)\n",
        "\n",
        "# Użycie skalera:\n",
        "X_train_sc = scaler.transform(X_train)\n",
        "X_test_sc = scaler.transform(X_test)\n",
        "\n",
        "print(X_train_sc[:5], \"\\n\\n\", X_test_sc[:5])\n"
      ],
      "execution_count": null,
      "outputs": [
        {
          "output_type": "error",
          "ename": "NameError",
          "evalue": "ignored",
          "traceback": [
            "\u001b[0;31m---------------------------------------------------------------------------\u001b[0m",
            "\u001b[0;31mNameError\u001b[0m                                 Traceback (most recent call last)",
            "\u001b[0;32m<ipython-input-1-0f9370f9b1fb>\u001b[0m in \u001b[0;36m<module>\u001b[0;34m()\u001b[0m\n\u001b[1;32m      1\u001b[0m \u001b[0;31m# Wczytanie danych:\u001b[0m\u001b[0;34m\u001b[0m\u001b[0;34m\u001b[0m\u001b[0;34m\u001b[0m\u001b[0m\n\u001b[0;32m----> 2\u001b[0;31m \u001b[0mX_train\u001b[0m \u001b[0;34m=\u001b[0m \u001b[0mpd\u001b[0m\u001b[0;34m.\u001b[0m\u001b[0mread_csv\u001b[0m\u001b[0;34m(\u001b[0m\u001b[0;34m'/content/drive/MyDrive/Colab Notebooks/Pliki pomocnicze/X_train.csv'\u001b[0m\u001b[0;34m,\u001b[0m \u001b[0mdelimiter\u001b[0m \u001b[0;34m=\u001b[0m \u001b[0;34m','\u001b[0m\u001b[0;34m)\u001b[0m\u001b[0;34m\u001b[0m\u001b[0;34m\u001b[0m\u001b[0m\n\u001b[0m\u001b[1;32m      3\u001b[0m \u001b[0mX_test\u001b[0m \u001b[0;34m=\u001b[0m \u001b[0mpd\u001b[0m\u001b[0;34m.\u001b[0m\u001b[0mread_csv\u001b[0m\u001b[0;34m(\u001b[0m\u001b[0;34m'/content/drive/MyDrive/Colab Notebooks/Pliki pomocnicze/X_test.csv'\u001b[0m\u001b[0;34m,\u001b[0m \u001b[0mdelimiter\u001b[0m \u001b[0;34m=\u001b[0m \u001b[0;34m','\u001b[0m\u001b[0;34m)\u001b[0m\u001b[0;34m\u001b[0m\u001b[0;34m\u001b[0m\u001b[0m\n\u001b[1;32m      4\u001b[0m \u001b[0;34m\u001b[0m\u001b[0m\n\u001b[1;32m      5\u001b[0m \u001b[0;31m# Utworzenie skalera:\u001b[0m\u001b[0;34m\u001b[0m\u001b[0;34m\u001b[0m\u001b[0;34m\u001b[0m\u001b[0m\n",
            "\u001b[0;31mNameError\u001b[0m: name 'pd' is not defined"
          ]
        }
      ]
    },
    {
      "cell_type": "markdown",
      "metadata": {
        "id": "iwXm77P9MwpX"
      },
      "source": [
        "# Ćwiczenie 44\n",
        "\n",
        "Stwórz funkcję \"entropy()\" z wykorzystaniem pakietu numpy. Następnie, za pomocą tej funkcji, wylicz zawartość trzeciej kolumny tabeli o nazwie 'entropy'."
      ]
    },
    {
      "cell_type": "code",
      "metadata": {
        "id": "y8qUHnobrK6l",
        "colab": {
          "base_uri": "https://localhost:8080/",
          "height": 314
        },
        "outputId": "f23f96d5-8f02-46c1-9df3-3e0c8d7bd0ae"
      },
      "source": [
        "# Steorzenie funkcji entropy():\n",
        "def entropy(x):\n",
        "  return np.round(-np.sum(x * np.log2(x)), 4)\n",
        "\n",
        "# Dane do analizy:\n",
        "data = pd.DataFrame({'val_1': np.arange(0.09, 0.99, 0.1), 'val_2': np.arange(0.99, 0.09, -0.1)})\n",
        "data['entropy'] = entropy([data['val_1'] * data['val_2']])\n",
        "data"
      ],
      "execution_count": null,
      "outputs": [
        {
          "output_type": "execute_result",
          "data": {
            "text/html": [
              "<div>\n",
              "<style scoped>\n",
              "    .dataframe tbody tr th:only-of-type {\n",
              "        vertical-align: middle;\n",
              "    }\n",
              "\n",
              "    .dataframe tbody tr th {\n",
              "        vertical-align: top;\n",
              "    }\n",
              "\n",
              "    .dataframe thead th {\n",
              "        text-align: right;\n",
              "    }\n",
              "</style>\n",
              "<table border=\"1\" class=\"dataframe\">\n",
              "  <thead>\n",
              "    <tr style=\"text-align: right;\">\n",
              "      <th></th>\n",
              "      <th>val_1</th>\n",
              "      <th>val_2</th>\n",
              "      <th>entropy</th>\n",
              "    </tr>\n",
              "  </thead>\n",
              "  <tbody>\n",
              "    <tr>\n",
              "      <th>0</th>\n",
              "      <td>0.09</td>\n",
              "      <td>0.99</td>\n",
              "      <td>4.2065</td>\n",
              "    </tr>\n",
              "    <tr>\n",
              "      <th>1</th>\n",
              "      <td>0.19</td>\n",
              "      <td>0.89</td>\n",
              "      <td>4.2065</td>\n",
              "    </tr>\n",
              "    <tr>\n",
              "      <th>2</th>\n",
              "      <td>0.29</td>\n",
              "      <td>0.79</td>\n",
              "      <td>4.2065</td>\n",
              "    </tr>\n",
              "    <tr>\n",
              "      <th>3</th>\n",
              "      <td>0.39</td>\n",
              "      <td>0.69</td>\n",
              "      <td>4.2065</td>\n",
              "    </tr>\n",
              "    <tr>\n",
              "      <th>4</th>\n",
              "      <td>0.49</td>\n",
              "      <td>0.59</td>\n",
              "      <td>4.2065</td>\n",
              "    </tr>\n",
              "    <tr>\n",
              "      <th>5</th>\n",
              "      <td>0.59</td>\n",
              "      <td>0.49</td>\n",
              "      <td>4.2065</td>\n",
              "    </tr>\n",
              "    <tr>\n",
              "      <th>6</th>\n",
              "      <td>0.69</td>\n",
              "      <td>0.39</td>\n",
              "      <td>4.2065</td>\n",
              "    </tr>\n",
              "    <tr>\n",
              "      <th>7</th>\n",
              "      <td>0.79</td>\n",
              "      <td>0.29</td>\n",
              "      <td>4.2065</td>\n",
              "    </tr>\n",
              "    <tr>\n",
              "      <th>8</th>\n",
              "      <td>0.89</td>\n",
              "      <td>0.19</td>\n",
              "      <td>4.2065</td>\n",
              "    </tr>\n",
              "  </tbody>\n",
              "</table>\n",
              "</div>"
            ],
            "text/plain": [
              "   val_1  val_2  entropy\n",
              "0   0.09   0.99   4.2065\n",
              "1   0.19   0.89   4.2065\n",
              "2   0.29   0.79   4.2065\n",
              "3   0.39   0.69   4.2065\n",
              "4   0.49   0.59   4.2065\n",
              "5   0.59   0.49   4.2065\n",
              "6   0.69   0.39   4.2065\n",
              "7   0.79   0.29   4.2065\n",
              "8   0.89   0.19   4.2065"
            ]
          },
          "metadata": {
            "tags": []
          },
          "execution_count": 4
        }
      ]
    },
    {
      "cell_type": "markdown",
      "metadata": {
        "id": "musZ0LlwM8Ej"
      },
      "source": [
        "# Ćwiczenie 45\n",
        "\n",
        "W pliku znajdują się wyniki predykcji na podstawie pewnego modelu klasyfikacji wieloklasowej (3 klasy). Kolumna y_true opisuje rzeczywiste wartoście, zaś kolumna y_pred wartości przewidziane przez model. Wykorzystując funkcję accuracy_score() z pakietu scikit-learn policz dokładność tego modelu."
      ]
    },
    {
      "cell_type": "code",
      "metadata": {
        "colab": {
          "base_uri": "https://localhost:8080/",
          "height": 212
        },
        "id": "jopsCoeFM9ln",
        "outputId": "830c0bf7-1a8e-45e2-fcc2-f0442d22f7aa"
      },
      "source": [
        "# Dane:\n",
        "data = pd.DataFrame({'y_true': [1,0,1,2,1,0,1,1,0,1,0,1,1,0,2,1,1,2,2,1,0,1,1,0,2,1,1,2],\n",
        "                    'y_pred': [0,0,1,2,1,1,1,1,0,2,0,1,1,0,2,2,1,0,2,1,0,1,1,0,1,1,1,2]})\n",
        "data\n",
        "\n",
        "# Współczynnik dokładności:\n",
        "acc = accuracy_score(data['y_true'], data['y_pred'])\n",
        "print(round(float(acc), 4))"
      ],
      "execution_count": 7,
      "outputs": [
        {
          "output_type": "error",
          "ename": "NameError",
          "evalue": "ignored",
          "traceback": [
            "\u001b[0;31m---------------------------------------------------------------------------\u001b[0m",
            "\u001b[0;31mNameError\u001b[0m                                 Traceback (most recent call last)",
            "\u001b[0;32m<ipython-input-7-8762484430cf>\u001b[0m in \u001b[0;36m<module>\u001b[0;34m()\u001b[0m\n\u001b[1;32m      5\u001b[0m \u001b[0;34m\u001b[0m\u001b[0m\n\u001b[1;32m      6\u001b[0m \u001b[0;31m# Współczynnik dokładności:\u001b[0m\u001b[0;34m\u001b[0m\u001b[0;34m\u001b[0m\u001b[0;34m\u001b[0m\u001b[0m\n\u001b[0;32m----> 7\u001b[0;31m \u001b[0macc\u001b[0m \u001b[0;34m=\u001b[0m \u001b[0maccuracy_score\u001b[0m\u001b[0;34m(\u001b[0m\u001b[0mdata\u001b[0m\u001b[0;34m[\u001b[0m\u001b[0;34m'y_true'\u001b[0m\u001b[0;34m]\u001b[0m\u001b[0;34m,\u001b[0m \u001b[0mdata\u001b[0m\u001b[0;34m[\u001b[0m\u001b[0;34m'y_pred'\u001b[0m\u001b[0;34m]\u001b[0m\u001b[0;34m)\u001b[0m\u001b[0;34m\u001b[0m\u001b[0;34m\u001b[0m\u001b[0m\n\u001b[0m\u001b[1;32m      8\u001b[0m \u001b[0mprint\u001b[0m\u001b[0;34m(\u001b[0m\u001b[0mround\u001b[0m\u001b[0;34m(\u001b[0m\u001b[0mfloat\u001b[0m\u001b[0;34m(\u001b[0m\u001b[0macc\u001b[0m\u001b[0;34m)\u001b[0m\u001b[0;34m,\u001b[0m \u001b[0;36m4\u001b[0m\u001b[0;34m)\u001b[0m\u001b[0;34m)\u001b[0m\u001b[0;34m\u001b[0m\u001b[0;34m\u001b[0m\u001b[0m\n",
            "\u001b[0;31mNameError\u001b[0m: name 'accuracy_score' is not defined"
          ]
        }
      ]
    }
  ]
}