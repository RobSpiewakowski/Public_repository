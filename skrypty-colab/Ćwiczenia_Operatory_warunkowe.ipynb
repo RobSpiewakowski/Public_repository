{
  "nbformat": 4,
  "nbformat_minor": 0,
  "metadata": {
    "kernelspec": {
      "display_name": "Python 3",
      "language": "python",
      "name": "python3"
    },
    "language_info": {
      "codemirror_mode": {
        "name": "ipython",
        "version": 3
      },
      "file_extension": ".py",
      "mimetype": "text/x-python",
      "name": "python",
      "nbconvert_exporter": "python",
      "pygments_lexer": "ipython3",
      "version": "3.8.5"
    },
    "colab": {
      "name": "Ćwiczenia - Operatory warunkowe.ipynb",
      "provenance": [],
      "include_colab_link": true
    }
  },
  "cells": [
    {
      "cell_type": "markdown",
      "metadata": {
        "id": "view-in-github",
        "colab_type": "text"
      },
      "source": [
        "<a href=\"https://colab.research.google.com/github/RobSpiewakowski/nauka-data-science/blob/main/skrypty-colab/%C4%86wiczenia_Operatory_warunkowe.ipynb\" target=\"_parent\"><img src=\"https://colab.research.google.com/assets/colab-badge.svg\" alt=\"Open In Colab\"/></a>"
      ]
    },
    {
      "cell_type": "code",
      "metadata": {
        "id": "pU1sVzczWyGd",
        "outputId": "120f4a3f-6d1e-4dc4-8fd5-ee7cdc7d2eda"
      },
      "source": [
        "# Operator IF - sprawdzamy spełnienie kilku warunków:\n",
        "print('W tym algorytmie sprawdzimy, czy możemy sprzedać klientowi alkohol. Warunki są trzy: musi mieć ukończone 18 lat, musi być trzeźwy i nie mogą trwać godziny dla seniorów - 10:00 - 12:00. Napiszemy teraz instrukcję.')\n",
        "Age = 36\n",
        "IsDrunk = False\n",
        "Time = False\n",
        "\n",
        "if Age >= 18 and not IsDrunk and not Time:\n",
        "    print('Zapraszamy do zakupów :-)')\n",
        "else:\n",
        "    print('Wyjazd!!!')"
      ],
      "execution_count": null,
      "outputs": [
        {
          "output_type": "stream",
          "text": [
            "W tym algorytmie sprawdzimy, czy możemy sprzedać klientowi alkohol. Warunki są trzy: musi mieć ukończone 18 lat, musi być trzeźwy i nie mogą trwać godziny dla seniorów - 10:00 - 12:00. Napiszemy teraz instrukcję.\n",
            "Zapraszamy do zakupów :-)\n"
          ],
          "name": "stdout"
        }
      ]
    },
    {
      "cell_type": "code",
      "metadata": {
        "id": "zj8ykCrNWyGl",
        "outputId": "c6691720-4aa9-47d4-9832-7f5c9969f6b5"
      },
      "source": [
        "# Ćwiczenia z Udemy:\n",
        "# 1\n",
        "MinLikes = 500.0\n",
        "MinShares = 100.0\n",
        "\n",
        "num_likes = float(input('Ile like-ów?'))\n",
        "num_shares = float(input('Ile share-ów?'))\n",
        "\n",
        "if num_likes >= MinLikes and num_shares >= MinShares:\n",
        "    print('Dziś obniżamy ceny o 10 %!!!')\n",
        "else:\n",
        "    print('Nihooya. Dziś kupujecie 10 % drożej!')"
      ],
      "execution_count": null,
      "outputs": [
        {
          "output_type": "stream",
          "text": [
            "Ile like-ów?2\n",
            "Ile share-ów?2\n",
            "Nihooya. Dziś kupujecie 10 % drożej!\n",
            "Darmowy Burger!\n"
          ],
          "name": "stdout"
        }
      ]
    },
    {
      "cell_type": "code",
      "metadata": {
        "id": "-bYgPrC7WyGm",
        "outputId": "7a22fa99-52e8-471a-8c07-bf30a1939da8"
      },
      "source": [
        "# Ćwiczenia z Udemy:\n",
        "# 2\n",
        "isPizza = False\n",
        "isBigDrink = True\n",
        "isWeekend = False\n",
        "\n",
        "if isPizza and isBigDrink and not isWeekend:\n",
        "    print('Darmowy Burger!')\n",
        "else:\n",
        "    print('doopa')"
      ],
      "execution_count": null,
      "outputs": [
        {
          "output_type": "stream",
          "text": [
            "doopa\n"
          ],
          "name": "stdout"
        }
      ]
    },
    {
      "cell_type": "code",
      "metadata": {
        "id": "4f9YrGGYWyGn",
        "outputId": "cb202a47-c25e-4f27-9103-ea11f547f1c2"
      },
      "source": [
        "# Ćwiczenia z Udemy:\n",
        "# 3\n",
        "diskSize = 1000.00\n",
        "diskUsed = 0.0\n",
        "fileSize = float(input('Ile waży plik'))\n",
        "if fileSize > (diskSize - diskUsed):\n",
        "    print('Masz za mało miejsca.')\n",
        "    print(diskSize - diskUsed)\n",
        "else:\n",
        "    print('Ściągamy :-)')\n",
        "    diskUsed =+ fileSize\n",
        "    print('Masz zapchane:', diskUsed, '. Pozostało Ci jeszcze: ', (diskSize - diskUsed))"
      ],
      "execution_count": null,
      "outputs": [
        {
          "output_type": "stream",
          "text": [
            "Ile waży plik13\n",
            "Ściągamy :-)\n",
            "Masz zapchane: 13.0 . Pozostało Ci jeszcze:  987.0\n"
          ],
          "name": "stdout"
        }
      ]
    },
    {
      "cell_type": "code",
      "metadata": {
        "id": "jVfdcwIcWyGn",
        "outputId": "e9b20f78-76ae-436a-937f-18a87b7674a1"
      },
      "source": [
        "# Elif:\n",
        "# 1\n",
        "MinLikes = 500.0\n",
        "MinShares = 100.0\n",
        "\n",
        "num_likes = float(input('Ile like-ów?'))\n",
        "num_shares = float(input('Ile share-ów?'))\n",
        "\n",
        "if num_likes < MinLikes:\n",
        "    print('Za mało lajków :-(')\n",
        "elif num_shares < MinShares:\n",
        "    print('Za mało szerów...')\n",
        "else:\n",
        "    print('Dziś obniżamy ceny o 10 %!!!')"
      ],
      "execution_count": null,
      "outputs": [
        {
          "output_type": "stream",
          "text": [
            "Ile like-ów?665\n",
            "Ile share-ów?559\n",
            "Dziś obniżamy ceny o 10 %!!!\n"
          ],
          "name": "stdout"
        }
      ]
    },
    {
      "cell_type": "code",
      "metadata": {
        "id": "JO0TxWLKWyGo",
        "outputId": "22b0d61c-edc8-4a20-b72e-76add41130b3"
      },
      "source": [
        "# Elif:\n",
        "# 2\n",
        "isPizza = True\n",
        "isBigDrink = False\n",
        "isWeekend = False\n",
        "\n",
        "if isWeekend:\n",
        "    print('Trzeba było przyjść w dni robocze...')\n",
        "elif not isPizza:\n",
        "    print('A gdzie pizza?')\n",
        "elif not isBigDrink:\n",
        "    print('A gdzie napój?')\n",
        "else:\n",
        "    print('Masz hamburgera za friko!')"
      ],
      "execution_count": null,
      "outputs": [
        {
          "output_type": "stream",
          "text": [
            "A gdzie napój?\n"
          ],
          "name": "stdout"
        }
      ]
    },
    {
      "cell_type": "code",
      "metadata": {
        "id": "2WM2PdaTWyGo",
        "outputId": "3edf92e0-9fde-4ff5-9f1b-9a3e66e920f1"
      },
      "source": [
        "# Jeszcze jedna sztuczka z IF - Ternary Operator:\n",
        "print('A czy można coś zrobić, żeby nasze if nie ciągnęło się kilometrami??? Paczaj tu. Teraz przykład:')\n",
        "# Zapis tradycyjny:\n",
        "itRains = True\n",
        "if itRains:\n",
        "    print('We stay at home.')\n",
        "else:\n",
        "    print('Wo go out.')\n",
        "# Zapis krótszy...\n",
        "print('We stay at home.' if itRains else 'We go out.')\n",
        "print('Oto jednolinijkowe wyrażenie, które może skrócić nam kodowanie, jeśli mamy do sprawdzenia jeden prosty warunek. znaczenie jest to samo.')"
      ],
      "execution_count": null,
      "outputs": [
        {
          "output_type": "stream",
          "text": [
            "A czy można coś zrobić, żeby nasze if nie ciągnęło się kilometrami??? Paczaj tu. Teraz przykład:\n",
            "We stay at home.\n",
            "We stay at home.\n",
            "Oto jednolinijkowe wyrażenie, które może skrócić nam kodowanie, jeśli mamy do sprawdzenia jeden prosty warunek. znaczenie jest to samo.\n"
          ],
          "name": "stdout"
        }
      ]
    },
    {
      "cell_type": "code",
      "metadata": {
        "id": "OUf_aHEfWyGp",
        "outputId": "161a98f5-45f7-40dd-d5b0-f8fd071c4b23"
      },
      "source": [
        "# Ćwiczenia z udemy IF:\n",
        "# 1\n",
        "musclePain = True\n",
        "fever = True\n",
        "weakness = False\n",
        "# 2\n",
        "if musclePain and fever and weakness:\n",
        "    print('suspicion or influenza')\n",
        "else:\n",
        "    print('the flu is unlikely')\n",
        "# 3\n",
        "if not fever and not musclePain and weakness:\n",
        "    print('Just take a rest.')\n",
        "elif fever and musclePain and not weakness:\n",
        "    print('You may be cold.')\n",
        "elif fever and musclePain and weakness:\n",
        "    print('suspicion or influenza.')\n",
        "else:\n",
        "    print('Who knows?')\n",
        "# 4\n",
        "isMan = False\n",
        "# 5\n",
        "if isMan and musclePain or fever or weakness:\n",
        "    print('You will die soon!')\n",
        "elif not isMan and fever and not musclePain and weakness:\n",
        "    print('Just take a rest.')\n",
        "elif not isMan and fever and musclePain and not weakness:\n",
        "    print('You may be cold.')\n",
        "elif not isMan and fever and musclePain and weakness:\n",
        "    print('suspicion or influenza.')\n",
        "else:\n",
        "    print('Who knows')"
      ],
      "execution_count": null,
      "outputs": [
        {
          "output_type": "stream",
          "text": [
            "the flu is unlikely\n",
            "You may be cold.\n",
            "You will die soon!\n"
          ],
          "name": "stdout"
        }
      ]
    },
    {
      "cell_type": "code",
      "metadata": {
        "id": "D-KGyx0fWyGp"
      },
      "source": [
        ""
      ],
      "execution_count": null,
      "outputs": []
    }
  ]
}