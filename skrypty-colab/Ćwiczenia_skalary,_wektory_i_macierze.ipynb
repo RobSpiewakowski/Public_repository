{
  "nbformat": 4,
  "nbformat_minor": 0,
  "metadata": {
    "colab": {
      "name": "Ćwiczenia - skalary, wektory i macierze",
      "provenance": [],
      "authorship_tag": "ABX9TyPXWDfsrIJ99nGXd6GkoS1B",
      "include_colab_link": true
    },
    "kernelspec": {
      "name": "python3",
      "display_name": "Python 3"
    },
    "language_info": {
      "name": "python"
    }
  },
  "cells": [
    {
      "cell_type": "markdown",
      "metadata": {
        "id": "view-in-github",
        "colab_type": "text"
      },
      "source": [
        "<a href=\"https://colab.research.google.com/github/RobSpiewakowski/nauka-data-science/blob/main/skrypty-colab/%C4%86wiczenia_skalary%2C_wektory_i_macierze.ipynb\" target=\"_parent\"><img src=\"https://colab.research.google.com/assets/colab-badge.svg\" alt=\"Open In Colab\"/></a>"
      ]
    },
    {
      "cell_type": "code",
      "metadata": {
        "id": "lSkiCthpg2SZ"
      },
      "source": [
        "import numpy as np\n",
        "def kreski():\n",
        "  print(\"---------------------\")"
      ],
      "execution_count": null,
      "outputs": []
    },
    {
      "cell_type": "code",
      "metadata": {
        "colab": {
          "base_uri": "https://localhost:8080/"
        },
        "id": "R3lclbrxgpMf",
        "outputId": "29f45f8e-ae75-47fe-f619-3186b5de9cf6"
      },
      "source": [
        "# Definiowanie zmiennej skalarnej:\n",
        "a = 5\n",
        "b = np.array(6)\n",
        "\n",
        "# Definiowanie wektora:\n",
        "c = np.array([1, 5, 10, 15, -25])\n",
        "\n",
        "# Definiowanie macierzy:\n",
        "d = np.array([[1, 6, 9], [-9, 2, 0], [-9, 12, -4]])\n",
        "\n",
        "print(a, type(a))\n",
        "kreski()\n",
        "print(b, type(b))\n",
        "kreski()\n",
        "print(c, type(c))\n",
        "kreski()\n",
        "print(d, type(d))"
      ],
      "execution_count": null,
      "outputs": [
        {
          "output_type": "stream",
          "text": [
            "5 <class 'int'>\n",
            "---------------------\n",
            "6 <class 'numpy.ndarray'>\n",
            "---------------------\n",
            "[  1   5  10  15 -25] <class 'numpy.ndarray'>\n",
            "---------------------\n",
            "[[ 1  6  9]\n",
            " [-9  2  0]\n",
            " [-9 12 -4]] <class 'numpy.ndarray'>\n"
          ],
          "name": "stdout"
        }
      ]
    },
    {
      "cell_type": "code",
      "metadata": {
        "colab": {
          "base_uri": "https://localhost:8080/"
        },
        "id": "MYYtMOluhWtS",
        "outputId": "c3536f53-bfe3-4f90-d962-d762c0e82bac"
      },
      "source": [
        "# Sprawdzanie rozmiaru obiektu:\n",
        "print(b.shape)\n",
        "kreski()\n",
        "print(c.shape)\n",
        "kreski()\n",
        "print(d.shape)"
      ],
      "execution_count": null,
      "outputs": [
        {
          "output_type": "stream",
          "text": [
            "()\n",
            "---------------------\n",
            "(5,)\n",
            "---------------------\n",
            "(3, 3)\n"
          ],
          "name": "stdout"
        }
      ]
    },
    {
      "cell_type": "code",
      "metadata": {
        "colab": {
          "base_uri": "https://localhost:8080/"
        },
        "id": "6HnTQXQpize5",
        "outputId": "a9a339cc-4de1-4e64-a77b-2a1f6d4a29c9"
      },
      "source": [
        "# Transpozycja wektora / macierzy:\n",
        "c.reshape(5,1)"
      ],
      "execution_count": null,
      "outputs": [
        {
          "output_type": "execute_result",
          "data": {
            "text/plain": [
              "array([[  1],\n",
              "       [  5],\n",
              "       [ 10],\n",
              "       [ 15],\n",
              "       [-25]])"
            ]
          },
          "metadata": {
            "tags": []
          },
          "execution_count": 19
        }
      ]
    },
    {
      "cell_type": "code",
      "metadata": {
        "colab": {
          "base_uri": "https://localhost:8080/"
        },
        "id": "TTAYm8PdjjQ5",
        "outputId": "0a8617eb-42a6-4f99-8fca-55d53db93843"
      },
      "source": [
        "c.reshape(1,5)"
      ],
      "execution_count": null,
      "outputs": [
        {
          "output_type": "execute_result",
          "data": {
            "text/plain": [
              "array([[  1,   5,  10,  15, -25]])"
            ]
          },
          "metadata": {
            "tags": []
          },
          "execution_count": 21
        }
      ]
    },
    {
      "cell_type": "code",
      "metadata": {
        "colab": {
          "base_uri": "https://localhost:8080/"
        },
        "id": "k2h_I36XjozX",
        "outputId": "0dfdc5dc-7792-43a6-e746-87b8282d5b6e"
      },
      "source": [
        "# Operacje na obiektach - dodawanie macierzy:\n",
        "m1 = np.array([[1, 6, 8], [-9, 2, 7]])\n",
        "m2 = np.array([[6, 4, -4], [-9, 0, 2]])\n",
        "\n",
        "m3 = m1 + m2\n",
        "print(\"dodawanie macierzy: \\n\", m3)\n",
        "kreski()\n",
        "\n",
        "# Operacje na obiektach - odejmowanie macierzy:\n",
        "m4 = m1 - m2\n",
        "print(\"odejmowanie macierzy: \\n\", m4)\n",
        "kreski()\n",
        "\n",
        "# Operacje na obiektach - mnożenie macierzy:\n",
        "# Warunkiem powodzenia mnożenia macierzy jest, żeby macierz 1 musi mieć tyle wierszy ile kolumn ma macierz 2:\n",
        "m5 = np.dot(m1.reshape(3,2), m2)\n",
        "print(\"mnożenie macierzy 3x2 i 2x3: \\n\", m5)\n",
        "kreski()\n",
        "# Mnożenie macierzy NIE jest przemienne!\n",
        "m6 = np.dot(m2, m1.reshape(3, 2))\n",
        "print(\"mnożenie macierzy 2x3 i 3x2: \\n\", m6)\n",
        "kreski()\n",
        "\n",
        "# Operacje na obiektach - dzielenie tablicowe macierzy:\n",
        "# Dzielenie elementu macierzy a przez odpowiadający jej element macierzy b. Macierze muszą mieć te same wymiary:\n",
        "m7 = np.divide(m2, m1)\n",
        "print(\"Dzielenie tablicowe macierzy: \\n\", m7)"
      ],
      "execution_count": null,
      "outputs": [
        {
          "output_type": "stream",
          "text": [
            "dodawanie macierzy: \n",
            " [[  7  10   4]\n",
            " [-18   2   9]]\n",
            "---------------------\n",
            "odejmowanie macierzy: \n",
            " [[-5  2 12]\n",
            " [ 0  2  5]]\n",
            "---------------------\n",
            "mnożenie macierzy 3x2 i 2x3: \n",
            " [[-48   4   8]\n",
            " [129  32 -50]\n",
            " [-51   8   6]]\n",
            "---------------------\n",
            "mnożenie macierzy 2x3 i 3x2: \n",
            " [[ 30 -28]\n",
            " [ -5 -40]]\n",
            "---------------------\n",
            "Dzielenie tablicowe macierzy: \n",
            " [[ 6.          0.66666667 -0.5       ]\n",
            " [ 1.          0.          0.28571429]]\n"
          ],
          "name": "stdout"
        }
      ]
    },
    {
      "cell_type": "code",
      "metadata": {
        "colab": {
          "base_uri": "https://localhost:8080/"
        },
        "id": "4x5IPhgfkCwB",
        "outputId": "b4c6aa02-c73b-4378-efa1-6ad8d3d0f4c5"
      },
      "source": [
        "# Operacje na wektorach - dodawanie wektorów:\n",
        "w1 = np.array([1, 2, 3, 4])\n",
        "w2 = np.array([5, 6, 7, 8])\n",
        "\n",
        "w3 = w1 + w2\n",
        "print(\"dodawanie wektorów: \\n\", w3)\n",
        "kreski()\n",
        "\n",
        "# Operacje na wektorach - odejmowanie wektorów:\n",
        "w4 = w2 - w1\n",
        "print(\"odejmowanie wektorów: \\n\", w4)\n",
        "kreski()\n",
        "\n",
        "# Operacje na wektorach - mnożenie skalarne:\n",
        "w5 = np.dot(w1, w2)\n",
        "print(\"iloczyn skalarny wektorów: \\n\", w5)\n",
        "kreski()\n",
        "\n",
        "# Operacje na wektorach - mnożenie przez skalar:\n",
        "w6 = 2*w1\n",
        "print(\"mnożenie wektora przez liczbę: \\n\", w6)\n",
        "kreski()"
      ],
      "execution_count": null,
      "outputs": [
        {
          "output_type": "stream",
          "text": [
            "dodawanie wektorów: \n",
            " [ 6  8 10 12]\n",
            "---------------------\n",
            "odejmowanie wektorów: \n",
            " [4 4 4 4]\n",
            "---------------------\n",
            "iloczyn skalarny wektorów: \n",
            " 70\n",
            "---------------------\n",
            "mnożenie wektora przez liczbę: \n",
            " [2 4 6 8]\n",
            "---------------------\n"
          ],
          "name": "stdout"
        }
      ]
    },
    {
      "cell_type": "code",
      "metadata": {
        "colab": {
          "base_uri": "https://localhost:8080/"
        },
        "id": "UGXFiYbTsqmh",
        "outputId": "a2cb6dae-22d5-424f-ebdc-eeb893a2e303"
      },
      "source": [
        "# Operacje na wektorach, macierzach i skalarach:\n",
        "# Dodawanie skalara do macierzy:\n",
        "x1 = m1 + 3\n",
        "print(\"dodawanie liczby do macierzy: \\n\", x1)\n",
        "kreski()\n",
        "\n",
        "# Dodawanie skalara do wektowa:\n",
        "x2 = w1 + 5\n",
        "print(\"dodawanie liczby do wektora: \\n\", x2)\n",
        "kreski()"
      ],
      "execution_count": null,
      "outputs": [
        {
          "output_type": "stream",
          "text": [
            "dodawanie liczby do macierzy: \n",
            " [[ 4  9 11]\n",
            " [-6  5 10]]\n",
            "---------------------\n",
            "dodawanie liczby do wektora: \n",
            " [6 7 8 9]\n",
            "---------------------\n"
          ],
          "name": "stdout"
        }
      ]
    },
    {
      "cell_type": "code",
      "metadata": {
        "colab": {
          "base_uri": "https://localhost:8080/"
        },
        "id": "AioE-nb3uyj_",
        "outputId": "dcb2301b-cc43-46a3-ccda-500dc5cf069c"
      },
      "source": [
        "# Transpozycja macierzy i wektorów:\n",
        "x3 = m2.T\n",
        "print(\"macierz m2 transponowana: \\n\", x3)\n",
        "kreski()"
      ],
      "execution_count": null,
      "outputs": [
        {
          "output_type": "stream",
          "text": [
            "macierz m2 transponowana: \n",
            " [[ 6 -9]\n",
            " [ 4  0]\n",
            " [-4  2]]\n",
            "---------------------\n"
          ],
          "name": "stdout"
        }
      ]
    },
    {
      "cell_type": "code",
      "metadata": {
        "id": "TDNdK0ezvSYe"
      },
      "source": [
        ""
      ],
      "execution_count": null,
      "outputs": []
    }
  ]
}