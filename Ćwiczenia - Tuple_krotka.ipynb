{
  "nbformat": 4,
  "nbformat_minor": 0,
  "metadata": {
    "kernelspec": {
      "display_name": "Python 3",
      "language": "python",
      "name": "python3"
    },
    "language_info": {
      "codemirror_mode": {
        "name": "ipython",
        "version": 3
      },
      "file_extension": ".py",
      "mimetype": "text/x-python",
      "name": "python",
      "nbconvert_exporter": "python",
      "pygments_lexer": "ipython3",
      "version": "3.8.5"
    },
    "colab": {
      "name": "Tuple krotka.ipynb",
      "provenance": [],
      "include_colab_link": true
    }
  },
  "cells": [
    {
      "cell_type": "markdown",
      "metadata": {
        "id": "view-in-github",
        "colab_type": "text"
      },
      "source": [
        "<a href=\"https://colab.research.google.com/github/RobSpiewakowski/nauka-data-science/blob/main/%C4%86wiczenia%20-%20Tuple_krotka.ipynb\" target=\"_parent\"><img src=\"https://colab.research.google.com/assets/colab-badge.svg\" alt=\"Open In Colab\"/></a>"
      ]
    },
    {
      "cell_type": "code",
      "metadata": {
        "id": "zgZtp_ss8mgK",
        "outputId": "4e0a177c-0acd-420e-c823-5becbcf7646f"
      },
      "source": [
        "# Listy typu Tuple (krotka):\n",
        "print('Listę typu Tuple tworzymy podobnie, jak zwykłe listy, z tym, że jej elementy umieszcza sie w nawiasie okrągłym. Oto przykład:')\n",
        "Tax = (0.2, 158, 36, 5.9, 19)\n",
        "print(Tax)"
      ],
      "execution_count": null,
      "outputs": [
        {
          "output_type": "stream",
          "text": [
            "Listę typu Tuple tworzymy podobnie, jak zwykłe listy, z tym, że jej elementy umieszcza sie w nawiasie okrągłym. Oto przykład:\n",
            "(0.2, 158, 36, 5.9, 19)\n"
          ],
          "name": "stdout"
        }
      ]
    },
    {
      "cell_type": "code",
      "metadata": {
        "id": "TQ5Nlq5Y8mgN",
        "outputId": "5515ddb8-e6ab-4436-f739-628b59462879"
      },
      "source": [
        "# analiza listy:\n",
        "print('W przypadku Tuple-a możemy zastosować te same polecenia, jak w zwykłej liście.')\n",
        "# co jest na pozycji 3\n",
        "print(Tax[2])\n",
        "# Co jest na pozycji ostatniej (pierwszej od końca)\n",
        "print(Tax[-1])\n",
        "# Na którym miejscu jest 158\n",
        "print(Tax.index(158))\n",
        "# Ile razy występuje 36\n",
        "print(Tax.count(36))"
      ],
      "execution_count": null,
      "outputs": [
        {
          "output_type": "stream",
          "text": [
            "W przypadku Tuple-a możemy zastosować te same polecenia, jak w zwykłej liście.\n",
            "36\n",
            "19\n",
            "1\n",
            "1\n"
          ],
          "name": "stdout"
        }
      ]
    },
    {
      "cell_type": "code",
      "metadata": {
        "id": "mCFYoUPv8mgO",
        "outputId": "e545fe57-e105-4f15-c6eb-e8528e00dd40"
      },
      "source": [
        "# Czym się rózni Tupple od zwykłej listy?\n",
        "print('Podstawową różnicą między zwykłą listą a Tupple jest to, że utworzonej listy typu Tupple, nie można modyfikować.')\n",
        "print('W przypadku, gdy spróbujesz zmodyfikować zawartość Tupple-a:')\n",
        "print(Tax.sort())"
      ],
      "execution_count": null,
      "outputs": [
        {
          "output_type": "stream",
          "text": [
            "Podstawową różnicą między zwykłą listą a Tupple jest to, że utworzonej listy typu Tupple, nie można modyfikować.\n",
            "W przypadku, gdy spróbujesz zmodyfikować zawartość Tupple-a:\n"
          ],
          "name": "stdout"
        },
        {
          "output_type": "error",
          "ename": "AttributeError",
          "evalue": "'tuple' object has no attribute 'sort'",
          "traceback": [
            "\u001b[1;31m---------------------------------------------------------------------------\u001b[0m",
            "\u001b[1;31mAttributeError\u001b[0m                            Traceback (most recent call last)",
            "\u001b[1;32m<ipython-input-11-f8ef869870a2>\u001b[0m in \u001b[0;36m<module>\u001b[1;34m\u001b[0m\n\u001b[0;32m      2\u001b[0m \u001b[0mprint\u001b[0m\u001b[1;33m(\u001b[0m\u001b[1;34m'Podstawową różnicą między zwykłą listą a Tupple jest to, że utworzonej listy typu Tupple, nie można modyfikować.'\u001b[0m\u001b[1;33m)\u001b[0m\u001b[1;33m\u001b[0m\u001b[1;33m\u001b[0m\u001b[0m\n\u001b[0;32m      3\u001b[0m \u001b[0mprint\u001b[0m\u001b[1;33m(\u001b[0m\u001b[1;34m'W przypadku, gdy spróbujesz zmodyfikować zawartość Tupple-a:'\u001b[0m\u001b[1;33m)\u001b[0m\u001b[1;33m\u001b[0m\u001b[1;33m\u001b[0m\u001b[0m\n\u001b[1;32m----> 4\u001b[1;33m \u001b[0mprint\u001b[0m\u001b[1;33m(\u001b[0m\u001b[0mTax\u001b[0m\u001b[1;33m.\u001b[0m\u001b[0msort\u001b[0m\u001b[1;33m(\u001b[0m\u001b[1;33m)\u001b[0m\u001b[1;33m)\u001b[0m\u001b[1;33m\u001b[0m\u001b[1;33m\u001b[0m\u001b[0m\n\u001b[0m",
            "\u001b[1;31mAttributeError\u001b[0m: 'tuple' object has no attribute 'sort'"
          ]
        }
      ]
    },
    {
      "cell_type": "code",
      "metadata": {
        "id": "bbHyOAnc8mgO",
        "outputId": "55f0566c-d9f8-4da6-bdb9-6c2657aca5c1"
      },
      "source": [
        "# Konwersja Tupple na listę:\n",
        "print('Na szczeście, możesz taką listę Tuple konwertować na zwykłą listę za pomocą polecenia list:')\n",
        "TaxList = list(Tax)\n",
        "print(TaxList)"
      ],
      "execution_count": null,
      "outputs": [
        {
          "output_type": "stream",
          "text": [
            "Na szczeście, możesz taką listę Tuple konwertować na zwykłą listę za pomocą polecenia list:\n",
            "[0.2, 158, 36, 5.9, 19]\n"
          ],
          "name": "stdout"
        }
      ]
    },
    {
      "cell_type": "code",
      "metadata": {
        "id": "exIpc_lX8mgP",
        "outputId": "21116232-cbe2-476f-b58d-c0a36eed9a52"
      },
      "source": [
        "# Konwersja listy na Tuple:\n",
        "print('Można też konwertować w drugą stronąę:')\n",
        "newTax = tuple(TaxList)\n",
        "print(newTax)"
      ],
      "execution_count": null,
      "outputs": [
        {
          "output_type": "stream",
          "text": [
            "Można też konwertować w drugą stronąę:\n",
            "(0.2, 158, 36, 5.9, 19)\n"
          ],
          "name": "stdout"
        }
      ]
    },
    {
      "cell_type": "code",
      "metadata": {
        "id": "jQ58lEub8mgQ",
        "outputId": "658ee00a-b6ec-4a28-bf70-7127175b75e3"
      },
      "source": [
        "# Zamiana wartości zmiennych:\n",
        "print('Dzięki listom typu Tuple, możesz w sprytny sposób zamieniać zmienne wartościami. Spójrz na przykład:')\n",
        "a = 11\n",
        "b = 33\n",
        "print('a =', a, 'b =', b)\n",
        "print('Teraz zamienimy wartościami a i b. Robimy to w bardzo prosty sposób:')\n",
        "(a, b) = (b, a)\n",
        "print('a =', a, 'b =', b)\n",
        "print('Czary - mary')"
      ],
      "execution_count": null,
      "outputs": [
        {
          "output_type": "stream",
          "text": [
            "Dzięki listom typu Tuple, możesz w sprytny sposób zamieniać zmienne wartościami. Spójrz na przykład:\n",
            "a = 11 b = 33\n",
            "Teraz zamienimy wartościami a i b. Robimy to w bardzo prosty sposób:\n",
            "a = 33 b = 11\n",
            "Czary - mary\n"
          ],
          "name": "stdout"
        }
      ]
    },
    {
      "cell_type": "code",
      "metadata": {
        "id": "V5HeUFgO8mgQ",
        "outputId": "f90bc6e5-08ac-4d36-efdc-5f05f6b69461"
      },
      "source": [
        "# Ćwiczenia z Udemy:\n",
        "# 1\n",
        "marketing = ['loyality program', 'client promotion', 'market research']\n",
        "print(marketing)\n",
        "# 2\n",
        "marketing.append('public relations')\n",
        "print(marketing)\n",
        "# 3\n",
        "print(marketing[2])\n",
        "# 4\n",
        "marketing.insert(1, 'investor relations')\n",
        "print(marketing)\n",
        "# 5\n",
        "emailMarketing = marketing.copy()\n",
        "print(emailMarketing)\n",
        "# 6\n",
        "emailMarketing.sort()\n",
        "print(emailMarketing)\n",
        "# 7\n",
        "internalEmails = ['internal communication']\n",
        "print(internalEmails)\n",
        "# 8\n",
        "emailMarketing.extend(internalEmails)\n",
        "print(emailMarketing)\n",
        "# 9\n",
        "lista = tuple(emailMarketing)\n",
        "print(lista)"
      ],
      "execution_count": null,
      "outputs": [
        {
          "output_type": "stream",
          "text": [
            "['loyality program', 'client promotion', 'market research']\n",
            "['loyality program', 'client promotion', 'market research', 'public relations']\n",
            "market research\n",
            "['loyality program', 'investor relations', 'client promotion', 'market research', 'public relations']\n",
            "['loyality program', 'investor relations', 'client promotion', 'market research', 'public relations']\n",
            "['client promotion', 'investor relations', 'loyality program', 'market research', 'public relations']\n",
            "['internal communication']\n",
            "['client promotion', 'investor relations', 'loyality program', 'market research', 'public relations', 'internal communication']\n",
            "('client promotion', 'investor relations', 'loyality program', 'market research', 'public relations', 'internal communication')\n"
          ],
          "name": "stdout"
        }
      ]
    },
    {
      "cell_type": "code",
      "metadata": {
        "id": "N7wVVPF-8mgR"
      },
      "source": [
        ""
      ],
      "execution_count": null,
      "outputs": []
    }
  ]
}