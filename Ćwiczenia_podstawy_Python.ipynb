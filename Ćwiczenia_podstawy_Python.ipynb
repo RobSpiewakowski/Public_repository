{
  "nbformat": 4,
  "nbformat_minor": 0,
  "metadata": {
    "colab": {
      "name": "Ćwiczenia - podstawy Python",
      "provenance": [],
      "authorship_tag": "ABX9TyNL971v3dy/5FRaUWwyyhct",
      "include_colab_link": true
    },
    "kernelspec": {
      "display_name": "Python 3",
      "name": "python3"
    },
    "language_info": {
      "name": "python"
    }
  },
  "cells": [
    {
      "cell_type": "markdown",
      "metadata": {
        "id": "view-in-github",
        "colab_type": "text"
      },
      "source": [
        "<a href=\"https://colab.research.google.com/github/RobSpiewakowski/nauka-data-science/blob/main/%C4%86wiczenia_podstawy_Python.ipynb\" target=\"_parent\"><img src=\"https://colab.research.google.com/assets/colab-badge.svg\" alt=\"Open In Colab\"/></a>"
      ]
    },
    {
      "cell_type": "code",
      "metadata": {
        "id": "Az962mOSVkoa"
      },
      "source": [
        "def kreski():\n",
        "  print(\"--------------------------------------------------\")"
      ],
      "execution_count": null,
      "outputs": []
    },
    {
      "cell_type": "code",
      "metadata": {
        "colab": {
          "base_uri": "https://localhost:8080/",
          "height": 35
        },
        "id": "n3VvHNp6BPno",
        "outputId": "0e4a08a3-12e2-49d1-92b3-83c9e35916a1"
      },
      "source": [
        "# To jest komentarz\n",
        "'''To też jest komentarz'''"
      ],
      "execution_count": null,
      "outputs": [
        {
          "output_type": "execute_result",
          "data": {
            "application/vnd.google.colaboratory.intrinsic+json": {
              "type": "string"
            },
            "text/plain": [
              "'To też jest komentarz'"
            ]
          },
          "metadata": {
            "tags": []
          },
          "execution_count": 2
        }
      ]
    },
    {
      "cell_type": "code",
      "metadata": {
        "colab": {
          "base_uri": "https://localhost:8080/"
        },
        "id": "96OvW_jNBv71",
        "outputId": "ca393797-b05c-4d1b-8b2e-b59d7b5d7b75"
      },
      "source": [
        "# Definiowanie zmiennych:\n",
        "zmienna = -10\n",
        "print(zmienna)\n",
        "print('-----------------------')\n",
        "# Definiowanie wielu zmiennych jednocześnie:\n",
        "x, y, z = (-1, 26, 6.2)\n",
        "print(x, y, z)"
      ],
      "execution_count": null,
      "outputs": [
        {
          "output_type": "stream",
          "text": [
            "-10\n",
            "-----------------------\n",
            "-1 26 6.2\n"
          ],
          "name": "stdout"
        }
      ]
    },
    {
      "cell_type": "code",
      "metadata": {
        "colab": {
          "base_uri": "https://localhost:8080/"
        },
        "id": "XjqrQp3ECYsX",
        "outputId": "3753944d-ab33-4bca-ae6d-3c4266088f32"
      },
      "source": [
        "# Typy podstawowych zmiennych:\n",
        "# Zmienna typu int (liczba całkowita):\n",
        "a = 6\n",
        "print(a, type(a))\n",
        "print('-----------------------')\n",
        "# Zmienna typu float (liczba rzeczywista):\n",
        "b = -4.9\n",
        "print(b, type(b))\n",
        "print('-----------------------')\n",
        "# Zmienna typu string (tekst lub inny ciąg znaków):\n",
        "c = ('abrakadabra')\n",
        "print(c, type(c))"
      ],
      "execution_count": null,
      "outputs": [
        {
          "output_type": "stream",
          "text": [
            "6 <class 'int'>\n",
            "-----------------------\n",
            "-4.9 <class 'float'>\n",
            "-----------------------\n",
            "abrakadabra <class 'str'>\n"
          ],
          "name": "stdout"
        }
      ]
    },
    {
      "cell_type": "code",
      "metadata": {
        "colab": {
          "base_uri": "https://localhost:8080/"
        },
        "id": "3Y8xyHxQCa7l",
        "outputId": "460925c1-3418-41ed-e544-9f9d345d1f6c"
      },
      "source": [
        "# Podstawowe działania na zmiennych typu int oraz float:\n",
        "distance = 1236\n",
        "time = 10.65\n",
        "av_speed = distance / time\n",
        "print(av_speed, type(av_speed))"
      ],
      "execution_count": null,
      "outputs": [
        {
          "output_type": "stream",
          "text": [
            "116.05633802816901 <class 'float'>\n"
          ],
          "name": "stdout"
        }
      ]
    },
    {
      "cell_type": "code",
      "metadata": {
        "colab": {
          "base_uri": "https://localhost:8080/"
        },
        "id": "b_DsiT9DCkg4",
        "outputId": "61d6e67f-969a-4517-f228-feef8a981148"
      },
      "source": [
        "# Zmienna typu string z modyfikowaną treścią:\n",
        "imie = \"Anna\"\n",
        "wiek = 24\n",
        "miejscowosc = \"Gdynia\"\n",
        "\n",
        "text = \"To jest {0:s}. {1:s} ma {2:d} lat i mieszka w miejscowości {3:s}.\"\n",
        "\n",
        "print(text.format(imie, imie, wiek, miejscowosc))\n",
        "print(\"-------------------------------------------------\")\n",
        "imie = \"Radosław\"\n",
        "wiek = 36\n",
        "miejscowosc = \"Warszawa\"\n",
        "print(text.format(imie, imie, wiek, miejscowosc))\n",
        "print(\"-------------------------------------------------\")\n",
        "imie = \"Nikola\"\n",
        "wiek = 65\n",
        "miejscowosc = \"Sopot\"\n",
        "print(text.format(imie, imie, wiek, miejscowosc))\n",
        "print(\"-------------------------------------------------\")\n",
        "imie = \"Wiesław\"\n",
        "wiek = 59\n",
        "miejscowosc = \"Kraków\"\n",
        "print(text.format(imie, imie, wiek, miejscowosc))\n",
        "# Składnia: {liczba porządkowa zaczynamy od 0: typ zmiennej} string :s, int :d, float :f."
      ],
      "execution_count": null,
      "outputs": [
        {
          "output_type": "stream",
          "text": [
            "To jest Anna. Anna ma 24 lat i mieszka w miejscowości Gdynia.\n",
            "-------------------------------------------------\n",
            "To jest Radosław. Radosław ma 36 lat i mieszka w miejscowości Warszawa.\n",
            "-------------------------------------------------\n",
            "To jest Nikola. Nikola ma 65 lat i mieszka w miejscowości Sopot.\n",
            "-------------------------------------------------\n",
            "To jest Wiesław. Wiesław ma 59 lat i mieszka w miejscowości Kraków.\n"
          ],
          "name": "stdout"
        }
      ]
    },
    {
      "cell_type": "code",
      "metadata": {
        "colab": {
          "base_uri": "https://localhost:8080/"
        },
        "id": "CJR2oJ-jES2H",
        "outputId": "c2509009-8ad7-497c-f0c0-980a37a847ad"
      },
      "source": [
        "# Tworzenie i wyświetlanie listy:\n",
        "lista = [\"Anna\", \"Joanna\", \"Zygmunt\", \"Grzegorz\", 10, 20, 30, 40]\n",
        "print(lista)\n",
        "print(\"-------------------------------------------------\")\n",
        "\n",
        "# Wyświetl elementy listy od początku do trzeciego:\n",
        "print(lista[:3])\n",
        "print(\"-------------------------------------------------\")\n",
        "\n",
        "# Wyświetl elementy listy od drugiego do końca:\n",
        "print(lista[2-1:])\n",
        "print(\"-------------------------------------------------\")\n",
        "\n",
        "# Wyświetl konkretne elementy listy:\n",
        "print(lista[2], lista[6])\n",
        "print(\"-------------------------------------------------\")\n",
        "\n",
        "# Wyświetl ostatni element listy:\n",
        "print(lista[-1])\n",
        "print(\"-------------------------------------------------\")\n",
        "\n",
        "# Dodanie elementy do listy na konkretnym miejscu:\n",
        "lista.insert(3, \"Jędrzej\")\n",
        "print(lista)\n",
        "print(\"-------------------------------------------------\")\n",
        "\n",
        "# Usunięcie elementu z listy:\n",
        "lista.remove(\"Zygmunt\")\n",
        "print(lista)\n",
        "print(\"-------------------------------------------------\")\n",
        "\n",
        "# Sortowanie elementów listy:\n",
        "# Elelmenty muszą być tego samego typu!\n",
        "lista2 = [\"Brygida\", \"Roman\", \"Anna\", \"Joanna\", \"Zygmunt\", \"Grzegorz\"]\n",
        "print(lista2)\n",
        "lista2.sort()\n",
        "print(lista2)\n",
        "print(\"-------------------------------------------------\")\n",
        "\n",
        "# Odwrócenie kolejności elementów w liście:\n",
        "lista2.reverse()\n",
        "print(lista2)\n",
        "print(\"-------------------------------------------------\")\n",
        "\n",
        "# Wyciągnięcie elementu z listy (działanie podobne do wyciągania przedmiotu z pudełka, prezentuje wybrany element i usuwa go z listy)\n",
        "x = lista2.pop(2)\n",
        "print(x)\n",
        "print(lista2)\n",
        "print(\"-------------------------------------------------\")\n",
        "\n",
        "# Sprawdzenie indeksu elementu listy:\n",
        "y = lista2.index(\"Anna\")\n",
        "print(y, '- oznacza, że Anna jest na piątym miejscu na liście.')\n",
        "print(\"-------------------------------------------------\")\n",
        "\n",
        "# Liczenie elementów listy, Ile razy na naszej liście pojawił się Grzegorz?\n",
        "print(lista.count(\"Grzegorz\"))\n",
        "print(\"-------------------------------------------------\")\n",
        "\n",
        "# Łączenie list:\n",
        "lista3 = lista.extend(lista2)\n",
        "print(lista3)\n",
        "print(\"-------------------------------------------------\")\n",
        "\n",
        "# Wyczyszczenie listy (usunięcie wszystkich elementów):\n",
        "lista.clear()\n",
        "print(lista)"
      ],
      "execution_count": null,
      "outputs": [
        {
          "output_type": "stream",
          "text": [
            "['Anna', 'Joanna', 'Zygmunt', 'Grzegorz', 10, 20, 30, 40]\n",
            "-------------------------------------------------\n",
            "['Anna', 'Joanna', 'Zygmunt']\n",
            "-------------------------------------------------\n",
            "['Joanna', 'Zygmunt', 'Grzegorz', 10, 20, 30, 40]\n",
            "-------------------------------------------------\n",
            "Zygmunt 30\n",
            "-------------------------------------------------\n",
            "40\n",
            "-------------------------------------------------\n",
            "['Anna', 'Joanna', 'Zygmunt', 'Jędrzej', 'Grzegorz', 10, 20, 30, 40]\n",
            "-------------------------------------------------\n",
            "['Anna', 'Joanna', 'Jędrzej', 'Grzegorz', 10, 20, 30, 40]\n",
            "-------------------------------------------------\n",
            "['Brygida', 'Roman', 'Anna', 'Joanna', 'Zygmunt', 'Grzegorz']\n",
            "['Anna', 'Brygida', 'Grzegorz', 'Joanna', 'Roman', 'Zygmunt']\n",
            "-------------------------------------------------\n",
            "['Zygmunt', 'Roman', 'Joanna', 'Grzegorz', 'Brygida', 'Anna']\n",
            "-------------------------------------------------\n",
            "Joanna\n",
            "['Zygmunt', 'Roman', 'Grzegorz', 'Brygida', 'Anna']\n",
            "-------------------------------------------------\n",
            "4 - oznacza, że Anna jest na piątym miejscu na liście.\n",
            "-------------------------------------------------\n",
            "1\n",
            "-------------------------------------------------\n",
            "None\n",
            "-------------------------------------------------\n",
            "[]\n"
          ],
          "name": "stdout"
        }
      ]
    },
    {
      "cell_type": "code",
      "metadata": {
        "colab": {
          "base_uri": "https://localhost:8080/"
        },
        "id": "I1JCMGUdGN-I",
        "outputId": "c631fec8-8863-4564-f18e-98217bae4431"
      },
      "source": [
        "# Tworzenie listy typu dict (Słownik):\n",
        "pricelist = {}\n",
        "pricelist[\"Hot-dog\"] = 3.5\n",
        "pricelist[\"blowjob\"] = 56\n",
        "pricelist[\"one hour\"] = 23\n",
        "print(pricelist)\n",
        "print(type(pricelist))\n",
        "print(\"----------------------------------\")\n",
        "\n",
        "# Albo bezpośrednio:\n",
        "glowy_panstw = {\"Polska\" : \"Duda\", \"Niemcy\" : \"Steinmeier\", \"USA\" : \"Biden\", \"Turcja\" : \"Erdogan\"}\n",
        "print(glowy_panstw)\n",
        "print(type(glowy_panstw))\n",
        "# Składnia {klucz : wartość, klucz : wartość, ...}"
      ],
      "execution_count": null,
      "outputs": [
        {
          "output_type": "stream",
          "text": [
            "{'Hot-dog': 3.5, 'blowjob': 56, 'one hour': 23}\n",
            "<class 'dict'>\n",
            "----------------------------------\n",
            "{'Polska': 'Duda', 'Niemcy': 'Steinmeier', 'USA': 'Biden', 'Turcja': 'Erdogan'}\n",
            "<class 'dict'>\n"
          ],
          "name": "stdout"
        }
      ]
    },
    {
      "cell_type": "code",
      "metadata": {
        "colab": {
          "base_uri": "https://localhost:8080/"
        },
        "id": "6wBIvTLsIR_p",
        "outputId": "b2eeecc3-4277-49dd-9c9d-f272cd0ff39b"
      },
      "source": [
        "# Modyfikowanie listy typu dict:\n",
        "\n",
        "# Wyświetl element listy typu dict:\n",
        "print(pricelist[\"Hot-dog\"])\n",
        "print(\"-------------------------------------------------\")\n",
        "\n",
        "# Dodaj element do listy typu dict:\n",
        "pricelist[\"Kaszanka\"] = 15\n",
        "print(pricelist)\n",
        "print(\"-------------------------------------------------\")\n",
        "\n",
        "# Zmiana wartości elementu listy typu dict:\n",
        "pricelist[\"blowjob\"] = 62\n",
        "print(pricelist)\n",
        "print(\"-------------------------------------------------\")\n",
        "\n",
        "# Usunięcie elementu listy typu dict:\n",
        "del glowy_panstw[\"Niemcy\"]\n",
        "print(glowy_panstw)\n",
        "print(\"-------------------------------------------------\")\n",
        "\n",
        "# Wyświetlenie kluczy listy typu dict:\n",
        "print(glowy_panstw.keys())\n",
        "print(\"-------------------------------------------------\")\n",
        "\n",
        "# Wyświetlenie wartości listy typu dict:\n",
        "print(glowy_panstw.values())\n",
        "print(\"-------------------------------------------------\")\n",
        "\n",
        "# Wyciągnięcie ostatniego elementu z listy typu dict:\n",
        "x = pricelist.popitem()\n",
        "print(x)\n",
        "print(pricelist)\n",
        "print(\"-------------------------------------------------\")\n",
        "\n",
        "# Ustawienie wartości domyślnej listy typu dict (Przydatne, jeśli spodziewamy się kolejnego elementu, ale nie wiemy, jakiego klucza użyć):\n",
        "pricelist.setdefault(\"cookies\", 2.5)\n",
        "print(pricelist)\n",
        "print(\"-------------------------------------------------\")\n",
        "\n",
        "# Sprawdzenie, czy na liście znajduje się jakiś element:\n",
        "print(pricelist.get(\"birthday cake\"))\n",
        "print(\"-------------------------------------------------\")\n",
        "\n",
        "# Aktualizacja wartości listy typu dict (zaszły zmiany i musimy je zaimplementować):\n",
        "nowe_glowy = {\"Polska\": \"Szydło\", \"USA\": \"Harris\"}\n",
        "glowy_panstw.update(nowe_glowy)\n",
        "print(glowy_panstw)"
      ],
      "execution_count": null,
      "outputs": [
        {
          "output_type": "stream",
          "text": [
            "3.5\n",
            "-------------------------------------------------\n",
            "{'Hot-dog': 3.5, 'blowjob': 56, 'one hour': 23, 'Kaszanka': 15}\n",
            "-------------------------------------------------\n",
            "{'Hot-dog': 3.5, 'blowjob': 62, 'one hour': 23, 'Kaszanka': 15}\n",
            "-------------------------------------------------\n",
            "{'Polska': 'Duda', 'USA': 'Biden', 'Turcja': 'Erdogan'}\n",
            "-------------------------------------------------\n",
            "dict_keys(['Polska', 'USA', 'Turcja'])\n",
            "-------------------------------------------------\n",
            "dict_values(['Duda', 'Biden', 'Erdogan'])\n",
            "-------------------------------------------------\n",
            "('Kaszanka', 15)\n",
            "{'Hot-dog': 3.5, 'blowjob': 62, 'one hour': 23}\n",
            "-------------------------------------------------\n",
            "{'Hot-dog': 3.5, 'blowjob': 62, 'one hour': 23, 'cookies': 2.5}\n",
            "-------------------------------------------------\n",
            "None\n",
            "-------------------------------------------------\n",
            "{'Polska': 'Szydło', 'USA': 'Harris', 'Turcja': 'Erdogan'}\n"
          ],
          "name": "stdout"
        }
      ]
    },
    {
      "cell_type": "code",
      "metadata": {
        "colab": {
          "base_uri": "https://localhost:8080/"
        },
        "id": "Guv_xb50I32N",
        "outputId": "48d3fabd-563f-4a3f-b904-035822b6269a"
      },
      "source": [
        "# Operacje na zmiennych typu String:\n",
        "kot = \"kot\"\n",
        "pies = \"pies\"\n",
        "\n",
        "print(kot + pies)\n",
        "print(2 * kot)\n",
        "\n",
        "# Wyświetl element zmiennej typu string:\n",
        "print(kot[0])"
      ],
      "execution_count": null,
      "outputs": [
        {
          "output_type": "stream",
          "text": [
            "kotpies\n",
            "kotkot\n",
            "k\n"
          ],
          "name": "stdout"
        }
      ]
    },
    {
      "cell_type": "code",
      "metadata": {
        "colab": {
          "base_uri": "https://localhost:8080/"
        },
        "id": "meawnupLKORW",
        "outputId": "d708e221-3441-443a-953c-583a2522a354"
      },
      "source": [
        "# Instrukcje i operatory:\n",
        "\n",
        "# Podstawowe działania matematyczne:\n",
        "x = 10\n",
        "y = 3\n",
        "print ('x = ', x, '; y = ', y)\n",
        "print ('dodawanie:', 'x + y = ', x+y)\n",
        "print ('odejmowanie:', 'x - y = ', x-y)\n",
        "print ('mnożenie:', 'x * y = ', x*y)\n",
        "print ('dzielenie:', 'x / y = ', x/y)\n",
        "print ('dzielenie do liczby całkowitej:', 'x // y = ', x//y)\n",
        "print ('reszta z dzielenia:', 'x % y =', x%y)\n",
        "print ('potęgowanie:', 'x ** y = ', x**y)\n",
        "print(\"-------------------------------------------------\")\n",
        "\n",
        "# przypisywanie wartości do zmiennych\n",
        "a = 10\n",
        "print('Dotychczasowa wartość a to', a)\n",
        "a += 6\n",
        "print('do dotychczasowej warości a dodajemy 6. Robimy to poprzez a += 6')\n",
        "print('nowa wartość a to', a)\n",
        "a -= 5\n",
        "print('możemy wielokrotnie zmieniać wartość zmiennej, np. odejmując 5. Robimy to poprzez a -= 5')\n",
        "print('...i wychodzi nam', a)\n",
        "print(\"-------------------------------------------------\")\n",
        "\n",
        "# Operatory porównawcze:\n",
        "print('x = ', x, '; y = ', y)\n",
        "print('Czy x jest równe y? Sprawdzamy poprzez: x == y', x==y)\n",
        "print('Czy x jest większe od y? Sprawdzamy poprzez: x > y', x>y)\n",
        "print('Czy x jest mniejsze od y? Sprawdzamy poprzez: x < y', x<y)\n",
        "print('Czy x jest nie mniejsze od y? Sprawdzamy poprzez: x >= y', x >= y)\n",
        "print('Czy x jest nie większe od y? Sprawdzamy poprzez: x <= y', x <= y)\n",
        "print('Czy x jest różne od y? Sprawdzamy poprzez: x != y', x != y)"
      ],
      "execution_count": null,
      "outputs": [
        {
          "output_type": "stream",
          "text": [
            "x =  10 ; y =  3\n",
            "dodawanie: x + y =  13\n",
            "odejmowanie: x - y =  7\n",
            "mnożenie: x * y =  30\n",
            "dzielenie: x / y =  3.3333333333333335\n",
            "dzielenie do liczby całkowitej: x // y =  3\n",
            "reszta z dzielenia: x % y = 1\n",
            "potęgowanie: x ** y =  1000\n",
            "-------------------------------------------------\n",
            "Dotychczasowa wartość a to 10\n",
            "do dotychczasowej warości a dodajemy 6. Robimy to poprzez a += 6\n",
            "nowa wartość a to 16\n",
            "możemy wielokrotnie zmieniać wartość zmiennej, np. odejmując 5. Robimy to poprzez a -= 5\n",
            "...i wychodzi nam 11\n",
            "-------------------------------------------------\n",
            "x =  10 ; y =  3\n",
            "Czy x jest równe y? Sprawdzamy poprzez: x == y False\n",
            "Czy x jest większe od y? Sprawdzamy poprzez: x > y True\n",
            "Czy x jest mniejsze od y? Sprawdzamy poprzez: x < y False\n",
            "Czy x jest nie mniejsze od y? Sprawdzamy poprzez: x >= y True\n",
            "Czy x jest nie większe od y? Sprawdzamy poprzez: x <= y False\n",
            "Czy x jest różne od y? Sprawdzamy poprzez: x != y True\n"
          ],
          "name": "stdout"
        }
      ]
    },
    {
      "cell_type": "code",
      "metadata": {
        "colab": {
          "base_uri": "https://localhost:8080/"
        },
        "id": "H7w0MJPoUrzO",
        "outputId": "5b19a86d-0e72-4be6-d8fe-dc6370aa2b6b"
      },
      "source": [
        "# Operatory logiczne TRUE i FALSE:\n",
        "dzień = True\n",
        "zima = False\n",
        "print('Jeśli jest dzień to: dzień = ', dzień, 'Jeśli nie ma zimy, to: zima = ', zima)\n",
        "# Operator NOT - zaprzeczenie\n",
        "print('gdyby nie było dnia, to dzień = ', not dzień)\n",
        "# Operator AND - koniunkcja\n",
        "print('Suma zdań jest prawdziwa, tylko wtedy, gdy oba zdania są prawdziwe. Zatem, czy jest zimowy dzień?:', dzień and zima)\n",
        "# Operator OR - alternatywa zwykła\n",
        "print('Alternatywa jest przedziwa, jeśli choć jedno zdanie jest prawdziwe. Zatem, czy mamy dzień lub zimę?', dzień or zima)"
      ],
      "execution_count": null,
      "outputs": [
        {
          "output_type": "stream",
          "text": [
            "Jeśli jest dzień to: dzień =  True Jeśli nie ma zimy, to: zima =  False\n",
            "gdyby nie było dnia, to dzień =  False\n",
            "Suma zdań jest prawdziwa, tylko wtedy, gdy oba zdania są prawdziwe. Zatem, czy jest zimowy dzień?: False\n",
            "Alternatywa jest przedziwa, jeśli choć jedno zdanie jest prawdziwe. Zatem, czy mamy dzień lub zimę? True\n"
          ],
          "name": "stdout"
        }
      ]
    },
    {
      "cell_type": "code",
      "metadata": {
        "colab": {
          "base_uri": "https://localhost:8080/"
        },
        "id": "bS-JxN7bUx5i",
        "outputId": "7d7423a0-a0d2-430c-caad-b94f8b8bf85c"
      },
      "source": [
        "# Operator warunkowy IF / ELSE\n",
        "# Komputer ma wykonać zadanie, np. wyświetlić komunikat, jesli spełniony jest jakiś warunek. A więc, czy mamy zimowy dzień?\n",
        "# Składnia jest następująca: if warunek 1 operator logiczny warunek 2: polecenie, jeśli tak else: polecenie, jeśli nie. Tak więc, chcąc sprawdzić, czy mamy dzień i mamy zimę.\n",
        "if dzień == True and zima == True:\n",
        "    print('Mamy zimowy dzień.')\n",
        "else:\n",
        "    print('Nie mamy zimowego dina.')\n",
        "print(\"-------------------------------------------------\")\n",
        "\n",
        "# Ale gdybyśmy zmienili warunek, to moglibyśmy na przykład zapytać, czy mamy chociaż dzień lub zimę. A więc:\n",
        "\n",
        "if dzień == True or zima == True:\n",
        "    print('Jest dzień lub zima.')\n",
        "else:\n",
        "    print('Nie ma ani dnia ani zimy.')"
      ],
      "execution_count": null,
      "outputs": [
        {
          "output_type": "stream",
          "text": [
            "Nie mamy zimowego dina.\n",
            "-------------------------------------------------\n",
            "Jest dzień lub zima.\n"
          ],
          "name": "stdout"
        }
      ]
    },
    {
      "cell_type": "code",
      "metadata": {
        "colab": {
          "base_uri": "https://localhost:8080/"
        },
        "id": "YxnVIYLqVLSl",
        "outputId": "ed154927-e305-4178-d446-5ae2b8f0c416"
      },
      "source": [
        "# Zagnieżdżenie kilku funkcji warunkowych IF / ELIF / ELSE\n",
        "# Czasem, pomimo niespełnienia jakiegoś warunku chcemy dać jeszcze jedną szansę. W tym przypadku, możemy nakazać sprawdzić jeszcze inne warunku za pomocą funkcji elif.\n",
        "# Dziś rozdajemy nagrody pracownikom. Jeśli ktoś wyrobił ponad 200 % normy, to dostanie w prezencie 2 bilety na koncert. Dla tych, którzey wyrobili co najmniej 150 % normy przeznaczymy 2 bilety do kina.\n",
        "# Sprawdźmy zatem, jak spisali się nasi pracownicy:\n",
        "Anna = 236\n",
        "Piotr = 168\n",
        "Krzysztof = 96\n",
        "print('Anna wykonała', Anna, '% normy. Piotr wyrobił', Piotr, '% normy, a Krzysztof - jedynie', Krzysztof, '%. Aby sprawdzić, co dostaną, należy wykonać instrukcję warunkową:')\n",
        "\n",
        "# Dla Anny:\n",
        "print('Co dostanie Anna?')\n",
        "if Anna >= 200:\n",
        "    print('Anna dostanie 2 bilety na koncert :-)')\n",
        "elif Anna >= 150:\n",
        "    print('Anna dostanie 2 bilety do kina :-/')\n",
        "else:\n",
        "    print(\"Anna gówno dostanie :-(\")\n",
        "kreski()\n",
        "\n",
        "# Powtórzymy to teraz dla chłopaków. Co dostanie Piotr?\n",
        "if Piotr >= 200:\n",
        "    print('Piotr dostanie 2 bilety na koncert :-)')\n",
        "elif Piotr >= 150:\n",
        "    print('Piotr dostanie 2 bilety do kina :-/')\n",
        "else:\n",
        "    print('Piotr gówno dostanie :-(')\n",
        "kreski()\n",
        "\n",
        "# To jeszcze sprawdźmy, co dostanie Krzysztof?\n",
        "if Krzysztof >= 200:\n",
        "    print('Krzysztof dostanie 2 bilety na koncert :-)')\n",
        "elif Krzysztof >= 150:\n",
        "    print('Krzysztof dostanie 2 bilety do kina :-/')\n",
        "else:\n",
        "    print('Krzysztof gówno dostanie :-(')"
      ],
      "execution_count": null,
      "outputs": [
        {
          "output_type": "stream",
          "text": [
            "Anna wykonała 236 % normy. Piotr wyrobił 168 % normy, a Krzysztof - jedynie 96 %. Aby sprawdzić, co dostaną, należy wykonać instrukcję warunkową:\n",
            "Co dostanie Anna?\n",
            "Anna dostanie 2 bilety na koncert :-)\n",
            "--------------------------------------------------\n",
            "Piotr dostanie 2 bilety do kina :-/\n",
            "--------------------------------------------------\n",
            "Krzysztof gówno dostanie :-(\n"
          ],
          "name": "stdout"
        }
      ]
    },
    {
      "cell_type": "code",
      "metadata": {
        "colab": {
          "base_uri": "https://localhost:8080/"
        },
        "id": "Yc3fl_EXV9RQ",
        "outputId": "9db25253-02b6-45aa-9a81-1257a6914602"
      },
      "source": [
        "# Operatory IN / NOT IN - sprawdzenie, czy element znajduje się w zbiorze\n",
        "# Jesteś bramkarzem klubowym, a dziś jest impreza tylko dla zaproszonych. Musisz zatem sprawdzić, czy chętny znajduje się na liście. Oto Twoja lista gości:\n",
        "lista = ['Anna', 'Katarzyna', 'Robert', 'Weronika', 'Grzegorz', 'Renata', 'Michał', 'Janusz', 'Asia', 'Adam', 'Marcin']\n",
        "print(lista)\n",
        "kreski()\n",
        "# Przychodzi Zenon. Musisz sprawdzić, czy znajduje się na liście gości. Więc:\n",
        "print('Zenon' in lista)\n",
        "# Komunikat False oznacza, że Zenon nie znajduje się na liście gości, więc wyrzucony za drzwi ląduje ryjem na asfalcie. Przychodzi Renata:\n",
        "kreski()\n",
        "\n",
        "print('Renata' in lista)\n",
        "# Zatem Renatę zapraszamy :-)\n",
        "# Oczywiście not in jest zaprzeczeniem in."
      ],
      "execution_count": null,
      "outputs": [
        {
          "output_type": "stream",
          "text": [
            "['Anna', 'Katarzyna', 'Robert', 'Weronika', 'Grzegorz', 'Renata', 'Michał', 'Janusz', 'Asia', 'Adam', 'Marcin']\n",
            "--------------------------------------------------\n",
            "False\n",
            "--------------------------------------------------\n",
            "True\n"
          ],
          "name": "stdout"
        }
      ]
    },
    {
      "cell_type": "code",
      "metadata": {
        "colab": {
          "base_uri": "https://localhost:8080/"
        },
        "id": "zfCeNDMYWXDG",
        "outputId": "e79ca290-286a-401b-f4af-f5fa9bf74a39"
      },
      "source": [
        "# Operatory identyfikacji tożsamości IS / IS NOT\n",
        "# To, że dwie rzeczy wyglądają tak samo, albo dwa zbiory zawierają te same elementy, nie znaczy że są tym samym. Sprawdzenie tego umożliwia nam funkcja IS\n",
        "# Dwóch z trzech panow ma takie same, rude włosy. Więc:\n",
        "Tomasz = ['rudy']\n",
        "Andrzej = ['rudy']\n",
        "Maciek = ['blondyn']\n",
        "print('Tomasz jest', Tomasz, 'Andrzej jest', Andrzej, 'Maciek jest', Maciek)\n",
        "kreski()\n",
        "\n",
        "# Jak widać, włosy Tomasza są tego samego koloru, co włosy Andrzeja. Więc, jeśli porównamy wartości zdefiniowanych zmiennych, to wyjdzie:\n",
        "print(Tomasz == Andrzej, '- Co sugerowałoby, że Tomasz i Andrzej to ta sama osoba. Ale tak nie jest. Python też o tym wie, bowiem:')\n",
        "print(Tomasz is Andrzej)\n",
        "# Pamiętaj, żeby wartości zmiennych umieszczać w nawiasach kwadratowych!!!"
      ],
      "execution_count": null,
      "outputs": [
        {
          "output_type": "stream",
          "text": [
            "Tomasz jest ['rudy'] Andrzej jest ['rudy'] Maciek jest ['blondyn']\n",
            "--------------------------------------------------\n",
            "True - Co sugerowałoby, że Tomasz i Andrzej to ta sama osoba. Ale tak nie jest. Python też o tym wie, bowiem:\n",
            "False\n"
          ],
          "name": "stdout"
        }
      ]
    }
  ]
}